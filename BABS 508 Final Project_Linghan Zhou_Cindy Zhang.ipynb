{
 "cells": [
  {
   "cell_type": "markdown",
   "metadata": {},
   "source": [
    "<div class=\"alert alert-block alert-info\">   \n",
    "\n",
    "# BABS 508 Project  \n",
    "#### Instructor: Martha Essak  \n",
    "\n",
    "</div>"
   ]
  },
  {
   "cell_type": "markdown",
   "metadata": {},
   "source": [
    "## Instructions and reminders for Jupyter notebooks\n",
    "\n",
    "**Add markdown and code cells as needed to complete your project.** Please do not modify the headings of the sections.\n",
    "\n",
    "Helpful notes abouts markdown in Jupyter to get you started:\n",
    "* When you have a cell selected (by clicking on the white space to the left of the cell) in Command mode (blue box around the cell), press `a` or `b` to add a cell \"above\" or \"below\"\n",
    "* In Command mode, press `d` twice to delete the cell. Press z to undo deleting a cell\n",
    "* In Command mode, press `m` to change a code cell to a markdown cell, or press `y` to change a markdown cell to a code cell\n",
    "* In Command mode, press `x` to cut cell, `c` to copy cell, and `v` to paste cell below the selected cell\n",
    "  \n",
    "* Double click a cell to enter Edit mode (green box around the cell), or press `Enter`\n",
    "* Add two empty spaces at the end of a line to add a line break\n",
    "* Press `shift + enter` to execute a cell to see either the formatted version (for a markdown cell) or to run the code (for a code cell). This will cause you to leave edit mode.\n",
    "* Press `Ctrl + Shift + -` to split the current cell into two cells where the cursor is\n",
    "* Press `Shift + m` to merge multiple cells. You can use `Shift + up arrow` or `Shift + down` arrow to select multiple cells.\n",
    "\n",
    "\n",
    "\n",
    "[See cheat sheet for Markdown in Jupyter for more details](https://medium.com/analytics-vidhya/the-ultimate-markdown-guide-for-jupyter-notebook-d5e5abf728fd)"
   ]
  },
  {
   "cell_type": "markdown",
   "metadata": {},
   "source": [
    "### Names of students:\n",
    "<br>\n",
    "Linghan Zhou (61758959)  <br>\n",
    "Cindy Zhang (80767965) \n"
   ]
  },
  {
   "cell_type": "markdown",
   "metadata": {},
   "source": [
    "---\n",
    "\n",
    "## Table of Contents\n",
    "[Project description](#Description)  \n",
    "[Introduction](#Introduction)  \n",
    "[Data preparation for Logistic Regression](#Data_prep1)  \n",
    "[Predictions and Exploratory Data Analysis for Logistic Regression](#EDA1)  \n",
    "[Logistic regression model](#Logistic)  \n",
    "[Data preparation for Poisson Regression](#Data_prep2)  \n",
    "[Predictions and Exploratory Data Analysis for Poisson Regression](#EDA2)  \n",
    "[Poisson regression model](#Poisson)  \n",
    "[Discussion](#Discussion)\n",
    "\n",
    "\n",
    "[Appendix A: Building the Logistic Rgression Model](#AppendixA)  \n",
    "[Appendix B: Building the Poisson Rgression Model](#AppendixB)\n",
    "\n",
    "---"
   ]
  },
  {
   "cell_type": "markdown",
   "metadata": {},
   "source": [
    "<div class=\"alert alert-block alert-info\">   \n",
    "<a id=\"Description\"></a>\n",
    "\n",
    "# Project description\n",
    "\n",
    "You will create logistic and Poisson regression models to understand factors that relate to alcohol consumption.  \n",
    "<br>\n",
    "The dataset you will use is from the Behavioural Risk Factor Surveillance System (BRFSS) Survey from 2013. The data was collected from adults (18 years +) living in the United States. The data was collected via telephone survey, using disproportionate stratified sampling (to yield better estimates than simple random sampling) for the landline sample, and using randomly selected respondents for the cellular phone sample. (https://www.cdc.gov/brfss/)  \n",
    "<br>\n",
    "The purpose of the survey is to collect data about health-related risk behaviours (food, sleep, alcohol, smoking), medical/health conditions, and the use of medical services. \n",
    "<br>\n",
    "All data collected is observational, so we will not be able to determine causal relationships. However, a better understanding of the associations can help identify potential risk factors or variables to target for intervention.   \n",
    "    </div>"
   ]
  },
  {
   "cell_type": "markdown",
   "metadata": {},
   "source": [
    "### Response variables   \n",
    "\n",
    "The dataset includes two variables of interest about alcohol consumption:\n",
    "- `alcday5` (count), which includes responses to the question: During the past 30 days, how many days per week or per month did you have at least one drink of any alcoholic beverage such as beer, wine, a malt beverage or liquor? **Exclude NAs and values 1 and 2**\n",
    "- `drnk3ge5` (count), which includes responses to the question: Considering all types of alcoholic beverages, how many times during the past 30 days did you have 5 or more drinks for men or 4 or more drinks for women on an occasion? **Replace all NAs with 0, Exclude values >30**"
   ]
  },
  {
   "cell_type": "markdown",
   "metadata": {},
   "source": [
    "### Potential explanatory variables  \n",
    "  \n",
    "Note that criteria for cleaning the dataset are provided in **bold** after the description for each variable.  \n",
    "   \n",
    "1. `physhlth` (quantitative); Now thinking about your physical health, which includes physical illness and injury, for how many days during the past 30 days was your physical health not good? **Exclude values >30 and NAs**  \n",
    "2. `menthlth` (quantitative); Now thinking about your mental health, which includes stress, depression, and problems with emotions, for how many days during the past 30 days was your mental health not good? **Exclude values >30 and NAs** \n",
    "3. `poorhlth` (quantitative); During the past 30 days, for about how many days did poor physical or mental health keep you from doing your usual activities, such as self-care, work, or recreation? **Exclude values >30 and NAs** \n",
    "3. `sleptim1` (quantitative); On average, how many hours of sleep do you get in a 24-hour period? **Exclude values >24 and NAs**\n",
    "4. `marital` (categorical); Are you: married, divorced, widowed, separated, never married, a member of an unmarried couple? **Exclude NAs**\n",
    "5. `educa` (categorical); What is the highest grade or year of school you completed? **Exclude NAs**\n",
    "    - Never attended school or only kindergarten\n",
    "    - Grades 1 through 8 (Elementary)\n",
    "    - Grades 9 through 11 (Some high school)\n",
    "    - Grade 12 or GED (High school graduate)\n",
    "    - College 1 year to 3 years (Some college or technical school)\n",
    "    - College 4 years or more (College graduate)\n",
    "6. `income2` (categorical); Is your annual household income from all sources (choose from below) **Exclude NAs**\n",
    "    - Less than \\\\$10,000\n",
    "    - Less than \\\\$15,000 (between \\\\$10,000 and \\\\$15,000)\n",
    "    - Less than \\\\$20,000 (between \\\\$15,000 and \\\\$20,000)\n",
    "    - Less than \\\\$25,000 (between \\\\$20,000 and \\\\$25,000)\n",
    "    - Less than \\\\$35,000 (between \\\\$25,000 and \\\\$35,000)\n",
    "    - Less than \\\\$50,000 (between \\\\$35,000 and \\\\$50,000)\n",
    "    - Less than \\\\$75,000 (between \\\\$50,000 and \\\\$75,000)\n",
    "    - $75,000 or more  \n",
    "7. `sex` (categorical); Indicate sex of respondent. Note that this is defined as binary categorical and the original survey used the term \"sex\" rather than \"gender\". **Exclude NAs**"
   ]
  },
  {
   "cell_type": "markdown",
   "metadata": {},
   "source": [
    "<div class=\"alert alert-block alert-info\">   \n",
    "\n",
    "### Methods  \n",
    "    \n",
    "You will conduct exploratory data analysis, visualizing the relationships between the variables.\n",
    "\n",
    "In the main part of the project, you create and interpret the results for a logistic regression model and a Poisson regression model. \n",
    "\n",
    "At the end of the project, you should include code for any other candidate models that you considered. \n",
    "  \n",
    "You will discuss the strengths and limitations of your models, and provide any recommendations to address the limitations.\n",
    "<div>\n"
   ]
  },
  {
   "cell_type": "markdown",
   "metadata": {},
   "source": [
    "<div class=\"alert alert-block alert-danger\">\n",
    "    \n",
    "### Make sure that your code is organized and includes useful annotations and written descriptions of what you are seeing on plots or the conclusions that you are drawing. (0.75 marks)\n",
    "  \n",
    "### Prepare all plots for publication by including detailed axis labels; use legends/labeling when applicable. Use jitter on plots to avoid overplotting (points covering other observations).\n",
    "<div>"
   ]
  },
  {
   "cell_type": "markdown",
   "metadata": {},
   "source": [
    "<div class=\"alert alert-block alert-success\">\n",
    "<a id=\"Introduction\"></a>  \n",
    "\n",
    "# Introduction (250 words max.) (2 marks)\n",
    "Write an introduction to the project.  \n",
    "\n",
    "What to include: objective and purpose of the analysis, background information, and the insights that could be gained from having an explanatory model.  \n",
    "  \n",
    "If you include any references, please put the bibliographical information (APA style) at the end of your introduction; this does not contribute to the word count.\n",
    "</div>"
   ]
  },
  {
   "cell_type": "markdown",
   "metadata": {},
   "source": [
    "In the United States, excessive alcohol consumption poses a significant public health concern due to its link with various negative health outcomes such as liver disease, cancer, and injuries. \n",
    "\n",
    "This project aims to find potential risk factors or variables that could be targeted for intervention to reduce excessive alcohol use. To do so, data from the 2013 Behavioural Risk Factor Surveillance System Survey will be used, with logistic and Poisson regression used to model the probability, frequency, and intensity of alcohol consumption. \n",
    "\n",
    "The dataset includes response variables measuring the frequency and intensity of alcohol consumption, and explanatory variables such as physical and mental health status, sleep duration, marital status, education level, household income, and sex. The most significant explanatory variables for each model will be identified, and the limitations and strengths of the models discussed, with recommendations provided for future research. By understanding the factors associated with alcohol consumption, effective interventions can be developed to reduce excessive alcohol use and its negative health outcomes."
   ]
  },
  {
   "cell_type": "markdown",
   "metadata": {},
   "source": [
    "---\n",
    "### Import the data"
   ]
  },
  {
   "cell_type": "code",
   "execution_count": 1,
   "metadata": {
    "scrolled": true
   },
   "outputs": [],
   "source": [
    "# Import the data:\n",
    "load(file= \"brfss2013.RData\")"
   ]
  },
  {
   "cell_type": "code",
   "execution_count": 2,
   "metadata": {
    "scrolled": true
   },
   "outputs": [
    {
     "data": {
      "text/html": [
       "<table class=\"dataframe\">\n",
       "<caption>A data.frame: 6 × 10</caption>\n",
       "<thead>\n",
       "\t<tr><th></th><th scope=col>physhlth</th><th scope=col>menthlth</th><th scope=col>poorhlth</th><th scope=col>sleptim1</th><th scope=col>marital</th><th scope=col>educa</th><th scope=col>income2</th><th scope=col>sex</th><th scope=col>alcday5</th><th scope=col>drnk3ge5</th></tr>\n",
       "\t<tr><th></th><th scope=col>&lt;int&gt;</th><th scope=col>&lt;int&gt;</th><th scope=col>&lt;int&gt;</th><th scope=col>&lt;int&gt;</th><th scope=col>&lt;fct&gt;</th><th scope=col>&lt;fct&gt;</th><th scope=col>&lt;fct&gt;</th><th scope=col>&lt;fct&gt;</th><th scope=col>&lt;int&gt;</th><th scope=col>&lt;int&gt;</th></tr>\n",
       "</thead>\n",
       "<tbody>\n",
       "\t<tr><th scope=row>1</th><td>30</td><td>29</td><td>30</td><td>NA</td><td>Divorced</td><td>College 4 years or more (College graduate)                  </td><td>Less than $75,000</td><td>Female</td><td>201</td><td> 0</td></tr>\n",
       "\t<tr><th scope=row>2</th><td> 0</td><td> 0</td><td>NA</td><td> 6</td><td>Married </td><td>College 1 year to 3 years (Some college or technical school)</td><td>$75,000 or more  </td><td>Female</td><td>  0</td><td>NA</td></tr>\n",
       "\t<tr><th scope=row>3</th><td> 3</td><td> 2</td><td> 0</td><td> 9</td><td>Married </td><td>College 4 years or more (College graduate)                  </td><td>$75,000 or more  </td><td>Female</td><td>220</td><td>20</td></tr>\n",
       "\t<tr><th scope=row>4</th><td> 2</td><td> 0</td><td> 0</td><td> 8</td><td>Married </td><td>Grade 12 or GED (High school graduate)                      </td><td>Less than $75,000</td><td>Female</td><td>208</td><td> 0</td></tr>\n",
       "\t<tr><th scope=row>5</th><td>10</td><td> 2</td><td> 0</td><td> 6</td><td>Married </td><td>College 4 years or more (College graduate)                  </td><td>Less than $50,000</td><td>Male  </td><td>210</td><td> 0</td></tr>\n",
       "\t<tr><th scope=row>6</th><td> 0</td><td> 0</td><td>NA</td><td> 8</td><td>Divorced</td><td>College 4 years or more (College graduate)                  </td><td>$75,000 or more  </td><td>Female</td><td>  0</td><td>NA</td></tr>\n",
       "</tbody>\n",
       "</table>\n"
      ],
      "text/latex": [
       "A data.frame: 6 × 10\n",
       "\\begin{tabular}{r|llllllllll}\n",
       "  & physhlth & menthlth & poorhlth & sleptim1 & marital & educa & income2 & sex & alcday5 & drnk3ge5\\\\\n",
       "  & <int> & <int> & <int> & <int> & <fct> & <fct> & <fct> & <fct> & <int> & <int>\\\\\n",
       "\\hline\n",
       "\t1 & 30 & 29 & 30 & NA & Divorced & College 4 years or more (College graduate)                   & Less than \\$75,000 & Female & 201 &  0\\\\\n",
       "\t2 &  0 &  0 & NA &  6 & Married  & College 1 year to 3 years (Some college or technical school) & \\$75,000 or more   & Female &   0 & NA\\\\\n",
       "\t3 &  3 &  2 &  0 &  9 & Married  & College 4 years or more (College graduate)                   & \\$75,000 or more   & Female & 220 & 20\\\\\n",
       "\t4 &  2 &  0 &  0 &  8 & Married  & Grade 12 or GED (High school graduate)                       & Less than \\$75,000 & Female & 208 &  0\\\\\n",
       "\t5 & 10 &  2 &  0 &  6 & Married  & College 4 years or more (College graduate)                   & Less than \\$50,000 & Male   & 210 &  0\\\\\n",
       "\t6 &  0 &  0 & NA &  8 & Divorced & College 4 years or more (College graduate)                   & \\$75,000 or more   & Female &   0 & NA\\\\\n",
       "\\end{tabular}\n"
      ],
      "text/markdown": [
       "\n",
       "A data.frame: 6 × 10\n",
       "\n",
       "| <!--/--> | physhlth &lt;int&gt; | menthlth &lt;int&gt; | poorhlth &lt;int&gt; | sleptim1 &lt;int&gt; | marital &lt;fct&gt; | educa &lt;fct&gt; | income2 &lt;fct&gt; | sex &lt;fct&gt; | alcday5 &lt;int&gt; | drnk3ge5 &lt;int&gt; |\n",
       "|---|---|---|---|---|---|---|---|---|---|---|\n",
       "| 1 | 30 | 29 | 30 | NA | Divorced | College 4 years or more (College graduate)                   | Less than $75,000 | Female | 201 |  0 |\n",
       "| 2 |  0 |  0 | NA |  6 | Married  | College 1 year to 3 years (Some college or technical school) | $75,000 or more   | Female |   0 | NA |\n",
       "| 3 |  3 |  2 |  0 |  9 | Married  | College 4 years or more (College graduate)                   | $75,000 or more   | Female | 220 | 20 |\n",
       "| 4 |  2 |  0 |  0 |  8 | Married  | Grade 12 or GED (High school graduate)                       | Less than $75,000 | Female | 208 |  0 |\n",
       "| 5 | 10 |  2 |  0 |  6 | Married  | College 4 years or more (College graduate)                   | Less than $50,000 | Male   | 210 |  0 |\n",
       "| 6 |  0 |  0 | NA |  8 | Divorced | College 4 years or more (College graduate)                   | $75,000 or more   | Female |   0 | NA |\n",
       "\n"
      ],
      "text/plain": [
       "  physhlth menthlth poorhlth sleptim1 marital \n",
       "1 30       29       30       NA       Divorced\n",
       "2  0        0       NA        6       Married \n",
       "3  3        2        0        9       Married \n",
       "4  2        0        0        8       Married \n",
       "5 10        2        0        6       Married \n",
       "6  0        0       NA        8       Divorced\n",
       "  educa                                                       \n",
       "1 College 4 years or more (College graduate)                  \n",
       "2 College 1 year to 3 years (Some college or technical school)\n",
       "3 College 4 years or more (College graduate)                  \n",
       "4 Grade 12 or GED (High school graduate)                      \n",
       "5 College 4 years or more (College graduate)                  \n",
       "6 College 4 years or more (College graduate)                  \n",
       "  income2           sex    alcday5 drnk3ge5\n",
       "1 Less than $75,000 Female 201      0      \n",
       "2 $75,000 or more   Female   0     NA      \n",
       "3 $75,000 or more   Female 220     20      \n",
       "4 Less than $75,000 Female 208      0      \n",
       "5 Less than $50,000 Male   210      0      \n",
       "6 $75,000 or more   Female   0     NA      "
      ]
     },
     "metadata": {},
     "output_type": "display_data"
    }
   ],
   "source": [
    "# Here is a version of the data including only the columns of interest:\n",
    "mydata <- brfss2013[,c(20, 21, 22, 27, 46, 48, 50, 59, 73, 75)]\n",
    "head(mydata)"
   ]
  },
  {
   "cell_type": "markdown",
   "metadata": {},
   "source": [
    "<div class=\"alert alert-block alert-warning\">\n",
    "<a id=\"Data_prep1\"></a>\n",
    "\n",
    "# Data preparation for Logistic Regression (1.25 marks)\n",
    "\n",
    "You will prepare the dataset for analysis.\n",
    "</div>"
   ]
  },
  {
   "cell_type": "markdown",
   "metadata": {},
   "source": [
    "Tidy up the dataset using the criteria above for each variable. (0.5 marks)"
   ]
  },
  {
   "cell_type": "code",
   "execution_count": 3,
   "metadata": {},
   "outputs": [
    {
     "name": "stderr",
     "output_type": "stream",
     "text": [
      "\n",
      "Attaching package: 'dplyr'\n",
      "\n",
      "\n",
      "The following objects are masked from 'package:stats':\n",
      "\n",
      "    filter, lag\n",
      "\n",
      "\n",
      "The following objects are masked from 'package:base':\n",
      "\n",
      "    intersect, setdiff, setequal, union\n",
      "\n",
      "\n"
     ]
    }
   ],
   "source": [
    "library(dplyr)\n",
    "###### Response variables\n",
    "\n",
    "### alcday5\n",
    "# Exclude NAs and values 1 and 2\n",
    "mydata <- mydata %>% \n",
    "  filter(!is.na(alcday5) & alcday5 != 1 & alcday5 != 2  )\n",
    "\n",
    "### drnk3ge5\n",
    "# Replace all NAs with 0, Exclude values >30\n",
    "mydata$drnk3ge5 <- ifelse(is.na(mydata$drnk3ge5), 0, mydata$drnk3ge5)\n",
    "mydata <- mydata %>% \n",
    "  filter(drnk3ge5 <= 30)\n",
    "\n",
    "###### Response variables\n",
    "\n",
    "### physhlth\n",
    "# Exclude values >30 and NAs\n",
    "mydata <- mydata %>% \n",
    "  filter(!is.na(physhlth) & physhlth <= 30)\n",
    "\n",
    "### menthlth\n",
    "# Exclude values >30 and NAs\n",
    "mydata <- mydata %>% \n",
    "  filter(!is.na(menthlth) & menthlth <= 30)\n",
    "\n",
    "### poorhlth\n",
    "# Exclude values >30 and NAs\n",
    "mydata <- mydata %>% \n",
    "  filter(!is.na(poorhlth) & poorhlth <= 30)\n",
    "\n",
    "### sleptim1\n",
    "# Exclude values >24 and NAs\n",
    "mydata <- mydata %>% \n",
    "  filter(!is.na(sleptim1) & sleptim1 <= 24)\n",
    "\n",
    "### marital\n",
    "# Exclude NAs\n",
    "mydata <- mydata %>% \n",
    "  filter(!is.na(marital))\n",
    "\n",
    "### educa\n",
    "# Exclude NAs\n",
    "mydata <- mydata %>% \n",
    "  filter(!is.na(educa))\n",
    "\n",
    "### income2\n",
    "# Exclude NAs\n",
    "mydata <- mydata %>% \n",
    "  filter(!is.na(income2))\n",
    "\n",
    "### sex\n",
    "# Exclude NAs\n",
    "mydata <- mydata %>% \n",
    "  filter(!is.na(sex))"
   ]
  },
  {
   "cell_type": "markdown",
   "metadata": {},
   "source": [
    "How many observations are in the clean dataset? (0.25 marks)\n"
   ]
  },
  {
   "cell_type": "code",
   "execution_count": 4,
   "metadata": {},
   "outputs": [
    {
     "data": {
      "text/html": [
       "196673"
      ],
      "text/latex": [
       "196673"
      ],
      "text/markdown": [
       "196673"
      ],
      "text/plain": [
       "[1] 196673"
      ]
     },
     "metadata": {},
     "output_type": "display_data"
    }
   ],
   "source": [
    "nrow(mydata)"
   ]
  },
  {
   "cell_type": "markdown",
   "metadata": {},
   "source": [
    "#### Using the function `ifelse`, create a new version of the variable `alcday5`, encoded as 0 to represent no alcohol and 1 to represent at least one alcoholic drink consumed in the last 30 days. (0.25 marks)"
   ]
  },
  {
   "cell_type": "code",
   "execution_count": 5,
   "metadata": {},
   "outputs": [],
   "source": [
    "mydata$alcday5_new <- ifelse(mydata$alcday5 == 0, 0, 1)"
   ]
  },
  {
   "cell_type": "markdown",
   "metadata": {},
   "source": [
    "What is the proportion of individuals who have consumed at least 1 alcoholic drink in the last 30 days? (0.25 marks)"
   ]
  },
  {
   "cell_type": "code",
   "execution_count": 6,
   "metadata": {},
   "outputs": [
    {
     "data": {
      "text/html": [
       "0.507487047027299"
      ],
      "text/latex": [
       "0.507487047027299"
      ],
      "text/markdown": [
       "0.507487047027299"
      ],
      "text/plain": [
       "[1] 0.507487"
      ]
     },
     "metadata": {},
     "output_type": "display_data"
    }
   ],
   "source": [
    "prop_alcday5 <- mean(mydata$alcday5_new)\n",
    "prop_alcday5"
   ]
  },
  {
   "cell_type": "code",
   "execution_count": 7,
   "metadata": {},
   "outputs": [
    {
     "data": {
      "text/html": [
       "<table class=\"dataframe\">\n",
       "<caption>A data.frame: 6 × 11</caption>\n",
       "<thead>\n",
       "\t<tr><th></th><th scope=col>physhlth</th><th scope=col>menthlth</th><th scope=col>poorhlth</th><th scope=col>sleptim1</th><th scope=col>marital</th><th scope=col>educa</th><th scope=col>income2</th><th scope=col>sex</th><th scope=col>alcday5</th><th scope=col>drnk3ge5</th><th scope=col>alcday5_new</th></tr>\n",
       "\t<tr><th></th><th scope=col>&lt;int&gt;</th><th scope=col>&lt;int&gt;</th><th scope=col>&lt;int&gt;</th><th scope=col>&lt;int&gt;</th><th scope=col>&lt;fct&gt;</th><th scope=col>&lt;fct&gt;</th><th scope=col>&lt;fct&gt;</th><th scope=col>&lt;fct&gt;</th><th scope=col>&lt;int&gt;</th><th scope=col>&lt;dbl&gt;</th><th scope=col>&lt;dbl&gt;</th></tr>\n",
       "</thead>\n",
       "<tbody>\n",
       "\t<tr><th scope=row>1</th><td> 3</td><td>2</td><td> 0</td><td>9</td><td>Married</td><td>College 4 years or more (College graduate)                  </td><td>$75,000 or more  </td><td>Female</td><td>220</td><td>20</td><td>1</td></tr>\n",
       "\t<tr><th scope=row>2</th><td> 2</td><td>0</td><td> 0</td><td>8</td><td>Married</td><td>Grade 12 or GED (High school graduate)                      </td><td>Less than $75,000</td><td>Female</td><td>208</td><td> 0</td><td>1</td></tr>\n",
       "\t<tr><th scope=row>3</th><td>10</td><td>2</td><td> 0</td><td>6</td><td>Married</td><td>College 4 years or more (College graduate)                  </td><td>Less than $50,000</td><td>Male  </td><td>210</td><td> 0</td><td>1</td></tr>\n",
       "\t<tr><th scope=row>4</th><td> 5</td><td>0</td><td>10</td><td>6</td><td>Widowed</td><td>College 1 year to 3 years (Some college or technical school)</td><td>Less than $50,000</td><td>Female</td><td>202</td><td> 0</td><td>1</td></tr>\n",
       "\t<tr><th scope=row>5</th><td> 0</td><td>1</td><td> 0</td><td>6</td><td>Married</td><td>College 4 years or more (College graduate)                  </td><td>$75,000 or more  </td><td>Male  </td><td>205</td><td> 0</td><td>1</td></tr>\n",
       "\t<tr><th scope=row>6</th><td>30</td><td>0</td><td> 5</td><td>3</td><td>Married</td><td>College 4 years or more (College graduate)                  </td><td>Less than $10,000</td><td>Male  </td><td>  0</td><td> 0</td><td>0</td></tr>\n",
       "</tbody>\n",
       "</table>\n"
      ],
      "text/latex": [
       "A data.frame: 6 × 11\n",
       "\\begin{tabular}{r|lllllllllll}\n",
       "  & physhlth & menthlth & poorhlth & sleptim1 & marital & educa & income2 & sex & alcday5 & drnk3ge5 & alcday5\\_new\\\\\n",
       "  & <int> & <int> & <int> & <int> & <fct> & <fct> & <fct> & <fct> & <int> & <dbl> & <dbl>\\\\\n",
       "\\hline\n",
       "\t1 &  3 & 2 &  0 & 9 & Married & College 4 years or more (College graduate)                   & \\$75,000 or more   & Female & 220 & 20 & 1\\\\\n",
       "\t2 &  2 & 0 &  0 & 8 & Married & Grade 12 or GED (High school graduate)                       & Less than \\$75,000 & Female & 208 &  0 & 1\\\\\n",
       "\t3 & 10 & 2 &  0 & 6 & Married & College 4 years or more (College graduate)                   & Less than \\$50,000 & Male   & 210 &  0 & 1\\\\\n",
       "\t4 &  5 & 0 & 10 & 6 & Widowed & College 1 year to 3 years (Some college or technical school) & Less than \\$50,000 & Female & 202 &  0 & 1\\\\\n",
       "\t5 &  0 & 1 &  0 & 6 & Married & College 4 years or more (College graduate)                   & \\$75,000 or more   & Male   & 205 &  0 & 1\\\\\n",
       "\t6 & 30 & 0 &  5 & 3 & Married & College 4 years or more (College graduate)                   & Less than \\$10,000 & Male   &   0 &  0 & 0\\\\\n",
       "\\end{tabular}\n"
      ],
      "text/markdown": [
       "\n",
       "A data.frame: 6 × 11\n",
       "\n",
       "| <!--/--> | physhlth &lt;int&gt; | menthlth &lt;int&gt; | poorhlth &lt;int&gt; | sleptim1 &lt;int&gt; | marital &lt;fct&gt; | educa &lt;fct&gt; | income2 &lt;fct&gt; | sex &lt;fct&gt; | alcday5 &lt;int&gt; | drnk3ge5 &lt;dbl&gt; | alcday5_new &lt;dbl&gt; |\n",
       "|---|---|---|---|---|---|---|---|---|---|---|---|\n",
       "| 1 |  3 | 2 |  0 | 9 | Married | College 4 years or more (College graduate)                   | $75,000 or more   | Female | 220 | 20 | 1 |\n",
       "| 2 |  2 | 0 |  0 | 8 | Married | Grade 12 or GED (High school graduate)                       | Less than $75,000 | Female | 208 |  0 | 1 |\n",
       "| 3 | 10 | 2 |  0 | 6 | Married | College 4 years or more (College graduate)                   | Less than $50,000 | Male   | 210 |  0 | 1 |\n",
       "| 4 |  5 | 0 | 10 | 6 | Widowed | College 1 year to 3 years (Some college or technical school) | Less than $50,000 | Female | 202 |  0 | 1 |\n",
       "| 5 |  0 | 1 |  0 | 6 | Married | College 4 years or more (College graduate)                   | $75,000 or more   | Male   | 205 |  0 | 1 |\n",
       "| 6 | 30 | 0 |  5 | 3 | Married | College 4 years or more (College graduate)                   | Less than $10,000 | Male   |   0 |  0 | 0 |\n",
       "\n"
      ],
      "text/plain": [
       "  physhlth menthlth poorhlth sleptim1 marital\n",
       "1  3       2         0       9        Married\n",
       "2  2       0         0       8        Married\n",
       "3 10       2         0       6        Married\n",
       "4  5       0        10       6        Widowed\n",
       "5  0       1         0       6        Married\n",
       "6 30       0         5       3        Married\n",
       "  educa                                                       \n",
       "1 College 4 years or more (College graduate)                  \n",
       "2 Grade 12 or GED (High school graduate)                      \n",
       "3 College 4 years or more (College graduate)                  \n",
       "4 College 1 year to 3 years (Some college or technical school)\n",
       "5 College 4 years or more (College graduate)                  \n",
       "6 College 4 years or more (College graduate)                  \n",
       "  income2           sex    alcday5 drnk3ge5 alcday5_new\n",
       "1 $75,000 or more   Female 220     20       1          \n",
       "2 Less than $75,000 Female 208      0       1          \n",
       "3 Less than $50,000 Male   210      0       1          \n",
       "4 Less than $50,000 Female 202      0       1          \n",
       "5 $75,000 or more   Male   205      0       1          \n",
       "6 Less than $10,000 Male     0      0       0          "
      ]
     },
     "metadata": {},
     "output_type": "display_data"
    }
   ],
   "source": [
    "head(mydata)"
   ]
  },
  {
   "cell_type": "markdown",
   "metadata": {},
   "source": [
    "<div class=\"alert alert-block alert-warning\">\n",
    "<a id=\"EDA1\"></a>\n",
    "\n",
    "# Predictions and Exploratory Data Analysis for Logistic Regression (8 marks; 1 mark per variable)\n",
    "\n",
    "Complete the following for each potential explanatory variable:  \n",
    "    \n",
    "A) What is your prediction for the relationship between the explanatory variable and the response variable?  (0.25 marks)\n",
    "\n",
    "B1) If quantitative, visualize the relationship using a scatterplot with a lowess line (0.25 marks). What relationship do you see on the plot?  (0.5 marks)\n",
    "\n",
    "B2) If categorical, what is the proportion of individuals who have consumed at least 1 alcoholic drink in the last 30 days for EACH category level? (0.25 marks) Are there differences that indicate that this could be a good explanatory variable to use? (0.5 marks)\n",
    "</div>"
   ]
  },
  {
   "cell_type": "markdown",
   "metadata": {},
   "source": [
    "### 1. Physical health"
   ]
  },
  {
   "cell_type": "code",
   "execution_count": 8,
   "metadata": {},
   "outputs": [
    {
     "data": {
      "image/png": "[encoded data removed]",
      "text/plain": [
       "plot without title"
      ]
     },
     "metadata": {
      "image/png": {
       "height": 420,
       "width": 420
      }
     },
     "output_type": "display_data"
    }
   ],
   "source": [
    "plot(alcday5_new ~ physhlth, data=mydata, pch=16, ylab = \"alcday5_new (1 = at least one alcoholic drink consumed in the last 30 days)\", xlab = \"physhlth (days)\")\n",
    "lines(lowess(mydata$physhlth, mydata$alcday5_new))"
   ]
  },
  {
   "cell_type": "markdown",
   "metadata": {},
   "source": [
    "1. My prediction is that the explanatory variable (physhlth) has a negative relationship with the response variable (alcday5_new), since people with bad physical health may be more sensitive to possible negative consequences caused by alcohol. \n",
    "2. There is a negative relationship between the variable physhlth and alcday5_new, indicating people with bad physical health drink alcoholic beverage less frequently."
   ]
  },
  {
   "cell_type": "markdown",
   "metadata": {},
   "source": [
    "### 2. Mental health"
   ]
  },
  {
   "cell_type": "code",
   "execution_count": 9,
   "metadata": {},
   "outputs": [
    {
     "data": {
      "image/png": "[encoded data removed]",
      "text/plain": [
       "plot without title"
      ]
     },
     "metadata": {
      "image/png": {
       "height": 420,
       "width": 420
      }
     },
     "output_type": "display_data"
    }
   ],
   "source": [
    "plot(alcday5_new ~ menthlth, data=mydata, pch=16, ylab = \"alcday5_new (1 = at least one alcoholic drink consumed in the last 30 days)\", xlab = \"menthlth (days)\")\n",
    "lines(lowess(mydata$menthlth, mydata$alcday5_new))"
   ]
  },
  {
   "cell_type": "markdown",
   "metadata": {},
   "source": [
    "1. My prediction is that the explanatory variable (menthlth) has a negative relationship with the response variable (alcday5_new), since people with bad menthlth health may be more sensitive to possible negative consequences caused by alcohol. \n",
    "2. There is a overall negative relationship between the variable menthlth and alcday5_new, indicating people with bad mental health drink alcoholic beverage less. However, there is a slight increase between 0 and 4 (menthlth)."
   ]
  },
  {
   "cell_type": "markdown",
   "metadata": {},
   "source": [
    "### 3. Poor health"
   ]
  },
  {
   "cell_type": "code",
   "execution_count": 10,
   "metadata": {},
   "outputs": [
    {
     "data": {
      "image/png": "[encoded data removed]",
      "text/plain": [
       "plot without title"
      ]
     },
     "metadata": {
      "image/png": {
       "height": 420,
       "width": 420
      }
     },
     "output_type": "display_data"
    }
   ],
   "source": [
    "plot(alcday5_new ~ poorhlth, data=mydata, pch=16, ylab = \"alcday5_new (1 = at least one alcoholic drink consumed in the last 30 days)\", xlab = \"poorhlth (days)\")\n",
    "lines(lowess(mydata$poorhlth, mydata$alcday5_new))"
   ]
  },
  {
   "cell_type": "markdown",
   "metadata": {},
   "source": [
    "1. My prediction is that the explanatory variable (poorhlth) has a negative relationship with the response variable (alcday5_new), since people with bad health may be more sensitive to possible negative consequences caused by alcohol. \n",
    "2. There is a overall negative relationship between the variable poorhlth and alcday5_new, indicating people with bad health drink alcoholic beverage less. However, there is a slight increase between 0 and 1 (poorhlth)."
   ]
  },
  {
   "cell_type": "markdown",
   "metadata": {},
   "source": [
    "### 4. Average amount of sleep"
   ]
  },
  {
   "cell_type": "code",
   "execution_count": 11,
   "metadata": {},
   "outputs": [
    {
     "data": {
      "image/png": "[encoded data removed]",
      "text/plain": [
       "plot without title"
      ]
     },
     "metadata": {
      "image/png": {
       "height": 420,
       "width": 420
      }
     },
     "output_type": "display_data"
    }
   ],
   "source": [
    "plot(alcday5_new ~ sleptim1, data=mydata, pch=16,  ylab = \"alcday5_new (1 = at least one alcoholic drink consumed in the last 30 days)\", xlab = \"sleptim1(days)\")\n",
    "lines(lowess(mydata$sleptim1, mydata$alcday5_new))"
   ]
  },
  {
   "cell_type": "markdown",
   "metadata": {},
   "source": [
    "1. My prediction is that the explanatory variable (sleptim1) has a negative relationship with the response variable (alcday5_new), since people with less sleep time may be more likely to engage in behaviors that are associated with increased alcohol consumption, such as socializing late at night, attending parties or events, and so on. \n",
    "2. From the plot, the value of alcday5_new rises and then falls as the variable sleptim1 increases, with a peak value shown when the sleptim7 equals 7."
   ]
  },
  {
   "cell_type": "markdown",
   "metadata": {},
   "source": [
    "### 5. Marital status"
   ]
  },
  {
   "cell_type": "code",
   "execution_count": 12,
   "metadata": {},
   "outputs": [
    {
     "data": {
      "text/html": [
       "<table class=\"dataframe\">\n",
       "<caption>A tibble: 6 × 2</caption>\n",
       "<thead>\n",
       "\t<tr><th scope=col>marital</th><th scope=col>prop</th></tr>\n",
       "\t<tr><th scope=col>&lt;fct&gt;</th><th scope=col>&lt;dbl&gt;</th></tr>\n",
       "</thead>\n",
       "<tbody>\n",
       "\t<tr><td>Married                        </td><td>0.5372288</td></tr>\n",
       "\t<tr><td>Divorced                       </td><td>0.4690604</td></tr>\n",
       "\t<tr><td>Widowed                        </td><td>0.3379322</td></tr>\n",
       "\t<tr><td>Separated                      </td><td>0.4505887</td></tr>\n",
       "\t<tr><td>Never married                  </td><td>0.5599670</td></tr>\n",
       "\t<tr><td>A member of an unmarried couple</td><td>0.6415035</td></tr>\n",
       "</tbody>\n",
       "</table>\n"
      ],
      "text/latex": [
       "A tibble: 6 × 2\n",
       "\\begin{tabular}{ll}\n",
       " marital & prop\\\\\n",
       " <fct> & <dbl>\\\\\n",
       "\\hline\n",
       "\t Married                         & 0.5372288\\\\\n",
       "\t Divorced                        & 0.4690604\\\\\n",
       "\t Widowed                         & 0.3379322\\\\\n",
       "\t Separated                       & 0.4505887\\\\\n",
       "\t Never married                   & 0.5599670\\\\\n",
       "\t A member of an unmarried couple & 0.6415035\\\\\n",
       "\\end{tabular}\n"
      ],
      "text/markdown": [
       "\n",
       "A tibble: 6 × 2\n",
       "\n",
       "| marital &lt;fct&gt; | prop &lt;dbl&gt; |\n",
       "|---|---|\n",
       "| Married                         | 0.5372288 |\n",
       "| Divorced                        | 0.4690604 |\n",
       "| Widowed                         | 0.3379322 |\n",
       "| Separated                       | 0.4505887 |\n",
       "| Never married                   | 0.5599670 |\n",
       "| A member of an unmarried couple | 0.6415035 |\n",
       "\n"
      ],
      "text/plain": [
       "  marital                         prop     \n",
       "1 Married                         0.5372288\n",
       "2 Divorced                        0.4690604\n",
       "3 Widowed                         0.3379322\n",
       "4 Separated                       0.4505887\n",
       "5 Never married                   0.5599670\n",
       "6 A member of an unmarried couple 0.6415035"
      ]
     },
     "metadata": {},
     "output_type": "display_data"
    }
   ],
   "source": [
    "mydata %>% \n",
    "  group_by(marital) %>% \n",
    "  summarize(prop = mean(alcday5_new))"
   ]
  },
  {
   "cell_type": "code",
   "execution_count": 13,
   "metadata": {},
   "outputs": [
    {
     "data": {
      "text/plain": [
       "\n",
       "Call:\n",
       "glm(formula = alcday5_new ~ as.factor(marital), family = binomial(link = \"logit\"), \n",
       "    data = mydata)\n",
       "\n",
       "Deviance Residuals: \n",
       "    Min       1Q   Median       3Q      Max  \n",
       "-1.4324  -1.2414   0.9423   1.1147   1.4730  \n",
       "\n",
       "Coefficients:\n",
       "                                                   Estimate Std. Error z value\n",
       "(Intercept)                                        0.149191   0.006453  23.119\n",
       "as.factor(marital)Divorced                        -0.273108   0.012865 -21.229\n",
       "as.factor(marital)Widowed                         -0.821714   0.015388 -53.400\n",
       "as.factor(marital)Separated                       -0.347484   0.027608 -12.586\n",
       "as.factor(marital)Never married                    0.091837   0.012864   7.139\n",
       "as.factor(marital)A member of an unmarried couple  0.432705   0.026882  16.096\n",
       "                                                  Pr(>|z|)    \n",
       "(Intercept)                                        < 2e-16 ***\n",
       "as.factor(marital)Divorced                         < 2e-16 ***\n",
       "as.factor(marital)Widowed                          < 2e-16 ***\n",
       "as.factor(marital)Separated                        < 2e-16 ***\n",
       "as.factor(marital)Never married                   9.41e-13 ***\n",
       "as.factor(marital)A member of an unmarried couple  < 2e-16 ***\n",
       "---\n",
       "Signif. codes:  0 '***' 0.001 '**' 0.01 '*' 0.05 '.' 0.1 ' ' 1\n",
       "\n",
       "(Dispersion parameter for binomial family taken to be 1)\n",
       "\n",
       "    Null deviance: 272603  on 196672  degrees of freedom\n",
       "Residual deviance: 268490  on 196667  degrees of freedom\n",
       "AIC: 268502\n",
       "\n",
       "Number of Fisher Scoring iterations: 4\n"
      ]
     },
     "metadata": {},
     "output_type": "display_data"
    }
   ],
   "source": [
    "glm.marital <- glm(alcday5_new ~ as.factor(marital), data=mydata, family=\"binomial\"(link=\"logit\"))\n",
    "summary(glm.marital)"
   ]
  },
  {
   "cell_type": "code",
   "execution_count": 14,
   "metadata": {},
   "outputs": [
    {
     "data": {
      "text/plain": [
       "\n",
       "\tPearson's Chi-squared test\n",
       "\n",
       "data:  table(mydata$marital, mydata$alcday5_new)\n",
       "X-squared = 4060.3, df = 5, p-value < 2.2e-16\n"
      ]
     },
     "metadata": {},
     "output_type": "display_data"
    }
   ],
   "source": [
    "chisq.test(table(mydata$marital, mydata$alcday5_new))"
   ]
  },
  {
   "cell_type": "markdown",
   "metadata": {},
   "source": [
    "1. Prediction: Marital status would be associated with alcohol consumption, with married individuals may consume less alcohol than unmarried individuals, since marriage often comes with greater social and family responsibilities.\n",
    "2. The model indicates that marital status is significantly associated with alcday5_new. The coefficients for the different levels of marital status represent the difference in the log odds of alcday5_new between that level and the reference level \"Married\". For example, holding all other predictor variables constant, the log odds of alcday5_new for an individual who is divorced is 0.273108 lower than for an individual who is married.\n",
    "3. The Pearson's Chi-squared test statistic is 4060.3 with 5 degrees of freedom. The p-value is less than 2.2e-16, which means that there is strong evidence against the null hypothesis of no association between the two variables."
   ]
  },
  {
   "cell_type": "markdown",
   "metadata": {},
   "source": [
    "### 6. Education"
   ]
  },
  {
   "cell_type": "code",
   "execution_count": 15,
   "metadata": {},
   "outputs": [
    {
     "data": {
      "text/html": [
       "<table class=\"dataframe\">\n",
       "<caption>A tibble: 6 × 2</caption>\n",
       "<thead>\n",
       "\t<tr><th scope=col>educa</th><th scope=col>prop</th></tr>\n",
       "\t<tr><th scope=col>&lt;fct&gt;</th><th scope=col>&lt;dbl&gt;</th></tr>\n",
       "</thead>\n",
       "<tbody>\n",
       "\t<tr><td>Never attended school or only kindergarten                  </td><td>0.2527473</td></tr>\n",
       "\t<tr><td>Grades 1 through 8 (Elementary)                             </td><td>0.2296925</td></tr>\n",
       "\t<tr><td>Grades 9 though 11 (Some high school)                       </td><td>0.3067627</td></tr>\n",
       "\t<tr><td>Grade 12 or GED (High school graduate)                      </td><td>0.4131674</td></tr>\n",
       "\t<tr><td>College 1 year to 3 years (Some college or technical school)</td><td>0.5065827</td></tr>\n",
       "\t<tr><td>College 4 years or more (College graduate)                  </td><td>0.6376271</td></tr>\n",
       "</tbody>\n",
       "</table>\n"
      ],
      "text/latex": [
       "A tibble: 6 × 2\n",
       "\\begin{tabular}{ll}\n",
       " educa & prop\\\\\n",
       " <fct> & <dbl>\\\\\n",
       "\\hline\n",
       "\t Never attended school or only kindergarten                   & 0.2527473\\\\\n",
       "\t Grades 1 through 8 (Elementary)                              & 0.2296925\\\\\n",
       "\t Grades 9 though 11 (Some high school)                        & 0.3067627\\\\\n",
       "\t Grade 12 or GED (High school graduate)                       & 0.4131674\\\\\n",
       "\t College 1 year to 3 years (Some college or technical school) & 0.5065827\\\\\n",
       "\t College 4 years or more (College graduate)                   & 0.6376271\\\\\n",
       "\\end{tabular}\n"
      ],
      "text/markdown": [
       "\n",
       "A tibble: 6 × 2\n",
       "\n",
       "| educa &lt;fct&gt; | prop &lt;dbl&gt; |\n",
       "|---|---|\n",
       "| Never attended school or only kindergarten                   | 0.2527473 |\n",
       "| Grades 1 through 8 (Elementary)                              | 0.2296925 |\n",
       "| Grades 9 though 11 (Some high school)                        | 0.3067627 |\n",
       "| Grade 12 or GED (High school graduate)                       | 0.4131674 |\n",
       "| College 1 year to 3 years (Some college or technical school) | 0.5065827 |\n",
       "| College 4 years or more (College graduate)                   | 0.6376271 |\n",
       "\n"
      ],
      "text/plain": [
       "  educa                                                        prop     \n",
       "1 Never attended school or only kindergarten                   0.2527473\n",
       "2 Grades 1 through 8 (Elementary)                              0.2296925\n",
       "3 Grades 9 though 11 (Some high school)                        0.3067627\n",
       "4 Grade 12 or GED (High school graduate)                       0.4131674\n",
       "5 College 1 year to 3 years (Some college or technical school) 0.5065827\n",
       "6 College 4 years or more (College graduate)                   0.6376271"
      ]
     },
     "metadata": {},
     "output_type": "display_data"
    }
   ],
   "source": [
    "mydata %>% \n",
    "  group_by(educa) %>% \n",
    "  summarize(prop = mean(alcday5_new))"
   ]
  },
  {
   "cell_type": "code",
   "execution_count": 16,
   "metadata": {},
   "outputs": [
    {
     "data": {
      "text/plain": [
       "\n",
       "Call:\n",
       "glm(formula = alcday5_new ~ as.factor(educa), family = binomial(link = \"logit\"), \n",
       "    data = mydata)\n",
       "\n",
       "Deviance Residuals: \n",
       "    Min       1Q   Median       3Q      Max  \n",
       "-1.4248  -1.1886   0.9487   1.1663   1.7152  \n",
       "\n",
       "Coefficients:\n",
       "                                                                             Estimate\n",
       "(Intercept)                                                                   -1.0840\n",
       "as.factor(educa)Grades 1 through 8 (Elementary)                               -0.1260\n",
       "as.factor(educa)Grades 9 though 11 (Some high school)                          0.2687\n",
       "as.factor(educa)Grade 12 or GED (High school graduate)                         0.7331\n",
       "as.factor(educa)College 1 year to 3 years (Some college or technical school)   1.1103\n",
       "as.factor(educa)College 4 years or more (College graduate)                     1.6491\n",
       "                                                                             Std. Error\n",
       "(Intercept)                                                                      0.1706\n",
       "as.factor(educa)Grades 1 through 8 (Elementary)                                  0.1740\n",
       "as.factor(educa)Grades 9 though 11 (Some high school)                            0.1717\n",
       "as.factor(educa)Grade 12 or GED (High school graduate)                           0.1708\n",
       "as.factor(educa)College 1 year to 3 years (Some college or technical school)     0.1708\n",
       "as.factor(educa)College 4 years or more (College graduate)                       0.1707\n",
       "                                                                             z value\n",
       "(Intercept)                                                                   -6.355\n",
       "as.factor(educa)Grades 1 through 8 (Elementary)                               -0.724\n",
       "as.factor(educa)Grades 9 though 11 (Some high school)                          1.565\n",
       "as.factor(educa)Grade 12 or GED (High school graduate)                         4.293\n",
       "as.factor(educa)College 1 year to 3 years (Some college or technical school)   6.502\n",
       "as.factor(educa)College 4 years or more (College graduate)                     9.658\n",
       "                                                                             Pr(>|z|)\n",
       "(Intercept)                                                                  2.08e-10\n",
       "as.factor(educa)Grades 1 through 8 (Elementary)                                 0.469\n",
       "as.factor(educa)Grades 9 though 11 (Some high school)                           0.118\n",
       "as.factor(educa)Grade 12 or GED (High school graduate)                       1.77e-05\n",
       "as.factor(educa)College 1 year to 3 years (Some college or technical school) 7.92e-11\n",
       "as.factor(educa)College 4 years or more (College graduate)                    < 2e-16\n",
       "                                                                                \n",
       "(Intercept)                                                                  ***\n",
       "as.factor(educa)Grades 1 through 8 (Elementary)                                 \n",
       "as.factor(educa)Grades 9 though 11 (Some high school)                           \n",
       "as.factor(educa)Grade 12 or GED (High school graduate)                       ***\n",
       "as.factor(educa)College 1 year to 3 years (Some college or technical school) ***\n",
       "as.factor(educa)College 4 years or more (College graduate)                   ***\n",
       "---\n",
       "Signif. codes:  0 '***' 0.001 '**' 0.01 '*' 0.05 '.' 0.1 ' ' 1\n",
       "\n",
       "(Dispersion parameter for binomial family taken to be 1)\n",
       "\n",
       "    Null deviance: 272603  on 196672  degrees of freedom\n",
       "Residual deviance: 262447  on 196667  degrees of freedom\n",
       "AIC: 262459\n",
       "\n",
       "Number of Fisher Scoring iterations: 4\n"
      ]
     },
     "metadata": {},
     "output_type": "display_data"
    }
   ],
   "source": [
    "glm.educa <- glm(alcday5_new ~ as.factor(educa), data=mydata, family=\"binomial\"(link=\"logit\"))\n",
    "summary(glm.educa)"
   ]
  },
  {
   "cell_type": "code",
   "execution_count": 17,
   "metadata": {},
   "outputs": [
    {
     "data": {
      "text/plain": [
       "\n",
       "\tPearson's Chi-squared test\n",
       "\n",
       "data:  table(mydata$educa, mydata$alcday5_new)\n",
       "X-squared = 9957.6, df = 5, p-value < 2.2e-16\n"
      ]
     },
     "metadata": {},
     "output_type": "display_data"
    }
   ],
   "source": [
    "chisq.test(table(mydata$educa, mydata$alcday5_new))"
   ]
  },
  {
   "cell_type": "markdown",
   "metadata": {},
   "source": [
    "1. Prediction: People with higher education drink more alcohol than people with lower education because research shows that higher educational attainment is associated with increased odds of daily alcohol consumption and problem drinking[1].\n",
    "2. The model indicates that education is significantly associated with alcday5_new for most levels. The coefficients for the different levels of education represent the difference in the log odds of drinking alcohol between that level and the reference level \"Never attended school or only kindergarten\". For example, holding all other predictor variables constant, the log odds of alcday5_new for an individual who had joined elementary school is 0.1260 less than for an individual who had never ever attended school or only kindergarten.\n",
    "3. The Pearson's Chi-squared test statistic is 9957.6 with 5 degrees of freedom. The p-value is less than 2.2e-16, which means that there is strong evidence against the null hypothesis of no association between the two variables..\n",
    "\n",
    "References: [1] Huerta, M. C., & Borgonovi, F. (2010). Education, alcohol use and abuse among young adults in Britain. Social Science & Medicine, 71(1), 143-151. https://doi.org/10.1016/j.socscimed.2010.03.022"
   ]
  },
  {
   "cell_type": "markdown",
   "metadata": {},
   "source": [
    "### 7. Income"
   ]
  },
  {
   "cell_type": "code",
   "execution_count": 18,
   "metadata": {},
   "outputs": [
    {
     "data": {
      "text/html": [
       "<table class=\"dataframe\">\n",
       "<caption>A tibble: 8 × 2</caption>\n",
       "<thead>\n",
       "\t<tr><th scope=col>income2</th><th scope=col>prop</th></tr>\n",
       "\t<tr><th scope=col>&lt;fct&gt;</th><th scope=col>&lt;dbl&gt;</th></tr>\n",
       "</thead>\n",
       "<tbody>\n",
       "\t<tr><td>Less than $10,000</td><td>0.3191489</td></tr>\n",
       "\t<tr><td>Less than $15,000</td><td>0.3081613</td></tr>\n",
       "\t<tr><td>Less than $20,000</td><td>0.3552960</td></tr>\n",
       "\t<tr><td>Less than $25,000</td><td>0.4047619</td></tr>\n",
       "\t<tr><td>Less than $35,000</td><td>0.4543697</td></tr>\n",
       "\t<tr><td>Less than $50,000</td><td>0.5238506</td></tr>\n",
       "\t<tr><td>Less than $75,000</td><td>0.5887343</td></tr>\n",
       "\t<tr><td>$75,000 or more  </td><td>0.7013198</td></tr>\n",
       "</tbody>\n",
       "</table>\n"
      ],
      "text/latex": [
       "A tibble: 8 × 2\n",
       "\\begin{tabular}{ll}\n",
       " income2 & prop\\\\\n",
       " <fct> & <dbl>\\\\\n",
       "\\hline\n",
       "\t Less than \\$10,000 & 0.3191489\\\\\n",
       "\t Less than \\$15,000 & 0.3081613\\\\\n",
       "\t Less than \\$20,000 & 0.3552960\\\\\n",
       "\t Less than \\$25,000 & 0.4047619\\\\\n",
       "\t Less than \\$35,000 & 0.4543697\\\\\n",
       "\t Less than \\$50,000 & 0.5238506\\\\\n",
       "\t Less than \\$75,000 & 0.5887343\\\\\n",
       "\t \\$75,000 or more   & 0.7013198\\\\\n",
       "\\end{tabular}\n"
      ],
      "text/markdown": [
       "\n",
       "A tibble: 8 × 2\n",
       "\n",
       "| income2 &lt;fct&gt; | prop &lt;dbl&gt; |\n",
       "|---|---|\n",
       "| Less than $10,000 | 0.3191489 |\n",
       "| Less than $15,000 | 0.3081613 |\n",
       "| Less than $20,000 | 0.3552960 |\n",
       "| Less than $25,000 | 0.4047619 |\n",
       "| Less than $35,000 | 0.4543697 |\n",
       "| Less than $50,000 | 0.5238506 |\n",
       "| Less than $75,000 | 0.5887343 |\n",
       "| $75,000 or more   | 0.7013198 |\n",
       "\n"
      ],
      "text/plain": [
       "  income2           prop     \n",
       "1 Less than $10,000 0.3191489\n",
       "2 Less than $15,000 0.3081613\n",
       "3 Less than $20,000 0.3552960\n",
       "4 Less than $25,000 0.4047619\n",
       "5 Less than $35,000 0.4543697\n",
       "6 Less than $50,000 0.5238506\n",
       "7 Less than $75,000 0.5887343\n",
       "8 $75,000 or more   0.7013198"
      ]
     },
     "metadata": {},
     "output_type": "display_data"
    }
   ],
   "source": [
    "mydata %>% \n",
    "  group_by(income2) %>% \n",
    "  summarize(prop = mean(alcday5_new))"
   ]
  },
  {
   "cell_type": "code",
   "execution_count": 19,
   "metadata": {},
   "outputs": [
    {
     "data": {
      "text/plain": [
       "\n",
       "Call:\n",
       "glm(formula = alcday5_new ~ as.factor(income2), family = binomial(link = \"logit\"), \n",
       "    data = mydata)\n",
       "\n",
       "Deviance Residuals: \n",
       "    Min       1Q   Median       3Q      Max  \n",
       "-1.5546  -1.1007   0.8424   1.1371   1.5344  \n",
       "\n",
       "Coefficients:\n",
       "                                    Estimate Std. Error z value Pr(>|z|)    \n",
       "(Intercept)                         -0.75769    0.01755 -43.179  < 2e-16 ***\n",
       "as.factor(income2)Less than $15,000 -0.05104    0.02481  -2.058   0.0396 *  \n",
       "as.factor(income2)Less than $20,000  0.16185    0.02335   6.932 4.14e-12 ***\n",
       "as.factor(income2)Less than $25,000  0.37202    0.02250  16.533  < 2e-16 ***\n",
       "as.factor(income2)Less than $35,000  0.57466    0.02203  26.090  < 2e-16 ***\n",
       "as.factor(income2)Less than $50,000  0.85316    0.02126  40.133  < 2e-16 ***\n",
       "as.factor(income2)Less than $75,000  1.11642    0.02121  52.642  < 2e-16 ***\n",
       "as.factor(income2)$75,000 or more    1.61128    0.02021  79.715  < 2e-16 ***\n",
       "---\n",
       "Signif. codes:  0 '***' 0.001 '**' 0.01 '*' 0.05 '.' 0.1 ' ' 1\n",
       "\n",
       "(Dispersion parameter for binomial family taken to be 1)\n",
       "\n",
       "    Null deviance: 272603  on 196672  degrees of freedom\n",
       "Residual deviance: 256927  on 196665  degrees of freedom\n",
       "AIC: 256943\n",
       "\n",
       "Number of Fisher Scoring iterations: 4\n"
      ]
     },
     "metadata": {},
     "output_type": "display_data"
    }
   ],
   "source": [
    "glm.income2 <- glm(alcday5_new ~ as.factor(income2), data=mydata, family=\"binomial\"(link=\"logit\"))\n",
    "summary(glm.income2)"
   ]
  },
  {
   "cell_type": "code",
   "execution_count": 20,
   "metadata": {},
   "outputs": [
    {
     "data": {
      "text/plain": [
       "\n",
       "\tPearson's Chi-squared test\n",
       "\n",
       "data:  table(mydata$income2, mydata$alcday5_new)\n",
       "X-squared = 15321, df = 7, p-value < 2.2e-16\n"
      ]
     },
     "metadata": {},
     "output_type": "display_data"
    }
   ],
   "source": [
    "chisq.test(table(mydata$income2, mydata$alcday5_new))"
   ]
  },
  {
   "cell_type": "markdown",
   "metadata": {},
   "source": [
    "1. Prediction: People with higher income drink more alcohol than people with lower income, since epidemiological evidence indicates a positive relationship between income and the prevalence of alcohol abuse in the general population[1].\n",
    "2. The model indicates that income is significantly associated with alcday5_new (p-value < 0.05). The estimated coefficients for the other income levels represent the change in the log odds of drinking alcohol compared to the reference group \"Less than $10,000\". For example, holding all other predictor variables constant, the log odds of alcday5_new for an individual who earn less than 15,000 is 0.05104 less than for an individual who earn less than 10,000.\n",
    "3. The Pearson's Chi-squared test statistic is 15321 with 7 degrees of freedom. The p-value is less than 2.2e-16, which means that there is strong evidence against the null hypothesis of no association between the two variables.\n",
    "\n",
    "References: [1] Keyes, K. M., & Hasin, D. S. (2008). Socio-economic status and problem alcohol use: The positive relationship between income and the DSM-IV alcohol abuse diagnosis. Addiction (Abingdon, England), 103(7), 1120-1130. https://doi.org/10.1111/j.1360-0443.2008.02218.x"
   ]
  },
  {
   "cell_type": "markdown",
   "metadata": {},
   "source": [
    "### 8. Sex/gender"
   ]
  },
  {
   "cell_type": "code",
   "execution_count": 21,
   "metadata": {},
   "outputs": [
    {
     "data": {
      "text/html": [
       "<table class=\"dataframe\">\n",
       "<caption>A tibble: 2 × 2</caption>\n",
       "<thead>\n",
       "\t<tr><th scope=col>sex</th><th scope=col>prop</th></tr>\n",
       "\t<tr><th scope=col>&lt;fct&gt;</th><th scope=col>&lt;dbl&gt;</th></tr>\n",
       "</thead>\n",
       "<tbody>\n",
       "\t<tr><td>Male  </td><td>0.5838062</td></tr>\n",
       "\t<tr><td>Female</td><td>0.4612602</td></tr>\n",
       "</tbody>\n",
       "</table>\n"
      ],
      "text/latex": [
       "A tibble: 2 × 2\n",
       "\\begin{tabular}{ll}\n",
       " sex & prop\\\\\n",
       " <fct> & <dbl>\\\\\n",
       "\\hline\n",
       "\t Male   & 0.5838062\\\\\n",
       "\t Female & 0.4612602\\\\\n",
       "\\end{tabular}\n"
      ],
      "text/markdown": [
       "\n",
       "A tibble: 2 × 2\n",
       "\n",
       "| sex &lt;fct&gt; | prop &lt;dbl&gt; |\n",
       "|---|---|\n",
       "| Male   | 0.5838062 |\n",
       "| Female | 0.4612602 |\n",
       "\n"
      ],
      "text/plain": [
       "  sex    prop     \n",
       "1 Male   0.5838062\n",
       "2 Female 0.4612602"
      ]
     },
     "metadata": {},
     "output_type": "display_data"
    }
   ],
   "source": [
    "mydata %>% \n",
    "  group_by(sex) %>% \n",
    "  summarize(prop = mean(alcday5_new))"
   ]
  },
  {
   "cell_type": "code",
   "execution_count": 22,
   "metadata": {},
   "outputs": [
    {
     "data": {
      "text/plain": [
       "\n",
       "Call:\n",
       "glm(formula = alcday5_new ~ as.factor(sex), family = binomial(link = \"logit\"), \n",
       "    data = mydata)\n",
       "\n",
       "Deviance Residuals: \n",
       "   Min      1Q  Median      3Q     Max  \n",
       "-1.324  -1.112   1.037   1.244   1.244  \n",
       "\n",
       "Coefficients:\n",
       "                      Estimate Std. Error z value Pr(>|z|)    \n",
       "(Intercept)           0.338418   0.007448   45.44   <2e-16 ***\n",
       "as.factor(sex)Female -0.493688   0.009398  -52.53   <2e-16 ***\n",
       "---\n",
       "Signif. codes:  0 '***' 0.001 '**' 0.01 '*' 0.05 '.' 0.1 ' ' 1\n",
       "\n",
       "(Dispersion parameter for binomial family taken to be 1)\n",
       "\n",
       "    Null deviance: 272603  on 196672  degrees of freedom\n",
       "Residual deviance: 269817  on 196671  degrees of freedom\n",
       "AIC: 269821\n",
       "\n",
       "Number of Fisher Scoring iterations: 4\n"
      ]
     },
     "metadata": {},
     "output_type": "display_data"
    }
   ],
   "source": [
    "glm.sex <- glm(alcday5_new ~ as.factor(sex), data=mydata, family=\"binomial\"(link=\"logit\"))\n",
    "summary(glm.sex)"
   ]
  },
  {
   "cell_type": "code",
   "execution_count": 23,
   "metadata": {},
   "outputs": [
    {
     "data": {
      "text/plain": [
       "\n",
       "\tPearson's Chi-squared test with Yates' continuity correction\n",
       "\n",
       "data:  table(mydata$sex, mydata$alcday5_new)\n",
       "X-squared = 2775.6, df = 1, p-value < 2.2e-16\n"
      ]
     },
     "metadata": {},
     "output_type": "display_data"
    }
   ],
   "source": [
    "chisq.test(table(mydata$sex, mydata$alcday5_new))"
   ]
  },
  {
   "cell_type": "markdown",
   "metadata": {},
   "source": [
    "1. Prediction: Females drink less alcohol than Males, which may be due both to the absence of risk factors for alcohol use and abuse in women and to women's sensitivity to the negative consequences they will suffer from alcohol consumption[1]. \n",
    "2. The model indicates that sex is significantly associated with alcday5_new (p-value < 0.001). The estimated coefficient for the female group is -0.49, which means that the log odds of drinking alcohol for females are 0.49 units lower than for males. \n",
    "3. The Pearson's Chi-squared test statistic is 2775.6 with 1 degree of freedom. The p-value is less than 2.2e-16, which means that there is strong evidence against the null hypothesis of no association between the two variables.\n",
    "\n",
    "References:\n",
    "[1] Nolen-Hoeksema, S. (2004). Gender differences in risk factors and consequences for alcohol use and problems. Clinical Psychology Review, 24(8), 981-1010. https://doi.org/10.1016/j.cpr.2004.08.003"
   ]
  },
  {
   "cell_type": "markdown",
   "metadata": {},
   "source": [
    "<div class=\"alert alert-block alert-success\">\n",
    "<a id=\"Logistic\"></a>\n",
    "\n",
    "# Logistic Regression Model\n",
    "\n",
    "Build a logistic regression model using **at most 4 explanatory variables (where at least one is a categorical variable)**. You can try alternate models and compare models using AIC. Remember to include interactions when appropriate. Show the results below for your final model. Include any other models you tried in **Appendix A**.\n",
    "    \n",
    "</div>    "
   ]
  },
  {
   "cell_type": "markdown",
   "metadata": {},
   "source": [
    "### Fit your final model (1 mark for this model being appropriate for the data)\n",
    "Include a brief description of why this model is appropriate for the data."
   ]
  },
  {
   "cell_type": "code",
   "execution_count": 24,
   "metadata": {
    "scrolled": true
   },
   "outputs": [
    {
     "data": {
      "text/plain": [
       "\n",
       "Call:\n",
       "glm(formula = alcday5_new ~ poorhlth + as.factor(marital) + as.factor(income2) + \n",
       "    as.factor(educa), family = binomial(link = \"logit\"), data = mydata)\n",
       "\n",
       "Deviance Residuals: \n",
       "    Min       1Q   Median       3Q      Max  \n",
       "-1.9588  -1.0757   0.6385   1.0556   2.2033  \n",
       "\n",
       "Coefficients:\n",
       "                                                                              Estimate\n",
       "(Intercept)                                                                  -1.505233\n",
       "poorhlth                                                                     -0.024072\n",
       "as.factor(marital)Divorced                                                    0.271188\n",
       "as.factor(marital)Widowed                                                    -0.228545\n",
       "as.factor(marital)Separated                                                   0.379388\n",
       "as.factor(marital)Never married                                               0.525184\n",
       "as.factor(marital)A member of an unmarried couple                             0.798209\n",
       "as.factor(income2)Less than $15,000                                          -0.021533\n",
       "as.factor(income2)Less than $20,000                                           0.154121\n",
       "as.factor(income2)Less than $25,000                                           0.332930\n",
       "as.factor(income2)Less than $35,000                                           0.485644\n",
       "as.factor(income2)Less than $50,000                                           0.706397\n",
       "as.factor(income2)Less than $75,000                                           0.921619\n",
       "as.factor(income2)$75,000 or more                                             1.374559\n",
       "as.factor(educa)Grades 1 through 8 (Elementary)                               0.142622\n",
       "as.factor(educa)Grades 9 though 11 (Some high school)                         0.413006\n",
       "as.factor(educa)Grade 12 or GED (High school graduate)                        0.657127\n",
       "as.factor(educa)College 1 year to 3 years (Some college or technical school)  0.866436\n",
       "as.factor(educa)College 4 years or more (College graduate)                    1.092175\n",
       "                                                                             Std. Error\n",
       "(Intercept)                                                                    0.176956\n",
       "poorhlth                                                                       0.000558\n",
       "as.factor(marital)Divorced                                                     0.014515\n",
       "as.factor(marital)Widowed                                                      0.016848\n",
       "as.factor(marital)Separated                                                    0.029812\n",
       "as.factor(marital)Never married                                                0.014445\n",
       "as.factor(marital)A member of an unmarried couple                              0.028644\n",
       "as.factor(income2)Less than $15,000                                            0.025531\n",
       "as.factor(income2)Less than $20,000                                            0.024175\n",
       "as.factor(income2)Less than $25,000                                            0.023527\n",
       "as.factor(income2)Less than $35,000                                            0.023281\n",
       "as.factor(income2)Less than $50,000                                            0.022933\n",
       "as.factor(income2)Less than $75,000                                            0.023400\n",
       "as.factor(income2)$75,000 or more                                              0.023342\n",
       "as.factor(educa)Grades 1 through 8 (Elementary)                                0.179563\n",
       "as.factor(educa)Grades 9 though 11 (Some high school)                          0.177253\n",
       "as.factor(educa)Grade 12 or GED (High school graduate)                         0.176301\n",
       "as.factor(educa)College 1 year to 3 years (Some college or technical school)   0.176304\n",
       "as.factor(educa)College 4 years or more (College graduate)                     0.176353\n",
       "                                                                             z value\n",
       "(Intercept)                                                                   -8.506\n",
       "poorhlth                                                                     -43.139\n",
       "as.factor(marital)Divorced                                                    18.683\n",
       "as.factor(marital)Widowed                                                    -13.565\n",
       "as.factor(marital)Separated                                                   12.726\n",
       "as.factor(marital)Never married                                               36.358\n",
       "as.factor(marital)A member of an unmarried couple                             27.866\n",
       "as.factor(income2)Less than $15,000                                           -0.843\n",
       "as.factor(income2)Less than $20,000                                            6.375\n",
       "as.factor(income2)Less than $25,000                                           14.151\n",
       "as.factor(income2)Less than $35,000                                           20.860\n",
       "as.factor(income2)Less than $50,000                                           30.802\n",
       "as.factor(income2)Less than $75,000                                           39.386\n",
       "as.factor(income2)$75,000 or more                                             58.887\n",
       "as.factor(educa)Grades 1 through 8 (Elementary)                                0.794\n",
       "as.factor(educa)Grades 9 though 11 (Some high school)                          2.330\n",
       "as.factor(educa)Grade 12 or GED (High school graduate)                         3.727\n",
       "as.factor(educa)College 1 year to 3 years (Some college or technical school)   4.914\n",
       "as.factor(educa)College 4 years or more (College graduate)                     6.193\n",
       "                                                                             Pr(>|z|)\n",
       "(Intercept)                                                                   < 2e-16\n",
       "poorhlth                                                                      < 2e-16\n",
       "as.factor(marital)Divorced                                                    < 2e-16\n",
       "as.factor(marital)Widowed                                                     < 2e-16\n",
       "as.factor(marital)Separated                                                   < 2e-16\n",
       "as.factor(marital)Never married                                               < 2e-16\n",
       "as.factor(marital)A member of an unmarried couple                             < 2e-16\n",
       "as.factor(income2)Less than $15,000                                          0.398988\n",
       "as.factor(income2)Less than $20,000                                          1.83e-10\n",
       "as.factor(income2)Less than $25,000                                           < 2e-16\n",
       "as.factor(income2)Less than $35,000                                           < 2e-16\n",
       "as.factor(income2)Less than $50,000                                           < 2e-16\n",
       "as.factor(income2)Less than $75,000                                           < 2e-16\n",
       "as.factor(income2)$75,000 or more                                             < 2e-16\n",
       "as.factor(educa)Grades 1 through 8 (Elementary)                              0.427038\n",
       "as.factor(educa)Grades 9 though 11 (Some high school)                        0.019804\n",
       "as.factor(educa)Grade 12 or GED (High school graduate)                       0.000194\n",
       "as.factor(educa)College 1 year to 3 years (Some college or technical school) 8.90e-07\n",
       "as.factor(educa)College 4 years or more (College graduate)                   5.90e-10\n",
       "                                                                                \n",
       "(Intercept)                                                                  ***\n",
       "poorhlth                                                                     ***\n",
       "as.factor(marital)Divorced                                                   ***\n",
       "as.factor(marital)Widowed                                                    ***\n",
       "as.factor(marital)Separated                                                  ***\n",
       "as.factor(marital)Never married                                              ***\n",
       "as.factor(marital)A member of an unmarried couple                            ***\n",
       "as.factor(income2)Less than $15,000                                             \n",
       "as.factor(income2)Less than $20,000                                          ***\n",
       "as.factor(income2)Less than $25,000                                          ***\n",
       "as.factor(income2)Less than $35,000                                          ***\n",
       "as.factor(income2)Less than $50,000                                          ***\n",
       "as.factor(income2)Less than $75,000                                          ***\n",
       "as.factor(income2)$75,000 or more                                            ***\n",
       "as.factor(educa)Grades 1 through 8 (Elementary)                                 \n",
       "as.factor(educa)Grades 9 though 11 (Some high school)                        *  \n",
       "as.factor(educa)Grade 12 or GED (High school graduate)                       ***\n",
       "as.factor(educa)College 1 year to 3 years (Some college or technical school) ***\n",
       "as.factor(educa)College 4 years or more (College graduate)                   ***\n",
       "---\n",
       "Signif. codes:  0 '***' 0.001 '**' 0.01 '*' 0.05 '.' 0.1 ' ' 1\n",
       "\n",
       "(Dispersion parameter for binomial family taken to be 1)\n",
       "\n",
       "    Null deviance: 272603  on 196672  degrees of freedom\n",
       "Residual deviance: 249433  on 196654  degrees of freedom\n",
       "AIC: 249471\n",
       "\n",
       "Number of Fisher Scoring iterations: 4\n"
      ]
     },
     "metadata": {},
     "output_type": "display_data"
    }
   ],
   "source": [
    "# Fit your final model here.\n",
    "# Use summary to get model co-efficients and other useful output.\n",
    "glm.final <- glm(alcday5_new ~  poorhlth + as.factor(marital) + as.factor(income2) + as.factor(educa), data=mydata, family=\"binomial\"(link=\"logit\"))\n",
    "summary(glm.final)"
   ]
  },
  {
   "cell_type": "markdown",
   "metadata": {},
   "source": [
    "### Write the equation of your model, replacing the co-efficients with the numbers from the output of the summary command. Show the link function and describe how any categorical variables are encoded. (1.5 marks)"
   ]
  },
  {
   "cell_type": "markdown",
   "metadata": {},
   "source": [
    "logit(alcday5_new) = -1.505233 - 0.024072 * poorhlth + 0.271188 * marital(Divorced) - 0.228545 * marital(Widowed) + 0.379388 * marital(Separated) + 0.525184 * marital(Never married) + 0.798209 * marital(A member of an unmarried couple) - 0.021533 * income2(Less than $15,000) + 0.154121 * income2(Less than $20,000) + 0.332930 * income2(Less than $25,000) + 0.485644 * income2(Less than $35,000) + 0.706397 * income2(Less than $50,000) + 0.921619 * income2(Less than $75,000) + 1.374559 * income2($75,000 or more) + 0.142622 * educa(Grades 1 through 8 (Elementary)) + 0.413006 * educa(Grades 9 though 11 (Some high school)) + 0.657127 * educa(Grade 12 or GED (High school graduate)) + 0.866436 * educa(College 1 year to 3 years (Some college or technical school)) + 1.092175 * educa(College 4 years or more (College graduate))"
   ]
  },
  {
   "cell_type": "markdown",
   "metadata": {},
   "source": [
    "### Create plots to visualize the model fit. (2.5 marks)"
   ]
  },
  {
   "cell_type": "code",
   "execution_count": 25,
   "metadata": {},
   "outputs": [],
   "source": [
    "# holding educa level at median, marital level at median, color by income2\n",
    "med_educa <- levels(mydata$educa)[ceiling(length(levels(mydata$educa))/2)]\n",
    "med_marital <- levels(mydata$marital)[ceiling(length(levels(mydata$marital))/2)]\n",
    "\n",
    "new_data_income2 <- expand.grid(educa = med_educa, \n",
    "                              marital = med_marital,\n",
    "                              poorhlth = seq(from = min(mydata$ poorhlth), \n",
    "                                             to = max(mydata$poorhlth), \n",
    "                                             length.out = 100), \n",
    "                              income2 = levels(mydata$income2))\n",
    "\n",
    "new_data_income2$predicted <- predict(glm.final, newdata = new_data_income2, type = \"response\")\n",
    "# new_data_income2\n",
    "#levels(mydata$income2)"
   ]
  },
  {
   "cell_type": "code",
   "execution_count": 26,
   "metadata": {},
   "outputs": [
    {
     "data": {
      "image/png": "[encoded data removed]",
      "text/plain": [
       "plot without title"
      ]
     },
     "metadata": {
      "image/png": {
       "height": 420,
       "width": 420
      }
     },
     "output_type": "display_data"
    }
   ],
   "source": [
    "plot(alcday5_new ~ poorhlth, data=mydata, ylab = \"alcday5_new (1 = at least one alcoholic drink consumed in the last 30 days)\", xlab = \"poorhlth (days)\")\n",
    "\n",
    "new_data_10000 <- subset(new_data_income2, new_data_income2$income2 ==\"Less than $10,000\")\n",
    "new_data_15000 <- subset(new_data_income2, new_data_income2$income2 ==\"Less than $15,000\")\n",
    "new_data_20000 <- subset(new_data_income2, new_data_income2$income2 ==\"Less than $20,000\")\n",
    "new_data_25000 <- subset(new_data_income2, new_data_income2$income2 ==\"Less than $25,000\")\n",
    "new_data_35000 <- subset(new_data_income2, new_data_income2$income2 ==\"Less than $35,000\")\n",
    "new_data_50000 <- subset(new_data_income2, new_data_income2$income2 ==\"Less than $50,000\")\n",
    "new_data_75000 <- subset(new_data_income2, new_data_income2$income2 ==\"Less than $75,000\")\n",
    "new_data_more <- subset(new_data_income2, new_data_income2$income2 ==\"$75,000 or more\")\n",
    "\n",
    "\n",
    "lines(new_data_10000$poorhlth, new_data_10000$predicted, lty=1, col=\"blue\")\n",
    "lines(new_data_15000$poorhlth, new_data_15000$predicted, lty=1, col=\"red\")\n",
    "lines(new_data_20000$poorhlth, new_data_20000$predicted, lty=1, col=\"green\")\n",
    "lines(new_data_25000$poorhlth, new_data_25000$predicted, lty=1, col=\"orange\")\n",
    "lines(new_data_35000$poorhlth, new_data_35000$predicted, lty=1, col=\"purple\")\n",
    "lines(new_data_50000$poorhlth, new_data_50000$predicted, lty=1, col=\"yellow\")\n",
    "lines(new_data_75000$poorhlth, new_data_75000$predicted, lty=1, col=\"pink\")\n",
    "lines(new_data_more$poorhlth, new_data_more$predicted, lty=1, col=\"gray\")\n",
    "\n",
    "legend(legend=c(\"Less than $10,000\",\"Less than $15,000\", \"Less than $20,000\", \"Less than $25,000\", \"Less than $35,000\", \"Less than $50,000\", \"Less than $75,000\", \"$75,000 or more\"),\n",
    "       col=c(\"blue\", \"red\", \"green\", \"orange\", \"purple\",\"yellow\", \"pink\",\"gray\"), pch=16, \"topright\", inset = c(0, 0.1))"
   ]
  },
  {
   "cell_type": "code",
   "execution_count": 27,
   "metadata": {},
   "outputs": [],
   "source": [
    "# holding educa level at median, income2 level at median, color by marital\n",
    "med_income2<- levels(mydata$income2)[ceiling(length(levels(mydata$income2))/2)]\n",
    "\n",
    "new_data_marital <- expand.grid(educa = med_educa, \n",
    "                              income2 = med_income2,\n",
    "                              poorhlth = seq(from = min(mydata$ poorhlth), \n",
    "                                             to = max(mydata$poorhlth), \n",
    "                                             length.out = 100), \n",
    "                              marital = levels(mydata$marital))\n",
    "\n",
    "new_data_marital$predicted <- predict(glm.final, newdata = new_data_marital, type = \"response\")\n",
    "# new_data_marital\n",
    "# levels(mydata$marital)"
   ]
  },
  {
   "cell_type": "code",
   "execution_count": 28,
   "metadata": {},
   "outputs": [
    {
     "data": {
      "image/png": "[encoded data removed]",
      "text/plain": [
       "plot without title"
      ]
     },
     "metadata": {
      "image/png": {
       "height": 420,
       "width": 420
      }
     },
     "output_type": "display_data"
    }
   ],
   "source": [
    "plot(alcday5_new ~ poorhlth, data=mydata, ylab = \"alcday5_new (1 = at least one alcoholic drink consumed in the last 30 days)\", xlab = \"poorhlth (days)\")\n",
    "\n",
    "new_data_married <- subset(new_data_marital, new_data_marital$marital ==\"Married\")\n",
    "new_data_divorced <- subset(new_data_marital, new_data_marital$marital ==\"Divorsed\")\n",
    "new_data_widowed <- subset(new_data_marital, new_data_marital$marital ==\"Widowed\")\n",
    "new_data_separated <- subset(new_data_marital, new_data_marital$marital ==\"Separated\")\n",
    "new_data_never <- subset(new_data_marital, new_data_marital$marital ==\"Never married\")\n",
    "new_data_couple <- subset(new_data_marital, new_data_marital$marital ==\"A member of an unmarried couple\")\n",
    "\n",
    "lines(new_data_married$poorhlth, new_data_married$predicted, lty=1, col=\"blue\")\n",
    "lines(new_data_divorced$poorhlth, new_data_divorced$predicted, lty=1, col=\"red\")\n",
    "lines(new_data_widowed$poorhlth, new_data_widowed$predicted, lty=1, col=\"green\")\n",
    "lines(new_data_separated$poorhlth, new_data_separated$predicted, lty=1, col=\"orange\")\n",
    "lines(new_data_never$poorhlth, new_data_never$predicted, lty=1, col=\"purple\")\n",
    "lines(new_data_couple$poorhlth, new_data_couple$predicted, lty=1, col=\"yellow\")\n",
    "\n",
    "legend(legend=c(\"Married\", \"Divorced\", \"Widowed\", \"Separated\",\"Never married\",\"Unmarried couple\"),\n",
    "       col=c(\"blue\", \"red\", \"green\", \"orange\", \"purple\",\"yellow\"), pch=16, \"topright\", inset = c(0, 0.1))"
   ]
  },
  {
   "cell_type": "code",
   "execution_count": 29,
   "metadata": {},
   "outputs": [],
   "source": [
    "# holding marital level at median, income2 level at median, color by educa\n",
    "new_data_educa <- expand.grid(marital = med_marital, \n",
    "                              income2 = med_income2,\n",
    "                              poorhlth = seq(from = min(mydata$poorhlth), \n",
    "                                             to = max(mydata$poorhlth), \n",
    "                                             length.out = 100), \n",
    "                              educa = levels(mydata$educa))\n",
    "\n",
    "new_data_educa$predicted <- predict(glm.final, newdata = new_data_educa, type = \"response\")\n",
    "# new_data_educa\n",
    "# levels(mydata$educa)"
   ]
  },
  {
   "cell_type": "code",
   "execution_count": 30,
   "metadata": {},
   "outputs": [
    {
     "data": {
      "image/png": "[encoded data removed]",
      "text/plain": [
       "plot without title"
      ]
     },
     "metadata": {
      "image/png": {
       "height": 420,
       "width": 420
      }
     },
     "output_type": "display_data"
    }
   ],
   "source": [
    "plot(alcday5_new ~ poorhlth, data=mydata, ylab = \"alcday5_new (1 = at least one alcoholic drink consumed in the last 30 days)\", xlab = \"poorhlth (days)\")\n",
    "\n",
    "new_data_kindergarten <- subset(new_data_educa, new_data_educa$educa ==\"Never attended school or only kindergarten\")\n",
    "new_data_Elementary <- subset(new_data_educa, new_data_educa$educa ==\"Grades 1 through 8 (Elementary)\")\n",
    "new_data_highschool1 <- subset(new_data_educa, new_data_educa$educa ==\"Grades 9 though 11 (Some high school)\")\n",
    "new_data_highschool2 <- subset(new_data_educa, new_data_educa$educa==\"Grade 12 or GED (High school graduate)\")\n",
    "new_data_college <- subset(new_data_educa, new_data_educa$educa ==\"College 1 year to 3 years (Some college or technical school)\")\n",
    "new_data_college2 <- subset(new_data_educa, new_data_educa$educa ==\"College 4 years or more (College graduate)\")\n",
    "\n",
    "lines(new_data_kindergarten$poorhlth, new_data_kindergarten$predicted, lty=1, col=\"blue\")\n",
    "lines(new_data_Elementary$poorhlth, new_data_Elementary$predicted, lty=1, col=\"red\")\n",
    "lines(new_data_highschool1 $poorhlth, new_data_highschool1$predicted, lty=1, col=\"green\")\n",
    "lines(new_data_highschool2$poorhlth, new_data_highschool2$predicted, lty=1, col=\"orange\")\n",
    "lines(new_data_college$poorhlth, new_data_college$predicted, lty=1, col=\"purple\")\n",
    "lines(new_data_college2$poorhlth, new_data_college2$predicted, lty=1, col=\"yellow\")\n",
    "\n",
    "legend(legend=c('Never attended school or only kindergarten','Grades 1 through 8 (Elementary)','Grades 9 though 11 (Some high school)','Grade 12 or GED (High school graduate)','College 1 year to 3 years (Some college or technical school)','College 4 years or more (College graduate)'),\n",
    "       col=c(\"blue\", \"red\", \"green\", \"orange\", \"purple\",\"yellow\"), pch=16, \"topright\", inset = c(0, 0.1))"
   ]
  },
  {
   "cell_type": "markdown",
   "metadata": {},
   "source": [
    "### What are the main results of your model? (2 marks)"
   ]
  },
  {
   "cell_type": "markdown",
   "metadata": {},
   "source": [
    "1. The likelihood of an individual having consumed at least one alcoholic drink in the last 30 days decreases as the number of days with poor physical or mental health increases.\n",
    "2. Holding educa level, income2 level constant, unmarried couple have the highest likelihood of having consumed at least one alcoholic drink in the last 30 days, the widowed group has the lowest likelihood. \n",
    "3. Holding marital level, income2 level constant, It shows people with higher education have higher likelihood of having consumed at least one alcoholic drink in the last 30 days.\n",
    "4. Holding marital level, educa level constant, it shows people with higher income have higher likelihood of having consumed at least one alcoholic drink in the last 30 days."
   ]
  },
  {
   "cell_type": "markdown",
   "metadata": {},
   "source": [
    "---\n",
    "## Do you have any concerns about the explanatory variables being related to each other? (0.75 marks)\n",
    "\n",
    "Show plots and/or do analyses to support your conclusions. If there are associations between explanatory variables, what effect could this have on your model?"
   ]
  },
  {
   "cell_type": "code",
   "execution_count": 31,
   "metadata": {},
   "outputs": [
    {
     "name": "stderr",
     "output_type": "stream",
     "text": [
      "Loading required package: carData\n",
      "\n",
      "\n",
      "Attaching package: 'car'\n",
      "\n",
      "\n",
      "The following object is masked from 'package:dplyr':\n",
      "\n",
      "    recode\n",
      "\n",
      "\n"
     ]
    },
    {
     "data": {
      "text/html": [
       "<table class=\"dataframe\">\n",
       "<caption>A matrix: 4 × 3 of type dbl</caption>\n",
       "<thead>\n",
       "\t<tr><th></th><th scope=col>GVIF</th><th scope=col>Df</th><th scope=col>GVIF^(1/(2*Df))</th></tr>\n",
       "</thead>\n",
       "<tbody>\n",
       "\t<tr><th scope=row>poorhlth</th><td>1.055079</td><td>1</td><td>1.027171</td></tr>\n",
       "\t<tr><th scope=row>as.factor(marital)</th><td>1.316475</td><td>5</td><td>1.027877</td></tr>\n",
       "\t<tr><th scope=row>as.factor(income2)</th><td>1.615643</td><td>7</td><td>1.034860</td></tr>\n",
       "\t<tr><th scope=row>as.factor(educa)</th><td>1.246639</td><td>5</td><td>1.022290</td></tr>\n",
       "</tbody>\n",
       "</table>\n"
      ],
      "text/latex": [
       "A matrix: 4 × 3 of type dbl\n",
       "\\begin{tabular}{r|lll}\n",
       "  & GVIF & Df & GVIF\\textasciicircum{}(1/(2*Df))\\\\\n",
       "\\hline\n",
       "\tpoorhlth & 1.055079 & 1 & 1.027171\\\\\n",
       "\tas.factor(marital) & 1.316475 & 5 & 1.027877\\\\\n",
       "\tas.factor(income2) & 1.615643 & 7 & 1.034860\\\\\n",
       "\tas.factor(educa) & 1.246639 & 5 & 1.022290\\\\\n",
       "\\end{tabular}\n"
      ],
      "text/markdown": [
       "\n",
       "A matrix: 4 × 3 of type dbl\n",
       "\n",
       "| <!--/--> | GVIF | Df | GVIF^(1/(2*Df)) |\n",
       "|---|---|---|---|\n",
       "| poorhlth | 1.055079 | 1 | 1.027171 |\n",
       "| as.factor(marital) | 1.316475 | 5 | 1.027877 |\n",
       "| as.factor(income2) | 1.615643 | 7 | 1.034860 |\n",
       "| as.factor(educa) | 1.246639 | 5 | 1.022290 |\n",
       "\n"
      ],
      "text/plain": [
       "                   GVIF     Df GVIF^(1/(2*Df))\n",
       "poorhlth           1.055079 1  1.027171       \n",
       "as.factor(marital) 1.316475 5  1.027877       \n",
       "as.factor(income2) 1.615643 7  1.034860       \n",
       "as.factor(educa)   1.246639 5  1.022290       "
      ]
     },
     "metadata": {},
     "output_type": "display_data"
    }
   ],
   "source": [
    "library(car)\n",
    "vif(glm.final)"
   ]
  },
  {
   "cell_type": "markdown",
   "metadata": {},
   "source": [
    "Based on the VIF output, there is some evidence of multicollinearity. The GVIF values are all greater than 1, which suggests that there is some degree of multicollinearity present. In general, GVIF values greater than 5 or 10 are cause for concern. However, the degree of multicollinearity in this model is not severe, and it is unlikely to cause significant issues. The GVIF values are all close to 1, which suggests that the degree of multicollinearity is minimal. <br>\n",
    "Overall, while there is some degree of multicollinearity in the model, it is unlikely to cause significant issues."
   ]
  },
  {
   "cell_type": "markdown",
   "metadata": {},
   "source": [
    "<div class=\"alert alert-block alert-info\"> \n",
    "    \n",
    "## Classification table (0.75 marks)\n",
    "\n",
    "Create a classification table (use potential cut-off values that you think make sense for the data). (0.5 marks)  \n",
    "What cut-off value would you use to maximize the accuracy (% of correct predictions)? (0.25 marks)\n",
    "<div>"
   ]
  },
  {
   "cell_type": "code",
   "execution_count": 32,
   "metadata": {},
   "outputs": [
    {
     "data": {
      "text/html": [
       "<table class=\"dataframe\">\n",
       "<caption>A data.frame: 6 × 10</caption>\n",
       "<thead>\n",
       "\t<tr><th></th><th scope=col>prob.level</th><th scope=col>true.positive</th><th scope=col>true.negative</th><th scope=col>false.positive</th><th scope=col>false.negative</th><th scope=col>correct.percent</th><th scope=col>sensitivity</th><th scope=col>specificity</th><th scope=col>false.pos.rate</th><th scope=col>false.neg.rate</th></tr>\n",
       "\t<tr><th></th><th scope=col>&lt;dbl&gt;</th><th scope=col>&lt;lgl&gt;</th><th scope=col>&lt;lgl&gt;</th><th scope=col>&lt;lgl&gt;</th><th scope=col>&lt;lgl&gt;</th><th scope=col>&lt;lgl&gt;</th><th scope=col>&lt;lgl&gt;</th><th scope=col>&lt;lgl&gt;</th><th scope=col>&lt;lgl&gt;</th><th scope=col>&lt;lgl&gt;</th></tr>\n",
       "</thead>\n",
       "<tbody>\n",
       "\t<tr><th scope=row>1</th><td>0.000</td><td>NA</td><td>NA</td><td>NA</td><td>NA</td><td>NA</td><td>NA</td><td>NA</td><td>NA</td><td>NA</td></tr>\n",
       "\t<tr><th scope=row>2</th><td>0.001</td><td>NA</td><td>NA</td><td>NA</td><td>NA</td><td>NA</td><td>NA</td><td>NA</td><td>NA</td><td>NA</td></tr>\n",
       "\t<tr><th scope=row>3</th><td>0.002</td><td>NA</td><td>NA</td><td>NA</td><td>NA</td><td>NA</td><td>NA</td><td>NA</td><td>NA</td><td>NA</td></tr>\n",
       "\t<tr><th scope=row>4</th><td>0.003</td><td>NA</td><td>NA</td><td>NA</td><td>NA</td><td>NA</td><td>NA</td><td>NA</td><td>NA</td><td>NA</td></tr>\n",
       "\t<tr><th scope=row>5</th><td>0.004</td><td>NA</td><td>NA</td><td>NA</td><td>NA</td><td>NA</td><td>NA</td><td>NA</td><td>NA</td><td>NA</td></tr>\n",
       "\t<tr><th scope=row>6</th><td>0.005</td><td>NA</td><td>NA</td><td>NA</td><td>NA</td><td>NA</td><td>NA</td><td>NA</td><td>NA</td><td>NA</td></tr>\n",
       "</tbody>\n",
       "</table>\n"
      ],
      "text/latex": [
       "A data.frame: 6 × 10\n",
       "\\begin{tabular}{r|llllllllll}\n",
       "  & prob.level & true.positive & true.negative & false.positive & false.negative & correct.percent & sensitivity & specificity & false.pos.rate & false.neg.rate\\\\\n",
       "  & <dbl> & <lgl> & <lgl> & <lgl> & <lgl> & <lgl> & <lgl> & <lgl> & <lgl> & <lgl>\\\\\n",
       "\\hline\n",
       "\t1 & 0.000 & NA & NA & NA & NA & NA & NA & NA & NA & NA\\\\\n",
       "\t2 & 0.001 & NA & NA & NA & NA & NA & NA & NA & NA & NA\\\\\n",
       "\t3 & 0.002 & NA & NA & NA & NA & NA & NA & NA & NA & NA\\\\\n",
       "\t4 & 0.003 & NA & NA & NA & NA & NA & NA & NA & NA & NA\\\\\n",
       "\t5 & 0.004 & NA & NA & NA & NA & NA & NA & NA & NA & NA\\\\\n",
       "\t6 & 0.005 & NA & NA & NA & NA & NA & NA & NA & NA & NA\\\\\n",
       "\\end{tabular}\n"
      ],
      "text/markdown": [
       "\n",
       "A data.frame: 6 × 10\n",
       "\n",
       "| <!--/--> | prob.level &lt;dbl&gt; | true.positive &lt;lgl&gt; | true.negative &lt;lgl&gt; | false.positive &lt;lgl&gt; | false.negative &lt;lgl&gt; | correct.percent &lt;lgl&gt; | sensitivity &lt;lgl&gt; | specificity &lt;lgl&gt; | false.pos.rate &lt;lgl&gt; | false.neg.rate &lt;lgl&gt; |\n",
       "|---|---|---|---|---|---|---|---|---|---|---|\n",
       "| 1 | 0.000 | NA | NA | NA | NA | NA | NA | NA | NA | NA |\n",
       "| 2 | 0.001 | NA | NA | NA | NA | NA | NA | NA | NA | NA |\n",
       "| 3 | 0.002 | NA | NA | NA | NA | NA | NA | NA | NA | NA |\n",
       "| 4 | 0.003 | NA | NA | NA | NA | NA | NA | NA | NA | NA |\n",
       "| 5 | 0.004 | NA | NA | NA | NA | NA | NA | NA | NA | NA |\n",
       "| 6 | 0.005 | NA | NA | NA | NA | NA | NA | NA | NA | NA |\n",
       "\n"
      ],
      "text/plain": [
       "  prob.level true.positive true.negative false.positive false.negative\n",
       "1 0.000      NA            NA            NA             NA            \n",
       "2 0.001      NA            NA            NA             NA            \n",
       "3 0.002      NA            NA            NA             NA            \n",
       "4 0.003      NA            NA            NA             NA            \n",
       "5 0.004      NA            NA            NA             NA            \n",
       "6 0.005      NA            NA            NA             NA            \n",
       "  correct.percent sensitivity specificity false.pos.rate false.neg.rate\n",
       "1 NA              NA          NA          NA             NA            \n",
       "2 NA              NA          NA          NA             NA            \n",
       "3 NA              NA          NA          NA             NA            \n",
       "4 NA              NA          NA          NA             NA            \n",
       "5 NA              NA          NA          NA             NA            \n",
       "6 NA              NA          NA          NA             NA            "
      ]
     },
     "metadata": {},
     "output_type": "display_data"
    }
   ],
   "source": [
    "# Avoid viewing numbers using scientific notation\n",
    "options(scipen = 99)\n",
    "\n",
    "# Create an empty dataframe that you will fill \n",
    "df <- data.frame(matrix(ncol = 9, nrow = 1001))\n",
    "colnames(df) <- c(\"true.positive\", \"true.negative\", \"false.positive\", \"false.negative\", \"correct.percent\", \"sensitivity\", \"specificity\", \"false.pos.rate\", \"false.neg.rate\")\n",
    "\n",
    "prob.level <- seq(0, 1, length.out=1001) # create a vector with different possible probabilities\n",
    "# prob.level\n",
    "\n",
    "class.table.data <- cbind(prob.level, df) # combine your vector of probabilities and your empty dataframe\n",
    "head(class.table.data)"
   ]
  },
  {
   "cell_type": "code",
   "execution_count": 33,
   "metadata": {},
   "outputs": [
    {
     "data": {
      "text/html": [
       "<table class=\"dataframe\">\n",
       "<caption>A data.frame: 6 × 10</caption>\n",
       "<thead>\n",
       "\t<tr><th></th><th scope=col>prob.level</th><th scope=col>true.positive</th><th scope=col>true.negative</th><th scope=col>false.positive</th><th scope=col>false.negative</th><th scope=col>correct.percent</th><th scope=col>sensitivity</th><th scope=col>specificity</th><th scope=col>false.pos.rate</th><th scope=col>false.neg.rate</th></tr>\n",
       "\t<tr><th></th><th scope=col>&lt;dbl&gt;</th><th scope=col>&lt;dbl&gt;</th><th scope=col>&lt;dbl&gt;</th><th scope=col>&lt;dbl&gt;</th><th scope=col>&lt;dbl&gt;</th><th scope=col>&lt;lgl&gt;</th><th scope=col>&lt;lgl&gt;</th><th scope=col>&lt;lgl&gt;</th><th scope=col>&lt;lgl&gt;</th><th scope=col>&lt;lgl&gt;</th></tr>\n",
       "</thead>\n",
       "<tbody>\n",
       "\t<tr><th scope=row>1</th><td>0.000</td><td>0</td><td>0</td><td>0</td><td>0</td><td>NA</td><td>NA</td><td>NA</td><td>NA</td><td>NA</td></tr>\n",
       "\t<tr><th scope=row>2</th><td>0.001</td><td>0</td><td>0</td><td>0</td><td>0</td><td>NA</td><td>NA</td><td>NA</td><td>NA</td><td>NA</td></tr>\n",
       "\t<tr><th scope=row>3</th><td>0.002</td><td>0</td><td>0</td><td>0</td><td>0</td><td>NA</td><td>NA</td><td>NA</td><td>NA</td><td>NA</td></tr>\n",
       "\t<tr><th scope=row>4</th><td>0.003</td><td>0</td><td>0</td><td>0</td><td>0</td><td>NA</td><td>NA</td><td>NA</td><td>NA</td><td>NA</td></tr>\n",
       "\t<tr><th scope=row>5</th><td>0.004</td><td>0</td><td>0</td><td>0</td><td>0</td><td>NA</td><td>NA</td><td>NA</td><td>NA</td><td>NA</td></tr>\n",
       "\t<tr><th scope=row>6</th><td>0.005</td><td>0</td><td>0</td><td>0</td><td>0</td><td>NA</td><td>NA</td><td>NA</td><td>NA</td><td>NA</td></tr>\n",
       "</tbody>\n",
       "</table>\n"
      ],
      "text/latex": [
       "A data.frame: 6 × 10\n",
       "\\begin{tabular}{r|llllllllll}\n",
       "  & prob.level & true.positive & true.negative & false.positive & false.negative & correct.percent & sensitivity & specificity & false.pos.rate & false.neg.rate\\\\\n",
       "  & <dbl> & <dbl> & <dbl> & <dbl> & <dbl> & <lgl> & <lgl> & <lgl> & <lgl> & <lgl>\\\\\n",
       "\\hline\n",
       "\t1 & 0.000 & 0 & 0 & 0 & 0 & NA & NA & NA & NA & NA\\\\\n",
       "\t2 & 0.001 & 0 & 0 & 0 & 0 & NA & NA & NA & NA & NA\\\\\n",
       "\t3 & 0.002 & 0 & 0 & 0 & 0 & NA & NA & NA & NA & NA\\\\\n",
       "\t4 & 0.003 & 0 & 0 & 0 & 0 & NA & NA & NA & NA & NA\\\\\n",
       "\t5 & 0.004 & 0 & 0 & 0 & 0 & NA & NA & NA & NA & NA\\\\\n",
       "\t6 & 0.005 & 0 & 0 & 0 & 0 & NA & NA & NA & NA & NA\\\\\n",
       "\\end{tabular}\n"
      ],
      "text/markdown": [
       "\n",
       "A data.frame: 6 × 10\n",
       "\n",
       "| <!--/--> | prob.level &lt;dbl&gt; | true.positive &lt;dbl&gt; | true.negative &lt;dbl&gt; | false.positive &lt;dbl&gt; | false.negative &lt;dbl&gt; | correct.percent &lt;lgl&gt; | sensitivity &lt;lgl&gt; | specificity &lt;lgl&gt; | false.pos.rate &lt;lgl&gt; | false.neg.rate &lt;lgl&gt; |\n",
       "|---|---|---|---|---|---|---|---|---|---|---|\n",
       "| 1 | 0.000 | 0 | 0 | 0 | 0 | NA | NA | NA | NA | NA |\n",
       "| 2 | 0.001 | 0 | 0 | 0 | 0 | NA | NA | NA | NA | NA |\n",
       "| 3 | 0.002 | 0 | 0 | 0 | 0 | NA | NA | NA | NA | NA |\n",
       "| 4 | 0.003 | 0 | 0 | 0 | 0 | NA | NA | NA | NA | NA |\n",
       "| 5 | 0.004 | 0 | 0 | 0 | 0 | NA | NA | NA | NA | NA |\n",
       "| 6 | 0.005 | 0 | 0 | 0 | 0 | NA | NA | NA | NA | NA |\n",
       "\n"
      ],
      "text/plain": [
       "  prob.level true.positive true.negative false.positive false.negative\n",
       "1 0.000      0             0             0              0             \n",
       "2 0.001      0             0             0              0             \n",
       "3 0.002      0             0             0              0             \n",
       "4 0.003      0             0             0              0             \n",
       "5 0.004      0             0             0              0             \n",
       "6 0.005      0             0             0              0             \n",
       "  correct.percent sensitivity specificity false.pos.rate false.neg.rate\n",
       "1 NA              NA          NA          NA             NA            \n",
       "2 NA              NA          NA          NA             NA            \n",
       "3 NA              NA          NA          NA             NA            \n",
       "4 NA              NA          NA          NA             NA            \n",
       "5 NA              NA          NA          NA             NA            \n",
       "6 NA              NA          NA          NA             NA            "
      ]
     },
     "metadata": {},
     "output_type": "display_data"
    }
   ],
   "source": [
    "# fill empty cells in your dataframe with 0\n",
    "class.table.data$true.positive <- rep(c(0), c(1001))\n",
    "class.table.data$true.negative <- rep(c(0), c(1001))\n",
    "class.table.data$false.positive <- rep(c(0), c(1001))\n",
    "class.table.data$false.negative <- rep(c(0), c(1001))\n",
    "head(class.table.data)"
   ]
  },
  {
   "cell_type": "code",
   "execution_count": 35,
   "metadata": {},
   "outputs": [
    {
     "data": {
      "text/html": [
       "<table class=\"dataframe\">\n",
       "<caption>A data.frame: 6 × 10</caption>\n",
       "<thead>\n",
       "\t<tr><th></th><th scope=col>prob.level</th><th scope=col>true.positive</th><th scope=col>true.negative</th><th scope=col>false.positive</th><th scope=col>false.negative</th><th scope=col>correct.percent</th><th scope=col>sensitivity</th><th scope=col>specificity</th><th scope=col>false.pos.rate</th><th scope=col>false.neg.rate</th></tr>\n",
       "\t<tr><th></th><th scope=col>&lt;dbl&gt;</th><th scope=col>&lt;dbl&gt;</th><th scope=col>&lt;dbl&gt;</th><th scope=col>&lt;dbl&gt;</th><th scope=col>&lt;dbl&gt;</th><th scope=col>&lt;lgl&gt;</th><th scope=col>&lt;lgl&gt;</th><th scope=col>&lt;lgl&gt;</th><th scope=col>&lt;lgl&gt;</th><th scope=col>&lt;lgl&gt;</th></tr>\n",
       "</thead>\n",
       "<tbody>\n",
       "\t<tr><th scope=row>1</th><td>0.000</td><td>99809</td><td>0</td><td>96864</td><td>0</td><td>NA</td><td>NA</td><td>NA</td><td>NA</td><td>NA</td></tr>\n",
       "\t<tr><th scope=row>2</th><td>0.001</td><td>99809</td><td>0</td><td>96864</td><td>0</td><td>NA</td><td>NA</td><td>NA</td><td>NA</td><td>NA</td></tr>\n",
       "\t<tr><th scope=row>3</th><td>0.002</td><td>99809</td><td>0</td><td>96864</td><td>0</td><td>NA</td><td>NA</td><td>NA</td><td>NA</td><td>NA</td></tr>\n",
       "\t<tr><th scope=row>4</th><td>0.003</td><td>99809</td><td>0</td><td>96864</td><td>0</td><td>NA</td><td>NA</td><td>NA</td><td>NA</td><td>NA</td></tr>\n",
       "\t<tr><th scope=row>5</th><td>0.004</td><td>99809</td><td>0</td><td>96864</td><td>0</td><td>NA</td><td>NA</td><td>NA</td><td>NA</td><td>NA</td></tr>\n",
       "\t<tr><th scope=row>6</th><td>0.005</td><td>99809</td><td>0</td><td>96864</td><td>0</td><td>NA</td><td>NA</td><td>NA</td><td>NA</td><td>NA</td></tr>\n",
       "</tbody>\n",
       "</table>\n"
      ],
      "text/latex": [
       "A data.frame: 6 × 10\n",
       "\\begin{tabular}{r|llllllllll}\n",
       "  & prob.level & true.positive & true.negative & false.positive & false.negative & correct.percent & sensitivity & specificity & false.pos.rate & false.neg.rate\\\\\n",
       "  & <dbl> & <dbl> & <dbl> & <dbl> & <dbl> & <lgl> & <lgl> & <lgl> & <lgl> & <lgl>\\\\\n",
       "\\hline\n",
       "\t1 & 0.000 & 99809 & 0 & 96864 & 0 & NA & NA & NA & NA & NA\\\\\n",
       "\t2 & 0.001 & 99809 & 0 & 96864 & 0 & NA & NA & NA & NA & NA\\\\\n",
       "\t3 & 0.002 & 99809 & 0 & 96864 & 0 & NA & NA & NA & NA & NA\\\\\n",
       "\t4 & 0.003 & 99809 & 0 & 96864 & 0 & NA & NA & NA & NA & NA\\\\\n",
       "\t5 & 0.004 & 99809 & 0 & 96864 & 0 & NA & NA & NA & NA & NA\\\\\n",
       "\t6 & 0.005 & 99809 & 0 & 96864 & 0 & NA & NA & NA & NA & NA\\\\\n",
       "\\end{tabular}\n"
      ],
      "text/markdown": [
       "\n",
       "A data.frame: 6 × 10\n",
       "\n",
       "| <!--/--> | prob.level &lt;dbl&gt; | true.positive &lt;dbl&gt; | true.negative &lt;dbl&gt; | false.positive &lt;dbl&gt; | false.negative &lt;dbl&gt; | correct.percent &lt;lgl&gt; | sensitivity &lt;lgl&gt; | specificity &lt;lgl&gt; | false.pos.rate &lt;lgl&gt; | false.neg.rate &lt;lgl&gt; |\n",
       "|---|---|---|---|---|---|---|---|---|---|---|\n",
       "| 1 | 0.000 | 99809 | 0 | 96864 | 0 | NA | NA | NA | NA | NA |\n",
       "| 2 | 0.001 | 99809 | 0 | 96864 | 0 | NA | NA | NA | NA | NA |\n",
       "| 3 | 0.002 | 99809 | 0 | 96864 | 0 | NA | NA | NA | NA | NA |\n",
       "| 4 | 0.003 | 99809 | 0 | 96864 | 0 | NA | NA | NA | NA | NA |\n",
       "| 5 | 0.004 | 99809 | 0 | 96864 | 0 | NA | NA | NA | NA | NA |\n",
       "| 6 | 0.005 | 99809 | 0 | 96864 | 0 | NA | NA | NA | NA | NA |\n",
       "\n"
      ],
      "text/plain": [
       "  prob.level true.positive true.negative false.positive false.negative\n",
       "1 0.000      99809         0             96864          0             \n",
       "2 0.001      99809         0             96864          0             \n",
       "3 0.002      99809         0             96864          0             \n",
       "4 0.003      99809         0             96864          0             \n",
       "5 0.004      99809         0             96864          0             \n",
       "6 0.005      99809         0             96864          0             \n",
       "  correct.percent sensitivity specificity false.pos.rate false.neg.rate\n",
       "1 NA              NA          NA          NA             NA            \n",
       "2 NA              NA          NA          NA             NA            \n",
       "3 NA              NA          NA          NA             NA            \n",
       "4 NA              NA          NA          NA             NA            \n",
       "5 NA              NA          NA          NA             NA            \n",
       "6 NA              NA          NA          NA             NA            "
      ]
     },
     "metadata": {},
     "output_type": "display_data"
    }
   ],
   "source": [
    "# This loop will try out the different probability cut-off values and fill in how many true positive/negatives and false positive/negatives you have based on your data.\n",
    "for (i in 1:1001) {\n",
    "  class.table <- table(mydata$alcday5_new, fitted(glm.final) > class.table.data$prob.level[i])\n",
    "  \n",
    "  col.true.num <- grep(\"TRUE\", colnames(class.table))\n",
    "  col.false.num <- grep(\"FALSE\", colnames(class.table))\n",
    "  \n",
    "  if (length(col.true.num) > 0) {\n",
    "    class.table.data$false.positive [i] <- class.table[1, col.true.num]\n",
    "    class.table.data$true.positive [i] <- class.table[2, col.true.num] }\n",
    "  \n",
    "  if (length(col.false.num) > 0) {\n",
    "    class.table.data$true.negative [i] <- class.table[1, col.false.num]\n",
    "    class.table.data$false.negative [i] <- class.table[2, col.false.num] }  }\n",
    "\n",
    "head(class.table.data)"
   ]
  },
  {
   "cell_type": "code",
   "execution_count": 36,
   "metadata": {},
   "outputs": [
    {
     "data": {
      "text/html": [
       "<table class=\"dataframe\">\n",
       "<caption>A data.frame: 1001 × 10</caption>\n",
       "<thead>\n",
       "\t<tr><th scope=col>prob.level</th><th scope=col>true.positive</th><th scope=col>true.negative</th><th scope=col>false.positive</th><th scope=col>false.negative</th><th scope=col>correct.percent</th><th scope=col>sensitivity</th><th scope=col>specificity</th><th scope=col>false.pos.rate</th><th scope=col>false.neg.rate</th></tr>\n",
       "\t<tr><th scope=col>&lt;dbl&gt;</th><th scope=col>&lt;dbl&gt;</th><th scope=col>&lt;dbl&gt;</th><th scope=col>&lt;dbl&gt;</th><th scope=col>&lt;dbl&gt;</th><th scope=col>&lt;dbl&gt;</th><th scope=col>&lt;dbl&gt;</th><th scope=col>&lt;dbl&gt;</th><th scope=col>&lt;dbl&gt;</th><th scope=col>&lt;dbl&gt;</th></tr>\n",
       "</thead>\n",
       "<tbody>\n",
       "\t<tr><td>0.000</td><td>99809</td><td>0</td><td>96864</td><td>0</td><td>50.7487</td><td>100</td><td>0</td><td>100</td><td>0</td></tr>\n",
       "\t<tr><td>0.001</td><td>99809</td><td>0</td><td>96864</td><td>0</td><td>50.7487</td><td>100</td><td>0</td><td>100</td><td>0</td></tr>\n",
       "\t<tr><td>0.002</td><td>99809</td><td>0</td><td>96864</td><td>0</td><td>50.7487</td><td>100</td><td>0</td><td>100</td><td>0</td></tr>\n",
       "\t<tr><td>0.003</td><td>99809</td><td>0</td><td>96864</td><td>0</td><td>50.7487</td><td>100</td><td>0</td><td>100</td><td>0</td></tr>\n",
       "\t<tr><td>0.004</td><td>99809</td><td>0</td><td>96864</td><td>0</td><td>50.7487</td><td>100</td><td>0</td><td>100</td><td>0</td></tr>\n",
       "\t<tr><td>0.005</td><td>99809</td><td>0</td><td>96864</td><td>0</td><td>50.7487</td><td>100</td><td>0</td><td>100</td><td>0</td></tr>\n",
       "\t<tr><td>0.006</td><td>99809</td><td>0</td><td>96864</td><td>0</td><td>50.7487</td><td>100</td><td>0</td><td>100</td><td>0</td></tr>\n",
       "\t<tr><td>0.007</td><td>99809</td><td>0</td><td>96864</td><td>0</td><td>50.7487</td><td>100</td><td>0</td><td>100</td><td>0</td></tr>\n",
       "\t<tr><td>0.008</td><td>99809</td><td>0</td><td>96864</td><td>0</td><td>50.7487</td><td>100</td><td>0</td><td>100</td><td>0</td></tr>\n",
       "\t<tr><td>0.009</td><td>99809</td><td>0</td><td>96864</td><td>0</td><td>50.7487</td><td>100</td><td>0</td><td>100</td><td>0</td></tr>\n",
       "\t<tr><td>0.010</td><td>99809</td><td>0</td><td>96864</td><td>0</td><td>50.7487</td><td>100</td><td>0</td><td>100</td><td>0</td></tr>\n",
       "\t<tr><td>0.011</td><td>99809</td><td>0</td><td>96864</td><td>0</td><td>50.7487</td><td>100</td><td>0</td><td>100</td><td>0</td></tr>\n",
       "\t<tr><td>0.012</td><td>99809</td><td>0</td><td>96864</td><td>0</td><td>50.7487</td><td>100</td><td>0</td><td>100</td><td>0</td></tr>\n",
       "\t<tr><td>0.013</td><td>99809</td><td>0</td><td>96864</td><td>0</td><td>50.7487</td><td>100</td><td>0</td><td>100</td><td>0</td></tr>\n",
       "\t<tr><td>0.014</td><td>99809</td><td>0</td><td>96864</td><td>0</td><td>50.7487</td><td>100</td><td>0</td><td>100</td><td>0</td></tr>\n",
       "\t<tr><td>0.015</td><td>99809</td><td>0</td><td>96864</td><td>0</td><td>50.7487</td><td>100</td><td>0</td><td>100</td><td>0</td></tr>\n",
       "\t<tr><td>0.016</td><td>99809</td><td>0</td><td>96864</td><td>0</td><td>50.7487</td><td>100</td><td>0</td><td>100</td><td>0</td></tr>\n",
       "\t<tr><td>0.017</td><td>99809</td><td>0</td><td>96864</td><td>0</td><td>50.7487</td><td>100</td><td>0</td><td>100</td><td>0</td></tr>\n",
       "\t<tr><td>0.018</td><td>99809</td><td>0</td><td>96864</td><td>0</td><td>50.7487</td><td>100</td><td>0</td><td>100</td><td>0</td></tr>\n",
       "\t<tr><td>0.019</td><td>99809</td><td>0</td><td>96864</td><td>0</td><td>50.7487</td><td>100</td><td>0</td><td>100</td><td>0</td></tr>\n",
       "\t<tr><td>0.020</td><td>99809</td><td>0</td><td>96864</td><td>0</td><td>50.7487</td><td>100</td><td>0</td><td>100</td><td>0</td></tr>\n",
       "\t<tr><td>0.021</td><td>99809</td><td>0</td><td>96864</td><td>0</td><td>50.7487</td><td>100</td><td>0</td><td>100</td><td>0</td></tr>\n",
       "\t<tr><td>0.022</td><td>99809</td><td>0</td><td>96864</td><td>0</td><td>50.7487</td><td>100</td><td>0</td><td>100</td><td>0</td></tr>\n",
       "\t<tr><td>0.023</td><td>99809</td><td>0</td><td>96864</td><td>0</td><td>50.7487</td><td>100</td><td>0</td><td>100</td><td>0</td></tr>\n",
       "\t<tr><td>0.024</td><td>99809</td><td>0</td><td>96864</td><td>0</td><td>50.7487</td><td>100</td><td>0</td><td>100</td><td>0</td></tr>\n",
       "\t<tr><td>0.025</td><td>99809</td><td>0</td><td>96864</td><td>0</td><td>50.7487</td><td>100</td><td>0</td><td>100</td><td>0</td></tr>\n",
       "\t<tr><td>0.026</td><td>99809</td><td>0</td><td>96864</td><td>0</td><td>50.7487</td><td>100</td><td>0</td><td>100</td><td>0</td></tr>\n",
       "\t<tr><td>0.027</td><td>99809</td><td>0</td><td>96864</td><td>0</td><td>50.7487</td><td>100</td><td>0</td><td>100</td><td>0</td></tr>\n",
       "\t<tr><td>0.028</td><td>99809</td><td>0</td><td>96864</td><td>0</td><td>50.7487</td><td>100</td><td>0</td><td>100</td><td>0</td></tr>\n",
       "\t<tr><td>0.029</td><td>99809</td><td>0</td><td>96864</td><td>0</td><td>50.7487</td><td>100</td><td>0</td><td>100</td><td>0</td></tr>\n",
       "\t<tr><td>⋮</td><td>⋮</td><td>⋮</td><td>⋮</td><td>⋮</td><td>⋮</td><td>⋮</td><td>⋮</td><td>⋮</td><td>⋮</td></tr>\n",
       "\t<tr><td>0.971</td><td>0</td><td>96864</td><td>0</td><td>99809</td><td>49.2513</td><td>0</td><td>100</td><td>0</td><td>100</td></tr>\n",
       "\t<tr><td>0.972</td><td>0</td><td>96864</td><td>0</td><td>99809</td><td>49.2513</td><td>0</td><td>100</td><td>0</td><td>100</td></tr>\n",
       "\t<tr><td>0.973</td><td>0</td><td>96864</td><td>0</td><td>99809</td><td>49.2513</td><td>0</td><td>100</td><td>0</td><td>100</td></tr>\n",
       "\t<tr><td>0.974</td><td>0</td><td>96864</td><td>0</td><td>99809</td><td>49.2513</td><td>0</td><td>100</td><td>0</td><td>100</td></tr>\n",
       "\t<tr><td>0.975</td><td>0</td><td>96864</td><td>0</td><td>99809</td><td>49.2513</td><td>0</td><td>100</td><td>0</td><td>100</td></tr>\n",
       "\t<tr><td>0.976</td><td>0</td><td>96864</td><td>0</td><td>99809</td><td>49.2513</td><td>0</td><td>100</td><td>0</td><td>100</td></tr>\n",
       "\t<tr><td>0.977</td><td>0</td><td>96864</td><td>0</td><td>99809</td><td>49.2513</td><td>0</td><td>100</td><td>0</td><td>100</td></tr>\n",
       "\t<tr><td>0.978</td><td>0</td><td>96864</td><td>0</td><td>99809</td><td>49.2513</td><td>0</td><td>100</td><td>0</td><td>100</td></tr>\n",
       "\t<tr><td>0.979</td><td>0</td><td>96864</td><td>0</td><td>99809</td><td>49.2513</td><td>0</td><td>100</td><td>0</td><td>100</td></tr>\n",
       "\t<tr><td>0.980</td><td>0</td><td>96864</td><td>0</td><td>99809</td><td>49.2513</td><td>0</td><td>100</td><td>0</td><td>100</td></tr>\n",
       "\t<tr><td>0.981</td><td>0</td><td>96864</td><td>0</td><td>99809</td><td>49.2513</td><td>0</td><td>100</td><td>0</td><td>100</td></tr>\n",
       "\t<tr><td>0.982</td><td>0</td><td>96864</td><td>0</td><td>99809</td><td>49.2513</td><td>0</td><td>100</td><td>0</td><td>100</td></tr>\n",
       "\t<tr><td>0.983</td><td>0</td><td>96864</td><td>0</td><td>99809</td><td>49.2513</td><td>0</td><td>100</td><td>0</td><td>100</td></tr>\n",
       "\t<tr><td>0.984</td><td>0</td><td>96864</td><td>0</td><td>99809</td><td>49.2513</td><td>0</td><td>100</td><td>0</td><td>100</td></tr>\n",
       "\t<tr><td>0.985</td><td>0</td><td>96864</td><td>0</td><td>99809</td><td>49.2513</td><td>0</td><td>100</td><td>0</td><td>100</td></tr>\n",
       "\t<tr><td>0.986</td><td>0</td><td>96864</td><td>0</td><td>99809</td><td>49.2513</td><td>0</td><td>100</td><td>0</td><td>100</td></tr>\n",
       "\t<tr><td>0.987</td><td>0</td><td>96864</td><td>0</td><td>99809</td><td>49.2513</td><td>0</td><td>100</td><td>0</td><td>100</td></tr>\n",
       "\t<tr><td>0.988</td><td>0</td><td>96864</td><td>0</td><td>99809</td><td>49.2513</td><td>0</td><td>100</td><td>0</td><td>100</td></tr>\n",
       "\t<tr><td>0.989</td><td>0</td><td>96864</td><td>0</td><td>99809</td><td>49.2513</td><td>0</td><td>100</td><td>0</td><td>100</td></tr>\n",
       "\t<tr><td>0.990</td><td>0</td><td>96864</td><td>0</td><td>99809</td><td>49.2513</td><td>0</td><td>100</td><td>0</td><td>100</td></tr>\n",
       "\t<tr><td>0.991</td><td>0</td><td>96864</td><td>0</td><td>99809</td><td>49.2513</td><td>0</td><td>100</td><td>0</td><td>100</td></tr>\n",
       "\t<tr><td>0.992</td><td>0</td><td>96864</td><td>0</td><td>99809</td><td>49.2513</td><td>0</td><td>100</td><td>0</td><td>100</td></tr>\n",
       "\t<tr><td>0.993</td><td>0</td><td>96864</td><td>0</td><td>99809</td><td>49.2513</td><td>0</td><td>100</td><td>0</td><td>100</td></tr>\n",
       "\t<tr><td>0.994</td><td>0</td><td>96864</td><td>0</td><td>99809</td><td>49.2513</td><td>0</td><td>100</td><td>0</td><td>100</td></tr>\n",
       "\t<tr><td>0.995</td><td>0</td><td>96864</td><td>0</td><td>99809</td><td>49.2513</td><td>0</td><td>100</td><td>0</td><td>100</td></tr>\n",
       "\t<tr><td>0.996</td><td>0</td><td>96864</td><td>0</td><td>99809</td><td>49.2513</td><td>0</td><td>100</td><td>0</td><td>100</td></tr>\n",
       "\t<tr><td>0.997</td><td>0</td><td>96864</td><td>0</td><td>99809</td><td>49.2513</td><td>0</td><td>100</td><td>0</td><td>100</td></tr>\n",
       "\t<tr><td>0.998</td><td>0</td><td>96864</td><td>0</td><td>99809</td><td>49.2513</td><td>0</td><td>100</td><td>0</td><td>100</td></tr>\n",
       "\t<tr><td>0.999</td><td>0</td><td>96864</td><td>0</td><td>99809</td><td>49.2513</td><td>0</td><td>100</td><td>0</td><td>100</td></tr>\n",
       "\t<tr><td>1.000</td><td>0</td><td>96864</td><td>0</td><td>99809</td><td>49.2513</td><td>0</td><td>100</td><td>0</td><td>100</td></tr>\n",
       "</tbody>\n",
       "</table>\n"
      ],
      "text/latex": [
       "A data.frame: 1001 × 10\n",
       "\\begin{tabular}{llllllllll}\n",
       " prob.level & true.positive & true.negative & false.positive & false.negative & correct.percent & sensitivity & specificity & false.pos.rate & false.neg.rate\\\\\n",
       " <dbl> & <dbl> & <dbl> & <dbl> & <dbl> & <dbl> & <dbl> & <dbl> & <dbl> & <dbl>\\\\\n",
       "\\hline\n",
       "\t 0.000 & 99809 & 0 & 96864 & 0 & 50.7487 & 100 & 0 & 100 & 0\\\\\n",
       "\t 0.001 & 99809 & 0 & 96864 & 0 & 50.7487 & 100 & 0 & 100 & 0\\\\\n",
       "\t 0.002 & 99809 & 0 & 96864 & 0 & 50.7487 & 100 & 0 & 100 & 0\\\\\n",
       "\t 0.003 & 99809 & 0 & 96864 & 0 & 50.7487 & 100 & 0 & 100 & 0\\\\\n",
       "\t 0.004 & 99809 & 0 & 96864 & 0 & 50.7487 & 100 & 0 & 100 & 0\\\\\n",
       "\t 0.005 & 99809 & 0 & 96864 & 0 & 50.7487 & 100 & 0 & 100 & 0\\\\\n",
       "\t 0.006 & 99809 & 0 & 96864 & 0 & 50.7487 & 100 & 0 & 100 & 0\\\\\n",
       "\t 0.007 & 99809 & 0 & 96864 & 0 & 50.7487 & 100 & 0 & 100 & 0\\\\\n",
       "\t 0.008 & 99809 & 0 & 96864 & 0 & 50.7487 & 100 & 0 & 100 & 0\\\\\n",
       "\t 0.009 & 99809 & 0 & 96864 & 0 & 50.7487 & 100 & 0 & 100 & 0\\\\\n",
       "\t 0.010 & 99809 & 0 & 96864 & 0 & 50.7487 & 100 & 0 & 100 & 0\\\\\n",
       "\t 0.011 & 99809 & 0 & 96864 & 0 & 50.7487 & 100 & 0 & 100 & 0\\\\\n",
       "\t 0.012 & 99809 & 0 & 96864 & 0 & 50.7487 & 100 & 0 & 100 & 0\\\\\n",
       "\t 0.013 & 99809 & 0 & 96864 & 0 & 50.7487 & 100 & 0 & 100 & 0\\\\\n",
       "\t 0.014 & 99809 & 0 & 96864 & 0 & 50.7487 & 100 & 0 & 100 & 0\\\\\n",
       "\t 0.015 & 99809 & 0 & 96864 & 0 & 50.7487 & 100 & 0 & 100 & 0\\\\\n",
       "\t 0.016 & 99809 & 0 & 96864 & 0 & 50.7487 & 100 & 0 & 100 & 0\\\\\n",
       "\t 0.017 & 99809 & 0 & 96864 & 0 & 50.7487 & 100 & 0 & 100 & 0\\\\\n",
       "\t 0.018 & 99809 & 0 & 96864 & 0 & 50.7487 & 100 & 0 & 100 & 0\\\\\n",
       "\t 0.019 & 99809 & 0 & 96864 & 0 & 50.7487 & 100 & 0 & 100 & 0\\\\\n",
       "\t 0.020 & 99809 & 0 & 96864 & 0 & 50.7487 & 100 & 0 & 100 & 0\\\\\n",
       "\t 0.021 & 99809 & 0 & 96864 & 0 & 50.7487 & 100 & 0 & 100 & 0\\\\\n",
       "\t 0.022 & 99809 & 0 & 96864 & 0 & 50.7487 & 100 & 0 & 100 & 0\\\\\n",
       "\t 0.023 & 99809 & 0 & 96864 & 0 & 50.7487 & 100 & 0 & 100 & 0\\\\\n",
       "\t 0.024 & 99809 & 0 & 96864 & 0 & 50.7487 & 100 & 0 & 100 & 0\\\\\n",
       "\t 0.025 & 99809 & 0 & 96864 & 0 & 50.7487 & 100 & 0 & 100 & 0\\\\\n",
       "\t 0.026 & 99809 & 0 & 96864 & 0 & 50.7487 & 100 & 0 & 100 & 0\\\\\n",
       "\t 0.027 & 99809 & 0 & 96864 & 0 & 50.7487 & 100 & 0 & 100 & 0\\\\\n",
       "\t 0.028 & 99809 & 0 & 96864 & 0 & 50.7487 & 100 & 0 & 100 & 0\\\\\n",
       "\t 0.029 & 99809 & 0 & 96864 & 0 & 50.7487 & 100 & 0 & 100 & 0\\\\\n",
       "\t ⋮ & ⋮ & ⋮ & ⋮ & ⋮ & ⋮ & ⋮ & ⋮ & ⋮ & ⋮\\\\\n",
       "\t 0.971 & 0 & 96864 & 0 & 99809 & 49.2513 & 0 & 100 & 0 & 100\\\\\n",
       "\t 0.972 & 0 & 96864 & 0 & 99809 & 49.2513 & 0 & 100 & 0 & 100\\\\\n",
       "\t 0.973 & 0 & 96864 & 0 & 99809 & 49.2513 & 0 & 100 & 0 & 100\\\\\n",
       "\t 0.974 & 0 & 96864 & 0 & 99809 & 49.2513 & 0 & 100 & 0 & 100\\\\\n",
       "\t 0.975 & 0 & 96864 & 0 & 99809 & 49.2513 & 0 & 100 & 0 & 100\\\\\n",
       "\t 0.976 & 0 & 96864 & 0 & 99809 & 49.2513 & 0 & 100 & 0 & 100\\\\\n",
       "\t 0.977 & 0 & 96864 & 0 & 99809 & 49.2513 & 0 & 100 & 0 & 100\\\\\n",
       "\t 0.978 & 0 & 96864 & 0 & 99809 & 49.2513 & 0 & 100 & 0 & 100\\\\\n",
       "\t 0.979 & 0 & 96864 & 0 & 99809 & 49.2513 & 0 & 100 & 0 & 100\\\\\n",
       "\t 0.980 & 0 & 96864 & 0 & 99809 & 49.2513 & 0 & 100 & 0 & 100\\\\\n",
       "\t 0.981 & 0 & 96864 & 0 & 99809 & 49.2513 & 0 & 100 & 0 & 100\\\\\n",
       "\t 0.982 & 0 & 96864 & 0 & 99809 & 49.2513 & 0 & 100 & 0 & 100\\\\\n",
       "\t 0.983 & 0 & 96864 & 0 & 99809 & 49.2513 & 0 & 100 & 0 & 100\\\\\n",
       "\t 0.984 & 0 & 96864 & 0 & 99809 & 49.2513 & 0 & 100 & 0 & 100\\\\\n",
       "\t 0.985 & 0 & 96864 & 0 & 99809 & 49.2513 & 0 & 100 & 0 & 100\\\\\n",
       "\t 0.986 & 0 & 96864 & 0 & 99809 & 49.2513 & 0 & 100 & 0 & 100\\\\\n",
       "\t 0.987 & 0 & 96864 & 0 & 99809 & 49.2513 & 0 & 100 & 0 & 100\\\\\n",
       "\t 0.988 & 0 & 96864 & 0 & 99809 & 49.2513 & 0 & 100 & 0 & 100\\\\\n",
       "\t 0.989 & 0 & 96864 & 0 & 99809 & 49.2513 & 0 & 100 & 0 & 100\\\\\n",
       "\t 0.990 & 0 & 96864 & 0 & 99809 & 49.2513 & 0 & 100 & 0 & 100\\\\\n",
       "\t 0.991 & 0 & 96864 & 0 & 99809 & 49.2513 & 0 & 100 & 0 & 100\\\\\n",
       "\t 0.992 & 0 & 96864 & 0 & 99809 & 49.2513 & 0 & 100 & 0 & 100\\\\\n",
       "\t 0.993 & 0 & 96864 & 0 & 99809 & 49.2513 & 0 & 100 & 0 & 100\\\\\n",
       "\t 0.994 & 0 & 96864 & 0 & 99809 & 49.2513 & 0 & 100 & 0 & 100\\\\\n",
       "\t 0.995 & 0 & 96864 & 0 & 99809 & 49.2513 & 0 & 100 & 0 & 100\\\\\n",
       "\t 0.996 & 0 & 96864 & 0 & 99809 & 49.2513 & 0 & 100 & 0 & 100\\\\\n",
       "\t 0.997 & 0 & 96864 & 0 & 99809 & 49.2513 & 0 & 100 & 0 & 100\\\\\n",
       "\t 0.998 & 0 & 96864 & 0 & 99809 & 49.2513 & 0 & 100 & 0 & 100\\\\\n",
       "\t 0.999 & 0 & 96864 & 0 & 99809 & 49.2513 & 0 & 100 & 0 & 100\\\\\n",
       "\t 1.000 & 0 & 96864 & 0 & 99809 & 49.2513 & 0 & 100 & 0 & 100\\\\\n",
       "\\end{tabular}\n"
      ],
      "text/markdown": [
       "\n",
       "A data.frame: 1001 × 10\n",
       "\n",
       "| prob.level &lt;dbl&gt; | true.positive &lt;dbl&gt; | true.negative &lt;dbl&gt; | false.positive &lt;dbl&gt; | false.negative &lt;dbl&gt; | correct.percent &lt;dbl&gt; | sensitivity &lt;dbl&gt; | specificity &lt;dbl&gt; | false.pos.rate &lt;dbl&gt; | false.neg.rate &lt;dbl&gt; |\n",
       "|---|---|---|---|---|---|---|---|---|---|\n",
       "| 0.000 | 99809 | 0 | 96864 | 0 | 50.7487 | 100 | 0 | 100 | 0 |\n",
       "| 0.001 | 99809 | 0 | 96864 | 0 | 50.7487 | 100 | 0 | 100 | 0 |\n",
       "| 0.002 | 99809 | 0 | 96864 | 0 | 50.7487 | 100 | 0 | 100 | 0 |\n",
       "| 0.003 | 99809 | 0 | 96864 | 0 | 50.7487 | 100 | 0 | 100 | 0 |\n",
       "| 0.004 | 99809 | 0 | 96864 | 0 | 50.7487 | 100 | 0 | 100 | 0 |\n",
       "| 0.005 | 99809 | 0 | 96864 | 0 | 50.7487 | 100 | 0 | 100 | 0 |\n",
       "| 0.006 | 99809 | 0 | 96864 | 0 | 50.7487 | 100 | 0 | 100 | 0 |\n",
       "| 0.007 | 99809 | 0 | 96864 | 0 | 50.7487 | 100 | 0 | 100 | 0 |\n",
       "| 0.008 | 99809 | 0 | 96864 | 0 | 50.7487 | 100 | 0 | 100 | 0 |\n",
       "| 0.009 | 99809 | 0 | 96864 | 0 | 50.7487 | 100 | 0 | 100 | 0 |\n",
       "| 0.010 | 99809 | 0 | 96864 | 0 | 50.7487 | 100 | 0 | 100 | 0 |\n",
       "| 0.011 | 99809 | 0 | 96864 | 0 | 50.7487 | 100 | 0 | 100 | 0 |\n",
       "| 0.012 | 99809 | 0 | 96864 | 0 | 50.7487 | 100 | 0 | 100 | 0 |\n",
       "| 0.013 | 99809 | 0 | 96864 | 0 | 50.7487 | 100 | 0 | 100 | 0 |\n",
       "| 0.014 | 99809 | 0 | 96864 | 0 | 50.7487 | 100 | 0 | 100 | 0 |\n",
       "| 0.015 | 99809 | 0 | 96864 | 0 | 50.7487 | 100 | 0 | 100 | 0 |\n",
       "| 0.016 | 99809 | 0 | 96864 | 0 | 50.7487 | 100 | 0 | 100 | 0 |\n",
       "| 0.017 | 99809 | 0 | 96864 | 0 | 50.7487 | 100 | 0 | 100 | 0 |\n",
       "| 0.018 | 99809 | 0 | 96864 | 0 | 50.7487 | 100 | 0 | 100 | 0 |\n",
       "| 0.019 | 99809 | 0 | 96864 | 0 | 50.7487 | 100 | 0 | 100 | 0 |\n",
       "| 0.020 | 99809 | 0 | 96864 | 0 | 50.7487 | 100 | 0 | 100 | 0 |\n",
       "| 0.021 | 99809 | 0 | 96864 | 0 | 50.7487 | 100 | 0 | 100 | 0 |\n",
       "| 0.022 | 99809 | 0 | 96864 | 0 | 50.7487 | 100 | 0 | 100 | 0 |\n",
       "| 0.023 | 99809 | 0 | 96864 | 0 | 50.7487 | 100 | 0 | 100 | 0 |\n",
       "| 0.024 | 99809 | 0 | 96864 | 0 | 50.7487 | 100 | 0 | 100 | 0 |\n",
       "| 0.025 | 99809 | 0 | 96864 | 0 | 50.7487 | 100 | 0 | 100 | 0 |\n",
       "| 0.026 | 99809 | 0 | 96864 | 0 | 50.7487 | 100 | 0 | 100 | 0 |\n",
       "| 0.027 | 99809 | 0 | 96864 | 0 | 50.7487 | 100 | 0 | 100 | 0 |\n",
       "| 0.028 | 99809 | 0 | 96864 | 0 | 50.7487 | 100 | 0 | 100 | 0 |\n",
       "| 0.029 | 99809 | 0 | 96864 | 0 | 50.7487 | 100 | 0 | 100 | 0 |\n",
       "| ⋮ | ⋮ | ⋮ | ⋮ | ⋮ | ⋮ | ⋮ | ⋮ | ⋮ | ⋮ |\n",
       "| 0.971 | 0 | 96864 | 0 | 99809 | 49.2513 | 0 | 100 | 0 | 100 |\n",
       "| 0.972 | 0 | 96864 | 0 | 99809 | 49.2513 | 0 | 100 | 0 | 100 |\n",
       "| 0.973 | 0 | 96864 | 0 | 99809 | 49.2513 | 0 | 100 | 0 | 100 |\n",
       "| 0.974 | 0 | 96864 | 0 | 99809 | 49.2513 | 0 | 100 | 0 | 100 |\n",
       "| 0.975 | 0 | 96864 | 0 | 99809 | 49.2513 | 0 | 100 | 0 | 100 |\n",
       "| 0.976 | 0 | 96864 | 0 | 99809 | 49.2513 | 0 | 100 | 0 | 100 |\n",
       "| 0.977 | 0 | 96864 | 0 | 99809 | 49.2513 | 0 | 100 | 0 | 100 |\n",
       "| 0.978 | 0 | 96864 | 0 | 99809 | 49.2513 | 0 | 100 | 0 | 100 |\n",
       "| 0.979 | 0 | 96864 | 0 | 99809 | 49.2513 | 0 | 100 | 0 | 100 |\n",
       "| 0.980 | 0 | 96864 | 0 | 99809 | 49.2513 | 0 | 100 | 0 | 100 |\n",
       "| 0.981 | 0 | 96864 | 0 | 99809 | 49.2513 | 0 | 100 | 0 | 100 |\n",
       "| 0.982 | 0 | 96864 | 0 | 99809 | 49.2513 | 0 | 100 | 0 | 100 |\n",
       "| 0.983 | 0 | 96864 | 0 | 99809 | 49.2513 | 0 | 100 | 0 | 100 |\n",
       "| 0.984 | 0 | 96864 | 0 | 99809 | 49.2513 | 0 | 100 | 0 | 100 |\n",
       "| 0.985 | 0 | 96864 | 0 | 99809 | 49.2513 | 0 | 100 | 0 | 100 |\n",
       "| 0.986 | 0 | 96864 | 0 | 99809 | 49.2513 | 0 | 100 | 0 | 100 |\n",
       "| 0.987 | 0 | 96864 | 0 | 99809 | 49.2513 | 0 | 100 | 0 | 100 |\n",
       "| 0.988 | 0 | 96864 | 0 | 99809 | 49.2513 | 0 | 100 | 0 | 100 |\n",
       "| 0.989 | 0 | 96864 | 0 | 99809 | 49.2513 | 0 | 100 | 0 | 100 |\n",
       "| 0.990 | 0 | 96864 | 0 | 99809 | 49.2513 | 0 | 100 | 0 | 100 |\n",
       "| 0.991 | 0 | 96864 | 0 | 99809 | 49.2513 | 0 | 100 | 0 | 100 |\n",
       "| 0.992 | 0 | 96864 | 0 | 99809 | 49.2513 | 0 | 100 | 0 | 100 |\n",
       "| 0.993 | 0 | 96864 | 0 | 99809 | 49.2513 | 0 | 100 | 0 | 100 |\n",
       "| 0.994 | 0 | 96864 | 0 | 99809 | 49.2513 | 0 | 100 | 0 | 100 |\n",
       "| 0.995 | 0 | 96864 | 0 | 99809 | 49.2513 | 0 | 100 | 0 | 100 |\n",
       "| 0.996 | 0 | 96864 | 0 | 99809 | 49.2513 | 0 | 100 | 0 | 100 |\n",
       "| 0.997 | 0 | 96864 | 0 | 99809 | 49.2513 | 0 | 100 | 0 | 100 |\n",
       "| 0.998 | 0 | 96864 | 0 | 99809 | 49.2513 | 0 | 100 | 0 | 100 |\n",
       "| 0.999 | 0 | 96864 | 0 | 99809 | 49.2513 | 0 | 100 | 0 | 100 |\n",
       "| 1.000 | 0 | 96864 | 0 | 99809 | 49.2513 | 0 | 100 | 0 | 100 |\n",
       "\n"
      ],
      "text/plain": [
       "     prob.level true.positive true.negative false.positive false.negative\n",
       "1    0.000      99809         0             96864          0             \n",
       "2    0.001      99809         0             96864          0             \n",
       "3    0.002      99809         0             96864          0             \n",
       "4    0.003      99809         0             96864          0             \n",
       "5    0.004      99809         0             96864          0             \n",
       "6    0.005      99809         0             96864          0             \n",
       "7    0.006      99809         0             96864          0             \n",
       "8    0.007      99809         0             96864          0             \n",
       "9    0.008      99809         0             96864          0             \n",
       "10   0.009      99809         0             96864          0             \n",
       "11   0.010      99809         0             96864          0             \n",
       "12   0.011      99809         0             96864          0             \n",
       "13   0.012      99809         0             96864          0             \n",
       "14   0.013      99809         0             96864          0             \n",
       "15   0.014      99809         0             96864          0             \n",
       "16   0.015      99809         0             96864          0             \n",
       "17   0.016      99809         0             96864          0             \n",
       "18   0.017      99809         0             96864          0             \n",
       "19   0.018      99809         0             96864          0             \n",
       "20   0.019      99809         0             96864          0             \n",
       "21   0.020      99809         0             96864          0             \n",
       "22   0.021      99809         0             96864          0             \n",
       "23   0.022      99809         0             96864          0             \n",
       "24   0.023      99809         0             96864          0             \n",
       "25   0.024      99809         0             96864          0             \n",
       "26   0.025      99809         0             96864          0             \n",
       "27   0.026      99809         0             96864          0             \n",
       "28   0.027      99809         0             96864          0             \n",
       "29   0.028      99809         0             96864          0             \n",
       "30   0.029      99809         0             96864          0             \n",
       "⋮    ⋮          ⋮             ⋮             ⋮              ⋮             \n",
       "972  0.971      0             96864         0              99809         \n",
       "973  0.972      0             96864         0              99809         \n",
       "974  0.973      0             96864         0              99809         \n",
       "975  0.974      0             96864         0              99809         \n",
       "976  0.975      0             96864         0              99809         \n",
       "977  0.976      0             96864         0              99809         \n",
       "978  0.977      0             96864         0              99809         \n",
       "979  0.978      0             96864         0              99809         \n",
       "980  0.979      0             96864         0              99809         \n",
       "981  0.980      0             96864         0              99809         \n",
       "982  0.981      0             96864         0              99809         \n",
       "983  0.982      0             96864         0              99809         \n",
       "984  0.983      0             96864         0              99809         \n",
       "985  0.984      0             96864         0              99809         \n",
       "986  0.985      0             96864         0              99809         \n",
       "987  0.986      0             96864         0              99809         \n",
       "988  0.987      0             96864         0              99809         \n",
       "989  0.988      0             96864         0              99809         \n",
       "990  0.989      0             96864         0              99809         \n",
       "991  0.990      0             96864         0              99809         \n",
       "992  0.991      0             96864         0              99809         \n",
       "993  0.992      0             96864         0              99809         \n",
       "994  0.993      0             96864         0              99809         \n",
       "995  0.994      0             96864         0              99809         \n",
       "996  0.995      0             96864         0              99809         \n",
       "997  0.996      0             96864         0              99809         \n",
       "998  0.997      0             96864         0              99809         \n",
       "999  0.998      0             96864         0              99809         \n",
       "1000 0.999      0             96864         0              99809         \n",
       "1001 1.000      0             96864         0              99809         \n",
       "     correct.percent sensitivity specificity false.pos.rate false.neg.rate\n",
       "1    50.7487         100         0           100            0             \n",
       "2    50.7487         100         0           100            0             \n",
       "3    50.7487         100         0           100            0             \n",
       "4    50.7487         100         0           100            0             \n",
       "5    50.7487         100         0           100            0             \n",
       "6    50.7487         100         0           100            0             \n",
       "7    50.7487         100         0           100            0             \n",
       "8    50.7487         100         0           100            0             \n",
       "9    50.7487         100         0           100            0             \n",
       "10   50.7487         100         0           100            0             \n",
       "11   50.7487         100         0           100            0             \n",
       "12   50.7487         100         0           100            0             \n",
       "13   50.7487         100         0           100            0             \n",
       "14   50.7487         100         0           100            0             \n",
       "15   50.7487         100         0           100            0             \n",
       "16   50.7487         100         0           100            0             \n",
       "17   50.7487         100         0           100            0             \n",
       "18   50.7487         100         0           100            0             \n",
       "19   50.7487         100         0           100            0             \n",
       "20   50.7487         100         0           100            0             \n",
       "21   50.7487         100         0           100            0             \n",
       "22   50.7487         100         0           100            0             \n",
       "23   50.7487         100         0           100            0             \n",
       "24   50.7487         100         0           100            0             \n",
       "25   50.7487         100         0           100            0             \n",
       "26   50.7487         100         0           100            0             \n",
       "27   50.7487         100         0           100            0             \n",
       "28   50.7487         100         0           100            0             \n",
       "29   50.7487         100         0           100            0             \n",
       "30   50.7487         100         0           100            0             \n",
       "⋮    ⋮               ⋮           ⋮           ⋮              ⋮             \n",
       "972  49.2513         0           100         0              100           \n",
       "973  49.2513         0           100         0              100           \n",
       "974  49.2513         0           100         0              100           \n",
       "975  49.2513         0           100         0              100           \n",
       "976  49.2513         0           100         0              100           \n",
       "977  49.2513         0           100         0              100           \n",
       "978  49.2513         0           100         0              100           \n",
       "979  49.2513         0           100         0              100           \n",
       "980  49.2513         0           100         0              100           \n",
       "981  49.2513         0           100         0              100           \n",
       "982  49.2513         0           100         0              100           \n",
       "983  49.2513         0           100         0              100           \n",
       "984  49.2513         0           100         0              100           \n",
       "985  49.2513         0           100         0              100           \n",
       "986  49.2513         0           100         0              100           \n",
       "987  49.2513         0           100         0              100           \n",
       "988  49.2513         0           100         0              100           \n",
       "989  49.2513         0           100         0              100           \n",
       "990  49.2513         0           100         0              100           \n",
       "991  49.2513         0           100         0              100           \n",
       "992  49.2513         0           100         0              100           \n",
       "993  49.2513         0           100         0              100           \n",
       "994  49.2513         0           100         0              100           \n",
       "995  49.2513         0           100         0              100           \n",
       "996  49.2513         0           100         0              100           \n",
       "997  49.2513         0           100         0              100           \n",
       "998  49.2513         0           100         0              100           \n",
       "999  49.2513         0           100         0              100           \n",
       "1000 49.2513         0           100         0              100           \n",
       "1001 49.2513         0           100         0              100           "
      ]
     },
     "metadata": {},
     "output_type": "display_data"
    }
   ],
   "source": [
    "# You will use this information to fill in the rest of your classification table.\n",
    "class.table.data$correct.percent <- (class.table.data$true.positive + class.table.data$true.negative)/nrow(mydata)*100\n",
    "class.table.data$sensitivity <- (class.table.data$true.positive)/sum(mydata$alcday5_new)*100\n",
    "class.table.data$specificity <- (class.table.data$true.negative)/(nrow(mydata) - sum(mydata$alcday5_new))*100\n",
    "class.table.data$false.neg.rate <- (class.table.data$false.negative)/sum(mydata$alcday5_new)*100\n",
    "class.table.data$false.pos.rate <- (class.table.data$false.positive)/(nrow(mydata) - sum(mydata$alcday5_new))*100\n",
    "class.table.data\n",
    "\n",
    "# write.csv(class.table.data,\"classification_table.csv\")"
   ]
  },
  {
   "cell_type": "markdown",
   "metadata": {},
   "source": [
    "<div class=\"alert alert-block alert-info\"> \n",
    "    \n",
    "## ROC curve + AUC (1 mark)\n",
    "\n",
    "Create the ROC curve. (0.25 marks)  \n",
    "Find the AUC (area under the curve) value. (0.25 marks)  \n",
    "Interpret these results - what do they tell you about your model? (0.5 marks)\n",
    "<div>"
   ]
  },
  {
   "cell_type": "code",
   "execution_count": 37,
   "metadata": {},
   "outputs": [
    {
     "data": {
      "image/png": "[encoded data removed]",
      "text/plain": [
       "plot without title"
      ]
     },
     "metadata": {
      "image/png": {
       "height": 420,
       "width": 420
      }
     },
     "output_type": "display_data"
    }
   ],
   "source": [
    "# Create the ROC curve\n",
    "plot(class.table.data$sensitivity ~ class.table.data$false.pos.rate, data=class.table.data, ylab = \"Sensitivity\", xlab = \"False positive rate = 1 - Specificity\")\n",
    "lines(sensitivity ~ false.pos.rate, data=class.table.data)\n",
    "abline(0, 1)"
   ]
  },
  {
   "cell_type": "code",
   "execution_count": 38,
   "metadata": {},
   "outputs": [
    {
     "name": "stderr",
     "output_type": "stream",
     "text": [
      "Warning message:\n",
      "\"package 'zoo' was built under R version 4.2.2\"\n",
      "\n",
      "Attaching package: 'zoo'\n",
      "\n",
      "\n",
      "The following objects are masked from 'package:base':\n",
      "\n",
      "    as.Date, as.Date.numeric\n",
      "\n",
      "\n"
     ]
    },
    {
     "data": {
      "text/html": [
       "0.693364616204695"
      ],
      "text/latex": [
       "0.693364616204695"
      ],
      "text/markdown": [
       "0.693364616204695"
      ],
      "text/plain": [
       "[1] 0.6933646"
      ]
     },
     "metadata": {},
     "output_type": "display_data"
    }
   ],
   "source": [
    "# Find the AUC (area under the curve) value. \n",
    "library(zoo)\n",
    "\n",
    "x <- class.table.data$false.pos.rate/100\n",
    "y <- class.table.data$sensitivity/100\n",
    "id <- order(x)\n",
    "\n",
    "AUC <- sum(diff(x[id])*rollmean(y[id],2)); AUC # average of left and right to create rectangle; then take sum of all the pieces"
   ]
  },
  {
   "cell_type": "markdown",
   "metadata": {},
   "source": [
    "The AUC value of the model is 0.6524, indicating that the model's ability to distinguish between positive and negative classes is slightly better than random guessing, where an AUC of 0.5 indicates random guessing and an AUC of 1 indicates perfect prediction.\n",
    "In other words, the model has some discriminatory power, but it is not particularly strong. "
   ]
  },
  {
   "cell_type": "markdown",
   "metadata": {},
   "source": [
    "<div class=\"alert alert-block alert-danger\">\n",
    "<a id=\"Data_prep2\"></a>\n",
    "\n",
    "# Data preparation for Poisson regression (0.25 marks)\n",
    "</div>"
   ]
  },
  {
   "cell_type": "markdown",
   "metadata": {},
   "source": [
    "You will be creating a new dataset for the Poisson regression model. Remove all observations where individuals did not consume any alcohol in the past 30 days (encoded as 0 in the previous analysis). How many observations are in this new dataset?"
   ]
  },
  {
   "cell_type": "code",
   "execution_count": 39,
   "metadata": {},
   "outputs": [
    {
     "data": {
      "text/html": [
       "99809"
      ],
      "text/latex": [
       "99809"
      ],
      "text/markdown": [
       "99809"
      ],
      "text/plain": [
       "[1] 99809"
      ]
     },
     "metadata": {},
     "output_type": "display_data"
    }
   ],
   "source": [
    "data_poisson <- subset(mydata, mydata$alcday5_new == 1)\n",
    "nrow(data_poisson)"
   ]
  },
  {
   "cell_type": "markdown",
   "metadata": {},
   "source": [
    "<div class=\"alert alert-block alert-warning\">\n",
    "<a id=\"EDA2\"></a>\n",
    "\n",
    "# Exploring the response variable (2 marks)\n",
    "    \n",
    "The focus of this analysis is to examine variables associated with consuming more than the recommended maximum of alcohol. The focus is only on individuals who have consumed at least one alcohol drink in the past 30 days (this helps remove excess 0's). The variable `drnk3ge5` will be used as the response variable.  \n",
    "<br>\n",
    "Do you think that the response variable follows a Poisson distribution? Provide specific evidence for your conclusions.\n",
    "</div>"
   ]
  },
  {
   "cell_type": "code",
   "execution_count": 40,
   "metadata": {},
   "outputs": [
    {
     "data": {
      "image/png": "[encoded data removed]",
      "text/plain": [
       "Plot with title \"Histogram of data_poisson$drnk3ge5\""
      ]
     },
     "metadata": {
      "image/png": {
       "height": 420,
       "width": 420
      }
     },
     "output_type": "display_data"
    }
   ],
   "source": [
    "#Compare the simulated histogram and the histogram for response variable\n",
    "poisson.sim.data <- rpois(99809, 1.227625)\n",
    "par(mfrow=c(1,2))\n",
    "hist(poisson.sim.data)\n",
    "hist(data_poisson$drnk3ge5)"
   ]
  },
  {
   "cell_type": "markdown",
   "metadata": {},
   "source": [
    "The histograms are not similar, indicating that drnk3ge5 may not follow a poisson distribution"
   ]
  },
  {
   "cell_type": "code",
   "execution_count": 41,
   "metadata": {},
   "outputs": [
    {
     "data": {
      "text/html": [
       "1.2276247632979"
      ],
      "text/latex": [
       "1.2276247632979"
      ],
      "text/markdown": [
       "1.2276247632979"
      ],
      "text/plain": [
       "[1] 1.227625"
      ]
     },
     "metadata": {},
     "output_type": "display_data"
    },
    {
     "data": {
      "text/html": [
       "14.06049207481"
      ],
      "text/latex": [
       "14.06049207481"
      ],
      "text/markdown": [
       "14.06049207481"
      ],
      "text/plain": [
       "[1] 14.06049"
      ]
     },
     "metadata": {},
     "output_type": "display_data"
    }
   ],
   "source": [
    "#Check if mean and standard deviation are similar\n",
    "mean(data_poisson$drnk3ge5)\n",
    "sd(data_poisson$drnk3ge5)^2"
   ]
  },
  {
   "cell_type": "markdown",
   "metadata": {},
   "source": [
    "For a Poisson Distribution, the mean and the variance are equal or very similar, but they are not in this case."
   ]
  },
  {
   "cell_type": "code",
   "execution_count": 42,
   "metadata": {},
   "outputs": [
    {
     "data": {
      "text/plain": [
       "\n",
       "    0     1     2     3     4     5     6     7     8     9    10    11    12 \n",
       "71635 10093  5819  2729  2533  1868   731   447   628    61   984    11   235 \n",
       "   13    14    15    16    17    18    19    20    21    22    23    24    25 \n",
       "   17    58   459    36    15    16     1   351    14     9    13    20   135 \n",
       "   26    27    28    29    30 \n",
       "    9    10    51    15   806 "
      ]
     },
     "metadata": {},
     "output_type": "display_data"
    },
    {
     "data": {
      "text/html": [
       "12541546125901015734668442840888"
      ],
      "text/latex": [
       "12541546125901015734668442840888"
      ],
      "text/markdown": [
       "12541546125901015734668442840888"
      ],
      "text/plain": [
       "[1] 12541546125901015734668442840888"
      ]
     },
     "metadata": {},
     "output_type": "display_data"
    },
    {
     "data": {
      "text/html": [
       "0"
      ],
      "text/latex": [
       "0"
      ],
      "text/markdown": [
       "0"
      ],
      "text/plain": [
       "[1] 0"
      ]
     },
     "metadata": {},
     "output_type": "display_data"
    },
    {
     "data": {
      "text/html": [
       "43.7729718257422"
      ],
      "text/latex": [
       "43.7729718257422"
      ],
      "text/markdown": [
       "43.7729718257422"
      ],
      "text/plain": [
       "[1] 43.77297"
      ]
     },
     "metadata": {},
     "output_type": "display_data"
    },
    {
     "name": "stderr",
     "output_type": "stream",
     "text": [
      "Warning message in chisq.test(freq.table$Freq, p = freq.table$expected.freq/99809):\n",
      "\"Chi-squared approximation may be incorrect\"\n"
     ]
    },
    {
     "data": {
      "text/plain": [
       "\n",
       "\tChi-squared test for given probabilities\n",
       "\n",
       "data:  freq.table$Freq\n",
       "X-squared = 12541546125901015734668442840888, df = 30, p-value <\n",
       "0.00000000000000022\n"
      ]
     },
     "metadata": {},
     "output_type": "display_data"
    },
    {
     "name": "stderr",
     "output_type": "stream",
     "text": [
      "Warning message in chisq.test(freq.table$Freq, p = freq.table$expected.freq/99809):\n",
      "\"Chi-squared approximation may be incorrect\"\n"
     ]
    },
    {
     "data": {
      "text/html": [
       "<style>\n",
       ".list-inline {list-style: none; margin:0; padding: 0}\n",
       ".list-inline>li {display: inline-block}\n",
       ".list-inline>li:not(:last-child)::after {content: \"\\00b7\"; padding: 0 .5ex}\n",
       "</style>\n",
       "<ol class=list-inline><li>247.899911425601</li><li>-136.201407757696</li><li>-109.242959071334</li><li>-66.2192058904261</li><li>-4.45557594875898</li><li>45.5962997024639</li><li>50.2072125564133</li><li>85.5904336242092</li><li>322.739985787836</li><li>84.6755185344584</li><li>3931.07418908694</li><li>131.469154409164</li><li>8786.81855936994</li><li>2068.47925697457</li><li>23832.1443741538</li><li>659265.981363414</li><li>186671.343343105</li><li>289439.66842089</li><li>1182197.96671177</li><li>290679.366964483</li><li>411816269.225305</li><li>67936199.2600819</li><li>184881833.864322</li><li>1155915749.33661</li><li>7862952010.78857</li><li>239511616618.194</li><li>73483388903.733</li><li>382909136754.804</li><li>9326358403143.15</li><li>13332124564979.3</li><li>3541367135718371</li></ol>\n"
      ],
      "text/latex": [
       "\\begin{enumerate*}\n",
       "\\item 247.899911425601\n",
       "\\item -136.201407757696\n",
       "\\item -109.242959071334\n",
       "\\item -66.2192058904261\n",
       "\\item -4.45557594875898\n",
       "\\item 45.5962997024639\n",
       "\\item 50.2072125564133\n",
       "\\item 85.5904336242092\n",
       "\\item 322.739985787836\n",
       "\\item 84.6755185344584\n",
       "\\item 3931.07418908694\n",
       "\\item 131.469154409164\n",
       "\\item 8786.81855936994\n",
       "\\item 2068.47925697457\n",
       "\\item 23832.1443741538\n",
       "\\item 659265.981363414\n",
       "\\item 186671.343343105\n",
       "\\item 289439.66842089\n",
       "\\item 1182197.96671177\n",
       "\\item 290679.366964483\n",
       "\\item 411816269.225305\n",
       "\\item 67936199.2600819\n",
       "\\item 184881833.864322\n",
       "\\item 1155915749.33661\n",
       "\\item 7862952010.78857\n",
       "\\item 239511616618.194\n",
       "\\item 73483388903.733\n",
       "\\item 382909136754.804\n",
       "\\item 9326358403143.15\n",
       "\\item 13332124564979.3\n",
       "\\item 3541367135718371\n",
       "\\end{enumerate*}\n"
      ],
      "text/markdown": [
       "1. 247.899911425601\n",
       "2. -136.201407757696\n",
       "3. -109.242959071334\n",
       "4. -66.2192058904261\n",
       "5. -4.45557594875898\n",
       "6. 45.5962997024639\n",
       "7. 50.2072125564133\n",
       "8. 85.5904336242092\n",
       "9. 322.739985787836\n",
       "10. 84.6755185344584\n",
       "11. 3931.07418908694\n",
       "12. 131.469154409164\n",
       "13. 8786.81855936994\n",
       "14. 2068.47925697457\n",
       "15. 23832.1443741538\n",
       "16. 659265.981363414\n",
       "17. 186671.343343105\n",
       "18. 289439.66842089\n",
       "19. 1182197.96671177\n",
       "20. 290679.366964483\n",
       "21. 411816269.225305\n",
       "22. 67936199.2600819\n",
       "23. 184881833.864322\n",
       "24. 1155915749.33661\n",
       "25. 7862952010.78857\n",
       "26. 239511616618.194\n",
       "27. 73483388903.733\n",
       "28. 382909136754.804\n",
       "29. 9326358403143.15\n",
       "30. 13332124564979.3\n",
       "31. 3541367135718371\n",
       "\n",
       "\n"
      ],
      "text/plain": [
       " [1]              247.899911             -136.201408             -109.242959\n",
       " [4]              -66.219206               -4.455576               45.596300\n",
       " [7]               50.207213               85.590434              322.739986\n",
       "[10]               84.675519             3931.074189              131.469154\n",
       "[13]             8786.818559             2068.479257            23832.144374\n",
       "[16]           659265.981363           186671.343343           289439.668421\n",
       "[19]          1182197.966712           290679.366964        411816269.225305\n",
       "[22]         67936199.260082        184881833.864322       1155915749.336610\n",
       "[25]       7862952010.788569     239511616618.194183      73483388903.733032\n",
       "[28]     382909136754.803955    9326358403143.146484   13332124564979.339844\n",
       "[31] 3541367135718370.500000"
      ]
     },
     "metadata": {},
     "output_type": "display_data"
    }
   ],
   "source": [
    "#goodness-of-fit test method 2\n",
    "table(data_poisson$drnk3ge5)\n",
    "expected.freq <- vector(\"numeric\")\n",
    "\n",
    "for (i in 1:31) {\n",
    "  expected.freq [i] <- exp(-mean(data_poisson$drnk3ge5))*mean(data_poisson$drnk3ge5)^(i-1)/factorial(i-1)*nrow(data_poisson) \n",
    "}\n",
    "\n",
    "frequency.table <- as.data.frame(table(data_poisson$drnk3ge5))\n",
    "\n",
    "frequency.table$Var1 <- as.numeric(as.character(frequency.table$Var1))\n",
    "freq.table <- cbind(frequency.table, expected.freq)\n",
    "\n",
    "chi.squared.statistic <- sum((freq.table$Freq - freq.table$expected.freq)^2/freq.table$expected.freq)\n",
    "chi.squared.statistic\n",
    "\n",
    "1-pchisq(1.254155e+31, df=30)\n",
    "qchisq(.95, df=30)\n",
    "\n",
    "chisq.test(freq.table$Freq, p=freq.table$expected.freq/99809)\n",
    "chisq.test(freq.table$Freq, p=freq.table$expected.freq/99809)$residuals"
   ]
  },
  {
   "cell_type": "markdown",
   "metadata": {},
   "source": [
    "Test statistic > critical value, p<0.05, reject the null hypothesis, drnk3ge5 does not poisson distribution.\n",
    "Moreover, since we are using alpha = 0.05, we can use +/-1.96 as cut-offs, there are many standard residuals exceeds the cut-offs, indicate that the observed frequencies are significantly different from the expected frequencies at the 5% level."
   ]
  },
  {
   "cell_type": "markdown",
   "metadata": {},
   "source": [
    "<div class=\"alert alert-block alert-warning\">\n",
    "<a id=\"EDA2\"></a>\n",
    "\n",
    "# Predictions and Exploratory Data Analysis for Poisson Regression (8 marks; 1 mark per variable)\n",
    "\n",
    "Complete the following for each potential explanatory variable:  \n",
    "    \n",
    "A) What is your prediction for the relationship between the explanatory variable and the response variable?  (0.25 marks)\n",
    "\n",
    "B1) If quantitative, visualize the relationship using a scatterplot with a lowess line (0.25 marks). What relationship do you see on the plot?  (0.5 marks)\n",
    "\n",
    "B2) If categorical, what is the proportion of individuals who have consumed at least 1 alcoholic drink in the last 30 days for EACH category level? (0.25 marks) Are there differences that indicate that this could be a good explanatory variable to use? (0.5 marks)\n",
    "</div>"
   ]
  },
  {
   "cell_type": "markdown",
   "metadata": {},
   "source": [
    "Since drinking can often related to self-paralysis and bad mood, we predict that drnk3ge5 might be positively related to pyhsical health, mental health, and poor health, and it is likely to negatively related to sleeptime. That means the worse a person's mental and physical health status is, the less sleep he/she might have, the more frequent he/she will drink. \n",
    "Since married people tend to be more stable, we expected that married people will drink less than people in other martial levels. Generally speaking, the higher education level a person has, the higher income he/she would earn, the more successful(in general sense) he/she is, so we expect that the number of times drinking will decrease with increase in education level and income level. Finally, in terms of difference in gender, we expected that males might drink more frequently than females. "
   ]
  },
  {
   "cell_type": "markdown",
   "metadata": {},
   "source": [
    "### 1. Physical health"
   ]
  },
  {
   "cell_type": "code",
   "execution_count": 43,
   "metadata": {},
   "outputs": [
    {
     "data": {
      "text/plain": [
       "\n",
       "Call:\n",
       "glm(formula = drnk3ge5 ~ physhlth, family = poisson(link = \"log\"), \n",
       "    data = data_poisson)\n",
       "\n",
       "Deviance Residuals: \n",
       "    Min       1Q   Median       3Q      Max  \n",
       "-1.6994  -1.5549  -1.5338  -0.1886  11.6912  \n",
       "\n",
       "Coefficients:\n",
       "             Estimate Std. Error z value            Pr(>|z|)    \n",
       "(Intercept) 0.1623392  0.0034551   46.99 <0.0000000000000002 ***\n",
       "physhlth    0.0068374  0.0002963   23.07 <0.0000000000000002 ***\n",
       "---\n",
       "Signif. codes:  0 '***' 0.001 '**' 0.01 '*' 0.05 '.' 0.1 ' ' 1\n",
       "\n",
       "(Dispersion parameter for poisson family taken to be 1)\n",
       "\n",
       "    Null deviance: 454219  on 99808  degrees of freedom\n",
       "Residual deviance: 453705  on 99807  degrees of freedom\n",
       "AIC: 534368\n",
       "\n",
       "Number of Fisher Scoring iterations: 7\n"
      ]
     },
     "metadata": {},
     "output_type": "display_data"
    }
   ],
   "source": [
    "par(mfrow=c(1,1))\n",
    "z1 <- glm(drnk3ge5 ~ physhlth, data=data_poisson, family=\"poisson\"(link=\"log\"))\n",
    "summary(z1)"
   ]
  },
  {
   "cell_type": "markdown",
   "metadata": {},
   "source": [
    "There is a slight positive relationship between physical health and drnk3ge5, where increase in one unit of physical health can increase the expected log of drnk3ge5 by 0.0068374."
   ]
  },
  {
   "cell_type": "code",
   "execution_count": 44,
   "metadata": {},
   "outputs": [
    {
     "data": {
      "image/png": "[encoded data removed]",
      "text/plain": [
       "plot without title"
      ]
     },
     "metadata": {
      "image/png": {
       "height": 420,
       "width": 420
      }
     },
     "output_type": "display_data"
    }
   ],
   "source": [
    "plot(drnk3ge5 ~ physhlth, data=data_poisson, pch=16)\n",
    "lines(lowess(data_poisson$physhlth, data_poisson$drnk3ge5))"
   ]
  },
  {
   "cell_type": "markdown",
   "metadata": {},
   "source": [
    "### 2. Mental health"
   ]
  },
  {
   "cell_type": "code",
   "execution_count": 45,
   "metadata": {},
   "outputs": [
    {
     "data": {
      "text/plain": [
       "\n",
       "Call:\n",
       "glm(formula = drnk3ge5 ~ menthlth, family = poisson(link = \"log\"), \n",
       "    data = data_poisson)\n",
       "\n",
       "Deviance Residuals: \n",
       "    Min       1Q   Median       3Q      Max  \n",
       "-2.2016  -1.4886  -1.4016  -0.1992  12.1290  \n",
       "\n",
       "Coefficients:\n",
       "              Estimate Std. Error z value             Pr(>|z|)    \n",
       "(Intercept) -0.0179421  0.0037027  -4.846           0.00000126 ***\n",
       "menthlth     0.0301051  0.0002619 114.965 < 0.0000000000000002 ***\n",
       "---\n",
       "Signif. codes:  0 '***' 0.001 '**' 0.01 '*' 0.05 '.' 0.1 ' ' 1\n",
       "\n",
       "(Dispersion parameter for poisson family taken to be 1)\n",
       "\n",
       "    Null deviance: 454219  on 99808  degrees of freedom\n",
       "Residual deviance: 442512  on 99807  degrees of freedom\n",
       "AIC: 523175\n",
       "\n",
       "Number of Fisher Scoring iterations: 7\n"
      ]
     },
     "metadata": {},
     "output_type": "display_data"
    }
   ],
   "source": [
    "z2 <- glm(drnk3ge5 ~ menthlth, data=data_poisson, family=\"poisson\"(link=\"log\"))\n",
    "summary(z2)"
   ]
  },
  {
   "cell_type": "markdown",
   "metadata": {},
   "source": [
    "There is a slight positive relationship between mental health and drnk3ge5, where increase in one unit of mental health can increase the expected log of drnk3ge5 by 0.0301051."
   ]
  },
  {
   "cell_type": "code",
   "execution_count": 46,
   "metadata": {},
   "outputs": [
    {
     "data": {
      "image/png": "[encoded data removed]",
      "text/plain": [
       "plot without title"
      ]
     },
     "metadata": {
      "image/png": {
       "height": 420,
       "width": 420
      }
     },
     "output_type": "display_data"
    }
   ],
   "source": [
    "plot(drnk3ge5 ~ menthlth, data=data_poisson, pch=16)\n",
    "lines(lowess(data_poisson$menthlth, data_poisson$drnk3ge5))"
   ]
  },
  {
   "cell_type": "markdown",
   "metadata": {},
   "source": [
    "### 3. Poor health"
   ]
  },
  {
   "cell_type": "code",
   "execution_count": 47,
   "metadata": {},
   "outputs": [
    {
     "data": {
      "text/plain": [
       "\n",
       "Call:\n",
       "glm(formula = drnk3ge5 ~ poorhlth, family = poisson(link = \"log\"), \n",
       "    data = data_poisson)\n",
       "\n",
       "Deviance Residuals: \n",
       "    Min       1Q   Median       3Q      Max  \n",
       "-1.9588  -1.5246  -1.5115  -0.1542  11.7633  \n",
       "\n",
       "Coefficients:\n",
       "             Estimate Std. Error z value            Pr(>|z|)    \n",
       "(Intercept) 0.1330116  0.0032454   40.98 <0.0000000000000002 ***\n",
       "poorhlth    0.0172848  0.0003218   53.71 <0.0000000000000002 ***\n",
       "---\n",
       "Signif. codes:  0 '***' 0.001 '**' 0.01 '*' 0.05 '.' 0.1 ' ' 1\n",
       "\n",
       "(Dispersion parameter for poisson family taken to be 1)\n",
       "\n",
       "    Null deviance: 454219  on 99808  degrees of freedom\n",
       "Residual deviance: 451614  on 99807  degrees of freedom\n",
       "AIC: 532277\n",
       "\n",
       "Number of Fisher Scoring iterations: 7\n"
      ]
     },
     "metadata": {},
     "output_type": "display_data"
    }
   ],
   "source": [
    "z3 <- glm(drnk3ge5 ~ poorhlth, data=data_poisson, family=\"poisson\"(link=\"log\"))\n",
    "summary(z3)"
   ]
  },
  {
   "cell_type": "markdown",
   "metadata": {},
   "source": [
    "There is a slight positive relationship between poor health and drnk3ge5, where increase in one unit of poor health can increase the expected log of drnk3ge5 by 0.0172848."
   ]
  },
  {
   "cell_type": "code",
   "execution_count": 48,
   "metadata": {},
   "outputs": [
    {
     "data": {
      "image/png": "[encoded data removed]",
      "text/plain": [
       "plot without title"
      ]
     },
     "metadata": {
      "image/png": {
       "height": 420,
       "width": 420
      }
     },
     "output_type": "display_data"
    }
   ],
   "source": [
    "plot(drnk3ge5 ~ poorhlth, data=data_poisson, pch=16)\n",
    "lines(lowess(data_poisson$poorhlth, data_poisson$drnk3ge5))"
   ]
  },
  {
   "cell_type": "markdown",
   "metadata": {},
   "source": [
    "### 4. Average amount of sleep"
   ]
  },
  {
   "cell_type": "code",
   "execution_count": 49,
   "metadata": {},
   "outputs": [
    {
     "data": {
      "text/plain": [
       "\n",
       "Call:\n",
       "glm(formula = drnk3ge5 ~ sleptim1, family = poisson(link = \"log\"), \n",
       "    data = data_poisson)\n",
       "\n",
       "Deviance Residuals: \n",
       "    Min       1Q   Median       3Q      Max  \n",
       "-1.9195  -1.6138  -1.5056  -0.2761  13.6935  \n",
       "\n",
       "Coefficients:\n",
       "             Estimate Std. Error z value            Pr(>|z|)    \n",
       "(Intercept)  0.680362   0.014474   47.00 <0.0000000000000002 ***\n",
       "sleptim1    -0.069396   0.002092  -33.17 <0.0000000000000002 ***\n",
       "---\n",
       "Signif. codes:  0 '***' 0.001 '**' 0.01 '*' 0.05 '.' 0.1 ' ' 1\n",
       "\n",
       "(Dispersion parameter for poisson family taken to be 1)\n",
       "\n",
       "    Null deviance: 454219  on 99808  degrees of freedom\n",
       "Residual deviance: 453107  on 99807  degrees of freedom\n",
       "AIC: 533769\n",
       "\n",
       "Number of Fisher Scoring iterations: 7\n"
      ]
     },
     "metadata": {},
     "output_type": "display_data"
    }
   ],
   "source": [
    "z4 <- glm(drnk3ge5 ~ sleptim1, data=data_poisson, family=\"poisson\"(link=\"log\"))\n",
    "summary(z4)"
   ]
  },
  {
   "cell_type": "markdown",
   "metadata": {},
   "source": [
    "There is a slight negative relationship between sleep time and drnk3ge5, where increase in one unit of sleep time can decrease the expected log of drnk3ge5 by -0.069396."
   ]
  },
  {
   "cell_type": "code",
   "execution_count": 50,
   "metadata": {},
   "outputs": [
    {
     "data": {
      "image/png": "[encoded data removed]",
      "text/plain": [
       "plot without title"
      ]
     },
     "metadata": {
      "image/png": {
       "height": 420,
       "width": 420
      }
     },
     "output_type": "display_data"
    }
   ],
   "source": [
    "plot(drnk3ge5 ~ sleptim1, data=data_poisson, pch=16)\n",
    "lines(lowess(data_poisson$sleptim1, data_poisson$drnk3ge5))"
   ]
  },
  {
   "cell_type": "markdown",
   "metadata": {},
   "source": [
    "### 5. Marital status"
   ]
  },
  {
   "cell_type": "code",
   "execution_count": 51,
   "metadata": {},
   "outputs": [
    {
     "data": {
      "text/plain": [
       "\n",
       "Call:\n",
       "glm(formula = drnk3ge5 ~ marital, family = poisson(link = \"log\"), \n",
       "    data = data_poisson)\n",
       "\n",
       "Deviance Residuals: \n",
       "    Min       1Q   Median       3Q      Max  \n",
       "-1.9625  -1.7401  -1.3434  -0.5875  12.6732  \n",
       "\n",
       "Coefficients:\n",
       "                                        Estimate Std. Error z value\n",
       "(Intercept)                            -0.102811   0.004621  -22.25\n",
       "maritalDivorced                         0.517572   0.008049   64.30\n",
       "maritalWidowed                         -0.146843   0.013682  -10.73\n",
       "maritalSeparated                        0.640587   0.015892   40.31\n",
       "maritalNever married                    0.758082   0.007047  107.58\n",
       "maritalA member of an unmarried couple  0.637996   0.012819   49.77\n",
       "                                                  Pr(>|z|)    \n",
       "(Intercept)                            <0.0000000000000002 ***\n",
       "maritalDivorced                        <0.0000000000000002 ***\n",
       "maritalWidowed                         <0.0000000000000002 ***\n",
       "maritalSeparated                       <0.0000000000000002 ***\n",
       "maritalNever married                   <0.0000000000000002 ***\n",
       "maritalA member of an unmarried couple <0.0000000000000002 ***\n",
       "---\n",
       "Signif. codes:  0 '***' 0.001 '**' 0.01 '*' 0.05 '.' 0.1 ' ' 1\n",
       "\n",
       "(Dispersion parameter for poisson family taken to be 1)\n",
       "\n",
       "    Null deviance: 454219  on 99808  degrees of freedom\n",
       "Residual deviance: 439571  on 99803  degrees of freedom\n",
       "AIC: 520242\n",
       "\n",
       "Number of Fisher Scoring iterations: 7\n"
      ]
     },
     "metadata": {},
     "output_type": "display_data"
    }
   ],
   "source": [
    "data_poisson$marital <- factor(data_poisson$marital)\n",
    "z5 <- glm(drnk3ge5 ~ marital, data=data_poisson, family=\"poisson\"(link=\"log\"))\n",
    "summary(z5)"
   ]
  },
  {
   "cell_type": "markdown",
   "metadata": {},
   "source": [
    "summary(z5)\n",
    "The model indicates that marital status is significantly associated with drnk3ge5. The coefficients for the different levels of marital status represent the difference in the expected log of drnk3ge5 between that level and the reference level \"Married\". For example, holding all other predictor variables constant, the expected log of drnk3ge5 for an individual who is divorced is 0.517572 higher than for an individual who is married."
   ]
  },
  {
   "cell_type": "code",
   "execution_count": 52,
   "metadata": {},
   "outputs": [
    {
     "data": {
      "text/html": [
       "<table class=\"dataframe\">\n",
       "<caption>A data.frame: 6 × 2</caption>\n",
       "<thead>\n",
       "\t<tr><th scope=col>marital</th><th scope=col>mean_drnk3ge5</th></tr>\n",
       "\t<tr><th scope=col>&lt;fct&gt;</th><th scope=col>&lt;dbl&gt;</th></tr>\n",
       "</thead>\n",
       "<tbody>\n",
       "\t<tr><td>Married                        </td><td>0.9022971</td></tr>\n",
       "\t<tr><td>Divorced                       </td><td>1.5140076</td></tr>\n",
       "\t<tr><td>Widowed                        </td><td>0.7790698</td></tr>\n",
       "\t<tr><td>Separated                      </td><td>1.7121932</td></tr>\n",
       "\t<tr><td>Never married                  </td><td>1.9256635</td></tr>\n",
       "\t<tr><td>A member of an unmarried couple</td><td>1.7077637</td></tr>\n",
       "</tbody>\n",
       "</table>\n"
      ],
      "text/latex": [
       "A data.frame: 6 × 2\n",
       "\\begin{tabular}{ll}\n",
       " marital & mean\\_drnk3ge5\\\\\n",
       " <fct> & <dbl>\\\\\n",
       "\\hline\n",
       "\t Married                         & 0.9022971\\\\\n",
       "\t Divorced                        & 1.5140076\\\\\n",
       "\t Widowed                         & 0.7790698\\\\\n",
       "\t Separated                       & 1.7121932\\\\\n",
       "\t Never married                   & 1.9256635\\\\\n",
       "\t A member of an unmarried couple & 1.7077637\\\\\n",
       "\\end{tabular}\n"
      ],
      "text/markdown": [
       "\n",
       "A data.frame: 6 × 2\n",
       "\n",
       "| marital &lt;fct&gt; | mean_drnk3ge5 &lt;dbl&gt; |\n",
       "|---|---|\n",
       "| Married                         | 0.9022971 |\n",
       "| Divorced                        | 1.5140076 |\n",
       "| Widowed                         | 0.7790698 |\n",
       "| Separated                       | 1.7121932 |\n",
       "| Never married                   | 1.9256635 |\n",
       "| A member of an unmarried couple | 1.7077637 |\n",
       "\n"
      ],
      "text/plain": [
       "  marital                         mean_drnk3ge5\n",
       "1 Married                         0.9022971    \n",
       "2 Divorced                        1.5140076    \n",
       "3 Widowed                         0.7790698    \n",
       "4 Separated                       1.7121932    \n",
       "5 Never married                   1.9256635    \n",
       "6 A member of an unmarried couple 1.7077637    "
      ]
     },
     "metadata": {},
     "output_type": "display_data"
    }
   ],
   "source": [
    "mean_by_marital <- aggregate(data_poisson$drnk3ge5, by = list(data_poisson$marital), FUN = mean)\n",
    "colnames(mean_by_marital) <- c(\"marital\", \"mean_drnk3ge5\")\n",
    "mean_by_marital"
   ]
  },
  {
   "cell_type": "code",
   "execution_count": 53,
   "metadata": {},
   "outputs": [
    {
     "name": "stderr",
     "output_type": "stream",
     "text": [
      "Warning message in chisq.test(table(data_poisson$drnk3ge5, data_poisson$marital)):\n",
      "\"Chi-squared approximation may be incorrect\"\n"
     ]
    },
    {
     "data": {
      "text/plain": [
       "\n",
       "\tPearson's Chi-squared test\n",
       "\n",
       "data:  table(data_poisson$drnk3ge5, data_poisson$marital)\n",
       "X-squared = 4688.2, df = 150, p-value < 0.00000000000000022\n"
      ]
     },
     "metadata": {},
     "output_type": "display_data"
    }
   ],
   "source": [
    "chi_squared <- chisq.test(table(data_poisson$drnk3ge5, data_poisson$marital))\n",
    "chi_squared"
   ]
  },
  {
   "cell_type": "markdown",
   "metadata": {},
   "source": [
    "p-value is less than 0.05, we can reject the null hypothesis of independence, and conclude that there is a statistically significant association between drnk3ge5 and marital"
   ]
  },
  {
   "cell_type": "markdown",
   "metadata": {},
   "source": [
    "### 6. Education"
   ]
  },
  {
   "cell_type": "code",
   "execution_count": 54,
   "metadata": {},
   "outputs": [
    {
     "data": {
      "text/plain": [
       "\n",
       "Call:\n",
       "glm(formula = drnk3ge5 ~ educa, family = poisson(link = \"log\"), \n",
       "    data = data_poisson)\n",
       "\n",
       "Deviance Residuals: \n",
       "   Min      1Q  Median      3Q     Max  \n",
       "-2.108  -1.617  -1.300  -0.281  12.486  \n",
       "\n",
       "Coefficients:\n",
       "                                                                  Estimate\n",
       "(Intercept)                                                        0.41985\n",
       "educaGrades 1 through 8 (Elementary)                               0.33114\n",
       "educaGrades 9 though 11 (Some high school)                         0.37836\n",
       "educaGrade 12 or GED (High school graduate)                        0.08911\n",
       "educaCollege 1 year to 3 years (Some college or technical school) -0.15138\n",
       "educaCollege 4 years or more (College graduate)                   -0.58866\n",
       "                                                                  Std. Error\n",
       "(Intercept)                                                          0.11952\n",
       "educaGrades 1 through 8 (Elementary)                                 0.12133\n",
       "educaGrades 9 though 11 (Some high school)                           0.12005\n",
       "educaGrade 12 or GED (High school graduate)                          0.11963\n",
       "educaCollege 1 year to 3 years (Some college or technical school)    0.11963\n",
       "educaCollege 4 years or more (College graduate)                      0.11964\n",
       "                                                                  z value\n",
       "(Intercept)                                                         3.513\n",
       "educaGrades 1 through 8 (Elementary)                                2.729\n",
       "educaGrades 9 though 11 (Some high school)                          3.152\n",
       "educaGrade 12 or GED (High school graduate)                         0.745\n",
       "educaCollege 1 year to 3 years (Some college or technical school)  -1.265\n",
       "educaCollege 4 years or more (College graduate)                    -4.920\n",
       "                                                                     Pr(>|z|)\n",
       "(Intercept)                                                          0.000443\n",
       "educaGrades 1 through 8 (Elementary)                                 0.006348\n",
       "educaGrades 9 though 11 (Some high school)                           0.001623\n",
       "educaGrade 12 or GED (High school graduate)                          0.456377\n",
       "educaCollege 1 year to 3 years (Some college or technical school)    0.205737\n",
       "educaCollege 4 years or more (College graduate)                   0.000000864\n",
       "                                                                     \n",
       "(Intercept)                                                       ***\n",
       "educaGrades 1 through 8 (Elementary)                              ** \n",
       "educaGrades 9 though 11 (Some high school)                        ** \n",
       "educaGrade 12 or GED (High school graduate)                          \n",
       "educaCollege 1 year to 3 years (Some college or technical school)    \n",
       "educaCollege 4 years or more (College graduate)                   ***\n",
       "---\n",
       "Signif. codes:  0 '***' 0.001 '**' 0.01 '*' 0.05 '.' 0.1 ' ' 1\n",
       "\n",
       "(Dispersion parameter for poisson family taken to be 1)\n",
       "\n",
       "    Null deviance: 454219  on 99808  degrees of freedom\n",
       "Residual deviance: 442185  on 99803  degrees of freedom\n",
       "AIC: 522856\n",
       "\n",
       "Number of Fisher Scoring iterations: 7\n"
      ]
     },
     "metadata": {},
     "output_type": "display_data"
    }
   ],
   "source": [
    "data_poisson$educa <- factor(data_poisson$educa)\n",
    "z6 <- glm(drnk3ge5 ~ educa, data=data_poisson, family=\"poisson\"(link=\"log\"))\n",
    "summary(z6)"
   ]
  },
  {
   "cell_type": "markdown",
   "metadata": {},
   "source": [
    "The model indicates that education is significantly associated with drnk3ge5 for most levels. The coefficients for the different levels of education represent the difference in the expected log of drnk3ge5 between that level and the reference level \"Never attended school or only kindergarten\". For example, holding all other predictor variables constant, the expected log of drnk3ge5 for an individual who had joined elementary school is 0.33114 higher than for an individual who had never ever attended school or only kindergarten."
   ]
  },
  {
   "cell_type": "code",
   "execution_count": 55,
   "metadata": {},
   "outputs": [
    {
     "data": {
      "text/html": [
       "<table class=\"dataframe\">\n",
       "<caption>A data.frame: 6 × 2</caption>\n",
       "<thead>\n",
       "\t<tr><th scope=col>educa</th><th scope=col>mean_drnk3ge5</th></tr>\n",
       "\t<tr><th scope=col>&lt;fct&gt;</th><th scope=col>&lt;dbl&gt;</th></tr>\n",
       "</thead>\n",
       "<tbody>\n",
       "\t<tr><td>Never attended school or only kindergarten                  </td><td>1.5217391</td></tr>\n",
       "\t<tr><td>Grades 1 through 8 (Elementary)                             </td><td>2.1191136</td></tr>\n",
       "\t<tr><td>Grades 9 though 11 (Some high school)                       </td><td>2.2215703</td></tr>\n",
       "\t<tr><td>Grade 12 or GED (High school graduate)                      </td><td>1.6635614</td></tr>\n",
       "\t<tr><td>College 1 year to 3 years (Some college or technical school)</td><td>1.3079658</td></tr>\n",
       "\t<tr><td>College 4 years or more (College graduate)                  </td><td>0.8446713</td></tr>\n",
       "</tbody>\n",
       "</table>\n"
      ],
      "text/latex": [
       "A data.frame: 6 × 2\n",
       "\\begin{tabular}{ll}\n",
       " educa & mean\\_drnk3ge5\\\\\n",
       " <fct> & <dbl>\\\\\n",
       "\\hline\n",
       "\t Never attended school or only kindergarten                   & 1.5217391\\\\\n",
       "\t Grades 1 through 8 (Elementary)                              & 2.1191136\\\\\n",
       "\t Grades 9 though 11 (Some high school)                        & 2.2215703\\\\\n",
       "\t Grade 12 or GED (High school graduate)                       & 1.6635614\\\\\n",
       "\t College 1 year to 3 years (Some college or technical school) & 1.3079658\\\\\n",
       "\t College 4 years or more (College graduate)                   & 0.8446713\\\\\n",
       "\\end{tabular}\n"
      ],
      "text/markdown": [
       "\n",
       "A data.frame: 6 × 2\n",
       "\n",
       "| educa &lt;fct&gt; | mean_drnk3ge5 &lt;dbl&gt; |\n",
       "|---|---|\n",
       "| Never attended school or only kindergarten                   | 1.5217391 |\n",
       "| Grades 1 through 8 (Elementary)                              | 2.1191136 |\n",
       "| Grades 9 though 11 (Some high school)                        | 2.2215703 |\n",
       "| Grade 12 or GED (High school graduate)                       | 1.6635614 |\n",
       "| College 1 year to 3 years (Some college or technical school) | 1.3079658 |\n",
       "| College 4 years or more (College graduate)                   | 0.8446713 |\n",
       "\n"
      ],
      "text/plain": [
       "  educa                                                        mean_drnk3ge5\n",
       "1 Never attended school or only kindergarten                   1.5217391    \n",
       "2 Grades 1 through 8 (Elementary)                              2.1191136    \n",
       "3 Grades 9 though 11 (Some high school)                        2.2215703    \n",
       "4 Grade 12 or GED (High school graduate)                       1.6635614    \n",
       "5 College 1 year to 3 years (Some college or technical school) 1.3079658    \n",
       "6 College 4 years or more (College graduate)                   0.8446713    "
      ]
     },
     "metadata": {},
     "output_type": "display_data"
    }
   ],
   "source": [
    "mean_by_educa <- aggregate(data_poisson$drnk3ge5, by = list(data_poisson$educa), FUN = mean)\n",
    "colnames(mean_by_educa) <- c(\"educa\", \"mean_drnk3ge5\")\n",
    "mean_by_educa"
   ]
  },
  {
   "cell_type": "code",
   "execution_count": 56,
   "metadata": {},
   "outputs": [
    {
     "name": "stderr",
     "output_type": "stream",
     "text": [
      "Warning message in chisq.test(table(data_poisson$drnk3ge5, data_poisson$educa)):\n",
      "\"Chi-squared approximation may be incorrect\"\n"
     ]
    },
    {
     "data": {
      "text/plain": [
       "\n",
       "\tPearson's Chi-squared test\n",
       "\n",
       "data:  table(data_poisson$drnk3ge5, data_poisson$educa)\n",
       "X-squared = 1578.4, df = 150, p-value < 0.00000000000000022\n"
      ]
     },
     "metadata": {},
     "output_type": "display_data"
    }
   ],
   "source": [
    "chi_squared <- chisq.test(table(data_poisson$drnk3ge5, data_poisson$educa))\n",
    "chi_squared"
   ]
  },
  {
   "cell_type": "markdown",
   "metadata": {},
   "source": [
    "p-value is less than 0.05, we can reject the null hypothesis of independence, and conclude that there is a statistically significant association between drnk3ge5 and education."
   ]
  },
  {
   "cell_type": "markdown",
   "metadata": {},
   "source": [
    "### 7. Income"
   ]
  },
  {
   "cell_type": "code",
   "execution_count": 57,
   "metadata": {},
   "outputs": [
    {
     "data": {
      "text/plain": [
       "\n",
       "Call:\n",
       "glm(formula = drnk3ge5 ~ income2, family = poisson(link = \"log\"), \n",
       "    data = data_poisson)\n",
       "\n",
       "Deviance Residuals: \n",
       "    Min       1Q   Median       3Q      Max  \n",
       "-2.0583  -1.5665  -1.3769  -0.3099  12.2138  \n",
       "\n",
       "Coefficients:\n",
       "                          Estimate Std. Error z value            Pr(>|z|)    \n",
       "(Intercept)               0.750585   0.009948   75.45 <0.0000000000000002 ***\n",
       "income2Less than $15,000 -0.167513   0.014755  -11.35 <0.0000000000000002 ***\n",
       "income2Less than $20,000 -0.299740   0.014013  -21.39 <0.0000000000000002 ***\n",
       "income2Less than $25,000 -0.401070   0.013500  -29.71 <0.0000000000000002 ***\n",
       "income2Less than $35,000 -0.455893   0.013076  -34.86 <0.0000000000000002 ***\n",
       "income2Less than $50,000 -0.545989   0.012444  -43.88 <0.0000000000000002 ***\n",
       "income2Less than $75,000 -0.678947   0.012381  -54.84 <0.0000000000000002 ***\n",
       "income2$75,000 or more   -0.804056   0.011432  -70.34 <0.0000000000000002 ***\n",
       "---\n",
       "Signif. codes:  0 '***' 0.001 '**' 0.01 '*' 0.05 '.' 0.1 ' ' 1\n",
       "\n",
       "(Dispersion parameter for poisson family taken to be 1)\n",
       "\n",
       "    Null deviance: 454219  on 99808  degrees of freedom\n",
       "Residual deviance: 447063  on 99801  degrees of freedom\n",
       "AIC: 527737\n",
       "\n",
       "Number of Fisher Scoring iterations: 7\n"
      ]
     },
     "metadata": {},
     "output_type": "display_data"
    }
   ],
   "source": [
    "data_poisson$income2 <- factor(data_poisson$income2)\n",
    "z7 <- glm(drnk3ge5 ~ income2, data=data_poisson, family=\"poisson\"(link=\"log\"))\n",
    "summary(z7)"
   ]
  },
  {
   "cell_type": "markdown",
   "metadata": {},
   "source": [
    "The model indicates that income is significantly associated with drnk3ge5. The coefficients for the different levels of income represent the difference in the expected log of drnk3ge5 between that level and the reference level \"Less than $10,000\". For example, holding all other predictor variables constant, the expected log of drnk3ge5 for an individual who earn less than 15,000 is 0.167513 less than for an individual who earn less than 10,000."
   ]
  },
  {
   "cell_type": "code",
   "execution_count": 58,
   "metadata": {},
   "outputs": [
    {
     "data": {
      "text/html": [
       "<table class=\"dataframe\">\n",
       "<caption>A data.frame: 8 × 2</caption>\n",
       "<thead>\n",
       "\t<tr><th scope=col>income</th><th scope=col>mean_drnk3ge5</th></tr>\n",
       "\t<tr><th scope=col>&lt;fct&gt;</th><th scope=col>&lt;dbl&gt;</th></tr>\n",
       "</thead>\n",
       "<tbody>\n",
       "\t<tr><td>Less than $10,000</td><td>2.1182390</td></tr>\n",
       "\t<tr><td>Less than $15,000</td><td>1.7915337</td></tr>\n",
       "\t<tr><td>Less than $20,000</td><td>1.5696377</td></tr>\n",
       "\t<tr><td>Less than $25,000</td><td>1.4183794</td></tr>\n",
       "\t<tr><td>Less than $35,000</td><td>1.3427135</td></tr>\n",
       "\t<tr><td>Less than $50,000</td><td>1.2270296</td></tr>\n",
       "\t<tr><td>Less than $75,000</td><td>1.0742664</td></tr>\n",
       "\t<tr><td>$75,000 or more  </td><td>0.9479333</td></tr>\n",
       "</tbody>\n",
       "</table>\n"
      ],
      "text/latex": [
       "A data.frame: 8 × 2\n",
       "\\begin{tabular}{ll}\n",
       " income & mean\\_drnk3ge5\\\\\n",
       " <fct> & <dbl>\\\\\n",
       "\\hline\n",
       "\t Less than \\$10,000 & 2.1182390\\\\\n",
       "\t Less than \\$15,000 & 1.7915337\\\\\n",
       "\t Less than \\$20,000 & 1.5696377\\\\\n",
       "\t Less than \\$25,000 & 1.4183794\\\\\n",
       "\t Less than \\$35,000 & 1.3427135\\\\\n",
       "\t Less than \\$50,000 & 1.2270296\\\\\n",
       "\t Less than \\$75,000 & 1.0742664\\\\\n",
       "\t \\$75,000 or more   & 0.9479333\\\\\n",
       "\\end{tabular}\n"
      ],
      "text/markdown": [
       "\n",
       "A data.frame: 8 × 2\n",
       "\n",
       "| income &lt;fct&gt; | mean_drnk3ge5 &lt;dbl&gt; |\n",
       "|---|---|\n",
       "| Less than $10,000 | 2.1182390 |\n",
       "| Less than $15,000 | 1.7915337 |\n",
       "| Less than $20,000 | 1.5696377 |\n",
       "| Less than $25,000 | 1.4183794 |\n",
       "| Less than $35,000 | 1.3427135 |\n",
       "| Less than $50,000 | 1.2270296 |\n",
       "| Less than $75,000 | 1.0742664 |\n",
       "| $75,000 or more   | 0.9479333 |\n",
       "\n"
      ],
      "text/plain": [
       "  income            mean_drnk3ge5\n",
       "1 Less than $10,000 2.1182390    \n",
       "2 Less than $15,000 1.7915337    \n",
       "3 Less than $20,000 1.5696377    \n",
       "4 Less than $25,000 1.4183794    \n",
       "5 Less than $35,000 1.3427135    \n",
       "6 Less than $50,000 1.2270296    \n",
       "7 Less than $75,000 1.0742664    \n",
       "8 $75,000 or more   0.9479333    "
      ]
     },
     "metadata": {},
     "output_type": "display_data"
    }
   ],
   "source": [
    "mean_by_income <- aggregate(data_poisson$drnk3ge5, by = list(data_poisson$income2), FUN = mean)\n",
    "colnames(mean_by_income) <- c(\"income\", \"mean_drnk3ge5\")\n",
    "mean_by_income"
   ]
  },
  {
   "cell_type": "code",
   "execution_count": 59,
   "metadata": {},
   "outputs": [
    {
     "name": "stderr",
     "output_type": "stream",
     "text": [
      "Warning message in chisq.test(table(data_poisson$drnk3ge5, data_poisson$income2)):\n",
      "\"Chi-squared approximation may be incorrect\"\n"
     ]
    },
    {
     "data": {
      "text/plain": [
       "\n",
       "\tPearson's Chi-squared test\n",
       "\n",
       "data:  table(data_poisson$drnk3ge5, data_poisson$income2)\n",
       "X-squared = 1143.4, df = 210, p-value < 0.00000000000000022\n"
      ]
     },
     "metadata": {},
     "output_type": "display_data"
    }
   ],
   "source": [
    "chi_squared <- chisq.test(table(data_poisson$drnk3ge5, data_poisson$income2))\n",
    "chi_squared"
   ]
  },
  {
   "cell_type": "markdown",
   "metadata": {},
   "source": [
    "p-value is less than 0.05, we can reject the null hypothesis of independence, and conclude that there is a statistically significant association between drnk3ge5 and income"
   ]
  },
  {
   "cell_type": "markdown",
   "metadata": {},
   "source": [
    "### 8. Sex/gender"
   ]
  },
  {
   "cell_type": "code",
   "execution_count": 60,
   "metadata": {},
   "outputs": [
    {
     "data": {
      "text/plain": [
       "\n",
       "Call:\n",
       "glm(formula = drnk3ge5 ~ sex, family = poisson(link = \"log\"), \n",
       "    data = data_poisson)\n",
       "\n",
       "Deviance Residuals: \n",
       "    Min       1Q   Median       3Q      Max  \n",
       "-1.8983  -1.8983  -1.2549  -0.6527  12.6486  \n",
       "\n",
       "Coefficients:\n",
       "             Estimate Std. Error z value            Pr(>|z|)    \n",
       "(Intercept)  0.588805   0.003580   164.5 <0.0000000000000002 ***\n",
       "sexFemale   -0.827795   0.005941  -139.3 <0.0000000000000002 ***\n",
       "---\n",
       "Signif. codes:  0 '***' 0.001 '**' 0.01 '*' 0.05 '.' 0.1 ' ' 1\n",
       "\n",
       "(Dispersion parameter for poisson family taken to be 1)\n",
       "\n",
       "    Null deviance: 454219  on 99808  degrees of freedom\n",
       "Residual deviance: 433838  on 99807  degrees of freedom\n",
       "AIC: 514500\n",
       "\n",
       "Number of Fisher Scoring iterations: 7\n"
      ]
     },
     "metadata": {},
     "output_type": "display_data"
    }
   ],
   "source": [
    "data_poisson$sex <- factor(data_poisson$sex)\n",
    "z8 <- glm(drnk3ge5 ~ sex, data=data_poisson, family=\"poisson\"(link=\"log\"))\n",
    "summary(z8)"
   ]
  },
  {
   "cell_type": "markdown",
   "metadata": {},
   "source": [
    "The model indicates that sex is significantly associated with drnk3ge5. The coefficients for the different levels of sex represent the difference in the expected log of drnk3ge5 between that level and the reference level \"Male\". Specifically, holding all other predictor variables constant, the expected log of drnk3ge5 for a female is 0.827795 lower than for a male."
   ]
  },
  {
   "cell_type": "code",
   "execution_count": 61,
   "metadata": {},
   "outputs": [
    {
     "data": {
      "text/html": [
       "<table class=\"dataframe\">\n",
       "<caption>A data.frame: 2 × 2</caption>\n",
       "<thead>\n",
       "\t<tr><th scope=col>sex</th><th scope=col>mean_drnk3ge5</th></tr>\n",
       "\t<tr><th scope=col>&lt;fct&gt;</th><th scope=col>&lt;dbl&gt;</th></tr>\n",
       "</thead>\n",
       "<tbody>\n",
       "\t<tr><td>Male  </td><td>1.8018332</td></tr>\n",
       "\t<tr><td>Female</td><td>0.7874223</td></tr>\n",
       "</tbody>\n",
       "</table>\n"
      ],
      "text/latex": [
       "A data.frame: 2 × 2\n",
       "\\begin{tabular}{ll}\n",
       " sex & mean\\_drnk3ge5\\\\\n",
       " <fct> & <dbl>\\\\\n",
       "\\hline\n",
       "\t Male   & 1.8018332\\\\\n",
       "\t Female & 0.7874223\\\\\n",
       "\\end{tabular}\n"
      ],
      "text/markdown": [
       "\n",
       "A data.frame: 2 × 2\n",
       "\n",
       "| sex &lt;fct&gt; | mean_drnk3ge5 &lt;dbl&gt; |\n",
       "|---|---|\n",
       "| Male   | 1.8018332 |\n",
       "| Female | 0.7874223 |\n",
       "\n"
      ],
      "text/plain": [
       "  sex    mean_drnk3ge5\n",
       "1 Male   1.8018332    \n",
       "2 Female 0.7874223    "
      ]
     },
     "metadata": {},
     "output_type": "display_data"
    }
   ],
   "source": [
    "mean_by_sex <- aggregate(data_poisson$drnk3ge5, by = list(data_poisson$sex), FUN = mean)\n",
    "colnames(mean_by_sex) <- c(\"sex\", \"mean_drnk3ge5\")\n",
    "mean_by_sex"
   ]
  },
  {
   "cell_type": "code",
   "execution_count": 62,
   "metadata": {},
   "outputs": [
    {
     "name": "stderr",
     "output_type": "stream",
     "text": [
      "Warning message in chisq.test(table(data_poisson$drnk3ge5, data_poisson$sex)):\n",
      "\"Chi-squared approximation may be incorrect\"\n"
     ]
    },
    {
     "data": {
      "text/plain": [
       "\n",
       "\tPearson's Chi-squared test\n",
       "\n",
       "data:  table(data_poisson$drnk3ge5, data_poisson$sex)\n",
       "X-squared = 2569.1, df = 30, p-value < 0.00000000000000022\n"
      ]
     },
     "metadata": {},
     "output_type": "display_data"
    }
   ],
   "source": [
    "chi_squared <- chisq.test(table(data_poisson$drnk3ge5, data_poisson$sex))\n",
    "chi_squared"
   ]
  },
  {
   "cell_type": "markdown",
   "metadata": {},
   "source": [
    "p-value is less than 0.05, we can reject the null hypothesis of independence, and conclude that there is a statistically significant association between drnk3ge5 and sex"
   ]
  },
  {
   "cell_type": "markdown",
   "metadata": {},
   "source": [
    "<div class=\"alert alert-block alert-success\">\n",
    "<a id=\"Poisson\"></a>\n",
    "    \n",
    "# Poisson Regression model\n",
    "    \n",
    "Build a Poisson regression model using **at most 4 explanatory variables (where at least one is a categorical variable)**. You can try alternate models and compare models using AIC. Remember to include interactions when appropriate. Show the results below for your final model. Include any other models you tried in **Appendix B**.\n",
    "    \n",
    "</div>    "
   ]
  },
  {
   "cell_type": "markdown",
   "metadata": {},
   "source": [
    "### Fit your final model (1 mark for this model being appropriate for the data)\n",
    "Include a brief description of why this model is appropriate for the data."
   ]
  },
  {
   "cell_type": "code",
   "execution_count": 63,
   "metadata": {},
   "outputs": [
    {
     "data": {
      "text/plain": [
       "\n",
       "Call:\n",
       "glm(formula = drnk3ge5 ~ income2 + menthlth * marital * sex, \n",
       "    family = poisson(link = \"log\"), data = data_poisson)\n",
       "\n",
       "Deviance Residuals: \n",
       "    Min       1Q   Median       3Q      Max  \n",
       "-3.4084  -1.5177  -1.1039  -0.5687  14.4073  \n",
       "\n",
       "Coefficients:\n",
       "                                                            Estimate Std. Error\n",
       "(Intercept)                                                0.3425781  0.0130672\n",
       "income2Less than $15,000                                  -0.0955686  0.0147825\n",
       "income2Less than $20,000                                  -0.1667315  0.0140859\n",
       "income2Less than $25,000                                  -0.1900993  0.0136332\n",
       "income2Less than $35,000                                  -0.1931621  0.0132799\n",
       "income2Less than $50,000                                  -0.2333981  0.0127689\n",
       "income2Less than $75,000                                  -0.2978831  0.0128394\n",
       "income2$75,000 or more                                    -0.3370834  0.0122617\n",
       "menthlth                                                   0.0320437  0.0005574\n",
       "maritalDivorced                                            0.5686602  0.0131775\n",
       "maritalWidowed                                             0.1855468  0.0233357\n",
       "maritalSeparated                                           0.6819469  0.0279225\n",
       "maritalNever married                                       0.6323806  0.0113808\n",
       "maritalA member of an unmarried couple                     0.4753411  0.0217961\n",
       "sexFemale                                                 -0.7849791  0.0120506\n",
       "menthlth:maritalDivorced                                  -0.0093135  0.0009001\n",
       "menthlth:maritalWidowed                                   -0.0197796  0.0017063\n",
       "menthlth:maritalSeparated                                 -0.0135519  0.0016699\n",
       "menthlth:maritalNever married                             -0.0101447  0.0008387\n",
       "menthlth:maritalA member of an unmarried couple           -0.0006635  0.0015764\n",
       "menthlth:sexFemale                                        -0.0006302  0.0009244\n",
       "maritalDivorced:sexFemale                                 -0.3237571  0.0223792\n",
       "maritalWidowed:sexFemale                                  -0.6230042  0.0360093\n",
       "maritalSeparated:sexFemale                                -0.2176584  0.0478189\n",
       "maritalNever married:sexFemale                             0.0793280  0.0194258\n",
       "maritalA member of an unmarried couple:sexFemale           0.1783338  0.0351370\n",
       "menthlth:maritalDivorced:sexFemale                         0.0083841  0.0014981\n",
       "menthlth:maritalWidowed:sexFemale                          0.0366035  0.0023872\n",
       "menthlth:maritalSeparated:sexFemale                       -0.0040970  0.0028537\n",
       "menthlth:maritalNever married:sexFemale                   -0.0002428  0.0014163\n",
       "menthlth:maritalA member of an unmarried couple:sexFemale -0.0041546  0.0024317\n",
       "                                                          z value\n",
       "(Intercept)                                                26.217\n",
       "income2Less than $15,000                                   -6.465\n",
       "income2Less than $20,000                                  -11.837\n",
       "income2Less than $25,000                                  -13.944\n",
       "income2Less than $35,000                                  -14.545\n",
       "income2Less than $50,000                                  -18.279\n",
       "income2Less than $75,000                                  -23.201\n",
       "income2$75,000 or more                                    -27.491\n",
       "menthlth                                                   57.488\n",
       "maritalDivorced                                            43.154\n",
       "maritalWidowed                                              7.951\n",
       "maritalSeparated                                           24.423\n",
       "maritalNever married                                       55.565\n",
       "maritalA member of an unmarried couple                     21.809\n",
       "sexFemale                                                 -65.140\n",
       "menthlth:maritalDivorced                                  -10.347\n",
       "menthlth:maritalWidowed                                   -11.592\n",
       "menthlth:maritalSeparated                                  -8.116\n",
       "menthlth:maritalNever married                             -12.095\n",
       "menthlth:maritalA member of an unmarried couple            -0.421\n",
       "menthlth:sexFemale                                         -0.682\n",
       "maritalDivorced:sexFemale                                 -14.467\n",
       "maritalWidowed:sexFemale                                  -17.301\n",
       "maritalSeparated:sexFemale                                 -4.552\n",
       "maritalNever married:sexFemale                              4.084\n",
       "maritalA member of an unmarried couple:sexFemale            5.075\n",
       "menthlth:maritalDivorced:sexFemale                          5.596\n",
       "menthlth:maritalWidowed:sexFemale                          15.334\n",
       "menthlth:maritalSeparated:sexFemale                        -1.436\n",
       "menthlth:maritalNever married:sexFemale                    -0.171\n",
       "menthlth:maritalA member of an unmarried couple:sexFemale  -1.709\n",
       "                                                                      Pr(>|z|)\n",
       "(Intercept)                                               < 0.0000000000000002\n",
       "income2Less than $15,000                                  0.000000000101304348\n",
       "income2Less than $20,000                                  < 0.0000000000000002\n",
       "income2Less than $25,000                                  < 0.0000000000000002\n",
       "income2Less than $35,000                                  < 0.0000000000000002\n",
       "income2Less than $50,000                                  < 0.0000000000000002\n",
       "income2Less than $75,000                                  < 0.0000000000000002\n",
       "income2$75,000 or more                                    < 0.0000000000000002\n",
       "menthlth                                                  < 0.0000000000000002\n",
       "maritalDivorced                                           < 0.0000000000000002\n",
       "maritalWidowed                                            0.000000000000001847\n",
       "maritalSeparated                                          < 0.0000000000000002\n",
       "maritalNever married                                      < 0.0000000000000002\n",
       "maritalA member of an unmarried couple                    < 0.0000000000000002\n",
       "sexFemale                                                 < 0.0000000000000002\n",
       "menthlth:maritalDivorced                                  < 0.0000000000000002\n",
       "menthlth:maritalWidowed                                   < 0.0000000000000002\n",
       "menthlth:maritalSeparated                                 0.000000000000000483\n",
       "menthlth:maritalNever married                             < 0.0000000000000002\n",
       "menthlth:maritalA member of an unmarried couple                         0.6738\n",
       "menthlth:sexFemale                                                      0.4954\n",
       "maritalDivorced:sexFemale                                 < 0.0000000000000002\n",
       "maritalWidowed:sexFemale                                  < 0.0000000000000002\n",
       "maritalSeparated:sexFemale                                0.000005320948830986\n",
       "maritalNever married:sexFemale                            0.000044334670181879\n",
       "maritalA member of an unmarried couple:sexFemale          0.000000386722749010\n",
       "menthlth:maritalDivorced:sexFemale                        0.000000021894849086\n",
       "menthlth:maritalWidowed:sexFemale                         < 0.0000000000000002\n",
       "menthlth:maritalSeparated:sexFemale                                     0.1511\n",
       "menthlth:maritalNever married:sexFemale                                 0.8639\n",
       "menthlth:maritalA member of an unmarried couple:sexFemale               0.0875\n",
       "                                                             \n",
       "(Intercept)                                               ***\n",
       "income2Less than $15,000                                  ***\n",
       "income2Less than $20,000                                  ***\n",
       "income2Less than $25,000                                  ***\n",
       "income2Less than $35,000                                  ***\n",
       "income2Less than $50,000                                  ***\n",
       "income2Less than $75,000                                  ***\n",
       "income2$75,000 or more                                    ***\n",
       "menthlth                                                  ***\n",
       "maritalDivorced                                           ***\n",
       "maritalWidowed                                            ***\n",
       "maritalSeparated                                          ***\n",
       "maritalNever married                                      ***\n",
       "maritalA member of an unmarried couple                    ***\n",
       "sexFemale                                                 ***\n",
       "menthlth:maritalDivorced                                  ***\n",
       "menthlth:maritalWidowed                                   ***\n",
       "menthlth:maritalSeparated                                 ***\n",
       "menthlth:maritalNever married                             ***\n",
       "menthlth:maritalA member of an unmarried couple              \n",
       "menthlth:sexFemale                                           \n",
       "maritalDivorced:sexFemale                                 ***\n",
       "maritalWidowed:sexFemale                                  ***\n",
       "maritalSeparated:sexFemale                                ***\n",
       "maritalNever married:sexFemale                            ***\n",
       "maritalA member of an unmarried couple:sexFemale          ***\n",
       "menthlth:maritalDivorced:sexFemale                        ***\n",
       "menthlth:maritalWidowed:sexFemale                         ***\n",
       "menthlth:maritalSeparated:sexFemale                          \n",
       "menthlth:maritalNever married:sexFemale                      \n",
       "menthlth:maritalA member of an unmarried couple:sexFemale .  \n",
       "---\n",
       "Signif. codes:  0 '***' 0.001 '**' 0.01 '*' 0.05 '.' 0.1 ' ' 1\n",
       "\n",
       "(Dispersion parameter for poisson family taken to be 1)\n",
       "\n",
       "    Null deviance: 454219  on 99808  degrees of freedom\n",
       "Residual deviance: 408212  on 99778  degrees of freedom\n",
       "AIC: 488932\n",
       "\n",
       "Number of Fisher Scoring iterations: 7\n"
      ]
     },
     "metadata": {},
     "output_type": "display_data"
    }
   ],
   "source": [
    "# Fit your final model here.\n",
    "z16 <- glm(drnk3ge5 ~ income2 + menthlth*marital*sex, data=data_poisson, family=\"poisson\"(link=\"log\"))\n",
    "# Use summary to get model co-efficients and other useful output.\n",
    "summary(z16)"
   ]
  },
  {
   "cell_type": "markdown",
   "metadata": {},
   "source": [
    "We have chosen income, marital status and gender as the categorical variables because they are all significantly associated with the response variable at all levels. We have chosen mental health as the quantitative variable because among the four model built between drnk3ge and 4 quantitative variables(z1, z2, z3, z4), and the model built between drnk3ge and menthlth has the smallest AIC. Commonly speaking, poor menlth health does contribute to excessive drinking. Fianlly, we have created a interaction term between mental health, marital status and gender since according to the research[1], mental health is commonly related to gender and marital status."
   ]
  },
  {
   "cell_type": "markdown",
   "metadata": {},
   "source": [
    "### Write the equation of your model, replacing the co-efficients with the numbers from the output of the summary command. Show the link function and describe how any categorical variables are encoded. (1.5 marks)"
   ]
  },
  {
   "cell_type": "markdown",
   "metadata": {},
   "source": [
    "log(drnk3ge5) = 0.3425781 - 0.0955686 * income2Less than 15,000 - 0.1667315 * income2Less than 20,000 - 0.1900993 * income2Less than 25,000 +... - 0.0040970 * menthlth * maritalSeparated * sexFemale - 0.0002428 * menthlth * maritalNever married * sexFemale - 0.0041546 * menthlth * maritalA member of an unmarried couple * sexFemale"
   ]
  },
  {
   "cell_type": "markdown",
   "metadata": {},
   "source": [
    "The categorical variables in the model are encoded as dummy variables, with one level of each categorical variable serving as the reference category. For example, the variable income2 has 8 levels, and 7 indicator variables are created to represent the 7 non-reference categories. The reference category is the level \"Less than 10,000\". Similarly, the variable marital has six levels, and 5 indicator variables are created to represent the 5 non-reference categories. The reference category is \"Married\". The variable sex is also encoded as an indicator variable, with \"Male\" as the reference category."
   ]
  },
  {
   "cell_type": "markdown",
   "metadata": {},
   "source": []
  },
  {
   "cell_type": "markdown",
   "metadata": {},
   "source": [
    "### What is the value for residual deviance/df? What does this indicate for the model? (0.5 marks)"
   ]
  },
  {
   "cell_type": "code",
   "execution_count": 65,
   "metadata": {},
   "outputs": [
    {
     "data": {
      "text/html": [
       "4.09120227291561"
      ],
      "text/latex": [
       "4.09120227291561"
      ],
      "text/markdown": [
       "4.09120227291561"
      ],
      "text/plain": [
       "[1] 4.091202"
      ]
     },
     "metadata": {},
     "output_type": "display_data"
    }
   ],
   "source": [
    "residual_deviance16 <- deviance(z16, type = \"residual\")\n",
    "residual_df16 <- df.residual(z16)\n",
    "residual_deviance16/residual_df16"
   ]
  },
  {
   "cell_type": "markdown",
   "metadata": {},
   "source": [
    "The residual deviance divided by the degrees of freedom is a measure of the fit of the model relative to the amount of information provided by the data.The residual deviance/df of 4.091202 means that the fitted model has a deviance of approximately 4.09 for each degree of freedom, the variability of the response variable is greater than what would be expected from a Poisson distribution. This confirms our finding before that drnk3ge5 does not follow a poisson distribution."
   ]
  },
  {
   "cell_type": "markdown",
   "metadata": {},
   "source": []
  },
  {
   "cell_type": "markdown",
   "metadata": {},
   "source": [
    "### Create plots to visualize the model fit. (2.5 marks)"
   ]
  },
  {
   "cell_type": "markdown",
   "metadata": {},
   "source": [
    "Since we have included 3 categorical variables and one quantitative variables as explanatory variable, I have created three plots, with holding each categorical variable constant at median level in each plot."
   ]
  },
  {
   "cell_type": "code",
   "execution_count": 66,
   "metadata": {},
   "outputs": [
    {
     "data": {
      "text/html": [
       "<table class=\"dataframe\">\n",
       "<caption>A data.frame: 1200 × 4</caption>\n",
       "<thead>\n",
       "\t<tr><th scope=col>income2</th><th scope=col>menthlth</th><th scope=col>marital</th><th scope=col>sex</th></tr>\n",
       "\t<tr><th scope=col>&lt;fct&gt;</th><th scope=col>&lt;dbl&gt;</th><th scope=col>&lt;fct&gt;</th><th scope=col>&lt;fct&gt;</th></tr>\n",
       "</thead>\n",
       "<tbody>\n",
       "\t<tr><td>Less than $25,000</td><td>0.0000000</td><td>Married</td><td>Male</td></tr>\n",
       "\t<tr><td>Less than $25,000</td><td>0.3030303</td><td>Married</td><td>Male</td></tr>\n",
       "\t<tr><td>Less than $25,000</td><td>0.6060606</td><td>Married</td><td>Male</td></tr>\n",
       "\t<tr><td>Less than $25,000</td><td>0.9090909</td><td>Married</td><td>Male</td></tr>\n",
       "\t<tr><td>Less than $25,000</td><td>1.2121212</td><td>Married</td><td>Male</td></tr>\n",
       "\t<tr><td>Less than $25,000</td><td>1.5151515</td><td>Married</td><td>Male</td></tr>\n",
       "\t<tr><td>Less than $25,000</td><td>1.8181818</td><td>Married</td><td>Male</td></tr>\n",
       "\t<tr><td>Less than $25,000</td><td>2.1212121</td><td>Married</td><td>Male</td></tr>\n",
       "\t<tr><td>Less than $25,000</td><td>2.4242424</td><td>Married</td><td>Male</td></tr>\n",
       "\t<tr><td>Less than $25,000</td><td>2.7272727</td><td>Married</td><td>Male</td></tr>\n",
       "\t<tr><td>Less than $25,000</td><td>3.0303030</td><td>Married</td><td>Male</td></tr>\n",
       "\t<tr><td>Less than $25,000</td><td>3.3333333</td><td>Married</td><td>Male</td></tr>\n",
       "\t<tr><td>Less than $25,000</td><td>3.6363636</td><td>Married</td><td>Male</td></tr>\n",
       "\t<tr><td>Less than $25,000</td><td>3.9393939</td><td>Married</td><td>Male</td></tr>\n",
       "\t<tr><td>Less than $25,000</td><td>4.2424242</td><td>Married</td><td>Male</td></tr>\n",
       "\t<tr><td>Less than $25,000</td><td>4.5454545</td><td>Married</td><td>Male</td></tr>\n",
       "\t<tr><td>Less than $25,000</td><td>4.8484848</td><td>Married</td><td>Male</td></tr>\n",
       "\t<tr><td>Less than $25,000</td><td>5.1515152</td><td>Married</td><td>Male</td></tr>\n",
       "\t<tr><td>Less than $25,000</td><td>5.4545455</td><td>Married</td><td>Male</td></tr>\n",
       "\t<tr><td>Less than $25,000</td><td>5.7575758</td><td>Married</td><td>Male</td></tr>\n",
       "\t<tr><td>Less than $25,000</td><td>6.0606061</td><td>Married</td><td>Male</td></tr>\n",
       "\t<tr><td>Less than $25,000</td><td>6.3636364</td><td>Married</td><td>Male</td></tr>\n",
       "\t<tr><td>Less than $25,000</td><td>6.6666667</td><td>Married</td><td>Male</td></tr>\n",
       "\t<tr><td>Less than $25,000</td><td>6.9696970</td><td>Married</td><td>Male</td></tr>\n",
       "\t<tr><td>Less than $25,000</td><td>7.2727273</td><td>Married</td><td>Male</td></tr>\n",
       "\t<tr><td>Less than $25,000</td><td>7.5757576</td><td>Married</td><td>Male</td></tr>\n",
       "\t<tr><td>Less than $25,000</td><td>7.8787879</td><td>Married</td><td>Male</td></tr>\n",
       "\t<tr><td>Less than $25,000</td><td>8.1818182</td><td>Married</td><td>Male</td></tr>\n",
       "\t<tr><td>Less than $25,000</td><td>8.4848485</td><td>Married</td><td>Male</td></tr>\n",
       "\t<tr><td>Less than $25,000</td><td>8.7878788</td><td>Married</td><td>Male</td></tr>\n",
       "\t<tr><td>⋮</td><td>⋮</td><td>⋮</td><td>⋮</td></tr>\n",
       "\t<tr><td>Less than $25,000</td><td>21.21212</td><td>A member of an unmarried couple</td><td>Female</td></tr>\n",
       "\t<tr><td>Less than $25,000</td><td>21.51515</td><td>A member of an unmarried couple</td><td>Female</td></tr>\n",
       "\t<tr><td>Less than $25,000</td><td>21.81818</td><td>A member of an unmarried couple</td><td>Female</td></tr>\n",
       "\t<tr><td>Less than $25,000</td><td>22.12121</td><td>A member of an unmarried couple</td><td>Female</td></tr>\n",
       "\t<tr><td>Less than $25,000</td><td>22.42424</td><td>A member of an unmarried couple</td><td>Female</td></tr>\n",
       "\t<tr><td>Less than $25,000</td><td>22.72727</td><td>A member of an unmarried couple</td><td>Female</td></tr>\n",
       "\t<tr><td>Less than $25,000</td><td>23.03030</td><td>A member of an unmarried couple</td><td>Female</td></tr>\n",
       "\t<tr><td>Less than $25,000</td><td>23.33333</td><td>A member of an unmarried couple</td><td>Female</td></tr>\n",
       "\t<tr><td>Less than $25,000</td><td>23.63636</td><td>A member of an unmarried couple</td><td>Female</td></tr>\n",
       "\t<tr><td>Less than $25,000</td><td>23.93939</td><td>A member of an unmarried couple</td><td>Female</td></tr>\n",
       "\t<tr><td>Less than $25,000</td><td>24.24242</td><td>A member of an unmarried couple</td><td>Female</td></tr>\n",
       "\t<tr><td>Less than $25,000</td><td>24.54545</td><td>A member of an unmarried couple</td><td>Female</td></tr>\n",
       "\t<tr><td>Less than $25,000</td><td>24.84848</td><td>A member of an unmarried couple</td><td>Female</td></tr>\n",
       "\t<tr><td>Less than $25,000</td><td>25.15152</td><td>A member of an unmarried couple</td><td>Female</td></tr>\n",
       "\t<tr><td>Less than $25,000</td><td>25.45455</td><td>A member of an unmarried couple</td><td>Female</td></tr>\n",
       "\t<tr><td>Less than $25,000</td><td>25.75758</td><td>A member of an unmarried couple</td><td>Female</td></tr>\n",
       "\t<tr><td>Less than $25,000</td><td>26.06061</td><td>A member of an unmarried couple</td><td>Female</td></tr>\n",
       "\t<tr><td>Less than $25,000</td><td>26.36364</td><td>A member of an unmarried couple</td><td>Female</td></tr>\n",
       "\t<tr><td>Less than $25,000</td><td>26.66667</td><td>A member of an unmarried couple</td><td>Female</td></tr>\n",
       "\t<tr><td>Less than $25,000</td><td>26.96970</td><td>A member of an unmarried couple</td><td>Female</td></tr>\n",
       "\t<tr><td>Less than $25,000</td><td>27.27273</td><td>A member of an unmarried couple</td><td>Female</td></tr>\n",
       "\t<tr><td>Less than $25,000</td><td>27.57576</td><td>A member of an unmarried couple</td><td>Female</td></tr>\n",
       "\t<tr><td>Less than $25,000</td><td>27.87879</td><td>A member of an unmarried couple</td><td>Female</td></tr>\n",
       "\t<tr><td>Less than $25,000</td><td>28.18182</td><td>A member of an unmarried couple</td><td>Female</td></tr>\n",
       "\t<tr><td>Less than $25,000</td><td>28.48485</td><td>A member of an unmarried couple</td><td>Female</td></tr>\n",
       "\t<tr><td>Less than $25,000</td><td>28.78788</td><td>A member of an unmarried couple</td><td>Female</td></tr>\n",
       "\t<tr><td>Less than $25,000</td><td>29.09091</td><td>A member of an unmarried couple</td><td>Female</td></tr>\n",
       "\t<tr><td>Less than $25,000</td><td>29.39394</td><td>A member of an unmarried couple</td><td>Female</td></tr>\n",
       "\t<tr><td>Less than $25,000</td><td>29.69697</td><td>A member of an unmarried couple</td><td>Female</td></tr>\n",
       "\t<tr><td>Less than $25,000</td><td>30.00000</td><td>A member of an unmarried couple</td><td>Female</td></tr>\n",
       "</tbody>\n",
       "</table>\n"
      ],
      "text/latex": [
       "A data.frame: 1200 × 4\n",
       "\\begin{tabular}{llll}\n",
       " income2 & menthlth & marital & sex\\\\\n",
       " <fct> & <dbl> & <fct> & <fct>\\\\\n",
       "\\hline\n",
       "\t Less than \\$25,000 & 0.0000000 & Married & Male\\\\\n",
       "\t Less than \\$25,000 & 0.3030303 & Married & Male\\\\\n",
       "\t Less than \\$25,000 & 0.6060606 & Married & Male\\\\\n",
       "\t Less than \\$25,000 & 0.9090909 & Married & Male\\\\\n",
       "\t Less than \\$25,000 & 1.2121212 & Married & Male\\\\\n",
       "\t Less than \\$25,000 & 1.5151515 & Married & Male\\\\\n",
       "\t Less than \\$25,000 & 1.8181818 & Married & Male\\\\\n",
       "\t Less than \\$25,000 & 2.1212121 & Married & Male\\\\\n",
       "\t Less than \\$25,000 & 2.4242424 & Married & Male\\\\\n",
       "\t Less than \\$25,000 & 2.7272727 & Married & Male\\\\\n",
       "\t Less than \\$25,000 & 3.0303030 & Married & Male\\\\\n",
       "\t Less than \\$25,000 & 3.3333333 & Married & Male\\\\\n",
       "\t Less than \\$25,000 & 3.6363636 & Married & Male\\\\\n",
       "\t Less than \\$25,000 & 3.9393939 & Married & Male\\\\\n",
       "\t Less than \\$25,000 & 4.2424242 & Married & Male\\\\\n",
       "\t Less than \\$25,000 & 4.5454545 & Married & Male\\\\\n",
       "\t Less than \\$25,000 & 4.8484848 & Married & Male\\\\\n",
       "\t Less than \\$25,000 & 5.1515152 & Married & Male\\\\\n",
       "\t Less than \\$25,000 & 5.4545455 & Married & Male\\\\\n",
       "\t Less than \\$25,000 & 5.7575758 & Married & Male\\\\\n",
       "\t Less than \\$25,000 & 6.0606061 & Married & Male\\\\\n",
       "\t Less than \\$25,000 & 6.3636364 & Married & Male\\\\\n",
       "\t Less than \\$25,000 & 6.6666667 & Married & Male\\\\\n",
       "\t Less than \\$25,000 & 6.9696970 & Married & Male\\\\\n",
       "\t Less than \\$25,000 & 7.2727273 & Married & Male\\\\\n",
       "\t Less than \\$25,000 & 7.5757576 & Married & Male\\\\\n",
       "\t Less than \\$25,000 & 7.8787879 & Married & Male\\\\\n",
       "\t Less than \\$25,000 & 8.1818182 & Married & Male\\\\\n",
       "\t Less than \\$25,000 & 8.4848485 & Married & Male\\\\\n",
       "\t Less than \\$25,000 & 8.7878788 & Married & Male\\\\\n",
       "\t ⋮ & ⋮ & ⋮ & ⋮\\\\\n",
       "\t Less than \\$25,000 & 21.21212 & A member of an unmarried couple & Female\\\\\n",
       "\t Less than \\$25,000 & 21.51515 & A member of an unmarried couple & Female\\\\\n",
       "\t Less than \\$25,000 & 21.81818 & A member of an unmarried couple & Female\\\\\n",
       "\t Less than \\$25,000 & 22.12121 & A member of an unmarried couple & Female\\\\\n",
       "\t Less than \\$25,000 & 22.42424 & A member of an unmarried couple & Female\\\\\n",
       "\t Less than \\$25,000 & 22.72727 & A member of an unmarried couple & Female\\\\\n",
       "\t Less than \\$25,000 & 23.03030 & A member of an unmarried couple & Female\\\\\n",
       "\t Less than \\$25,000 & 23.33333 & A member of an unmarried couple & Female\\\\\n",
       "\t Less than \\$25,000 & 23.63636 & A member of an unmarried couple & Female\\\\\n",
       "\t Less than \\$25,000 & 23.93939 & A member of an unmarried couple & Female\\\\\n",
       "\t Less than \\$25,000 & 24.24242 & A member of an unmarried couple & Female\\\\\n",
       "\t Less than \\$25,000 & 24.54545 & A member of an unmarried couple & Female\\\\\n",
       "\t Less than \\$25,000 & 24.84848 & A member of an unmarried couple & Female\\\\\n",
       "\t Less than \\$25,000 & 25.15152 & A member of an unmarried couple & Female\\\\\n",
       "\t Less than \\$25,000 & 25.45455 & A member of an unmarried couple & Female\\\\\n",
       "\t Less than \\$25,000 & 25.75758 & A member of an unmarried couple & Female\\\\\n",
       "\t Less than \\$25,000 & 26.06061 & A member of an unmarried couple & Female\\\\\n",
       "\t Less than \\$25,000 & 26.36364 & A member of an unmarried couple & Female\\\\\n",
       "\t Less than \\$25,000 & 26.66667 & A member of an unmarried couple & Female\\\\\n",
       "\t Less than \\$25,000 & 26.96970 & A member of an unmarried couple & Female\\\\\n",
       "\t Less than \\$25,000 & 27.27273 & A member of an unmarried couple & Female\\\\\n",
       "\t Less than \\$25,000 & 27.57576 & A member of an unmarried couple & Female\\\\\n",
       "\t Less than \\$25,000 & 27.87879 & A member of an unmarried couple & Female\\\\\n",
       "\t Less than \\$25,000 & 28.18182 & A member of an unmarried couple & Female\\\\\n",
       "\t Less than \\$25,000 & 28.48485 & A member of an unmarried couple & Female\\\\\n",
       "\t Less than \\$25,000 & 28.78788 & A member of an unmarried couple & Female\\\\\n",
       "\t Less than \\$25,000 & 29.09091 & A member of an unmarried couple & Female\\\\\n",
       "\t Less than \\$25,000 & 29.39394 & A member of an unmarried couple & Female\\\\\n",
       "\t Less than \\$25,000 & 29.69697 & A member of an unmarried couple & Female\\\\\n",
       "\t Less than \\$25,000 & 30.00000 & A member of an unmarried couple & Female\\\\\n",
       "\\end{tabular}\n"
      ],
      "text/markdown": [
       "\n",
       "A data.frame: 1200 × 4\n",
       "\n",
       "| income2 &lt;fct&gt; | menthlth &lt;dbl&gt; | marital &lt;fct&gt; | sex &lt;fct&gt; |\n",
       "|---|---|---|---|\n",
       "| Less than $25,000 | 0.0000000 | Married | Male |\n",
       "| Less than $25,000 | 0.3030303 | Married | Male |\n",
       "| Less than $25,000 | 0.6060606 | Married | Male |\n",
       "| Less than $25,000 | 0.9090909 | Married | Male |\n",
       "| Less than $25,000 | 1.2121212 | Married | Male |\n",
       "| Less than $25,000 | 1.5151515 | Married | Male |\n",
       "| Less than $25,000 | 1.8181818 | Married | Male |\n",
       "| Less than $25,000 | 2.1212121 | Married | Male |\n",
       "| Less than $25,000 | 2.4242424 | Married | Male |\n",
       "| Less than $25,000 | 2.7272727 | Married | Male |\n",
       "| Less than $25,000 | 3.0303030 | Married | Male |\n",
       "| Less than $25,000 | 3.3333333 | Married | Male |\n",
       "| Less than $25,000 | 3.6363636 | Married | Male |\n",
       "| Less than $25,000 | 3.9393939 | Married | Male |\n",
       "| Less than $25,000 | 4.2424242 | Married | Male |\n",
       "| Less than $25,000 | 4.5454545 | Married | Male |\n",
       "| Less than $25,000 | 4.8484848 | Married | Male |\n",
       "| Less than $25,000 | 5.1515152 | Married | Male |\n",
       "| Less than $25,000 | 5.4545455 | Married | Male |\n",
       "| Less than $25,000 | 5.7575758 | Married | Male |\n",
       "| Less than $25,000 | 6.0606061 | Married | Male |\n",
       "| Less than $25,000 | 6.3636364 | Married | Male |\n",
       "| Less than $25,000 | 6.6666667 | Married | Male |\n",
       "| Less than $25,000 | 6.9696970 | Married | Male |\n",
       "| Less than $25,000 | 7.2727273 | Married | Male |\n",
       "| Less than $25,000 | 7.5757576 | Married | Male |\n",
       "| Less than $25,000 | 7.8787879 | Married | Male |\n",
       "| Less than $25,000 | 8.1818182 | Married | Male |\n",
       "| Less than $25,000 | 8.4848485 | Married | Male |\n",
       "| Less than $25,000 | 8.7878788 | Married | Male |\n",
       "| ⋮ | ⋮ | ⋮ | ⋮ |\n",
       "| Less than $25,000 | 21.21212 | A member of an unmarried couple | Female |\n",
       "| Less than $25,000 | 21.51515 | A member of an unmarried couple | Female |\n",
       "| Less than $25,000 | 21.81818 | A member of an unmarried couple | Female |\n",
       "| Less than $25,000 | 22.12121 | A member of an unmarried couple | Female |\n",
       "| Less than $25,000 | 22.42424 | A member of an unmarried couple | Female |\n",
       "| Less than $25,000 | 22.72727 | A member of an unmarried couple | Female |\n",
       "| Less than $25,000 | 23.03030 | A member of an unmarried couple | Female |\n",
       "| Less than $25,000 | 23.33333 | A member of an unmarried couple | Female |\n",
       "| Less than $25,000 | 23.63636 | A member of an unmarried couple | Female |\n",
       "| Less than $25,000 | 23.93939 | A member of an unmarried couple | Female |\n",
       "| Less than $25,000 | 24.24242 | A member of an unmarried couple | Female |\n",
       "| Less than $25,000 | 24.54545 | A member of an unmarried couple | Female |\n",
       "| Less than $25,000 | 24.84848 | A member of an unmarried couple | Female |\n",
       "| Less than $25,000 | 25.15152 | A member of an unmarried couple | Female |\n",
       "| Less than $25,000 | 25.45455 | A member of an unmarried couple | Female |\n",
       "| Less than $25,000 | 25.75758 | A member of an unmarried couple | Female |\n",
       "| Less than $25,000 | 26.06061 | A member of an unmarried couple | Female |\n",
       "| Less than $25,000 | 26.36364 | A member of an unmarried couple | Female |\n",
       "| Less than $25,000 | 26.66667 | A member of an unmarried couple | Female |\n",
       "| Less than $25,000 | 26.96970 | A member of an unmarried couple | Female |\n",
       "| Less than $25,000 | 27.27273 | A member of an unmarried couple | Female |\n",
       "| Less than $25,000 | 27.57576 | A member of an unmarried couple | Female |\n",
       "| Less than $25,000 | 27.87879 | A member of an unmarried couple | Female |\n",
       "| Less than $25,000 | 28.18182 | A member of an unmarried couple | Female |\n",
       "| Less than $25,000 | 28.48485 | A member of an unmarried couple | Female |\n",
       "| Less than $25,000 | 28.78788 | A member of an unmarried couple | Female |\n",
       "| Less than $25,000 | 29.09091 | A member of an unmarried couple | Female |\n",
       "| Less than $25,000 | 29.39394 | A member of an unmarried couple | Female |\n",
       "| Less than $25,000 | 29.69697 | A member of an unmarried couple | Female |\n",
       "| Less than $25,000 | 30.00000 | A member of an unmarried couple | Female |\n",
       "\n"
      ],
      "text/plain": [
       "     income2           menthlth  marital                         sex   \n",
       "1    Less than $25,000 0.0000000 Married                         Male  \n",
       "2    Less than $25,000 0.3030303 Married                         Male  \n",
       "3    Less than $25,000 0.6060606 Married                         Male  \n",
       "4    Less than $25,000 0.9090909 Married                         Male  \n",
       "5    Less than $25,000 1.2121212 Married                         Male  \n",
       "6    Less than $25,000 1.5151515 Married                         Male  \n",
       "7    Less than $25,000 1.8181818 Married                         Male  \n",
       "8    Less than $25,000 2.1212121 Married                         Male  \n",
       "9    Less than $25,000 2.4242424 Married                         Male  \n",
       "10   Less than $25,000 2.7272727 Married                         Male  \n",
       "11   Less than $25,000 3.0303030 Married                         Male  \n",
       "12   Less than $25,000 3.3333333 Married                         Male  \n",
       "13   Less than $25,000 3.6363636 Married                         Male  \n",
       "14   Less than $25,000 3.9393939 Married                         Male  \n",
       "15   Less than $25,000 4.2424242 Married                         Male  \n",
       "16   Less than $25,000 4.5454545 Married                         Male  \n",
       "17   Less than $25,000 4.8484848 Married                         Male  \n",
       "18   Less than $25,000 5.1515152 Married                         Male  \n",
       "19   Less than $25,000 5.4545455 Married                         Male  \n",
       "20   Less than $25,000 5.7575758 Married                         Male  \n",
       "21   Less than $25,000 6.0606061 Married                         Male  \n",
       "22   Less than $25,000 6.3636364 Married                         Male  \n",
       "23   Less than $25,000 6.6666667 Married                         Male  \n",
       "24   Less than $25,000 6.9696970 Married                         Male  \n",
       "25   Less than $25,000 7.2727273 Married                         Male  \n",
       "26   Less than $25,000 7.5757576 Married                         Male  \n",
       "27   Less than $25,000 7.8787879 Married                         Male  \n",
       "28   Less than $25,000 8.1818182 Married                         Male  \n",
       "29   Less than $25,000 8.4848485 Married                         Male  \n",
       "30   Less than $25,000 8.7878788 Married                         Male  \n",
       "⋮    ⋮                 ⋮         ⋮                               ⋮     \n",
       "1171 Less than $25,000 21.21212  A member of an unmarried couple Female\n",
       "1172 Less than $25,000 21.51515  A member of an unmarried couple Female\n",
       "1173 Less than $25,000 21.81818  A member of an unmarried couple Female\n",
       "1174 Less than $25,000 22.12121  A member of an unmarried couple Female\n",
       "1175 Less than $25,000 22.42424  A member of an unmarried couple Female\n",
       "1176 Less than $25,000 22.72727  A member of an unmarried couple Female\n",
       "1177 Less than $25,000 23.03030  A member of an unmarried couple Female\n",
       "1178 Less than $25,000 23.33333  A member of an unmarried couple Female\n",
       "1179 Less than $25,000 23.63636  A member of an unmarried couple Female\n",
       "1180 Less than $25,000 23.93939  A member of an unmarried couple Female\n",
       "1181 Less than $25,000 24.24242  A member of an unmarried couple Female\n",
       "1182 Less than $25,000 24.54545  A member of an unmarried couple Female\n",
       "1183 Less than $25,000 24.84848  A member of an unmarried couple Female\n",
       "1184 Less than $25,000 25.15152  A member of an unmarried couple Female\n",
       "1185 Less than $25,000 25.45455  A member of an unmarried couple Female\n",
       "1186 Less than $25,000 25.75758  A member of an unmarried couple Female\n",
       "1187 Less than $25,000 26.06061  A member of an unmarried couple Female\n",
       "1188 Less than $25,000 26.36364  A member of an unmarried couple Female\n",
       "1189 Less than $25,000 26.66667  A member of an unmarried couple Female\n",
       "1190 Less than $25,000 26.96970  A member of an unmarried couple Female\n",
       "1191 Less than $25,000 27.27273  A member of an unmarried couple Female\n",
       "1192 Less than $25,000 27.57576  A member of an unmarried couple Female\n",
       "1193 Less than $25,000 27.87879  A member of an unmarried couple Female\n",
       "1194 Less than $25,000 28.18182  A member of an unmarried couple Female\n",
       "1195 Less than $25,000 28.48485  A member of an unmarried couple Female\n",
       "1196 Less than $25,000 28.78788  A member of an unmarried couple Female\n",
       "1197 Less than $25,000 29.09091  A member of an unmarried couple Female\n",
       "1198 Less than $25,000 29.39394  A member of an unmarried couple Female\n",
       "1199 Less than $25,000 29.69697  A member of an unmarried couple Female\n",
       "1200 Less than $25,000 30.00000  A member of an unmarried couple Female"
      ]
     },
     "metadata": {},
     "output_type": "display_data"
    },
    {
     "data": {
      "text/html": [
       "<style>\n",
       ".list-inline {list-style: none; margin:0; padding: 0}\n",
       ".list-inline>li {display: inline-block}\n",
       ".list-inline>li:not(:last-child)::after {content: \"\\00b7\"; padding: 0 .5ex}\n",
       "</style>\n",
       "<ol class=list-inline><li>'Married'</li><li>'Divorced'</li><li>'Widowed'</li><li>'Separated'</li><li>'Never married'</li><li>'A member of an unmarried couple'</li></ol>\n"
      ],
      "text/latex": [
       "\\begin{enumerate*}\n",
       "\\item 'Married'\n",
       "\\item 'Divorced'\n",
       "\\item 'Widowed'\n",
       "\\item 'Separated'\n",
       "\\item 'Never married'\n",
       "\\item 'A member of an unmarried couple'\n",
       "\\end{enumerate*}\n"
      ],
      "text/markdown": [
       "1. 'Married'\n",
       "2. 'Divorced'\n",
       "3. 'Widowed'\n",
       "4. 'Separated'\n",
       "5. 'Never married'\n",
       "6. 'A member of an unmarried couple'\n",
       "\n",
       "\n"
      ],
      "text/plain": [
       "[1] \"Married\"                         \"Divorced\"                       \n",
       "[3] \"Widowed\"                         \"Separated\"                      \n",
       "[5] \"Never married\"                   \"A member of an unmarried couple\""
      ]
     },
     "metadata": {},
     "output_type": "display_data"
    },
    {
     "data": {
      "image/png": "[encoded data removed]",
      "text/plain": [
       "plot without title"
      ]
     },
     "metadata": {
      "image/png": {
       "height": 420,
       "width": 420
      }
     },
     "output_type": "display_data"
    }
   ],
   "source": [
    "# holding income level at median, color by sex\n",
    "med_income2 <- levels(data_poisson$income2)[ceiling(length(levels(data_poisson$income2))/2)]\n",
    "new_data <- expand.grid(income2 = med_income2, \n",
    "                        menthlth = seq(from = min(data_poisson$menthlth), \n",
    "                                       to = max(data_poisson$menthlth), \n",
    "                                       length.out = 100), \n",
    "                        marital = levels(data_poisson$marital), \n",
    "                        sex = levels(data_poisson$sex))\n",
    "new_data\n",
    "new_data$predicted <- predict(z16, newdata = new_data, type = \"response\")\n",
    "\n",
    "levels(data_poisson$marital)\n",
    "plot(drnk3ge5 ~ menthlth, data=data_poisson, pch=16, col = c(\"blue\", \"red\")[as.factor(data_poisson$sex)])\n",
    "\n",
    "new_data_male <- subset(new_data, new_data$sex ==\"Male\")\n",
    "new_data_female <- subset(new_data, new_data$sex ==\"Female\")\n",
    "\n",
    "lines(new_data_male$menthlth, new_data_male$pred, lty=1, col=\"blue\")\n",
    "lines(new_data_female$menthlth, new_data_female$pred, lty=1, col=\"red\")\n",
    "\n",
    "legend(\"topleft\", legend=c(\"Male\", \"Female\"),\n",
    "       col=c(\"blue\", \"red\"), pch=16)"
   ]
  },
  {
   "cell_type": "code",
   "execution_count": 67,
   "metadata": {},
   "outputs": [
    {
     "data": {
      "text/html": [
       "<table class=\"dataframe\">\n",
       "<caption>A data.frame: 1600 × 4</caption>\n",
       "<thead>\n",
       "\t<tr><th scope=col>marital</th><th scope=col>menthlth</th><th scope=col>income2</th><th scope=col>sex</th></tr>\n",
       "\t<tr><th scope=col>&lt;fct&gt;</th><th scope=col>&lt;dbl&gt;</th><th scope=col>&lt;fct&gt;</th><th scope=col>&lt;fct&gt;</th></tr>\n",
       "</thead>\n",
       "<tbody>\n",
       "\t<tr><td>Widowed</td><td>0.0000000</td><td>Less than $10,000</td><td>Male</td></tr>\n",
       "\t<tr><td>Widowed</td><td>0.3030303</td><td>Less than $10,000</td><td>Male</td></tr>\n",
       "\t<tr><td>Widowed</td><td>0.6060606</td><td>Less than $10,000</td><td>Male</td></tr>\n",
       "\t<tr><td>Widowed</td><td>0.9090909</td><td>Less than $10,000</td><td>Male</td></tr>\n",
       "\t<tr><td>Widowed</td><td>1.2121212</td><td>Less than $10,000</td><td>Male</td></tr>\n",
       "\t<tr><td>Widowed</td><td>1.5151515</td><td>Less than $10,000</td><td>Male</td></tr>\n",
       "\t<tr><td>Widowed</td><td>1.8181818</td><td>Less than $10,000</td><td>Male</td></tr>\n",
       "\t<tr><td>Widowed</td><td>2.1212121</td><td>Less than $10,000</td><td>Male</td></tr>\n",
       "\t<tr><td>Widowed</td><td>2.4242424</td><td>Less than $10,000</td><td>Male</td></tr>\n",
       "\t<tr><td>Widowed</td><td>2.7272727</td><td>Less than $10,000</td><td>Male</td></tr>\n",
       "\t<tr><td>Widowed</td><td>3.0303030</td><td>Less than $10,000</td><td>Male</td></tr>\n",
       "\t<tr><td>Widowed</td><td>3.3333333</td><td>Less than $10,000</td><td>Male</td></tr>\n",
       "\t<tr><td>Widowed</td><td>3.6363636</td><td>Less than $10,000</td><td>Male</td></tr>\n",
       "\t<tr><td>Widowed</td><td>3.9393939</td><td>Less than $10,000</td><td>Male</td></tr>\n",
       "\t<tr><td>Widowed</td><td>4.2424242</td><td>Less than $10,000</td><td>Male</td></tr>\n",
       "\t<tr><td>Widowed</td><td>4.5454545</td><td>Less than $10,000</td><td>Male</td></tr>\n",
       "\t<tr><td>Widowed</td><td>4.8484848</td><td>Less than $10,000</td><td>Male</td></tr>\n",
       "\t<tr><td>Widowed</td><td>5.1515152</td><td>Less than $10,000</td><td>Male</td></tr>\n",
       "\t<tr><td>Widowed</td><td>5.4545455</td><td>Less than $10,000</td><td>Male</td></tr>\n",
       "\t<tr><td>Widowed</td><td>5.7575758</td><td>Less than $10,000</td><td>Male</td></tr>\n",
       "\t<tr><td>Widowed</td><td>6.0606061</td><td>Less than $10,000</td><td>Male</td></tr>\n",
       "\t<tr><td>Widowed</td><td>6.3636364</td><td>Less than $10,000</td><td>Male</td></tr>\n",
       "\t<tr><td>Widowed</td><td>6.6666667</td><td>Less than $10,000</td><td>Male</td></tr>\n",
       "\t<tr><td>Widowed</td><td>6.9696970</td><td>Less than $10,000</td><td>Male</td></tr>\n",
       "\t<tr><td>Widowed</td><td>7.2727273</td><td>Less than $10,000</td><td>Male</td></tr>\n",
       "\t<tr><td>Widowed</td><td>7.5757576</td><td>Less than $10,000</td><td>Male</td></tr>\n",
       "\t<tr><td>Widowed</td><td>7.8787879</td><td>Less than $10,000</td><td>Male</td></tr>\n",
       "\t<tr><td>Widowed</td><td>8.1818182</td><td>Less than $10,000</td><td>Male</td></tr>\n",
       "\t<tr><td>Widowed</td><td>8.4848485</td><td>Less than $10,000</td><td>Male</td></tr>\n",
       "\t<tr><td>Widowed</td><td>8.7878788</td><td>Less than $10,000</td><td>Male</td></tr>\n",
       "\t<tr><td>⋮</td><td>⋮</td><td>⋮</td><td>⋮</td></tr>\n",
       "\t<tr><td>Widowed</td><td>21.21212</td><td>$75,000 or more</td><td>Female</td></tr>\n",
       "\t<tr><td>Widowed</td><td>21.51515</td><td>$75,000 or more</td><td>Female</td></tr>\n",
       "\t<tr><td>Widowed</td><td>21.81818</td><td>$75,000 or more</td><td>Female</td></tr>\n",
       "\t<tr><td>Widowed</td><td>22.12121</td><td>$75,000 or more</td><td>Female</td></tr>\n",
       "\t<tr><td>Widowed</td><td>22.42424</td><td>$75,000 or more</td><td>Female</td></tr>\n",
       "\t<tr><td>Widowed</td><td>22.72727</td><td>$75,000 or more</td><td>Female</td></tr>\n",
       "\t<tr><td>Widowed</td><td>23.03030</td><td>$75,000 or more</td><td>Female</td></tr>\n",
       "\t<tr><td>Widowed</td><td>23.33333</td><td>$75,000 or more</td><td>Female</td></tr>\n",
       "\t<tr><td>Widowed</td><td>23.63636</td><td>$75,000 or more</td><td>Female</td></tr>\n",
       "\t<tr><td>Widowed</td><td>23.93939</td><td>$75,000 or more</td><td>Female</td></tr>\n",
       "\t<tr><td>Widowed</td><td>24.24242</td><td>$75,000 or more</td><td>Female</td></tr>\n",
       "\t<tr><td>Widowed</td><td>24.54545</td><td>$75,000 or more</td><td>Female</td></tr>\n",
       "\t<tr><td>Widowed</td><td>24.84848</td><td>$75,000 or more</td><td>Female</td></tr>\n",
       "\t<tr><td>Widowed</td><td>25.15152</td><td>$75,000 or more</td><td>Female</td></tr>\n",
       "\t<tr><td>Widowed</td><td>25.45455</td><td>$75,000 or more</td><td>Female</td></tr>\n",
       "\t<tr><td>Widowed</td><td>25.75758</td><td>$75,000 or more</td><td>Female</td></tr>\n",
       "\t<tr><td>Widowed</td><td>26.06061</td><td>$75,000 or more</td><td>Female</td></tr>\n",
       "\t<tr><td>Widowed</td><td>26.36364</td><td>$75,000 or more</td><td>Female</td></tr>\n",
       "\t<tr><td>Widowed</td><td>26.66667</td><td>$75,000 or more</td><td>Female</td></tr>\n",
       "\t<tr><td>Widowed</td><td>26.96970</td><td>$75,000 or more</td><td>Female</td></tr>\n",
       "\t<tr><td>Widowed</td><td>27.27273</td><td>$75,000 or more</td><td>Female</td></tr>\n",
       "\t<tr><td>Widowed</td><td>27.57576</td><td>$75,000 or more</td><td>Female</td></tr>\n",
       "\t<tr><td>Widowed</td><td>27.87879</td><td>$75,000 or more</td><td>Female</td></tr>\n",
       "\t<tr><td>Widowed</td><td>28.18182</td><td>$75,000 or more</td><td>Female</td></tr>\n",
       "\t<tr><td>Widowed</td><td>28.48485</td><td>$75,000 or more</td><td>Female</td></tr>\n",
       "\t<tr><td>Widowed</td><td>28.78788</td><td>$75,000 or more</td><td>Female</td></tr>\n",
       "\t<tr><td>Widowed</td><td>29.09091</td><td>$75,000 or more</td><td>Female</td></tr>\n",
       "\t<tr><td>Widowed</td><td>29.39394</td><td>$75,000 or more</td><td>Female</td></tr>\n",
       "\t<tr><td>Widowed</td><td>29.69697</td><td>$75,000 or more</td><td>Female</td></tr>\n",
       "\t<tr><td>Widowed</td><td>30.00000</td><td>$75,000 or more</td><td>Female</td></tr>\n",
       "</tbody>\n",
       "</table>\n"
      ],
      "text/latex": [
       "A data.frame: 1600 × 4\n",
       "\\begin{tabular}{llll}\n",
       " marital & menthlth & income2 & sex\\\\\n",
       " <fct> & <dbl> & <fct> & <fct>\\\\\n",
       "\\hline\n",
       "\t Widowed & 0.0000000 & Less than \\$10,000 & Male\\\\\n",
       "\t Widowed & 0.3030303 & Less than \\$10,000 & Male\\\\\n",
       "\t Widowed & 0.6060606 & Less than \\$10,000 & Male\\\\\n",
       "\t Widowed & 0.9090909 & Less than \\$10,000 & Male\\\\\n",
       "\t Widowed & 1.2121212 & Less than \\$10,000 & Male\\\\\n",
       "\t Widowed & 1.5151515 & Less than \\$10,000 & Male\\\\\n",
       "\t Widowed & 1.8181818 & Less than \\$10,000 & Male\\\\\n",
       "\t Widowed & 2.1212121 & Less than \\$10,000 & Male\\\\\n",
       "\t Widowed & 2.4242424 & Less than \\$10,000 & Male\\\\\n",
       "\t Widowed & 2.7272727 & Less than \\$10,000 & Male\\\\\n",
       "\t Widowed & 3.0303030 & Less than \\$10,000 & Male\\\\\n",
       "\t Widowed & 3.3333333 & Less than \\$10,000 & Male\\\\\n",
       "\t Widowed & 3.6363636 & Less than \\$10,000 & Male\\\\\n",
       "\t Widowed & 3.9393939 & Less than \\$10,000 & Male\\\\\n",
       "\t Widowed & 4.2424242 & Less than \\$10,000 & Male\\\\\n",
       "\t Widowed & 4.5454545 & Less than \\$10,000 & Male\\\\\n",
       "\t Widowed & 4.8484848 & Less than \\$10,000 & Male\\\\\n",
       "\t Widowed & 5.1515152 & Less than \\$10,000 & Male\\\\\n",
       "\t Widowed & 5.4545455 & Less than \\$10,000 & Male\\\\\n",
       "\t Widowed & 5.7575758 & Less than \\$10,000 & Male\\\\\n",
       "\t Widowed & 6.0606061 & Less than \\$10,000 & Male\\\\\n",
       "\t Widowed & 6.3636364 & Less than \\$10,000 & Male\\\\\n",
       "\t Widowed & 6.6666667 & Less than \\$10,000 & Male\\\\\n",
       "\t Widowed & 6.9696970 & Less than \\$10,000 & Male\\\\\n",
       "\t Widowed & 7.2727273 & Less than \\$10,000 & Male\\\\\n",
       "\t Widowed & 7.5757576 & Less than \\$10,000 & Male\\\\\n",
       "\t Widowed & 7.8787879 & Less than \\$10,000 & Male\\\\\n",
       "\t Widowed & 8.1818182 & Less than \\$10,000 & Male\\\\\n",
       "\t Widowed & 8.4848485 & Less than \\$10,000 & Male\\\\\n",
       "\t Widowed & 8.7878788 & Less than \\$10,000 & Male\\\\\n",
       "\t ⋮ & ⋮ & ⋮ & ⋮\\\\\n",
       "\t Widowed & 21.21212 & \\$75,000 or more & Female\\\\\n",
       "\t Widowed & 21.51515 & \\$75,000 or more & Female\\\\\n",
       "\t Widowed & 21.81818 & \\$75,000 or more & Female\\\\\n",
       "\t Widowed & 22.12121 & \\$75,000 or more & Female\\\\\n",
       "\t Widowed & 22.42424 & \\$75,000 or more & Female\\\\\n",
       "\t Widowed & 22.72727 & \\$75,000 or more & Female\\\\\n",
       "\t Widowed & 23.03030 & \\$75,000 or more & Female\\\\\n",
       "\t Widowed & 23.33333 & \\$75,000 or more & Female\\\\\n",
       "\t Widowed & 23.63636 & \\$75,000 or more & Female\\\\\n",
       "\t Widowed & 23.93939 & \\$75,000 or more & Female\\\\\n",
       "\t Widowed & 24.24242 & \\$75,000 or more & Female\\\\\n",
       "\t Widowed & 24.54545 & \\$75,000 or more & Female\\\\\n",
       "\t Widowed & 24.84848 & \\$75,000 or more & Female\\\\\n",
       "\t Widowed & 25.15152 & \\$75,000 or more & Female\\\\\n",
       "\t Widowed & 25.45455 & \\$75,000 or more & Female\\\\\n",
       "\t Widowed & 25.75758 & \\$75,000 or more & Female\\\\\n",
       "\t Widowed & 26.06061 & \\$75,000 or more & Female\\\\\n",
       "\t Widowed & 26.36364 & \\$75,000 or more & Female\\\\\n",
       "\t Widowed & 26.66667 & \\$75,000 or more & Female\\\\\n",
       "\t Widowed & 26.96970 & \\$75,000 or more & Female\\\\\n",
       "\t Widowed & 27.27273 & \\$75,000 or more & Female\\\\\n",
       "\t Widowed & 27.57576 & \\$75,000 or more & Female\\\\\n",
       "\t Widowed & 27.87879 & \\$75,000 or more & Female\\\\\n",
       "\t Widowed & 28.18182 & \\$75,000 or more & Female\\\\\n",
       "\t Widowed & 28.48485 & \\$75,000 or more & Female\\\\\n",
       "\t Widowed & 28.78788 & \\$75,000 or more & Female\\\\\n",
       "\t Widowed & 29.09091 & \\$75,000 or more & Female\\\\\n",
       "\t Widowed & 29.39394 & \\$75,000 or more & Female\\\\\n",
       "\t Widowed & 29.69697 & \\$75,000 or more & Female\\\\\n",
       "\t Widowed & 30.00000 & \\$75,000 or more & Female\\\\\n",
       "\\end{tabular}\n"
      ],
      "text/markdown": [
       "\n",
       "A data.frame: 1600 × 4\n",
       "\n",
       "| marital &lt;fct&gt; | menthlth &lt;dbl&gt; | income2 &lt;fct&gt; | sex &lt;fct&gt; |\n",
       "|---|---|---|---|\n",
       "| Widowed | 0.0000000 | Less than $10,000 | Male |\n",
       "| Widowed | 0.3030303 | Less than $10,000 | Male |\n",
       "| Widowed | 0.6060606 | Less than $10,000 | Male |\n",
       "| Widowed | 0.9090909 | Less than $10,000 | Male |\n",
       "| Widowed | 1.2121212 | Less than $10,000 | Male |\n",
       "| Widowed | 1.5151515 | Less than $10,000 | Male |\n",
       "| Widowed | 1.8181818 | Less than $10,000 | Male |\n",
       "| Widowed | 2.1212121 | Less than $10,000 | Male |\n",
       "| Widowed | 2.4242424 | Less than $10,000 | Male |\n",
       "| Widowed | 2.7272727 | Less than $10,000 | Male |\n",
       "| Widowed | 3.0303030 | Less than $10,000 | Male |\n",
       "| Widowed | 3.3333333 | Less than $10,000 | Male |\n",
       "| Widowed | 3.6363636 | Less than $10,000 | Male |\n",
       "| Widowed | 3.9393939 | Less than $10,000 | Male |\n",
       "| Widowed | 4.2424242 | Less than $10,000 | Male |\n",
       "| Widowed | 4.5454545 | Less than $10,000 | Male |\n",
       "| Widowed | 4.8484848 | Less than $10,000 | Male |\n",
       "| Widowed | 5.1515152 | Less than $10,000 | Male |\n",
       "| Widowed | 5.4545455 | Less than $10,000 | Male |\n",
       "| Widowed | 5.7575758 | Less than $10,000 | Male |\n",
       "| Widowed | 6.0606061 | Less than $10,000 | Male |\n",
       "| Widowed | 6.3636364 | Less than $10,000 | Male |\n",
       "| Widowed | 6.6666667 | Less than $10,000 | Male |\n",
       "| Widowed | 6.9696970 | Less than $10,000 | Male |\n",
       "| Widowed | 7.2727273 | Less than $10,000 | Male |\n",
       "| Widowed | 7.5757576 | Less than $10,000 | Male |\n",
       "| Widowed | 7.8787879 | Less than $10,000 | Male |\n",
       "| Widowed | 8.1818182 | Less than $10,000 | Male |\n",
       "| Widowed | 8.4848485 | Less than $10,000 | Male |\n",
       "| Widowed | 8.7878788 | Less than $10,000 | Male |\n",
       "| ⋮ | ⋮ | ⋮ | ⋮ |\n",
       "| Widowed | 21.21212 | $75,000 or more | Female |\n",
       "| Widowed | 21.51515 | $75,000 or more | Female |\n",
       "| Widowed | 21.81818 | $75,000 or more | Female |\n",
       "| Widowed | 22.12121 | $75,000 or more | Female |\n",
       "| Widowed | 22.42424 | $75,000 or more | Female |\n",
       "| Widowed | 22.72727 | $75,000 or more | Female |\n",
       "| Widowed | 23.03030 | $75,000 or more | Female |\n",
       "| Widowed | 23.33333 | $75,000 or more | Female |\n",
       "| Widowed | 23.63636 | $75,000 or more | Female |\n",
       "| Widowed | 23.93939 | $75,000 or more | Female |\n",
       "| Widowed | 24.24242 | $75,000 or more | Female |\n",
       "| Widowed | 24.54545 | $75,000 or more | Female |\n",
       "| Widowed | 24.84848 | $75,000 or more | Female |\n",
       "| Widowed | 25.15152 | $75,000 or more | Female |\n",
       "| Widowed | 25.45455 | $75,000 or more | Female |\n",
       "| Widowed | 25.75758 | $75,000 or more | Female |\n",
       "| Widowed | 26.06061 | $75,000 or more | Female |\n",
       "| Widowed | 26.36364 | $75,000 or more | Female |\n",
       "| Widowed | 26.66667 | $75,000 or more | Female |\n",
       "| Widowed | 26.96970 | $75,000 or more | Female |\n",
       "| Widowed | 27.27273 | $75,000 or more | Female |\n",
       "| Widowed | 27.57576 | $75,000 or more | Female |\n",
       "| Widowed | 27.87879 | $75,000 or more | Female |\n",
       "| Widowed | 28.18182 | $75,000 or more | Female |\n",
       "| Widowed | 28.48485 | $75,000 or more | Female |\n",
       "| Widowed | 28.78788 | $75,000 or more | Female |\n",
       "| Widowed | 29.09091 | $75,000 or more | Female |\n",
       "| Widowed | 29.39394 | $75,000 or more | Female |\n",
       "| Widowed | 29.69697 | $75,000 or more | Female |\n",
       "| Widowed | 30.00000 | $75,000 or more | Female |\n",
       "\n"
      ],
      "text/plain": [
       "     marital menthlth  income2           sex   \n",
       "1    Widowed 0.0000000 Less than $10,000 Male  \n",
       "2    Widowed 0.3030303 Less than $10,000 Male  \n",
       "3    Widowed 0.6060606 Less than $10,000 Male  \n",
       "4    Widowed 0.9090909 Less than $10,000 Male  \n",
       "5    Widowed 1.2121212 Less than $10,000 Male  \n",
       "6    Widowed 1.5151515 Less than $10,000 Male  \n",
       "7    Widowed 1.8181818 Less than $10,000 Male  \n",
       "8    Widowed 2.1212121 Less than $10,000 Male  \n",
       "9    Widowed 2.4242424 Less than $10,000 Male  \n",
       "10   Widowed 2.7272727 Less than $10,000 Male  \n",
       "11   Widowed 3.0303030 Less than $10,000 Male  \n",
       "12   Widowed 3.3333333 Less than $10,000 Male  \n",
       "13   Widowed 3.6363636 Less than $10,000 Male  \n",
       "14   Widowed 3.9393939 Less than $10,000 Male  \n",
       "15   Widowed 4.2424242 Less than $10,000 Male  \n",
       "16   Widowed 4.5454545 Less than $10,000 Male  \n",
       "17   Widowed 4.8484848 Less than $10,000 Male  \n",
       "18   Widowed 5.1515152 Less than $10,000 Male  \n",
       "19   Widowed 5.4545455 Less than $10,000 Male  \n",
       "20   Widowed 5.7575758 Less than $10,000 Male  \n",
       "21   Widowed 6.0606061 Less than $10,000 Male  \n",
       "22   Widowed 6.3636364 Less than $10,000 Male  \n",
       "23   Widowed 6.6666667 Less than $10,000 Male  \n",
       "24   Widowed 6.9696970 Less than $10,000 Male  \n",
       "25   Widowed 7.2727273 Less than $10,000 Male  \n",
       "26   Widowed 7.5757576 Less than $10,000 Male  \n",
       "27   Widowed 7.8787879 Less than $10,000 Male  \n",
       "28   Widowed 8.1818182 Less than $10,000 Male  \n",
       "29   Widowed 8.4848485 Less than $10,000 Male  \n",
       "30   Widowed 8.7878788 Less than $10,000 Male  \n",
       "⋮    ⋮       ⋮         ⋮                 ⋮     \n",
       "1571 Widowed 21.21212  $75,000 or more   Female\n",
       "1572 Widowed 21.51515  $75,000 or more   Female\n",
       "1573 Widowed 21.81818  $75,000 or more   Female\n",
       "1574 Widowed 22.12121  $75,000 or more   Female\n",
       "1575 Widowed 22.42424  $75,000 or more   Female\n",
       "1576 Widowed 22.72727  $75,000 or more   Female\n",
       "1577 Widowed 23.03030  $75,000 or more   Female\n",
       "1578 Widowed 23.33333  $75,000 or more   Female\n",
       "1579 Widowed 23.63636  $75,000 or more   Female\n",
       "1580 Widowed 23.93939  $75,000 or more   Female\n",
       "1581 Widowed 24.24242  $75,000 or more   Female\n",
       "1582 Widowed 24.54545  $75,000 or more   Female\n",
       "1583 Widowed 24.84848  $75,000 or more   Female\n",
       "1584 Widowed 25.15152  $75,000 or more   Female\n",
       "1585 Widowed 25.45455  $75,000 or more   Female\n",
       "1586 Widowed 25.75758  $75,000 or more   Female\n",
       "1587 Widowed 26.06061  $75,000 or more   Female\n",
       "1588 Widowed 26.36364  $75,000 or more   Female\n",
       "1589 Widowed 26.66667  $75,000 or more   Female\n",
       "1590 Widowed 26.96970  $75,000 or more   Female\n",
       "1591 Widowed 27.27273  $75,000 or more   Female\n",
       "1592 Widowed 27.57576  $75,000 or more   Female\n",
       "1593 Widowed 27.87879  $75,000 or more   Female\n",
       "1594 Widowed 28.18182  $75,000 or more   Female\n",
       "1595 Widowed 28.48485  $75,000 or more   Female\n",
       "1596 Widowed 28.78788  $75,000 or more   Female\n",
       "1597 Widowed 29.09091  $75,000 or more   Female\n",
       "1598 Widowed 29.39394  $75,000 or more   Female\n",
       "1599 Widowed 29.69697  $75,000 or more   Female\n",
       "1600 Widowed 30.00000  $75,000 or more   Female"
      ]
     },
     "metadata": {},
     "output_type": "display_data"
    },
    {
     "data": {
      "text/html": [
       "<style>\n",
       ".list-inline {list-style: none; margin:0; padding: 0}\n",
       ".list-inline>li {display: inline-block}\n",
       ".list-inline>li:not(:last-child)::after {content: \"\\00b7\"; padding: 0 .5ex}\n",
       "</style>\n",
       "<ol class=list-inline><li>'Less than $10,000'</li><li>'Less than $15,000'</li><li>'Less than $20,000'</li><li>'Less than $25,000'</li><li>'Less than $35,000'</li><li>'Less than $50,000'</li><li>'Less than $75,000'</li><li>'$75,000 or more'</li></ol>\n"
      ],
      "text/latex": [
       "\\begin{enumerate*}\n",
       "\\item 'Less than \\$10,000'\n",
       "\\item 'Less than \\$15,000'\n",
       "\\item 'Less than \\$20,000'\n",
       "\\item 'Less than \\$25,000'\n",
       "\\item 'Less than \\$35,000'\n",
       "\\item 'Less than \\$50,000'\n",
       "\\item 'Less than \\$75,000'\n",
       "\\item '\\$75,000 or more'\n",
       "\\end{enumerate*}\n"
      ],
      "text/markdown": [
       "1. 'Less than $10,000'\n",
       "2. 'Less than $15,000'\n",
       "3. 'Less than $20,000'\n",
       "4. 'Less than $25,000'\n",
       "5. 'Less than $35,000'\n",
       "6. 'Less than $50,000'\n",
       "7. 'Less than $75,000'\n",
       "8. '$75,000 or more'\n",
       "\n",
       "\n"
      ],
      "text/plain": [
       "[1] \"Less than $10,000\" \"Less than $15,000\" \"Less than $20,000\"\n",
       "[4] \"Less than $25,000\" \"Less than $35,000\" \"Less than $50,000\"\n",
       "[7] \"Less than $75,000\" \"$75,000 or more\"  "
      ]
     },
     "metadata": {},
     "output_type": "display_data"
    },
    {
     "data": {
      "image/png": "[encoded data removed]",
      "text/plain": [
       "plot without title"
      ]
     },
     "metadata": {
      "image/png": {
       "height": 420,
       "width": 420
      }
     },
     "output_type": "display_data"
    }
   ],
   "source": [
    "# holding marital status at median, color by income\n",
    "med_marital <- levels(data_poisson$marital)[ceiling(length(levels(data_poisson$marital))/2)]\n",
    "new_data2 <- expand.grid(marital = med_marital, \n",
    "                        menthlth = seq(from = min(data_poisson$menthlth), \n",
    "                                       to = max(data_poisson$menthlth), \n",
    "                                       length.out = 100), \n",
    "                        income2 = levels(data_poisson$income2), \n",
    "                        sex = levels(data_poisson$sex))\n",
    "new_data2\n",
    "new_data2$predicted <- predict(z16, newdata = new_data2, type = \"response\")\n",
    "\n",
    "levels(data_poisson$income2)\n",
    "plot(drnk3ge5 ~ menthlth, data=data_poisson, pch=16, col = c(\"blue\", \"red\", \"green\", \"orange\", \"purple\",\"yellow\", \"pink\",\"gray\")[as.factor(data_poisson$income2)])\n",
    "\n",
    "new_data_10000 <- subset(new_data2, new_data2$income2 ==\"Less than $10,000\")\n",
    "new_data_15000 <- subset(new_data2, new_data2$income2 ==\"Less than $15,000\")\n",
    "new_data_20000 <- subset(new_data2, new_data2$income2 ==\"Less than $20,000\")\n",
    "new_data_25000 <- subset(new_data2, new_data2$income2 ==\"Less than $25,000\")\n",
    "new_data_35000 <- subset(new_data2, new_data2$income2 ==\"Less than $35,000\")\n",
    "new_data_50000 <- subset(new_data2, new_data2$income2 ==\"Less than $50,000\")\n",
    "new_data_75000 <- subset(new_data2, new_data2$income2 ==\"Less than $75,000\")\n",
    "new_data_more <- subset(new_data2, new_data2$income2 ==\"$75,000 or more\")\n",
    "\n",
    "\n",
    "lines(new_data_10000$menthlth, new_data_10000$pred, lty=1, col=\"blue\")\n",
    "lines(new_data_15000$menthlth, new_data_15000$pred, lty=1, col=\"red\")\n",
    "lines(new_data_20000$menthlth, new_data_20000$pred, lty=1, col=\"green\")\n",
    "lines(new_data_25000$menthlth, new_data_25000$pred, lty=1, col=\"orange\")\n",
    "lines(new_data_35000$menthlth, new_data_35000$pred, lty=1, col=\"purple\")\n",
    "lines(new_data_50000$menthlth, new_data_50000$pred, lty=1, col=\"yellow\")\n",
    "lines(new_data_75000$menthlth, new_data_75000$pred, lty=1, col=\"pink\")\n",
    "lines(new_data_more$menthlth, new_data_more$pred, lty=1, col=\"gray\")\n",
    "\n",
    "legend(\"topleft\", legend=c(\"Less than $10,000\",\"Less than $15,000\", \"Less than $20,000\", \"Less than $25,000\", \"Less than $35,000\", \"Less than $50,000\", \"Less than $75,000\", \"$75,000 or more\"),\n",
    "       col=c(\"blue\", \"red\", \"green\", \"orange\", \"purple\",\"yellow\", \"pink\",\"gray\"), pch=16)\n"
   ]
  },
  {
   "cell_type": "code",
   "execution_count": 68,
   "metadata": {},
   "outputs": [
    {
     "data": {
      "text/html": [
       "<table class=\"dataframe\">\n",
       "<caption>A data.frame: 4800 × 4</caption>\n",
       "<thead>\n",
       "\t<tr><th scope=col>sex</th><th scope=col>menthlth</th><th scope=col>income2</th><th scope=col>marital</th></tr>\n",
       "\t<tr><th scope=col>&lt;fct&gt;</th><th scope=col>&lt;dbl&gt;</th><th scope=col>&lt;fct&gt;</th><th scope=col>&lt;fct&gt;</th></tr>\n",
       "</thead>\n",
       "<tbody>\n",
       "\t<tr><td>Male</td><td>0.0000000</td><td>Less than $10,000</td><td>Married</td></tr>\n",
       "\t<tr><td>Male</td><td>0.3030303</td><td>Less than $10,000</td><td>Married</td></tr>\n",
       "\t<tr><td>Male</td><td>0.6060606</td><td>Less than $10,000</td><td>Married</td></tr>\n",
       "\t<tr><td>Male</td><td>0.9090909</td><td>Less than $10,000</td><td>Married</td></tr>\n",
       "\t<tr><td>Male</td><td>1.2121212</td><td>Less than $10,000</td><td>Married</td></tr>\n",
       "\t<tr><td>Male</td><td>1.5151515</td><td>Less than $10,000</td><td>Married</td></tr>\n",
       "\t<tr><td>Male</td><td>1.8181818</td><td>Less than $10,000</td><td>Married</td></tr>\n",
       "\t<tr><td>Male</td><td>2.1212121</td><td>Less than $10,000</td><td>Married</td></tr>\n",
       "\t<tr><td>Male</td><td>2.4242424</td><td>Less than $10,000</td><td>Married</td></tr>\n",
       "\t<tr><td>Male</td><td>2.7272727</td><td>Less than $10,000</td><td>Married</td></tr>\n",
       "\t<tr><td>Male</td><td>3.0303030</td><td>Less than $10,000</td><td>Married</td></tr>\n",
       "\t<tr><td>Male</td><td>3.3333333</td><td>Less than $10,000</td><td>Married</td></tr>\n",
       "\t<tr><td>Male</td><td>3.6363636</td><td>Less than $10,000</td><td>Married</td></tr>\n",
       "\t<tr><td>Male</td><td>3.9393939</td><td>Less than $10,000</td><td>Married</td></tr>\n",
       "\t<tr><td>Male</td><td>4.2424242</td><td>Less than $10,000</td><td>Married</td></tr>\n",
       "\t<tr><td>Male</td><td>4.5454545</td><td>Less than $10,000</td><td>Married</td></tr>\n",
       "\t<tr><td>Male</td><td>4.8484848</td><td>Less than $10,000</td><td>Married</td></tr>\n",
       "\t<tr><td>Male</td><td>5.1515152</td><td>Less than $10,000</td><td>Married</td></tr>\n",
       "\t<tr><td>Male</td><td>5.4545455</td><td>Less than $10,000</td><td>Married</td></tr>\n",
       "\t<tr><td>Male</td><td>5.7575758</td><td>Less than $10,000</td><td>Married</td></tr>\n",
       "\t<tr><td>Male</td><td>6.0606061</td><td>Less than $10,000</td><td>Married</td></tr>\n",
       "\t<tr><td>Male</td><td>6.3636364</td><td>Less than $10,000</td><td>Married</td></tr>\n",
       "\t<tr><td>Male</td><td>6.6666667</td><td>Less than $10,000</td><td>Married</td></tr>\n",
       "\t<tr><td>Male</td><td>6.9696970</td><td>Less than $10,000</td><td>Married</td></tr>\n",
       "\t<tr><td>Male</td><td>7.2727273</td><td>Less than $10,000</td><td>Married</td></tr>\n",
       "\t<tr><td>Male</td><td>7.5757576</td><td>Less than $10,000</td><td>Married</td></tr>\n",
       "\t<tr><td>Male</td><td>7.8787879</td><td>Less than $10,000</td><td>Married</td></tr>\n",
       "\t<tr><td>Male</td><td>8.1818182</td><td>Less than $10,000</td><td>Married</td></tr>\n",
       "\t<tr><td>Male</td><td>8.4848485</td><td>Less than $10,000</td><td>Married</td></tr>\n",
       "\t<tr><td>Male</td><td>8.7878788</td><td>Less than $10,000</td><td>Married</td></tr>\n",
       "\t<tr><td>⋮</td><td>⋮</td><td>⋮</td><td>⋮</td></tr>\n",
       "\t<tr><td>Male</td><td>21.21212</td><td>$75,000 or more</td><td>A member of an unmarried couple</td></tr>\n",
       "\t<tr><td>Male</td><td>21.51515</td><td>$75,000 or more</td><td>A member of an unmarried couple</td></tr>\n",
       "\t<tr><td>Male</td><td>21.81818</td><td>$75,000 or more</td><td>A member of an unmarried couple</td></tr>\n",
       "\t<tr><td>Male</td><td>22.12121</td><td>$75,000 or more</td><td>A member of an unmarried couple</td></tr>\n",
       "\t<tr><td>Male</td><td>22.42424</td><td>$75,000 or more</td><td>A member of an unmarried couple</td></tr>\n",
       "\t<tr><td>Male</td><td>22.72727</td><td>$75,000 or more</td><td>A member of an unmarried couple</td></tr>\n",
       "\t<tr><td>Male</td><td>23.03030</td><td>$75,000 or more</td><td>A member of an unmarried couple</td></tr>\n",
       "\t<tr><td>Male</td><td>23.33333</td><td>$75,000 or more</td><td>A member of an unmarried couple</td></tr>\n",
       "\t<tr><td>Male</td><td>23.63636</td><td>$75,000 or more</td><td>A member of an unmarried couple</td></tr>\n",
       "\t<tr><td>Male</td><td>23.93939</td><td>$75,000 or more</td><td>A member of an unmarried couple</td></tr>\n",
       "\t<tr><td>Male</td><td>24.24242</td><td>$75,000 or more</td><td>A member of an unmarried couple</td></tr>\n",
       "\t<tr><td>Male</td><td>24.54545</td><td>$75,000 or more</td><td>A member of an unmarried couple</td></tr>\n",
       "\t<tr><td>Male</td><td>24.84848</td><td>$75,000 or more</td><td>A member of an unmarried couple</td></tr>\n",
       "\t<tr><td>Male</td><td>25.15152</td><td>$75,000 or more</td><td>A member of an unmarried couple</td></tr>\n",
       "\t<tr><td>Male</td><td>25.45455</td><td>$75,000 or more</td><td>A member of an unmarried couple</td></tr>\n",
       "\t<tr><td>Male</td><td>25.75758</td><td>$75,000 or more</td><td>A member of an unmarried couple</td></tr>\n",
       "\t<tr><td>Male</td><td>26.06061</td><td>$75,000 or more</td><td>A member of an unmarried couple</td></tr>\n",
       "\t<tr><td>Male</td><td>26.36364</td><td>$75,000 or more</td><td>A member of an unmarried couple</td></tr>\n",
       "\t<tr><td>Male</td><td>26.66667</td><td>$75,000 or more</td><td>A member of an unmarried couple</td></tr>\n",
       "\t<tr><td>Male</td><td>26.96970</td><td>$75,000 or more</td><td>A member of an unmarried couple</td></tr>\n",
       "\t<tr><td>Male</td><td>27.27273</td><td>$75,000 or more</td><td>A member of an unmarried couple</td></tr>\n",
       "\t<tr><td>Male</td><td>27.57576</td><td>$75,000 or more</td><td>A member of an unmarried couple</td></tr>\n",
       "\t<tr><td>Male</td><td>27.87879</td><td>$75,000 or more</td><td>A member of an unmarried couple</td></tr>\n",
       "\t<tr><td>Male</td><td>28.18182</td><td>$75,000 or more</td><td>A member of an unmarried couple</td></tr>\n",
       "\t<tr><td>Male</td><td>28.48485</td><td>$75,000 or more</td><td>A member of an unmarried couple</td></tr>\n",
       "\t<tr><td>Male</td><td>28.78788</td><td>$75,000 or more</td><td>A member of an unmarried couple</td></tr>\n",
       "\t<tr><td>Male</td><td>29.09091</td><td>$75,000 or more</td><td>A member of an unmarried couple</td></tr>\n",
       "\t<tr><td>Male</td><td>29.39394</td><td>$75,000 or more</td><td>A member of an unmarried couple</td></tr>\n",
       "\t<tr><td>Male</td><td>29.69697</td><td>$75,000 or more</td><td>A member of an unmarried couple</td></tr>\n",
       "\t<tr><td>Male</td><td>30.00000</td><td>$75,000 or more</td><td>A member of an unmarried couple</td></tr>\n",
       "</tbody>\n",
       "</table>\n"
      ],
      "text/latex": [
       "A data.frame: 4800 × 4\n",
       "\\begin{tabular}{llll}\n",
       " sex & menthlth & income2 & marital\\\\\n",
       " <fct> & <dbl> & <fct> & <fct>\\\\\n",
       "\\hline\n",
       "\t Male & 0.0000000 & Less than \\$10,000 & Married\\\\\n",
       "\t Male & 0.3030303 & Less than \\$10,000 & Married\\\\\n",
       "\t Male & 0.6060606 & Less than \\$10,000 & Married\\\\\n",
       "\t Male & 0.9090909 & Less than \\$10,000 & Married\\\\\n",
       "\t Male & 1.2121212 & Less than \\$10,000 & Married\\\\\n",
       "\t Male & 1.5151515 & Less than \\$10,000 & Married\\\\\n",
       "\t Male & 1.8181818 & Less than \\$10,000 & Married\\\\\n",
       "\t Male & 2.1212121 & Less than \\$10,000 & Married\\\\\n",
       "\t Male & 2.4242424 & Less than \\$10,000 & Married\\\\\n",
       "\t Male & 2.7272727 & Less than \\$10,000 & Married\\\\\n",
       "\t Male & 3.0303030 & Less than \\$10,000 & Married\\\\\n",
       "\t Male & 3.3333333 & Less than \\$10,000 & Married\\\\\n",
       "\t Male & 3.6363636 & Less than \\$10,000 & Married\\\\\n",
       "\t Male & 3.9393939 & Less than \\$10,000 & Married\\\\\n",
       "\t Male & 4.2424242 & Less than \\$10,000 & Married\\\\\n",
       "\t Male & 4.5454545 & Less than \\$10,000 & Married\\\\\n",
       "\t Male & 4.8484848 & Less than \\$10,000 & Married\\\\\n",
       "\t Male & 5.1515152 & Less than \\$10,000 & Married\\\\\n",
       "\t Male & 5.4545455 & Less than \\$10,000 & Married\\\\\n",
       "\t Male & 5.7575758 & Less than \\$10,000 & Married\\\\\n",
       "\t Male & 6.0606061 & Less than \\$10,000 & Married\\\\\n",
       "\t Male & 6.3636364 & Less than \\$10,000 & Married\\\\\n",
       "\t Male & 6.6666667 & Less than \\$10,000 & Married\\\\\n",
       "\t Male & 6.9696970 & Less than \\$10,000 & Married\\\\\n",
       "\t Male & 7.2727273 & Less than \\$10,000 & Married\\\\\n",
       "\t Male & 7.5757576 & Less than \\$10,000 & Married\\\\\n",
       "\t Male & 7.8787879 & Less than \\$10,000 & Married\\\\\n",
       "\t Male & 8.1818182 & Less than \\$10,000 & Married\\\\\n",
       "\t Male & 8.4848485 & Less than \\$10,000 & Married\\\\\n",
       "\t Male & 8.7878788 & Less than \\$10,000 & Married\\\\\n",
       "\t ⋮ & ⋮ & ⋮ & ⋮\\\\\n",
       "\t Male & 21.21212 & \\$75,000 or more & A member of an unmarried couple\\\\\n",
       "\t Male & 21.51515 & \\$75,000 or more & A member of an unmarried couple\\\\\n",
       "\t Male & 21.81818 & \\$75,000 or more & A member of an unmarried couple\\\\\n",
       "\t Male & 22.12121 & \\$75,000 or more & A member of an unmarried couple\\\\\n",
       "\t Male & 22.42424 & \\$75,000 or more & A member of an unmarried couple\\\\\n",
       "\t Male & 22.72727 & \\$75,000 or more & A member of an unmarried couple\\\\\n",
       "\t Male & 23.03030 & \\$75,000 or more & A member of an unmarried couple\\\\\n",
       "\t Male & 23.33333 & \\$75,000 or more & A member of an unmarried couple\\\\\n",
       "\t Male & 23.63636 & \\$75,000 or more & A member of an unmarried couple\\\\\n",
       "\t Male & 23.93939 & \\$75,000 or more & A member of an unmarried couple\\\\\n",
       "\t Male & 24.24242 & \\$75,000 or more & A member of an unmarried couple\\\\\n",
       "\t Male & 24.54545 & \\$75,000 or more & A member of an unmarried couple\\\\\n",
       "\t Male & 24.84848 & \\$75,000 or more & A member of an unmarried couple\\\\\n",
       "\t Male & 25.15152 & \\$75,000 or more & A member of an unmarried couple\\\\\n",
       "\t Male & 25.45455 & \\$75,000 or more & A member of an unmarried couple\\\\\n",
       "\t Male & 25.75758 & \\$75,000 or more & A member of an unmarried couple\\\\\n",
       "\t Male & 26.06061 & \\$75,000 or more & A member of an unmarried couple\\\\\n",
       "\t Male & 26.36364 & \\$75,000 or more & A member of an unmarried couple\\\\\n",
       "\t Male & 26.66667 & \\$75,000 or more & A member of an unmarried couple\\\\\n",
       "\t Male & 26.96970 & \\$75,000 or more & A member of an unmarried couple\\\\\n",
       "\t Male & 27.27273 & \\$75,000 or more & A member of an unmarried couple\\\\\n",
       "\t Male & 27.57576 & \\$75,000 or more & A member of an unmarried couple\\\\\n",
       "\t Male & 27.87879 & \\$75,000 or more & A member of an unmarried couple\\\\\n",
       "\t Male & 28.18182 & \\$75,000 or more & A member of an unmarried couple\\\\\n",
       "\t Male & 28.48485 & \\$75,000 or more & A member of an unmarried couple\\\\\n",
       "\t Male & 28.78788 & \\$75,000 or more & A member of an unmarried couple\\\\\n",
       "\t Male & 29.09091 & \\$75,000 or more & A member of an unmarried couple\\\\\n",
       "\t Male & 29.39394 & \\$75,000 or more & A member of an unmarried couple\\\\\n",
       "\t Male & 29.69697 & \\$75,000 or more & A member of an unmarried couple\\\\\n",
       "\t Male & 30.00000 & \\$75,000 or more & A member of an unmarried couple\\\\\n",
       "\\end{tabular}\n"
      ],
      "text/markdown": [
       "\n",
       "A data.frame: 4800 × 4\n",
       "\n",
       "| sex &lt;fct&gt; | menthlth &lt;dbl&gt; | income2 &lt;fct&gt; | marital &lt;fct&gt; |\n",
       "|---|---|---|---|\n",
       "| Male | 0.0000000 | Less than $10,000 | Married |\n",
       "| Male | 0.3030303 | Less than $10,000 | Married |\n",
       "| Male | 0.6060606 | Less than $10,000 | Married |\n",
       "| Male | 0.9090909 | Less than $10,000 | Married |\n",
       "| Male | 1.2121212 | Less than $10,000 | Married |\n",
       "| Male | 1.5151515 | Less than $10,000 | Married |\n",
       "| Male | 1.8181818 | Less than $10,000 | Married |\n",
       "| Male | 2.1212121 | Less than $10,000 | Married |\n",
       "| Male | 2.4242424 | Less than $10,000 | Married |\n",
       "| Male | 2.7272727 | Less than $10,000 | Married |\n",
       "| Male | 3.0303030 | Less than $10,000 | Married |\n",
       "| Male | 3.3333333 | Less than $10,000 | Married |\n",
       "| Male | 3.6363636 | Less than $10,000 | Married |\n",
       "| Male | 3.9393939 | Less than $10,000 | Married |\n",
       "| Male | 4.2424242 | Less than $10,000 | Married |\n",
       "| Male | 4.5454545 | Less than $10,000 | Married |\n",
       "| Male | 4.8484848 | Less than $10,000 | Married |\n",
       "| Male | 5.1515152 | Less than $10,000 | Married |\n",
       "| Male | 5.4545455 | Less than $10,000 | Married |\n",
       "| Male | 5.7575758 | Less than $10,000 | Married |\n",
       "| Male | 6.0606061 | Less than $10,000 | Married |\n",
       "| Male | 6.3636364 | Less than $10,000 | Married |\n",
       "| Male | 6.6666667 | Less than $10,000 | Married |\n",
       "| Male | 6.9696970 | Less than $10,000 | Married |\n",
       "| Male | 7.2727273 | Less than $10,000 | Married |\n",
       "| Male | 7.5757576 | Less than $10,000 | Married |\n",
       "| Male | 7.8787879 | Less than $10,000 | Married |\n",
       "| Male | 8.1818182 | Less than $10,000 | Married |\n",
       "| Male | 8.4848485 | Less than $10,000 | Married |\n",
       "| Male | 8.7878788 | Less than $10,000 | Married |\n",
       "| ⋮ | ⋮ | ⋮ | ⋮ |\n",
       "| Male | 21.21212 | $75,000 or more | A member of an unmarried couple |\n",
       "| Male | 21.51515 | $75,000 or more | A member of an unmarried couple |\n",
       "| Male | 21.81818 | $75,000 or more | A member of an unmarried couple |\n",
       "| Male | 22.12121 | $75,000 or more | A member of an unmarried couple |\n",
       "| Male | 22.42424 | $75,000 or more | A member of an unmarried couple |\n",
       "| Male | 22.72727 | $75,000 or more | A member of an unmarried couple |\n",
       "| Male | 23.03030 | $75,000 or more | A member of an unmarried couple |\n",
       "| Male | 23.33333 | $75,000 or more | A member of an unmarried couple |\n",
       "| Male | 23.63636 | $75,000 or more | A member of an unmarried couple |\n",
       "| Male | 23.93939 | $75,000 or more | A member of an unmarried couple |\n",
       "| Male | 24.24242 | $75,000 or more | A member of an unmarried couple |\n",
       "| Male | 24.54545 | $75,000 or more | A member of an unmarried couple |\n",
       "| Male | 24.84848 | $75,000 or more | A member of an unmarried couple |\n",
       "| Male | 25.15152 | $75,000 or more | A member of an unmarried couple |\n",
       "| Male | 25.45455 | $75,000 or more | A member of an unmarried couple |\n",
       "| Male | 25.75758 | $75,000 or more | A member of an unmarried couple |\n",
       "| Male | 26.06061 | $75,000 or more | A member of an unmarried couple |\n",
       "| Male | 26.36364 | $75,000 or more | A member of an unmarried couple |\n",
       "| Male | 26.66667 | $75,000 or more | A member of an unmarried couple |\n",
       "| Male | 26.96970 | $75,000 or more | A member of an unmarried couple |\n",
       "| Male | 27.27273 | $75,000 or more | A member of an unmarried couple |\n",
       "| Male | 27.57576 | $75,000 or more | A member of an unmarried couple |\n",
       "| Male | 27.87879 | $75,000 or more | A member of an unmarried couple |\n",
       "| Male | 28.18182 | $75,000 or more | A member of an unmarried couple |\n",
       "| Male | 28.48485 | $75,000 or more | A member of an unmarried couple |\n",
       "| Male | 28.78788 | $75,000 or more | A member of an unmarried couple |\n",
       "| Male | 29.09091 | $75,000 or more | A member of an unmarried couple |\n",
       "| Male | 29.39394 | $75,000 or more | A member of an unmarried couple |\n",
       "| Male | 29.69697 | $75,000 or more | A member of an unmarried couple |\n",
       "| Male | 30.00000 | $75,000 or more | A member of an unmarried couple |\n",
       "\n"
      ],
      "text/plain": [
       "     sex  menthlth  income2           marital                        \n",
       "1    Male 0.0000000 Less than $10,000 Married                        \n",
       "2    Male 0.3030303 Less than $10,000 Married                        \n",
       "3    Male 0.6060606 Less than $10,000 Married                        \n",
       "4    Male 0.9090909 Less than $10,000 Married                        \n",
       "5    Male 1.2121212 Less than $10,000 Married                        \n",
       "6    Male 1.5151515 Less than $10,000 Married                        \n",
       "7    Male 1.8181818 Less than $10,000 Married                        \n",
       "8    Male 2.1212121 Less than $10,000 Married                        \n",
       "9    Male 2.4242424 Less than $10,000 Married                        \n",
       "10   Male 2.7272727 Less than $10,000 Married                        \n",
       "11   Male 3.0303030 Less than $10,000 Married                        \n",
       "12   Male 3.3333333 Less than $10,000 Married                        \n",
       "13   Male 3.6363636 Less than $10,000 Married                        \n",
       "14   Male 3.9393939 Less than $10,000 Married                        \n",
       "15   Male 4.2424242 Less than $10,000 Married                        \n",
       "16   Male 4.5454545 Less than $10,000 Married                        \n",
       "17   Male 4.8484848 Less than $10,000 Married                        \n",
       "18   Male 5.1515152 Less than $10,000 Married                        \n",
       "19   Male 5.4545455 Less than $10,000 Married                        \n",
       "20   Male 5.7575758 Less than $10,000 Married                        \n",
       "21   Male 6.0606061 Less than $10,000 Married                        \n",
       "22   Male 6.3636364 Less than $10,000 Married                        \n",
       "23   Male 6.6666667 Less than $10,000 Married                        \n",
       "24   Male 6.9696970 Less than $10,000 Married                        \n",
       "25   Male 7.2727273 Less than $10,000 Married                        \n",
       "26   Male 7.5757576 Less than $10,000 Married                        \n",
       "27   Male 7.8787879 Less than $10,000 Married                        \n",
       "28   Male 8.1818182 Less than $10,000 Married                        \n",
       "29   Male 8.4848485 Less than $10,000 Married                        \n",
       "30   Male 8.7878788 Less than $10,000 Married                        \n",
       "⋮    ⋮    ⋮         ⋮                 ⋮                              \n",
       "4771 Male 21.21212  $75,000 or more   A member of an unmarried couple\n",
       "4772 Male 21.51515  $75,000 or more   A member of an unmarried couple\n",
       "4773 Male 21.81818  $75,000 or more   A member of an unmarried couple\n",
       "4774 Male 22.12121  $75,000 or more   A member of an unmarried couple\n",
       "4775 Male 22.42424  $75,000 or more   A member of an unmarried couple\n",
       "4776 Male 22.72727  $75,000 or more   A member of an unmarried couple\n",
       "4777 Male 23.03030  $75,000 or more   A member of an unmarried couple\n",
       "4778 Male 23.33333  $75,000 or more   A member of an unmarried couple\n",
       "4779 Male 23.63636  $75,000 or more   A member of an unmarried couple\n",
       "4780 Male 23.93939  $75,000 or more   A member of an unmarried couple\n",
       "4781 Male 24.24242  $75,000 or more   A member of an unmarried couple\n",
       "4782 Male 24.54545  $75,000 or more   A member of an unmarried couple\n",
       "4783 Male 24.84848  $75,000 or more   A member of an unmarried couple\n",
       "4784 Male 25.15152  $75,000 or more   A member of an unmarried couple\n",
       "4785 Male 25.45455  $75,000 or more   A member of an unmarried couple\n",
       "4786 Male 25.75758  $75,000 or more   A member of an unmarried couple\n",
       "4787 Male 26.06061  $75,000 or more   A member of an unmarried couple\n",
       "4788 Male 26.36364  $75,000 or more   A member of an unmarried couple\n",
       "4789 Male 26.66667  $75,000 or more   A member of an unmarried couple\n",
       "4790 Male 26.96970  $75,000 or more   A member of an unmarried couple\n",
       "4791 Male 27.27273  $75,000 or more   A member of an unmarried couple\n",
       "4792 Male 27.57576  $75,000 or more   A member of an unmarried couple\n",
       "4793 Male 27.87879  $75,000 or more   A member of an unmarried couple\n",
       "4794 Male 28.18182  $75,000 or more   A member of an unmarried couple\n",
       "4795 Male 28.48485  $75,000 or more   A member of an unmarried couple\n",
       "4796 Male 28.78788  $75,000 or more   A member of an unmarried couple\n",
       "4797 Male 29.09091  $75,000 or more   A member of an unmarried couple\n",
       "4798 Male 29.39394  $75,000 or more   A member of an unmarried couple\n",
       "4799 Male 29.69697  $75,000 or more   A member of an unmarried couple\n",
       "4800 Male 30.00000  $75,000 or more   A member of an unmarried couple"
      ]
     },
     "metadata": {},
     "output_type": "display_data"
    },
    {
     "data": {
      "text/html": [
       "<style>\n",
       ".list-inline {list-style: none; margin:0; padding: 0}\n",
       ".list-inline>li {display: inline-block}\n",
       ".list-inline>li:not(:last-child)::after {content: \"\\00b7\"; padding: 0 .5ex}\n",
       "</style>\n",
       "<ol class=list-inline><li>'Male'</li><li>'Female'</li></ol>\n"
      ],
      "text/latex": [
       "\\begin{enumerate*}\n",
       "\\item 'Male'\n",
       "\\item 'Female'\n",
       "\\end{enumerate*}\n"
      ],
      "text/markdown": [
       "1. 'Male'\n",
       "2. 'Female'\n",
       "\n",
       "\n"
      ],
      "text/plain": [
       "[1] \"Male\"   \"Female\""
      ]
     },
     "metadata": {},
     "output_type": "display_data"
    },
    {
     "data": {
      "image/png": "[encoded data removed]",
      "text/plain": [
       "plot without title"
      ]
     },
     "metadata": {
      "image/png": {
       "height": 420,
       "width": 420
      }
     },
     "output_type": "display_data"
    }
   ],
   "source": [
    "# holding sex at median, color by marital\n",
    "med_sex <- levels(data_poisson$sex)[ceiling(length(levels(data_poisson$sex))/2)]\n",
    "new_data3 <- expand.grid(sex = med_sex, \n",
    "                         menthlth = seq(from = min(data_poisson$menthlth), \n",
    "                                        to = max(data_poisson$menthlth), \n",
    "                                        length.out = 100), \n",
    "                         income2 = levels(data_poisson$income2), \n",
    "                         marital = levels(data_poisson$marital))\n",
    "new_data3\n",
    "new_data3$predicted <- predict(z16, newdata = new_data3, type = \"response\")\n",
    "\n",
    "levels(data_poisson$sex)\n",
    "plot(drnk3ge5 ~ menthlth, data=data_poisson, pch=16, col = c(\"blue\", \"red\", \"green\", \"orange\", \"purple\",\"yellow\")[as.factor(data_poisson$marital)])\n",
    "\n",
    "new_data_married <- subset(new_data3, new_data3$marital ==\"Married\")\n",
    "new_data_divorced <- subset(new_data3, new_data3$marital ==\"Divorsed\")\n",
    "new_data_widowed <- subset(new_data3, new_data3$marital ==\"Widowed\")\n",
    "new_data_separated <- subset(new_data3, new_data3$marital ==\"Separated\")\n",
    "new_data_never <- subset(new_data3, new_data3$marital ==\"Never married\")\n",
    "new_data_couple <- subset(new_data3, new_data3$marital ==\"A member of an unmarried couple\")\n",
    "\n",
    "lines(new_data_married$menthlth, new_data_married$pred, lty=1, col=\"blue\")\n",
    "lines(new_data_divorced$menthlth, new_data_divorced$pred, lty=1, col=\"red\")\n",
    "lines(new_data_widowed$menthlth, new_data_widowed$pred, lty=1, col=\"green\")\n",
    "lines(new_data_separated$menthlth, new_data_separated$pred, lty=1, col=\"orange\")\n",
    "lines(new_data_never$menthlth, new_data_never$pred, lty=1, col=\"purple\")\n",
    "lines(new_data_couple$menthlth, new_data_couple$pred, lty=1, col=\"yellow\")\n",
    "\n",
    "legend(\"topleft\", legend=c(\"Married\", \"Divorced\", \"Widowed\", \"Separated\",\"Never married\",\"Unmarried couple\"),\n",
    "       col=c(\"blue\", \"red\", \"green\", \"orange\", \"purple\",\"yellow\"), pch=16)\n"
   ]
  },
  {
   "cell_type": "markdown",
   "metadata": {},
   "source": [
    "### What are the main results of your model? (2 marks)"
   ]
  },
  {
   "cell_type": "markdown",
   "metadata": {},
   "source": [
    "The number of times during the past 30 days did you have 5 or more drinks for men or 4 or more drinks for women on an occasion always increase with the increase in mental issues. However, males generally have more drinks than females and the number of drinking times tends to be lower with increase in income."
   ]
  },
  {
   "cell_type": "markdown",
   "metadata": {},
   "source": []
  },
  {
   "cell_type": "markdown",
   "metadata": {},
   "source": [
    "---\n",
    "## Do you have any concerns about the explanatory variables being related to each other? (0.75 marks)\n",
    "\n",
    "Show plots and/or do analyses to support your conclusions. If there are associations between explanatory variables, what effect could this have on your model?"
   ]
  },
  {
   "cell_type": "code",
   "execution_count": 69,
   "metadata": {},
   "outputs": [
    {
     "name": "stderr",
     "output_type": "stream",
     "text": [
      "there are higher-order terms (interactions) in this model\n",
      "consider setting type = 'predictor'; see ?vif\n",
      "\n"
     ]
    },
    {
     "data": {
      "text/html": [
       "<table class=\"dataframe\">\n",
       "<caption>A matrix: 8 × 3 of type dbl</caption>\n",
       "<thead>\n",
       "\t<tr><th></th><th scope=col>GVIF</th><th scope=col>Df</th><th scope=col>GVIF^(1/(2*Df))</th></tr>\n",
       "</thead>\n",
       "<tbody>\n",
       "\t<tr><th scope=row>income2</th><td>   1.298157</td><td>7</td><td>1.018814</td></tr>\n",
       "\t<tr><th scope=row>menthlth</th><td>   4.527347</td><td>1</td><td>2.127756</td></tr>\n",
       "\t<tr><th scope=row>marital</th><td> 185.472449</td><td>5</td><td>1.685885</td></tr>\n",
       "\t<tr><th scope=row>sex</th><td>   4.114678</td><td>1</td><td>2.028467</td></tr>\n",
       "\t<tr><th scope=row>menthlth:marital</th><td> 582.250314</td><td>5</td><td>1.890214</td></tr>\n",
       "\t<tr><th scope=row>menthlth:sex</th><td>   6.920375</td><td>1</td><td>2.630661</td></tr>\n",
       "\t<tr><th scope=row>marital:sex</th><td> 510.770611</td><td>5</td><td>1.865617</td></tr>\n",
       "\t<tr><th scope=row>menthlth:marital:sex</th><td>1031.060802</td><td>5</td><td>2.001375</td></tr>\n",
       "</tbody>\n",
       "</table>\n"
      ],
      "text/latex": [
       "A matrix: 8 × 3 of type dbl\n",
       "\\begin{tabular}{r|lll}\n",
       "  & GVIF & Df & GVIF\\textasciicircum{}(1/(2*Df))\\\\\n",
       "\\hline\n",
       "\tincome2 &    1.298157 & 7 & 1.018814\\\\\n",
       "\tmenthlth &    4.527347 & 1 & 2.127756\\\\\n",
       "\tmarital &  185.472449 & 5 & 1.685885\\\\\n",
       "\tsex &    4.114678 & 1 & 2.028467\\\\\n",
       "\tmenthlth:marital &  582.250314 & 5 & 1.890214\\\\\n",
       "\tmenthlth:sex &    6.920375 & 1 & 2.630661\\\\\n",
       "\tmarital:sex &  510.770611 & 5 & 1.865617\\\\\n",
       "\tmenthlth:marital:sex & 1031.060802 & 5 & 2.001375\\\\\n",
       "\\end{tabular}\n"
      ],
      "text/markdown": [
       "\n",
       "A matrix: 8 × 3 of type dbl\n",
       "\n",
       "| <!--/--> | GVIF | Df | GVIF^(1/(2*Df)) |\n",
       "|---|---|---|---|\n",
       "| income2 |    1.298157 | 7 | 1.018814 |\n",
       "| menthlth |    4.527347 | 1 | 2.127756 |\n",
       "| marital |  185.472449 | 5 | 1.685885 |\n",
       "| sex |    4.114678 | 1 | 2.028467 |\n",
       "| menthlth:marital |  582.250314 | 5 | 1.890214 |\n",
       "| menthlth:sex |    6.920375 | 1 | 2.630661 |\n",
       "| marital:sex |  510.770611 | 5 | 1.865617 |\n",
       "| menthlth:marital:sex | 1031.060802 | 5 | 2.001375 |\n",
       "\n"
      ],
      "text/plain": [
       "                     GVIF        Df GVIF^(1/(2*Df))\n",
       "income2                 1.298157 7  1.018814       \n",
       "menthlth                4.527347 1  2.127756       \n",
       "marital               185.472449 5  1.685885       \n",
       "sex                     4.114678 1  2.028467       \n",
       "menthlth:marital      582.250314 5  1.890214       \n",
       "menthlth:sex            6.920375 1  2.630661       \n",
       "marital:sex           510.770611 5  1.865617       \n",
       "menthlth:marital:sex 1031.060802 5  2.001375       "
      ]
     },
     "metadata": {},
     "output_type": "display_data"
    }
   ],
   "source": [
    "library(car)\n",
    "vif(z16)"
   ]
  },
  {
   "cell_type": "markdown",
   "metadata": {},
   "source": [
    "I have calculated the VIF for the model, the result shows that the VIF values for marital, menthlth&marital, marital&sex, and menthlth&marital&sex are high. One of the main issues with multicollinearity involving the marital variable is that it can make it more difficult to identify the unique contribution of this variable to the response variable, separate from the effects of other correlated explanatory variables in the model. This is because the marital variable is involved in several interaction terms with other variables in your model, which can make it difficult to isolate its specific effect on the response variable. For example, the interaction term menthlth:marital suggests that the effect of mental health on the response variable may depend on marital status, but it is unclear how much of this effect is due to the menthlth variable alone, the marital variable alone, or the interaction between the two. Similarly, the interaction term marital:sex suggests that the effect of marital status on the response variable may depend on gender, but it is unclear how much of this effect is due to the marital variable alone, the sex variable alone, or the interaction between the two. In addition, the high VIF value for marital suggests that there may be significant multicollinearity between this variable and other explanatory variables in your model. This can make it difficult to interpret the coefficients for all of the variables in your model, as they may be influenced by the presence of correlated variables. In particular, the high VIF value for menthlth:marital suggests that the effect of mental health on the response variable may be difficult to disentangle from the effect of marital status, since these variables are highly correlated with each other.\n",
    "\n",
    "I have tried to remove marital status from this model (see model z19 in Appendix B), but both AIC and residual deviance/df would increased and residual deviance/df."
   ]
  },
  {
   "cell_type": "markdown",
   "metadata": {},
   "source": []
  },
  {
   "cell_type": "markdown",
   "metadata": {},
   "source": [
    "<div class=\"alert alert-block alert-success\">\n",
    "<a id=\"Discussion\"></a>\n",
    "\n",
    "# Discussion (500 words max.) (6 marks)\n",
    "\n",
    "How well do your models achieve the goal of the analysis? (1 mark)  \n",
    "What are the strengths and limitations of your models? (3 marks)  \n",
    "What are some recommendations to address the limitations of your final models?  (2 marks)\n",
    "    \n",
    "If you include any references, please put the bibliographical information (APA style) at the end of your discussion; this does not contribute to the word count.\n",
    "<div>\n"
   ]
  },
  {
   "cell_type": "markdown",
   "metadata": {},
   "source": [
    "## Logistic model:\n",
    "\n",
    "Based on the summary of the logistic model, the deviance residuals, coefficients, and p-values provided in the output of the logistic regression model suggest that the model fits the data reasonably well. The AIC value of 249471 is relatively small, suggesting a good model fit. \n",
    "\n",
    "Our logistic model has several strengths. Firstly, we have included most of the relevant explanatory variables in the model, encompassing both categorical and quantitative factors. Secondly, by comparing different models, we have selected the final model without interaction. This has simplified the model and made it more interpretable. Lastly, we have minimized AIC and deviance/df by testing different models, ensuring that our model is better-fitting.\n",
    "\n",
    "One limitation of this model is that it only includes four explanatory variables, which may not capture all the factors that could influence alcohol consumption. It's possible that other variables, such as age, gender, or ethnicity, could be important predictors of alcohol consumption. To improve the logistic model, we could include additional explanatory variables that are known to be associated with alcohol consumption. \n",
    "\n",
    "## Poisson model: \n",
    "Since the response variable does not follow a poisson distribution, AIC and deviance/df are relatively large for our best model. It indicates that the model may not be able to accurately represent the underlying data generating processand and the variability of the response variable is greater than what would be expected from a Poisson distribution. \n",
    "\n",
    "The strength of our model is that we have included most of the relevant factors and both categorical and quantitative factors are included, and under these conditions for building poisson model, we have minimized AIC and deviance/df aftering trying different models. Although there are some collinearities casue by the factor \"Marital\", we have addressed this issue through creating interaction term. \n",
    "\n",
    "There are two limitation about this model. First, the response variable does not follow a poisson distribution, so using poisson regression model may not be able to accurately fit the data and make prediction. Secondly, the alcohol consumption may not merely related to these eight factors. Therefore, more data might need to be collected such as age, religion, job status, and drinking history, and since we are only able to include four factors in the model, it would somehow limit the descriptive and predictive power of the model.\n",
    "\n",
    "To improve the model, first, we should be able to use other type of models such as multiple regression models. Then, if possible, include more factors that could affect alcohol consumption such as age, religion, job status, and drinking history. Finally, include more explanatory variables in the model so that it can take more factors into consideration and predict more accurately. "
   ]
  },
  {
   "cell_type": "markdown",
   "metadata": {},
   "source": [
    "## Reference\n",
    "[1] Scott, K. M., Wells, J. E., Angermeyer, M., Brugha, T. S., Bromet, E., Demyttenaere, K., de Girolamo, G., Gureje, O., Haro, J. M., Jin, R., Karam, A. N., Kovess, V., Lara, C., Levinson, D., Ormel, J., Posada-Villa, J., Sampson, N., Takeshima, T., Zhang, M., & Kessler, R. C. (2010). Gender and the relationship between marital status and first onset of mood, anxiety and substance use disorders. Psychological medicine, 40(9), 1495–1505. https://doi.org/10.1017/S0033291709991942"
   ]
  },
  {
   "cell_type": "markdown",
   "metadata": {},
   "source": [
    "<div class=\"alert alert-block alert-danger\">\n",
    "<a id=\"AppendixA\"></a>\n",
    "\n",
    "# Appendix A:\n",
    "# Building the Logistic Regression Model (1 mark)\n",
    "</div>"
   ]
  },
  {
   "cell_type": "markdown",
   "metadata": {},
   "source": [
    "### Compare the AIC values for the models that you tried."
   ]
  },
  {
   "cell_type": "code",
   "execution_count": 70,
   "metadata": {},
   "outputs": [
    {
     "name": "stdout",
     "output_type": "stream",
     "text": [
      "[1] \"glm.1: 258104.415869931\"\n",
      "[1] \"glm.2: 249557.26348346\"\n",
      "[1] \"glm.3: 254107.652696011\"\n",
      "[1] \"glm.4: 250275.468938442\"\n",
      "[1] \"glm.5: 252848.644004099\"\n",
      "[1] \"glm.6: 249946.375035263\"\n",
      "[1] \"glm.7: 249500.970259509\"\n",
      "[1] \"glm.8: 253658.421721778\"\n",
      "[1] \"glm.9: 249470.723179422\"\n",
      "[1] \"glm.10: 249741.48965338\"\n",
      "[1] \"glm.11: 260353.758928324\"\n",
      "[1] \"glm.12: 260097.816719959\"\n",
      "[1] \"glm.13: 261228.998365262\"\n",
      "[1] \"glm.14: 256116.624519371\"\n",
      "[1] \"glm.15: 252254.679973586\"\n",
      "[1] \"glm.16: 252363.966780025\"\n"
     ]
    }
   ],
   "source": [
    "glm.1 <- glm(alcday5_new ~ physhlth + menthlth + as.factor(marital) + as.factor(sex), data=mydata, family=\"binomial\"(link=\"logit\"))\n",
    "print(paste(\"glm.1\", AIC(glm.1), sep = \": \"))\n",
    "\n",
    "glm.2 <- glm(alcday5_new ~ physhlth + menthlth + as.factor(marital) + as.factor(income2), data=mydata, family=\"binomial\"(link=\"logit\"))\n",
    "print(paste(\"glm.2\", AIC(glm.2), sep = \": \"))\n",
    "\n",
    "glm.3 <- glm(alcday5_new ~ physhlth + menthlth + as.factor(marital) + as.factor(educa), data=mydata, family=\"binomial\"(link=\"logit\"))\n",
    "print(paste(\"glm.3\", AIC(glm.3), sep = \": \"))\n",
    "\n",
    "glm.4 <- glm(alcday5_new ~ physhlth + menthlth + as.factor(educa) + as.factor(income2), data=mydata, family=\"binomial\"(link=\"logit\"))\n",
    "print(paste(\"glm.4\", AIC(glm.4), sep = \": \"))\n",
    "\n",
    "glm.5 <- glm(alcday5_new ~ physhlth + menthlth + as.factor(educa) + as.factor(sex), data=mydata, family=\"binomial\"(link=\"logit\"))\n",
    "print(paste(\"glm.5\", AIC(glm.5), sep = \": \"))\n",
    "\n",
    "glm.6 <- glm(alcday5_new ~ physhlth + menthlth + as.factor(sex) + as.factor(income2), data=mydata, family=\"binomial\"(link=\"logit\"))\n",
    "print(paste(\"glm.6\", AIC(glm.6), sep = \": \"))\n",
    "\n",
    "glm.7 <- glm(alcday5_new ~  poorhlth + as.factor(marital) + as.factor(sex) + as.factor(income2), data=mydata, family=\"binomial\"(link=\"logit\"))\n",
    "print(paste(\"glm.7\", AIC(glm.7), sep = \": \"))\n",
    "\n",
    "glm.8 <- glm(alcday5_new ~  poorhlth + as.factor(marital) + as.factor(sex) + as.factor(educa), data=mydata, family=\"binomial\"(link=\"logit\"))\n",
    "print(paste(\"glm.8\", AIC(glm.8), sep = \": \"))\n",
    "\n",
    "glm.9 <- glm(alcday5_new ~  poorhlth + as.factor(marital) + as.factor(income2) + as.factor(educa), data=mydata, family=\"binomial\"(link=\"logit\"))\n",
    "print(paste(\"glm.9\", AIC(glm.9), sep = \": \"))\n",
    "\n",
    "glm.10 <- glm(alcday5_new ~  poorhlth + as.factor(sex) + as.factor(income2) + as.factor(educa), data=mydata, family=\"binomial\"(link=\"logit\"))\n",
    "print(paste(\"glm.10\", AIC(glm.10), sep = \": \"))\n",
    "\n",
    "glm.11 <- glm(alcday5_new ~ physhlth + menthlth + sleptim1 + as.factor(marital), data=mydata, family=\"binomial\"(link=\"logit\"))\n",
    "print(paste(\"glm.11\", AIC(glm.11), sep = \": \"))\n",
    "\n",
    "glm.12 <- glm(alcday5_new ~ physhlth + menthlth + sleptim1 + as.factor(sex), data=mydata, family=\"binomial\"(link=\"logit\"))\n",
    "print(paste(\"glm.12\", AIC(glm.12), sep = \": \"))\n",
    "\n",
    "glm.13 <- glm(alcday5_new ~  poorhlth + as.factor(marital) + as.factor(sex), data=mydata, family=\"binomial\"(link=\"logit\"))\n",
    "print(paste(\"glm.13\", AIC(glm.13), sep = \": \"))\n",
    "\n",
    "glm.14 <- glm(alcday5_new ~  poorhlth + as.factor(marital) + as.factor(educa), data=mydata, family=\"binomial\"(link=\"logit\"))\n",
    "print(paste(\"glm.14\", AIC(glm.14), sep = \": \"))\n",
    "\n",
    "glm.15 <- glm(alcday5_new ~  poorhlth + as.factor(income2) + as.factor(educa), data=mydata, family=\"binomial\"(link=\"logit\"))\n",
    "print(paste(\"glm.15\", AIC(glm.15), sep = \": \"))\n",
    "\n",
    "glm.16 <- glm(alcday5_new ~  poorhlth + as.factor(sex) + as.factor(income2), data=mydata, family=\"binomial\"(link=\"logit\"))\n",
    "print(paste(\"glm.16\", AIC(glm.16), sep = \": \"))"
   ]
  },
  {
   "cell_type": "markdown",
   "metadata": {},
   "source": [
    "Model glm.9 (the model we chose) has the lowest AIC and the variables chosen in the model are interpretable. Therefore, glm.9 is chosen as our final logistic model."
   ]
  },
  {
   "cell_type": "markdown",
   "metadata": {},
   "source": [
    "<div class=\"alert alert-block alert-danger\">\n",
    "<a id=\"AppendixB\"></a>\n",
    "\n",
    "# Appendix B:\n",
    "# Building the Poisson Regression Model (1 mark)\n",
    "</div>"
   ]
  },
  {
   "cell_type": "markdown",
   "metadata": {},
   "source": [
    "### Compare the AIC values for the models that you tried."
   ]
  },
  {
   "cell_type": "code",
   "execution_count": 71,
   "metadata": {},
   "outputs": [
    {
     "data": {
      "text/html": [
       "<table class=\"dataframe\">\n",
       "<caption>A data.frame: 99809 × 11</caption>\n",
       "<thead>\n",
       "\t<tr><th></th><th scope=col>physhlth</th><th scope=col>menthlth</th><th scope=col>poorhlth</th><th scope=col>sleptim1</th><th scope=col>marital</th><th scope=col>educa</th><th scope=col>income2</th><th scope=col>sex</th><th scope=col>alcday5</th><th scope=col>drnk3ge5</th><th scope=col>alcday5_new</th></tr>\n",
       "\t<tr><th></th><th scope=col>&lt;int&gt;</th><th scope=col>&lt;int&gt;</th><th scope=col>&lt;int&gt;</th><th scope=col>&lt;int&gt;</th><th scope=col>&lt;fct&gt;</th><th scope=col>&lt;fct&gt;</th><th scope=col>&lt;fct&gt;</th><th scope=col>&lt;fct&gt;</th><th scope=col>&lt;int&gt;</th><th scope=col>&lt;dbl&gt;</th><th scope=col>&lt;dbl&gt;</th></tr>\n",
       "</thead>\n",
       "<tbody>\n",
       "\t<tr><th scope=row>1</th><td> 3</td><td> 2</td><td> 0</td><td> 9</td><td>Married                        </td><td>College 4 years or more (College graduate)                  </td><td>$75,000 or more  </td><td>Female</td><td>220</td><td>20</td><td>1</td></tr>\n",
       "\t<tr><th scope=row>2</th><td> 2</td><td> 0</td><td> 0</td><td> 8</td><td>Married                        </td><td>Grade 12 or GED (High school graduate)                      </td><td>Less than $75,000</td><td>Female</td><td>208</td><td> 0</td><td>1</td></tr>\n",
       "\t<tr><th scope=row>3</th><td>10</td><td> 2</td><td> 0</td><td> 6</td><td>Married                        </td><td>College 4 years or more (College graduate)                  </td><td>Less than $50,000</td><td>Male  </td><td>210</td><td> 0</td><td>1</td></tr>\n",
       "\t<tr><th scope=row>4</th><td> 5</td><td> 0</td><td>10</td><td> 6</td><td>Widowed                        </td><td>College 1 year to 3 years (Some college or technical school)</td><td>Less than $50,000</td><td>Female</td><td>202</td><td> 0</td><td>1</td></tr>\n",
       "\t<tr><th scope=row>5</th><td> 0</td><td> 1</td><td> 0</td><td> 6</td><td>Married                        </td><td>College 4 years or more (College graduate)                  </td><td>$75,000 or more  </td><td>Male  </td><td>205</td><td> 0</td><td>1</td></tr>\n",
       "\t<tr><th scope=row>8</th><td> 3</td><td> 3</td><td> 0</td><td> 6</td><td>Married                        </td><td>Grade 12 or GED (High school graduate)                      </td><td>$75,000 or more  </td><td>Female</td><td>201</td><td> 0</td><td>1</td></tr>\n",
       "\t<tr><th scope=row>10</th><td> 3</td><td> 2</td><td> 0</td><td> 6</td><td>Married                        </td><td>College 1 year to 3 years (Some college or technical school)</td><td>Less than $75,000</td><td>Male  </td><td>230</td><td> 0</td><td>1</td></tr>\n",
       "\t<tr><th scope=row>16</th><td> 4</td><td> 0</td><td> 0</td><td> 7</td><td>Married                        </td><td>College 1 year to 3 years (Some college or technical school)</td><td>Less than $25,000</td><td>Male  </td><td>203</td><td> 0</td><td>1</td></tr>\n",
       "\t<tr><th scope=row>17</th><td> 0</td><td> 5</td><td> 0</td><td> 8</td><td>Married                        </td><td>College 4 years or more (College graduate)                  </td><td>$75,000 or more  </td><td>Female</td><td>203</td><td> 0</td><td>1</td></tr>\n",
       "\t<tr><th scope=row>18</th><td>23</td><td>30</td><td>30</td><td> 4</td><td>Divorced                       </td><td>Grade 12 or GED (High school graduate)                      </td><td>Less than $10,000</td><td>Female</td><td>201</td><td> 0</td><td>1</td></tr>\n",
       "\t<tr><th scope=row>20</th><td> 0</td><td> 5</td><td> 0</td><td> 6</td><td>Married                        </td><td>Grade 12 or GED (High school graduate)                      </td><td>Less than $50,000</td><td>Male  </td><td>201</td><td> 0</td><td>1</td></tr>\n",
       "\t<tr><th scope=row>22</th><td> 2</td><td> 0</td><td> 2</td><td> 7</td><td>Never married                  </td><td>College 1 year to 3 years (Some college or technical school)</td><td>Less than $25,000</td><td>Female</td><td>207</td><td> 5</td><td>1</td></tr>\n",
       "\t<tr><th scope=row>23</th><td> 1</td><td> 2</td><td> 0</td><td> 7</td><td>Divorced                       </td><td>College 4 years or more (College graduate)                  </td><td>Less than $20,000</td><td>Male  </td><td>103</td><td> 2</td><td>1</td></tr>\n",
       "\t<tr><th scope=row>24</th><td> 4</td><td>10</td><td> 2</td><td> 6</td><td>Never married                  </td><td>College 4 years or more (College graduate)                  </td><td>Less than $50,000</td><td>Male  </td><td>204</td><td> 0</td><td>1</td></tr>\n",
       "\t<tr><th scope=row>27</th><td>30</td><td> 0</td><td> 0</td><td> 6</td><td>Married                        </td><td>Grade 12 or GED (High school graduate)                      </td><td>$75,000 or more  </td><td>Male  </td><td>107</td><td> 0</td><td>1</td></tr>\n",
       "\t<tr><th scope=row>28</th><td>30</td><td> 2</td><td>15</td><td>10</td><td>A member of an unmarried couple</td><td>Grade 12 or GED (High school graduate)                      </td><td>Less than $25,000</td><td>Female</td><td>201</td><td> 0</td><td>1</td></tr>\n",
       "\t<tr><th scope=row>30</th><td> 0</td><td>30</td><td> 0</td><td> 7</td><td>Divorced                       </td><td>College 1 year to 3 years (Some college or technical school)</td><td>Less than $35,000</td><td>Female</td><td>205</td><td> 1</td><td>1</td></tr>\n",
       "\t<tr><th scope=row>33</th><td> 0</td><td> 7</td><td> 0</td><td> 6</td><td>Married                        </td><td>Grade 12 or GED (High school graduate)                      </td><td>Less than $75,000</td><td>Male  </td><td>202</td><td> 0</td><td>1</td></tr>\n",
       "\t<tr><th scope=row>34</th><td> 1</td><td> 0</td><td> 1</td><td> 9</td><td>Married                        </td><td>College 4 years or more (College graduate)                  </td><td>$75,000 or more  </td><td>Male  </td><td>107</td><td> 1</td><td>1</td></tr>\n",
       "\t<tr><th scope=row>36</th><td> 1</td><td> 0</td><td> 1</td><td> 6</td><td>Married                        </td><td>College 4 years or more (College graduate)                  </td><td>$75,000 or more  </td><td>Female</td><td>215</td><td> 0</td><td>1</td></tr>\n",
       "\t<tr><th scope=row>37</th><td> 0</td><td>30</td><td>15</td><td> 6</td><td>Separated                      </td><td>College 4 years or more (College graduate)                  </td><td>Less than $50,000</td><td>Female</td><td>204</td><td> 0</td><td>1</td></tr>\n",
       "\t<tr><th scope=row>38</th><td> 0</td><td>10</td><td> 0</td><td> 8</td><td>Married                        </td><td>College 1 year to 3 years (Some college or technical school)</td><td>Less than $50,000</td><td>Female</td><td>107</td><td> 0</td><td>1</td></tr>\n",
       "\t<tr><th scope=row>42</th><td> 0</td><td> 1</td><td> 0</td><td> 7</td><td>Divorced                       </td><td>College 4 years or more (College graduate)                  </td><td>Less than $75,000</td><td>Female</td><td>102</td><td> 0</td><td>1</td></tr>\n",
       "\t<tr><th scope=row>43</th><td> 1</td><td> 2</td><td> 1</td><td> 7</td><td>Married                        </td><td>College 4 years or more (College graduate)                  </td><td>$75,000 or more  </td><td>Female</td><td>204</td><td> 0</td><td>1</td></tr>\n",
       "\t<tr><th scope=row>44</th><td> 2</td><td> 0</td><td> 2</td><td> 6</td><td>Married                        </td><td>Grade 12 or GED (High school graduate)                      </td><td>$75,000 or more  </td><td>Female</td><td>204</td><td> 0</td><td>1</td></tr>\n",
       "\t<tr><th scope=row>49</th><td>20</td><td> 5</td><td> 0</td><td> 7</td><td>Widowed                        </td><td>College 4 years or more (College graduate)                  </td><td>Less than $75,000</td><td>Female</td><td>212</td><td> 0</td><td>1</td></tr>\n",
       "\t<tr><th scope=row>50</th><td>14</td><td>21</td><td> 0</td><td> 7</td><td>Married                        </td><td>Grade 12 or GED (High school graduate)                      </td><td>Less than $20,000</td><td>Female</td><td>201</td><td> 0</td><td>1</td></tr>\n",
       "\t<tr><th scope=row>52</th><td> 2</td><td> 1</td><td> 1</td><td> 8</td><td>Married                        </td><td>College 1 year to 3 years (Some college or technical school)</td><td>Less than $75,000</td><td>Female</td><td>201</td><td> 0</td><td>1</td></tr>\n",
       "\t<tr><th scope=row>53</th><td> 0</td><td> 5</td><td> 0</td><td> 6</td><td>Married                        </td><td>College 4 years or more (College graduate)                  </td><td>$75,000 or more  </td><td>Female</td><td>103</td><td> 1</td><td>1</td></tr>\n",
       "\t<tr><th scope=row>54</th><td> 2</td><td> 0</td><td>20</td><td> 6</td><td>Married                        </td><td>College 4 years or more (College graduate)                  </td><td>Less than $50,000</td><td>Male  </td><td>202</td><td> 0</td><td>1</td></tr>\n",
       "\t<tr><th scope=row>⋮</th><td>⋮</td><td>⋮</td><td>⋮</td><td>⋮</td><td>⋮</td><td>⋮</td><td>⋮</td><td>⋮</td><td>⋮</td><td>⋮</td><td>⋮</td></tr>\n",
       "\t<tr><th scope=row>196539</th><td>10</td><td>10</td><td> 0</td><td>8</td><td>Married                        </td><td>College 4 years or more (College graduate)                  </td><td>Less than $35,000</td><td>Female</td><td>201</td><td>0</td><td>1</td></tr>\n",
       "\t<tr><th scope=row>196557</th><td> 7</td><td> 0</td><td> 7</td><td>5</td><td>A member of an unmarried couple</td><td>College 4 years or more (College graduate)                  </td><td>Less than $50,000</td><td>Male  </td><td>102</td><td>8</td><td>1</td></tr>\n",
       "\t<tr><th scope=row>196570</th><td> 0</td><td>25</td><td>25</td><td>5</td><td>Married                        </td><td>College 1 year to 3 years (Some college or technical school)</td><td>Less than $20,000</td><td>Male  </td><td>202</td><td>2</td><td>1</td></tr>\n",
       "\t<tr><th scope=row>196571</th><td>30</td><td>30</td><td> 0</td><td>4</td><td>A member of an unmarried couple</td><td>Grades 9 though 11 (Some high school)                       </td><td>Less than $10,000</td><td>Male  </td><td>203</td><td>3</td><td>1</td></tr>\n",
       "\t<tr><th scope=row>196572</th><td> 2</td><td> 7</td><td> 7</td><td>6</td><td>Married                        </td><td>College 4 years or more (College graduate)                  </td><td>Less than $50,000</td><td>Female</td><td>201</td><td>0</td><td>1</td></tr>\n",
       "\t<tr><th scope=row>196579</th><td>10</td><td>10</td><td> 0</td><td>6</td><td>Married                        </td><td>College 1 year to 3 years (Some college or technical school)</td><td>Less than $35,000</td><td>Female</td><td>201</td><td>0</td><td>1</td></tr>\n",
       "\t<tr><th scope=row>196583</th><td> 1</td><td> 0</td><td> 0</td><td>7</td><td>Married                        </td><td>Grades 1 through 8 (Elementary)                             </td><td>Less than $15,000</td><td>Male  </td><td>102</td><td>8</td><td>1</td></tr>\n",
       "\t<tr><th scope=row>196592</th><td>30</td><td> 0</td><td> 0</td><td>6</td><td>Married                        </td><td>College 1 year to 3 years (Some college or technical school)</td><td>Less than $35,000</td><td>Male  </td><td>202</td><td>0</td><td>1</td></tr>\n",
       "\t<tr><th scope=row>196595</th><td> 2</td><td> 0</td><td> 1</td><td>7</td><td>A member of an unmarried couple</td><td>College 4 years or more (College graduate)                  </td><td>Less than $25,000</td><td>Female</td><td>206</td><td>6</td><td>1</td></tr>\n",
       "\t<tr><th scope=row>196598</th><td> 5</td><td> 0</td><td> 0</td><td>6</td><td>Married                        </td><td>College 4 years or more (College graduate)                  </td><td>Less than $50,000</td><td>Male  </td><td>201</td><td>0</td><td>1</td></tr>\n",
       "\t<tr><th scope=row>196602</th><td> 0</td><td>30</td><td> 0</td><td>6</td><td>Divorced                       </td><td>College 4 years or more (College graduate)                  </td><td>$75,000 or more  </td><td>Female</td><td>201</td><td>5</td><td>1</td></tr>\n",
       "\t<tr><th scope=row>196603</th><td> 0</td><td>30</td><td> 0</td><td>6</td><td>Married                        </td><td>College 4 years or more (College graduate)                  </td><td>Less than $50,000</td><td>Female</td><td>202</td><td>0</td><td>1</td></tr>\n",
       "\t<tr><th scope=row>196604</th><td>10</td><td> 0</td><td>10</td><td>8</td><td>Divorced                       </td><td>Grades 9 though 11 (Some high school)                       </td><td>Less than $10,000</td><td>Male  </td><td>205</td><td>0</td><td>1</td></tr>\n",
       "\t<tr><th scope=row>196605</th><td> 3</td><td> 7</td><td> 0</td><td>8</td><td>Married                        </td><td>College 4 years or more (College graduate)                  </td><td>Less than $50,000</td><td>Female</td><td>201</td><td>2</td><td>1</td></tr>\n",
       "\t<tr><th scope=row>196608</th><td> 0</td><td> 3</td><td> 0</td><td>9</td><td>Never married                  </td><td>College 4 years or more (College graduate)                  </td><td>Less than $35,000</td><td>Male  </td><td>101</td><td>0</td><td>1</td></tr>\n",
       "\t<tr><th scope=row>196610</th><td> 0</td><td> 3</td><td> 3</td><td>8</td><td>Married                        </td><td>College 1 year to 3 years (Some college or technical school)</td><td>Less than $10,000</td><td>Female</td><td>202</td><td>0</td><td>1</td></tr>\n",
       "\t<tr><th scope=row>196618</th><td> 0</td><td> 7</td><td> 0</td><td>8</td><td>Never married                  </td><td>College 4 years or more (College graduate)                  </td><td>Less than $10,000</td><td>Female</td><td>202</td><td>2</td><td>1</td></tr>\n",
       "\t<tr><th scope=row>196623</th><td> 7</td><td> 0</td><td> 7</td><td>7</td><td>Widowed                        </td><td>College 1 year to 3 years (Some college or technical school)</td><td>Less than $10,000</td><td>Female</td><td>201</td><td>0</td><td>1</td></tr>\n",
       "\t<tr><th scope=row>196624</th><td> 0</td><td>30</td><td> 0</td><td>6</td><td>Never married                  </td><td>College 1 year to 3 years (Some college or technical school)</td><td>Less than $75,000</td><td>Male  </td><td>104</td><td>1</td><td>1</td></tr>\n",
       "\t<tr><th scope=row>196626</th><td>30</td><td> 0</td><td> 0</td><td>7</td><td>Married                        </td><td>Grade 12 or GED (High school graduate)                      </td><td>Less than $20,000</td><td>Male  </td><td>204</td><td>4</td><td>1</td></tr>\n",
       "\t<tr><th scope=row>196638</th><td>14</td><td> 7</td><td> 0</td><td>6</td><td>Married                        </td><td>Grade 12 or GED (High school graduate)                      </td><td>Less than $15,000</td><td>Female</td><td>204</td><td>4</td><td>1</td></tr>\n",
       "\t<tr><th scope=row>196640</th><td> 0</td><td> 7</td><td> 0</td><td>8</td><td>Never married                  </td><td>College 4 years or more (College graduate)                  </td><td>Less than $10,000</td><td>Female</td><td>201</td><td>0</td><td>1</td></tr>\n",
       "\t<tr><th scope=row>196641</th><td> 0</td><td>14</td><td> 0</td><td>6</td><td>Never married                  </td><td>College 1 year to 3 years (Some college or technical school)</td><td>Less than $35,000</td><td>Male  </td><td>203</td><td>0</td><td>1</td></tr>\n",
       "\t<tr><th scope=row>196644</th><td> 0</td><td>30</td><td> 0</td><td>4</td><td>Never married                  </td><td>College 4 years or more (College graduate)                  </td><td>Less than $20,000</td><td>Male  </td><td>201</td><td>5</td><td>1</td></tr>\n",
       "\t<tr><th scope=row>196647</th><td> 7</td><td>14</td><td> 7</td><td>4</td><td>Never married                  </td><td>Grade 12 or GED (High school graduate)                      </td><td>Less than $15,000</td><td>Male  </td><td>201</td><td>1</td><td>1</td></tr>\n",
       "\t<tr><th scope=row>196653</th><td> 0</td><td>10</td><td> 0</td><td>8</td><td>Never married                  </td><td>College 4 years or more (College graduate)                  </td><td>Less than $25,000</td><td>Male  </td><td>205</td><td>0</td><td>1</td></tr>\n",
       "\t<tr><th scope=row>196656</th><td> 3</td><td> 0</td><td> 3</td><td>7</td><td>Never married                  </td><td>College 1 year to 3 years (Some college or technical school)</td><td>Less than $15,000</td><td>Male  </td><td>201</td><td>0</td><td>1</td></tr>\n",
       "\t<tr><th scope=row>196657</th><td>14</td><td> 0</td><td> 2</td><td>6</td><td>Married                        </td><td>Grade 12 or GED (High school graduate)                      </td><td>Less than $10,000</td><td>Male  </td><td>101</td><td>4</td><td>1</td></tr>\n",
       "\t<tr><th scope=row>196659</th><td>10</td><td>14</td><td> 7</td><td>8</td><td>Married                        </td><td>College 1 year to 3 years (Some college or technical school)</td><td>Less than $15,000</td><td>Female</td><td>202</td><td>0</td><td>1</td></tr>\n",
       "\t<tr><th scope=row>196671</th><td> 1</td><td> 3</td><td> 4</td><td>6</td><td>Married                        </td><td>College 4 years or more (College graduate)                  </td><td>$75,000 or more  </td><td>Male  </td><td>204</td><td>4</td><td>1</td></tr>\n",
       "</tbody>\n",
       "</table>\n"
      ],
      "text/latex": [
       "A data.frame: 99809 × 11\n",
       "\\begin{tabular}{r|lllllllllll}\n",
       "  & physhlth & menthlth & poorhlth & sleptim1 & marital & educa & income2 & sex & alcday5 & drnk3ge5 & alcday5\\_new\\\\\n",
       "  & <int> & <int> & <int> & <int> & <fct> & <fct> & <fct> & <fct> & <int> & <dbl> & <dbl>\\\\\n",
       "\\hline\n",
       "\t1 &  3 &  2 &  0 &  9 & Married                         & College 4 years or more (College graduate)                   & \\$75,000 or more   & Female & 220 & 20 & 1\\\\\n",
       "\t2 &  2 &  0 &  0 &  8 & Married                         & Grade 12 or GED (High school graduate)                       & Less than \\$75,000 & Female & 208 &  0 & 1\\\\\n",
       "\t3 & 10 &  2 &  0 &  6 & Married                         & College 4 years or more (College graduate)                   & Less than \\$50,000 & Male   & 210 &  0 & 1\\\\\n",
       "\t4 &  5 &  0 & 10 &  6 & Widowed                         & College 1 year to 3 years (Some college or technical school) & Less than \\$50,000 & Female & 202 &  0 & 1\\\\\n",
       "\t5 &  0 &  1 &  0 &  6 & Married                         & College 4 years or more (College graduate)                   & \\$75,000 or more   & Male   & 205 &  0 & 1\\\\\n",
       "\t8 &  3 &  3 &  0 &  6 & Married                         & Grade 12 or GED (High school graduate)                       & \\$75,000 or more   & Female & 201 &  0 & 1\\\\\n",
       "\t10 &  3 &  2 &  0 &  6 & Married                         & College 1 year to 3 years (Some college or technical school) & Less than \\$75,000 & Male   & 230 &  0 & 1\\\\\n",
       "\t16 &  4 &  0 &  0 &  7 & Married                         & College 1 year to 3 years (Some college or technical school) & Less than \\$25,000 & Male   & 203 &  0 & 1\\\\\n",
       "\t17 &  0 &  5 &  0 &  8 & Married                         & College 4 years or more (College graduate)                   & \\$75,000 or more   & Female & 203 &  0 & 1\\\\\n",
       "\t18 & 23 & 30 & 30 &  4 & Divorced                        & Grade 12 or GED (High school graduate)                       & Less than \\$10,000 & Female & 201 &  0 & 1\\\\\n",
       "\t20 &  0 &  5 &  0 &  6 & Married                         & Grade 12 or GED (High school graduate)                       & Less than \\$50,000 & Male   & 201 &  0 & 1\\\\\n",
       "\t22 &  2 &  0 &  2 &  7 & Never married                   & College 1 year to 3 years (Some college or technical school) & Less than \\$25,000 & Female & 207 &  5 & 1\\\\\n",
       "\t23 &  1 &  2 &  0 &  7 & Divorced                        & College 4 years or more (College graduate)                   & Less than \\$20,000 & Male   & 103 &  2 & 1\\\\\n",
       "\t24 &  4 & 10 &  2 &  6 & Never married                   & College 4 years or more (College graduate)                   & Less than \\$50,000 & Male   & 204 &  0 & 1\\\\\n",
       "\t27 & 30 &  0 &  0 &  6 & Married                         & Grade 12 or GED (High school graduate)                       & \\$75,000 or more   & Male   & 107 &  0 & 1\\\\\n",
       "\t28 & 30 &  2 & 15 & 10 & A member of an unmarried couple & Grade 12 or GED (High school graduate)                       & Less than \\$25,000 & Female & 201 &  0 & 1\\\\\n",
       "\t30 &  0 & 30 &  0 &  7 & Divorced                        & College 1 year to 3 years (Some college or technical school) & Less than \\$35,000 & Female & 205 &  1 & 1\\\\\n",
       "\t33 &  0 &  7 &  0 &  6 & Married                         & Grade 12 or GED (High school graduate)                       & Less than \\$75,000 & Male   & 202 &  0 & 1\\\\\n",
       "\t34 &  1 &  0 &  1 &  9 & Married                         & College 4 years or more (College graduate)                   & \\$75,000 or more   & Male   & 107 &  1 & 1\\\\\n",
       "\t36 &  1 &  0 &  1 &  6 & Married                         & College 4 years or more (College graduate)                   & \\$75,000 or more   & Female & 215 &  0 & 1\\\\\n",
       "\t37 &  0 & 30 & 15 &  6 & Separated                       & College 4 years or more (College graduate)                   & Less than \\$50,000 & Female & 204 &  0 & 1\\\\\n",
       "\t38 &  0 & 10 &  0 &  8 & Married                         & College 1 year to 3 years (Some college or technical school) & Less than \\$50,000 & Female & 107 &  0 & 1\\\\\n",
       "\t42 &  0 &  1 &  0 &  7 & Divorced                        & College 4 years or more (College graduate)                   & Less than \\$75,000 & Female & 102 &  0 & 1\\\\\n",
       "\t43 &  1 &  2 &  1 &  7 & Married                         & College 4 years or more (College graduate)                   & \\$75,000 or more   & Female & 204 &  0 & 1\\\\\n",
       "\t44 &  2 &  0 &  2 &  6 & Married                         & Grade 12 or GED (High school graduate)                       & \\$75,000 or more   & Female & 204 &  0 & 1\\\\\n",
       "\t49 & 20 &  5 &  0 &  7 & Widowed                         & College 4 years or more (College graduate)                   & Less than \\$75,000 & Female & 212 &  0 & 1\\\\\n",
       "\t50 & 14 & 21 &  0 &  7 & Married                         & Grade 12 or GED (High school graduate)                       & Less than \\$20,000 & Female & 201 &  0 & 1\\\\\n",
       "\t52 &  2 &  1 &  1 &  8 & Married                         & College 1 year to 3 years (Some college or technical school) & Less than \\$75,000 & Female & 201 &  0 & 1\\\\\n",
       "\t53 &  0 &  5 &  0 &  6 & Married                         & College 4 years or more (College graduate)                   & \\$75,000 or more   & Female & 103 &  1 & 1\\\\\n",
       "\t54 &  2 &  0 & 20 &  6 & Married                         & College 4 years or more (College graduate)                   & Less than \\$50,000 & Male   & 202 &  0 & 1\\\\\n",
       "\t⋮ & ⋮ & ⋮ & ⋮ & ⋮ & ⋮ & ⋮ & ⋮ & ⋮ & ⋮ & ⋮ & ⋮\\\\\n",
       "\t196539 & 10 & 10 &  0 & 8 & Married                         & College 4 years or more (College graduate)                   & Less than \\$35,000 & Female & 201 & 0 & 1\\\\\n",
       "\t196557 &  7 &  0 &  7 & 5 & A member of an unmarried couple & College 4 years or more (College graduate)                   & Less than \\$50,000 & Male   & 102 & 8 & 1\\\\\n",
       "\t196570 &  0 & 25 & 25 & 5 & Married                         & College 1 year to 3 years (Some college or technical school) & Less than \\$20,000 & Male   & 202 & 2 & 1\\\\\n",
       "\t196571 & 30 & 30 &  0 & 4 & A member of an unmarried couple & Grades 9 though 11 (Some high school)                        & Less than \\$10,000 & Male   & 203 & 3 & 1\\\\\n",
       "\t196572 &  2 &  7 &  7 & 6 & Married                         & College 4 years or more (College graduate)                   & Less than \\$50,000 & Female & 201 & 0 & 1\\\\\n",
       "\t196579 & 10 & 10 &  0 & 6 & Married                         & College 1 year to 3 years (Some college or technical school) & Less than \\$35,000 & Female & 201 & 0 & 1\\\\\n",
       "\t196583 &  1 &  0 &  0 & 7 & Married                         & Grades 1 through 8 (Elementary)                              & Less than \\$15,000 & Male   & 102 & 8 & 1\\\\\n",
       "\t196592 & 30 &  0 &  0 & 6 & Married                         & College 1 year to 3 years (Some college or technical school) & Less than \\$35,000 & Male   & 202 & 0 & 1\\\\\n",
       "\t196595 &  2 &  0 &  1 & 7 & A member of an unmarried couple & College 4 years or more (College graduate)                   & Less than \\$25,000 & Female & 206 & 6 & 1\\\\\n",
       "\t196598 &  5 &  0 &  0 & 6 & Married                         & College 4 years or more (College graduate)                   & Less than \\$50,000 & Male   & 201 & 0 & 1\\\\\n",
       "\t196602 &  0 & 30 &  0 & 6 & Divorced                        & College 4 years or more (College graduate)                   & \\$75,000 or more   & Female & 201 & 5 & 1\\\\\n",
       "\t196603 &  0 & 30 &  0 & 6 & Married                         & College 4 years or more (College graduate)                   & Less than \\$50,000 & Female & 202 & 0 & 1\\\\\n",
       "\t196604 & 10 &  0 & 10 & 8 & Divorced                        & Grades 9 though 11 (Some high school)                        & Less than \\$10,000 & Male   & 205 & 0 & 1\\\\\n",
       "\t196605 &  3 &  7 &  0 & 8 & Married                         & College 4 years or more (College graduate)                   & Less than \\$50,000 & Female & 201 & 2 & 1\\\\\n",
       "\t196608 &  0 &  3 &  0 & 9 & Never married                   & College 4 years or more (College graduate)                   & Less than \\$35,000 & Male   & 101 & 0 & 1\\\\\n",
       "\t196610 &  0 &  3 &  3 & 8 & Married                         & College 1 year to 3 years (Some college or technical school) & Less than \\$10,000 & Female & 202 & 0 & 1\\\\\n",
       "\t196618 &  0 &  7 &  0 & 8 & Never married                   & College 4 years or more (College graduate)                   & Less than \\$10,000 & Female & 202 & 2 & 1\\\\\n",
       "\t196623 &  7 &  0 &  7 & 7 & Widowed                         & College 1 year to 3 years (Some college or technical school) & Less than \\$10,000 & Female & 201 & 0 & 1\\\\\n",
       "\t196624 &  0 & 30 &  0 & 6 & Never married                   & College 1 year to 3 years (Some college or technical school) & Less than \\$75,000 & Male   & 104 & 1 & 1\\\\\n",
       "\t196626 & 30 &  0 &  0 & 7 & Married                         & Grade 12 or GED (High school graduate)                       & Less than \\$20,000 & Male   & 204 & 4 & 1\\\\\n",
       "\t196638 & 14 &  7 &  0 & 6 & Married                         & Grade 12 or GED (High school graduate)                       & Less than \\$15,000 & Female & 204 & 4 & 1\\\\\n",
       "\t196640 &  0 &  7 &  0 & 8 & Never married                   & College 4 years or more (College graduate)                   & Less than \\$10,000 & Female & 201 & 0 & 1\\\\\n",
       "\t196641 &  0 & 14 &  0 & 6 & Never married                   & College 1 year to 3 years (Some college or technical school) & Less than \\$35,000 & Male   & 203 & 0 & 1\\\\\n",
       "\t196644 &  0 & 30 &  0 & 4 & Never married                   & College 4 years or more (College graduate)                   & Less than \\$20,000 & Male   & 201 & 5 & 1\\\\\n",
       "\t196647 &  7 & 14 &  7 & 4 & Never married                   & Grade 12 or GED (High school graduate)                       & Less than \\$15,000 & Male   & 201 & 1 & 1\\\\\n",
       "\t196653 &  0 & 10 &  0 & 8 & Never married                   & College 4 years or more (College graduate)                   & Less than \\$25,000 & Male   & 205 & 0 & 1\\\\\n",
       "\t196656 &  3 &  0 &  3 & 7 & Never married                   & College 1 year to 3 years (Some college or technical school) & Less than \\$15,000 & Male   & 201 & 0 & 1\\\\\n",
       "\t196657 & 14 &  0 &  2 & 6 & Married                         & Grade 12 or GED (High school graduate)                       & Less than \\$10,000 & Male   & 101 & 4 & 1\\\\\n",
       "\t196659 & 10 & 14 &  7 & 8 & Married                         & College 1 year to 3 years (Some college or technical school) & Less than \\$15,000 & Female & 202 & 0 & 1\\\\\n",
       "\t196671 &  1 &  3 &  4 & 6 & Married                         & College 4 years or more (College graduate)                   & \\$75,000 or more   & Male   & 204 & 4 & 1\\\\\n",
       "\\end{tabular}\n"
      ],
      "text/markdown": [
       "\n",
       "A data.frame: 99809 × 11\n",
       "\n",
       "| <!--/--> | physhlth &lt;int&gt; | menthlth &lt;int&gt; | poorhlth &lt;int&gt; | sleptim1 &lt;int&gt; | marital &lt;fct&gt; | educa &lt;fct&gt; | income2 &lt;fct&gt; | sex &lt;fct&gt; | alcday5 &lt;int&gt; | drnk3ge5 &lt;dbl&gt; | alcday5_new &lt;dbl&gt; |\n",
       "|---|---|---|---|---|---|---|---|---|---|---|---|\n",
       "| 1 |  3 |  2 |  0 |  9 | Married                         | College 4 years or more (College graduate)                   | $75,000 or more   | Female | 220 | 20 | 1 |\n",
       "| 2 |  2 |  0 |  0 |  8 | Married                         | Grade 12 or GED (High school graduate)                       | Less than $75,000 | Female | 208 |  0 | 1 |\n",
       "| 3 | 10 |  2 |  0 |  6 | Married                         | College 4 years or more (College graduate)                   | Less than $50,000 | Male   | 210 |  0 | 1 |\n",
       "| 4 |  5 |  0 | 10 |  6 | Widowed                         | College 1 year to 3 years (Some college or technical school) | Less than $50,000 | Female | 202 |  0 | 1 |\n",
       "| 5 |  0 |  1 |  0 |  6 | Married                         | College 4 years or more (College graduate)                   | $75,000 or more   | Male   | 205 |  0 | 1 |\n",
       "| 8 |  3 |  3 |  0 |  6 | Married                         | Grade 12 or GED (High school graduate)                       | $75,000 or more   | Female | 201 |  0 | 1 |\n",
       "| 10 |  3 |  2 |  0 |  6 | Married                         | College 1 year to 3 years (Some college or technical school) | Less than $75,000 | Male   | 230 |  0 | 1 |\n",
       "| 16 |  4 |  0 |  0 |  7 | Married                         | College 1 year to 3 years (Some college or technical school) | Less than $25,000 | Male   | 203 |  0 | 1 |\n",
       "| 17 |  0 |  5 |  0 |  8 | Married                         | College 4 years or more (College graduate)                   | $75,000 or more   | Female | 203 |  0 | 1 |\n",
       "| 18 | 23 | 30 | 30 |  4 | Divorced                        | Grade 12 or GED (High school graduate)                       | Less than $10,000 | Female | 201 |  0 | 1 |\n",
       "| 20 |  0 |  5 |  0 |  6 | Married                         | Grade 12 or GED (High school graduate)                       | Less than $50,000 | Male   | 201 |  0 | 1 |\n",
       "| 22 |  2 |  0 |  2 |  7 | Never married                   | College 1 year to 3 years (Some college or technical school) | Less than $25,000 | Female | 207 |  5 | 1 |\n",
       "| 23 |  1 |  2 |  0 |  7 | Divorced                        | College 4 years or more (College graduate)                   | Less than $20,000 | Male   | 103 |  2 | 1 |\n",
       "| 24 |  4 | 10 |  2 |  6 | Never married                   | College 4 years or more (College graduate)                   | Less than $50,000 | Male   | 204 |  0 | 1 |\n",
       "| 27 | 30 |  0 |  0 |  6 | Married                         | Grade 12 or GED (High school graduate)                       | $75,000 or more   | Male   | 107 |  0 | 1 |\n",
       "| 28 | 30 |  2 | 15 | 10 | A member of an unmarried couple | Grade 12 or GED (High school graduate)                       | Less than $25,000 | Female | 201 |  0 | 1 |\n",
       "| 30 |  0 | 30 |  0 |  7 | Divorced                        | College 1 year to 3 years (Some college or technical school) | Less than $35,000 | Female | 205 |  1 | 1 |\n",
       "| 33 |  0 |  7 |  0 |  6 | Married                         | Grade 12 or GED (High school graduate)                       | Less than $75,000 | Male   | 202 |  0 | 1 |\n",
       "| 34 |  1 |  0 |  1 |  9 | Married                         | College 4 years or more (College graduate)                   | $75,000 or more   | Male   | 107 |  1 | 1 |\n",
       "| 36 |  1 |  0 |  1 |  6 | Married                         | College 4 years or more (College graduate)                   | $75,000 or more   | Female | 215 |  0 | 1 |\n",
       "| 37 |  0 | 30 | 15 |  6 | Separated                       | College 4 years or more (College graduate)                   | Less than $50,000 | Female | 204 |  0 | 1 |\n",
       "| 38 |  0 | 10 |  0 |  8 | Married                         | College 1 year to 3 years (Some college or technical school) | Less than $50,000 | Female | 107 |  0 | 1 |\n",
       "| 42 |  0 |  1 |  0 |  7 | Divorced                        | College 4 years or more (College graduate)                   | Less than $75,000 | Female | 102 |  0 | 1 |\n",
       "| 43 |  1 |  2 |  1 |  7 | Married                         | College 4 years or more (College graduate)                   | $75,000 or more   | Female | 204 |  0 | 1 |\n",
       "| 44 |  2 |  0 |  2 |  6 | Married                         | Grade 12 or GED (High school graduate)                       | $75,000 or more   | Female | 204 |  0 | 1 |\n",
       "| 49 | 20 |  5 |  0 |  7 | Widowed                         | College 4 years or more (College graduate)                   | Less than $75,000 | Female | 212 |  0 | 1 |\n",
       "| 50 | 14 | 21 |  0 |  7 | Married                         | Grade 12 or GED (High school graduate)                       | Less than $20,000 | Female | 201 |  0 | 1 |\n",
       "| 52 |  2 |  1 |  1 |  8 | Married                         | College 1 year to 3 years (Some college or technical school) | Less than $75,000 | Female | 201 |  0 | 1 |\n",
       "| 53 |  0 |  5 |  0 |  6 | Married                         | College 4 years or more (College graduate)                   | $75,000 or more   | Female | 103 |  1 | 1 |\n",
       "| 54 |  2 |  0 | 20 |  6 | Married                         | College 4 years or more (College graduate)                   | Less than $50,000 | Male   | 202 |  0 | 1 |\n",
       "| ⋮ | ⋮ | ⋮ | ⋮ | ⋮ | ⋮ | ⋮ | ⋮ | ⋮ | ⋮ | ⋮ | ⋮ |\n",
       "| 196539 | 10 | 10 |  0 | 8 | Married                         | College 4 years or more (College graduate)                   | Less than $35,000 | Female | 201 | 0 | 1 |\n",
       "| 196557 |  7 |  0 |  7 | 5 | A member of an unmarried couple | College 4 years or more (College graduate)                   | Less than $50,000 | Male   | 102 | 8 | 1 |\n",
       "| 196570 |  0 | 25 | 25 | 5 | Married                         | College 1 year to 3 years (Some college or technical school) | Less than $20,000 | Male   | 202 | 2 | 1 |\n",
       "| 196571 | 30 | 30 |  0 | 4 | A member of an unmarried couple | Grades 9 though 11 (Some high school)                        | Less than $10,000 | Male   | 203 | 3 | 1 |\n",
       "| 196572 |  2 |  7 |  7 | 6 | Married                         | College 4 years or more (College graduate)                   | Less than $50,000 | Female | 201 | 0 | 1 |\n",
       "| 196579 | 10 | 10 |  0 | 6 | Married                         | College 1 year to 3 years (Some college or technical school) | Less than $35,000 | Female | 201 | 0 | 1 |\n",
       "| 196583 |  1 |  0 |  0 | 7 | Married                         | Grades 1 through 8 (Elementary)                              | Less than $15,000 | Male   | 102 | 8 | 1 |\n",
       "| 196592 | 30 |  0 |  0 | 6 | Married                         | College 1 year to 3 years (Some college or technical school) | Less than $35,000 | Male   | 202 | 0 | 1 |\n",
       "| 196595 |  2 |  0 |  1 | 7 | A member of an unmarried couple | College 4 years or more (College graduate)                   | Less than $25,000 | Female | 206 | 6 | 1 |\n",
       "| 196598 |  5 |  0 |  0 | 6 | Married                         | College 4 years or more (College graduate)                   | Less than $50,000 | Male   | 201 | 0 | 1 |\n",
       "| 196602 |  0 | 30 |  0 | 6 | Divorced                        | College 4 years or more (College graduate)                   | $75,000 or more   | Female | 201 | 5 | 1 |\n",
       "| 196603 |  0 | 30 |  0 | 6 | Married                         | College 4 years or more (College graduate)                   | Less than $50,000 | Female | 202 | 0 | 1 |\n",
       "| 196604 | 10 |  0 | 10 | 8 | Divorced                        | Grades 9 though 11 (Some high school)                        | Less than $10,000 | Male   | 205 | 0 | 1 |\n",
       "| 196605 |  3 |  7 |  0 | 8 | Married                         | College 4 years or more (College graduate)                   | Less than $50,000 | Female | 201 | 2 | 1 |\n",
       "| 196608 |  0 |  3 |  0 | 9 | Never married                   | College 4 years or more (College graduate)                   | Less than $35,000 | Male   | 101 | 0 | 1 |\n",
       "| 196610 |  0 |  3 |  3 | 8 | Married                         | College 1 year to 3 years (Some college or technical school) | Less than $10,000 | Female | 202 | 0 | 1 |\n",
       "| 196618 |  0 |  7 |  0 | 8 | Never married                   | College 4 years or more (College graduate)                   | Less than $10,000 | Female | 202 | 2 | 1 |\n",
       "| 196623 |  7 |  0 |  7 | 7 | Widowed                         | College 1 year to 3 years (Some college or technical school) | Less than $10,000 | Female | 201 | 0 | 1 |\n",
       "| 196624 |  0 | 30 |  0 | 6 | Never married                   | College 1 year to 3 years (Some college or technical school) | Less than $75,000 | Male   | 104 | 1 | 1 |\n",
       "| 196626 | 30 |  0 |  0 | 7 | Married                         | Grade 12 or GED (High school graduate)                       | Less than $20,000 | Male   | 204 | 4 | 1 |\n",
       "| 196638 | 14 |  7 |  0 | 6 | Married                         | Grade 12 or GED (High school graduate)                       | Less than $15,000 | Female | 204 | 4 | 1 |\n",
       "| 196640 |  0 |  7 |  0 | 8 | Never married                   | College 4 years or more (College graduate)                   | Less than $10,000 | Female | 201 | 0 | 1 |\n",
       "| 196641 |  0 | 14 |  0 | 6 | Never married                   | College 1 year to 3 years (Some college or technical school) | Less than $35,000 | Male   | 203 | 0 | 1 |\n",
       "| 196644 |  0 | 30 |  0 | 4 | Never married                   | College 4 years or more (College graduate)                   | Less than $20,000 | Male   | 201 | 5 | 1 |\n",
       "| 196647 |  7 | 14 |  7 | 4 | Never married                   | Grade 12 or GED (High school graduate)                       | Less than $15,000 | Male   | 201 | 1 | 1 |\n",
       "| 196653 |  0 | 10 |  0 | 8 | Never married                   | College 4 years or more (College graduate)                   | Less than $25,000 | Male   | 205 | 0 | 1 |\n",
       "| 196656 |  3 |  0 |  3 | 7 | Never married                   | College 1 year to 3 years (Some college or technical school) | Less than $15,000 | Male   | 201 | 0 | 1 |\n",
       "| 196657 | 14 |  0 |  2 | 6 | Married                         | Grade 12 or GED (High school graduate)                       | Less than $10,000 | Male   | 101 | 4 | 1 |\n",
       "| 196659 | 10 | 14 |  7 | 8 | Married                         | College 1 year to 3 years (Some college or technical school) | Less than $15,000 | Female | 202 | 0 | 1 |\n",
       "| 196671 |  1 |  3 |  4 | 6 | Married                         | College 4 years or more (College graduate)                   | $75,000 or more   | Male   | 204 | 4 | 1 |\n",
       "\n"
      ],
      "text/plain": [
       "       physhlth menthlth poorhlth sleptim1 marital                        \n",
       "1       3        2        0        9       Married                        \n",
       "2       2        0        0        8       Married                        \n",
       "3      10        2        0        6       Married                        \n",
       "4       5        0       10        6       Widowed                        \n",
       "5       0        1        0        6       Married                        \n",
       "8       3        3        0        6       Married                        \n",
       "10      3        2        0        6       Married                        \n",
       "16      4        0        0        7       Married                        \n",
       "17      0        5        0        8       Married                        \n",
       "18     23       30       30        4       Divorced                       \n",
       "20      0        5        0        6       Married                        \n",
       "22      2        0        2        7       Never married                  \n",
       "23      1        2        0        7       Divorced                       \n",
       "24      4       10        2        6       Never married                  \n",
       "27     30        0        0        6       Married                        \n",
       "28     30        2       15       10       A member of an unmarried couple\n",
       "30      0       30        0        7       Divorced                       \n",
       "33      0        7        0        6       Married                        \n",
       "34      1        0        1        9       Married                        \n",
       "36      1        0        1        6       Married                        \n",
       "37      0       30       15        6       Separated                      \n",
       "38      0       10        0        8       Married                        \n",
       "42      0        1        0        7       Divorced                       \n",
       "43      1        2        1        7       Married                        \n",
       "44      2        0        2        6       Married                        \n",
       "49     20        5        0        7       Widowed                        \n",
       "50     14       21        0        7       Married                        \n",
       "52      2        1        1        8       Married                        \n",
       "53      0        5        0        6       Married                        \n",
       "54      2        0       20        6       Married                        \n",
       "⋮      ⋮        ⋮        ⋮        ⋮        ⋮                              \n",
       "196539 10       10        0       8        Married                        \n",
       "196557  7        0        7       5        A member of an unmarried couple\n",
       "196570  0       25       25       5        Married                        \n",
       "196571 30       30        0       4        A member of an unmarried couple\n",
       "196572  2        7        7       6        Married                        \n",
       "196579 10       10        0       6        Married                        \n",
       "196583  1        0        0       7        Married                        \n",
       "196592 30        0        0       6        Married                        \n",
       "196595  2        0        1       7        A member of an unmarried couple\n",
       "196598  5        0        0       6        Married                        \n",
       "196602  0       30        0       6        Divorced                       \n",
       "196603  0       30        0       6        Married                        \n",
       "196604 10        0       10       8        Divorced                       \n",
       "196605  3        7        0       8        Married                        \n",
       "196608  0        3        0       9        Never married                  \n",
       "196610  0        3        3       8        Married                        \n",
       "196618  0        7        0       8        Never married                  \n",
       "196623  7        0        7       7        Widowed                        \n",
       "196624  0       30        0       6        Never married                  \n",
       "196626 30        0        0       7        Married                        \n",
       "196638 14        7        0       6        Married                        \n",
       "196640  0        7        0       8        Never married                  \n",
       "196641  0       14        0       6        Never married                  \n",
       "196644  0       30        0       4        Never married                  \n",
       "196647  7       14        7       4        Never married                  \n",
       "196653  0       10        0       8        Never married                  \n",
       "196656  3        0        3       7        Never married                  \n",
       "196657 14        0        2       6        Married                        \n",
       "196659 10       14        7       8        Married                        \n",
       "196671  1        3        4       6        Married                        \n",
       "       educa                                                       \n",
       "1      College 4 years or more (College graduate)                  \n",
       "2      Grade 12 or GED (High school graduate)                      \n",
       "3      College 4 years or more (College graduate)                  \n",
       "4      College 1 year to 3 years (Some college or technical school)\n",
       "5      College 4 years or more (College graduate)                  \n",
       "8      Grade 12 or GED (High school graduate)                      \n",
       "10     College 1 year to 3 years (Some college or technical school)\n",
       "16     College 1 year to 3 years (Some college or technical school)\n",
       "17     College 4 years or more (College graduate)                  \n",
       "18     Grade 12 or GED (High school graduate)                      \n",
       "20     Grade 12 or GED (High school graduate)                      \n",
       "22     College 1 year to 3 years (Some college or technical school)\n",
       "23     College 4 years or more (College graduate)                  \n",
       "24     College 4 years or more (College graduate)                  \n",
       "27     Grade 12 or GED (High school graduate)                      \n",
       "28     Grade 12 or GED (High school graduate)                      \n",
       "30     College 1 year to 3 years (Some college or technical school)\n",
       "33     Grade 12 or GED (High school graduate)                      \n",
       "34     College 4 years or more (College graduate)                  \n",
       "36     College 4 years or more (College graduate)                  \n",
       "37     College 4 years or more (College graduate)                  \n",
       "38     College 1 year to 3 years (Some college or technical school)\n",
       "42     College 4 years or more (College graduate)                  \n",
       "43     College 4 years or more (College graduate)                  \n",
       "44     Grade 12 or GED (High school graduate)                      \n",
       "49     College 4 years or more (College graduate)                  \n",
       "50     Grade 12 or GED (High school graduate)                      \n",
       "52     College 1 year to 3 years (Some college or technical school)\n",
       "53     College 4 years or more (College graduate)                  \n",
       "54     College 4 years or more (College graduate)                  \n",
       "⋮      ⋮                                                           \n",
       "196539 College 4 years or more (College graduate)                  \n",
       "196557 College 4 years or more (College graduate)                  \n",
       "196570 College 1 year to 3 years (Some college or technical school)\n",
       "196571 Grades 9 though 11 (Some high school)                       \n",
       "196572 College 4 years or more (College graduate)                  \n",
       "196579 College 1 year to 3 years (Some college or technical school)\n",
       "196583 Grades 1 through 8 (Elementary)                             \n",
       "196592 College 1 year to 3 years (Some college or technical school)\n",
       "196595 College 4 years or more (College graduate)                  \n",
       "196598 College 4 years or more (College graduate)                  \n",
       "196602 College 4 years or more (College graduate)                  \n",
       "196603 College 4 years or more (College graduate)                  \n",
       "196604 Grades 9 though 11 (Some high school)                       \n",
       "196605 College 4 years or more (College graduate)                  \n",
       "196608 College 4 years or more (College graduate)                  \n",
       "196610 College 1 year to 3 years (Some college or technical school)\n",
       "196618 College 4 years or more (College graduate)                  \n",
       "196623 College 1 year to 3 years (Some college or technical school)\n",
       "196624 College 1 year to 3 years (Some college or technical school)\n",
       "196626 Grade 12 or GED (High school graduate)                      \n",
       "196638 Grade 12 or GED (High school graduate)                      \n",
       "196640 College 4 years or more (College graduate)                  \n",
       "196641 College 1 year to 3 years (Some college or technical school)\n",
       "196644 College 4 years or more (College graduate)                  \n",
       "196647 Grade 12 or GED (High school graduate)                      \n",
       "196653 College 4 years or more (College graduate)                  \n",
       "196656 College 1 year to 3 years (Some college or technical school)\n",
       "196657 Grade 12 or GED (High school graduate)                      \n",
       "196659 College 1 year to 3 years (Some college or technical school)\n",
       "196671 College 4 years or more (College graduate)                  \n",
       "       income2           sex    alcday5 drnk3ge5 alcday5_new\n",
       "1      $75,000 or more   Female 220     20       1          \n",
       "2      Less than $75,000 Female 208      0       1          \n",
       "3      Less than $50,000 Male   210      0       1          \n",
       "4      Less than $50,000 Female 202      0       1          \n",
       "5      $75,000 or more   Male   205      0       1          \n",
       "8      $75,000 or more   Female 201      0       1          \n",
       "10     Less than $75,000 Male   230      0       1          \n",
       "16     Less than $25,000 Male   203      0       1          \n",
       "17     $75,000 or more   Female 203      0       1          \n",
       "18     Less than $10,000 Female 201      0       1          \n",
       "20     Less than $50,000 Male   201      0       1          \n",
       "22     Less than $25,000 Female 207      5       1          \n",
       "23     Less than $20,000 Male   103      2       1          \n",
       "24     Less than $50,000 Male   204      0       1          \n",
       "27     $75,000 or more   Male   107      0       1          \n",
       "28     Less than $25,000 Female 201      0       1          \n",
       "30     Less than $35,000 Female 205      1       1          \n",
       "33     Less than $75,000 Male   202      0       1          \n",
       "34     $75,000 or more   Male   107      1       1          \n",
       "36     $75,000 or more   Female 215      0       1          \n",
       "37     Less than $50,000 Female 204      0       1          \n",
       "38     Less than $50,000 Female 107      0       1          \n",
       "42     Less than $75,000 Female 102      0       1          \n",
       "43     $75,000 or more   Female 204      0       1          \n",
       "44     $75,000 or more   Female 204      0       1          \n",
       "49     Less than $75,000 Female 212      0       1          \n",
       "50     Less than $20,000 Female 201      0       1          \n",
       "52     Less than $75,000 Female 201      0       1          \n",
       "53     $75,000 or more   Female 103      1       1          \n",
       "54     Less than $50,000 Male   202      0       1          \n",
       "⋮      ⋮                 ⋮      ⋮       ⋮        ⋮          \n",
       "196539 Less than $35,000 Female 201     0        1          \n",
       "196557 Less than $50,000 Male   102     8        1          \n",
       "196570 Less than $20,000 Male   202     2        1          \n",
       "196571 Less than $10,000 Male   203     3        1          \n",
       "196572 Less than $50,000 Female 201     0        1          \n",
       "196579 Less than $35,000 Female 201     0        1          \n",
       "196583 Less than $15,000 Male   102     8        1          \n",
       "196592 Less than $35,000 Male   202     0        1          \n",
       "196595 Less than $25,000 Female 206     6        1          \n",
       "196598 Less than $50,000 Male   201     0        1          \n",
       "196602 $75,000 or more   Female 201     5        1          \n",
       "196603 Less than $50,000 Female 202     0        1          \n",
       "196604 Less than $10,000 Male   205     0        1          \n",
       "196605 Less than $50,000 Female 201     2        1          \n",
       "196608 Less than $35,000 Male   101     0        1          \n",
       "196610 Less than $10,000 Female 202     0        1          \n",
       "196618 Less than $10,000 Female 202     2        1          \n",
       "196623 Less than $10,000 Female 201     0        1          \n",
       "196624 Less than $75,000 Male   104     1        1          \n",
       "196626 Less than $20,000 Male   204     4        1          \n",
       "196638 Less than $15,000 Female 204     4        1          \n",
       "196640 Less than $10,000 Female 201     0        1          \n",
       "196641 Less than $35,000 Male   203     0        1          \n",
       "196644 Less than $20,000 Male   201     5        1          \n",
       "196647 Less than $15,000 Male   201     1        1          \n",
       "196653 Less than $25,000 Male   205     0        1          \n",
       "196656 Less than $15,000 Male   201     0        1          \n",
       "196657 Less than $10,000 Male   101     4        1          \n",
       "196659 Less than $15,000 Female 202     0        1          \n",
       "196671 $75,000 or more   Male   204     4        1          "
      ]
     },
     "metadata": {},
     "output_type": "display_data"
    },
    {
     "data": {
      "text/plain": [
       "\n",
       "Call:\n",
       "glm(formula = drnk3ge5 ~ physhlth + menthlth + poorhlth + sleptim1, \n",
       "    family = poisson(link = \"log\"), data = data_poisson)\n",
       "\n",
       "Deviance Residuals: \n",
       "    Min       1Q   Median       3Q      Max  \n",
       "-2.5792  -1.4936  -1.4126  -0.1877  12.9360  \n",
       "\n",
       "Coefficients:\n",
       "              Estimate Std. Error z value             Pr(>|z|)    \n",
       "(Intercept)  0.2186689  0.0144357   15.15 < 0.0000000000000002 ***\n",
       "physhlth    -0.0020399  0.0003617   -5.64          0.000000017 ***\n",
       "menthlth     0.0277162  0.0002832   97.86 < 0.0000000000000002 ***\n",
       "poorhlth     0.0073596  0.0004194   17.55 < 0.0000000000000002 ***\n",
       "sleptim1    -0.0345463  0.0019814  -17.43 < 0.0000000000000002 ***\n",
       "---\n",
       "Signif. codes:  0 '***' 0.001 '**' 0.01 '*' 0.05 '.' 0.1 ' ' 1\n",
       "\n",
       "(Dispersion parameter for poisson family taken to be 1)\n",
       "\n",
       "    Null deviance: 454219  on 99808  degrees of freedom\n",
       "Residual deviance: 441871  on 99804  degrees of freedom\n",
       "AIC: 522539\n",
       "\n",
       "Number of Fisher Scoring iterations: 7\n"
      ]
     },
     "metadata": {},
     "output_type": "display_data"
    },
    {
     "data": {
      "text/plain": [
       "\n",
       "Call:\n",
       "glm(formula = drnk3ge5 ~ menthlth + sleptim1 + sex + marital, \n",
       "    family = poisson(link = \"log\"), data = data_poisson)\n",
       "\n",
       "Deviance Residuals: \n",
       "    Min       1Q   Median       3Q      Max  \n",
       "-3.2576  -1.5005  -1.1020  -0.5646  13.8875  \n",
       "\n",
       "Coefficients:\n",
       "                                         Estimate Std. Error  z value\n",
       "(Intercept)                             0.2051470  0.0145149   14.133\n",
       "menthlth                                0.0282032  0.0002681  105.187\n",
       "sleptim1                               -0.0144531  0.0019277   -7.498\n",
       "sexFemale                              -0.8284557  0.0059845 -138.434\n",
       "maritalDivorced                         0.4728952  0.0081144   58.279\n",
       "maritalWidowed                         -0.0408526  0.0137405   -2.973\n",
       "maritalSeparated                        0.5121128  0.0160072   31.993\n",
       "maritalNever married                    0.6464812  0.0070879   91.209\n",
       "maritalA member of an unmarried couple  0.5838272  0.0128321   45.498\n",
       "                                                   Pr(>|z|)    \n",
       "(Intercept)                            < 0.0000000000000002 ***\n",
       "menthlth                               < 0.0000000000000002 ***\n",
       "sleptim1                                 0.0000000000000649 ***\n",
       "sexFemale                              < 0.0000000000000002 ***\n",
       "maritalDivorced                        < 0.0000000000000002 ***\n",
       "maritalWidowed                                      0.00295 ** \n",
       "maritalSeparated                       < 0.0000000000000002 ***\n",
       "maritalNever married                   < 0.0000000000000002 ***\n",
       "maritalA member of an unmarried couple < 0.0000000000000002 ***\n",
       "---\n",
       "Signif. codes:  0 '***' 0.001 '**' 0.01 '*' 0.05 '.' 0.1 ' ' 1\n",
       "\n",
       "(Dispersion parameter for poisson family taken to be 1)\n",
       "\n",
       "    Null deviance: 454219  on 99808  degrees of freedom\n",
       "Residual deviance: 410207  on 99800  degrees of freedom\n",
       "AIC: 490884\n",
       "\n",
       "Number of Fisher Scoring iterations: 7\n"
      ]
     },
     "metadata": {},
     "output_type": "display_data"
    },
    {
     "data": {
      "text/plain": [
       "\n",
       "Call:\n",
       "glm(formula = drnk3ge5 ~ menthlth + income2 + sex + marital, \n",
       "    family = poisson(link = \"log\"), data = data_poisson)\n",
       "\n",
       "Deviance Residuals: \n",
       "    Min       1Q   Median       3Q      Max  \n",
       "-3.4114  -1.5099  -1.1051  -0.5455  13.8355  \n",
       "\n",
       "Coefficients:\n",
       "                                         Estimate Std. Error  z value\n",
       "(Intercept)                             0.3841172  0.0124022   30.972\n",
       "menthlth                                0.0268389  0.0002713   98.910\n",
       "income2Less than $15,000               -0.0898734  0.0147738   -6.083\n",
       "income2Less than $20,000               -0.1549800  0.0140689  -11.016\n",
       "income2Less than $25,000               -0.1795810  0.0136070  -13.198\n",
       "income2Less than $35,000               -0.1808369  0.0132541  -13.644\n",
       "income2Less than $50,000               -0.2181378  0.0127378  -17.125\n",
       "income2Less than $75,000               -0.2847596  0.0128275  -22.199\n",
       "income2$75,000 or more                 -0.3270554  0.0122681  -26.659\n",
       "sexFemale                              -0.8308355  0.0059826 -138.876\n",
       "maritalDivorced                         0.4007519  0.0085441   46.904\n",
       "maritalWidowed                         -0.1118617  0.0140225   -7.977\n",
       "maritalSeparated                        0.4310112  0.0162793   26.476\n",
       "maritalNever married                    0.5718056  0.0075803   75.433\n",
       "maritalA member of an unmarried couple  0.5333148  0.0129781   41.093\n",
       "                                                   Pr(>|z|)    \n",
       "(Intercept)                            < 0.0000000000000002 ***\n",
       "menthlth                               < 0.0000000000000002 ***\n",
       "income2Less than $15,000                 0.0000000011775062 ***\n",
       "income2Less than $20,000               < 0.0000000000000002 ***\n",
       "income2Less than $25,000               < 0.0000000000000002 ***\n",
       "income2Less than $35,000               < 0.0000000000000002 ***\n",
       "income2Less than $50,000               < 0.0000000000000002 ***\n",
       "income2Less than $75,000               < 0.0000000000000002 ***\n",
       "income2$75,000 or more                 < 0.0000000000000002 ***\n",
       "sexFemale                              < 0.0000000000000002 ***\n",
       "maritalDivorced                        < 0.0000000000000002 ***\n",
       "maritalWidowed                           0.0000000000000015 ***\n",
       "maritalSeparated                       < 0.0000000000000002 ***\n",
       "maritalNever married                   < 0.0000000000000002 ***\n",
       "maritalA member of an unmarried couple < 0.0000000000000002 ***\n",
       "---\n",
       "Signif. codes:  0 '***' 0.001 '**' 0.01 '*' 0.05 '.' 0.1 ' ' 1\n",
       "\n",
       "(Dispersion parameter for poisson family taken to be 1)\n",
       "\n",
       "    Null deviance: 454219  on 99808  degrees of freedom\n",
       "Residual deviance: 409358  on 99794  degrees of freedom\n",
       "AIC: 490046\n",
       "\n",
       "Number of Fisher Scoring iterations: 7\n"
      ]
     },
     "metadata": {},
     "output_type": "display_data"
    },
    {
     "data": {
      "text/plain": [
       "\n",
       "Call:\n",
       "glm(formula = drnk3ge5 ~ menthlth * marital * sex, family = poisson(link = \"log\"), \n",
       "    data = data_poisson)\n",
       "\n",
       "Deviance Residuals: \n",
       "    Min       1Q   Median       3Q      Max  \n",
       "-3.1062  -1.5033  -1.0977  -0.5637  14.4961  \n",
       "\n",
       "Coefficients:\n",
       "                                                              Estimate\n",
       "(Intercept)                                                0.055249675\n",
       "menthlth                                                   0.033490177\n",
       "maritalDivorced                                            0.636422443\n",
       "maritalWidowed                                             0.249765161\n",
       "maritalSeparated                                           0.757926386\n",
       "maritalNever married                                       0.702601284\n",
       "maritalA member of an unmarried couple                     0.524328768\n",
       "sexFemale                                                 -0.791399898\n",
       "menthlth:maritalDivorced                                  -0.008875775\n",
       "menthlth:maritalWidowed                                   -0.020148718\n",
       "menthlth:maritalSeparated                                 -0.013411931\n",
       "menthlth:maritalNever married                             -0.009798504\n",
       "menthlth:maritalA member of an unmarried couple           -0.000355428\n",
       "menthlth:sexFemale                                        -0.000708475\n",
       "maritalDivorced:sexFemale                                 -0.317081775\n",
       "maritalWidowed:sexFemale                                  -0.603469924\n",
       "maritalSeparated:sexFemale                                -0.193537841\n",
       "maritalNever married:sexFemale                             0.089331205\n",
       "maritalA member of an unmarried couple:sexFemale           0.174399687\n",
       "menthlth:maritalDivorced:sexFemale                         0.008851877\n",
       "menthlth:maritalWidowed:sexFemale                          0.036626424\n",
       "menthlth:maritalSeparated:sexFemale                       -0.003699996\n",
       "menthlth:maritalNever married:sexFemale                   -0.000002935\n",
       "menthlth:maritalA member of an unmarried couple:sexFemale -0.003473944\n",
       "                                                            Std. Error z value\n",
       "(Intercept)                                                0.007072734   7.812\n",
       "menthlth                                                   0.000554446  60.403\n",
       "maritalDivorced                                            0.012922402  49.250\n",
       "maritalWidowed                                             0.023173654  10.778\n",
       "maritalSeparated                                           0.027786238  27.277\n",
       "maritalNever married                                       0.011081780  63.401\n",
       "maritalA member of an unmarried couple                     0.021716330  24.144\n",
       "sexFemale                                                  0.012047253 -65.691\n",
       "menthlth:maritalDivorced                                   0.000898644  -9.877\n",
       "menthlth:maritalWidowed                                    0.001704504 -11.821\n",
       "menthlth:maritalSeparated                                  0.001669973  -8.031\n",
       "menthlth:maritalNever married                              0.000837540 -11.699\n",
       "menthlth:maritalA member of an unmarried couple            0.001576562  -0.225\n",
       "menthlth:sexFemale                                         0.000924478  -0.766\n",
       "maritalDivorced:sexFemale                                  0.022367704 -14.176\n",
       "maritalWidowed:sexFemale                                   0.035991817 -16.767\n",
       "maritalSeparated:sexFemale                                 0.047798290  -4.049\n",
       "maritalNever married:sexFemale                             0.019420276   4.600\n",
       "maritalA member of an unmarried couple:sexFemale           0.035137315   4.963\n",
       "menthlth:maritalDivorced:sexFemale                         0.001497536   5.911\n",
       "menthlth:maritalWidowed:sexFemale                          0.002386061  15.350\n",
       "menthlth:maritalSeparated:sexFemale                        0.002852230  -1.297\n",
       "menthlth:maritalNever married:sexFemale                    0.001416102  -0.002\n",
       "menthlth:maritalA member of an unmarried couple:sexFemale  0.002431841  -1.429\n",
       "                                                                      Pr(>|z|)\n",
       "(Intercept)                                               0.000000000000005645\n",
       "menthlth                                                  < 0.0000000000000002\n",
       "maritalDivorced                                           < 0.0000000000000002\n",
       "maritalWidowed                                            < 0.0000000000000002\n",
       "maritalSeparated                                          < 0.0000000000000002\n",
       "maritalNever married                                      < 0.0000000000000002\n",
       "maritalA member of an unmarried couple                    < 0.0000000000000002\n",
       "sexFemale                                                 < 0.0000000000000002\n",
       "menthlth:maritalDivorced                                  < 0.0000000000000002\n",
       "menthlth:maritalWidowed                                   < 0.0000000000000002\n",
       "menthlth:maritalSeparated                                 0.000000000000000965\n",
       "menthlth:maritalNever married                             < 0.0000000000000002\n",
       "menthlth:maritalA member of an unmarried couple                          0.822\n",
       "menthlth:sexFemale                                                       0.443\n",
       "maritalDivorced:sexFemale                                 < 0.0000000000000002\n",
       "maritalWidowed:sexFemale                                  < 0.0000000000000002\n",
       "maritalSeparated:sexFemale                                0.000051425151746708\n",
       "maritalNever married:sexFemale                            0.000004227067232171\n",
       "maritalA member of an unmarried couple:sexFemale          0.000000692784614743\n",
       "menthlth:maritalDivorced:sexFemale                        0.000000003401179850\n",
       "menthlth:maritalWidowed:sexFemale                         < 0.0000000000000002\n",
       "menthlth:maritalSeparated:sexFemale                                      0.195\n",
       "menthlth:maritalNever married:sexFemale                                  0.998\n",
       "menthlth:maritalA member of an unmarried couple:sexFemale                0.153\n",
       "                                                             \n",
       "(Intercept)                                               ***\n",
       "menthlth                                                  ***\n",
       "maritalDivorced                                           ***\n",
       "maritalWidowed                                            ***\n",
       "maritalSeparated                                          ***\n",
       "maritalNever married                                      ***\n",
       "maritalA member of an unmarried couple                    ***\n",
       "sexFemale                                                 ***\n",
       "menthlth:maritalDivorced                                  ***\n",
       "menthlth:maritalWidowed                                   ***\n",
       "menthlth:maritalSeparated                                 ***\n",
       "menthlth:maritalNever married                             ***\n",
       "menthlth:maritalA member of an unmarried couple              \n",
       "menthlth:sexFemale                                           \n",
       "maritalDivorced:sexFemale                                 ***\n",
       "maritalWidowed:sexFemale                                  ***\n",
       "maritalSeparated:sexFemale                                ***\n",
       "maritalNever married:sexFemale                            ***\n",
       "maritalA member of an unmarried couple:sexFemale          ***\n",
       "menthlth:maritalDivorced:sexFemale                        ***\n",
       "menthlth:maritalWidowed:sexFemale                         ***\n",
       "menthlth:maritalSeparated:sexFemale                          \n",
       "menthlth:maritalNever married:sexFemale                      \n",
       "menthlth:maritalA member of an unmarried couple:sexFemale    \n",
       "---\n",
       "Signif. codes:  0 '***' 0.001 '**' 0.01 '*' 0.05 '.' 0.1 ' ' 1\n",
       "\n",
       "(Dispersion parameter for poisson family taken to be 1)\n",
       "\n",
       "    Null deviance: 454219  on 99808  degrees of freedom\n",
       "Residual deviance: 409166  on 99785  degrees of freedom\n",
       "AIC: 489872\n",
       "\n",
       "Number of Fisher Scoring iterations: 7\n"
      ]
     },
     "metadata": {},
     "output_type": "display_data"
    },
    {
     "data": {
      "text/plain": [
       "\n",
       "Call:\n",
       "glm(formula = drnk3ge5 ~ income2 + menthlth * marital * sex, \n",
       "    family = poisson(link = \"log\"), data = data_poisson)\n",
       "\n",
       "Deviance Residuals: \n",
       "    Min       1Q   Median       3Q      Max  \n",
       "-3.4084  -1.5177  -1.1039  -0.5687  14.4073  \n",
       "\n",
       "Coefficients:\n",
       "                                                            Estimate Std. Error\n",
       "(Intercept)                                                0.3425781  0.0130672\n",
       "income2Less than $15,000                                  -0.0955686  0.0147825\n",
       "income2Less than $20,000                                  -0.1667315  0.0140859\n",
       "income2Less than $25,000                                  -0.1900993  0.0136332\n",
       "income2Less than $35,000                                  -0.1931621  0.0132799\n",
       "income2Less than $50,000                                  -0.2333981  0.0127689\n",
       "income2Less than $75,000                                  -0.2978831  0.0128394\n",
       "income2$75,000 or more                                    -0.3370834  0.0122617\n",
       "menthlth                                                   0.0320437  0.0005574\n",
       "maritalDivorced                                            0.5686602  0.0131775\n",
       "maritalWidowed                                             0.1855468  0.0233357\n",
       "maritalSeparated                                           0.6819469  0.0279225\n",
       "maritalNever married                                       0.6323806  0.0113808\n",
       "maritalA member of an unmarried couple                     0.4753411  0.0217961\n",
       "sexFemale                                                 -0.7849791  0.0120506\n",
       "menthlth:maritalDivorced                                  -0.0093135  0.0009001\n",
       "menthlth:maritalWidowed                                   -0.0197796  0.0017063\n",
       "menthlth:maritalSeparated                                 -0.0135519  0.0016699\n",
       "menthlth:maritalNever married                             -0.0101447  0.0008387\n",
       "menthlth:maritalA member of an unmarried couple           -0.0006635  0.0015764\n",
       "menthlth:sexFemale                                        -0.0006302  0.0009244\n",
       "maritalDivorced:sexFemale                                 -0.3237571  0.0223792\n",
       "maritalWidowed:sexFemale                                  -0.6230042  0.0360093\n",
       "maritalSeparated:sexFemale                                -0.2176584  0.0478189\n",
       "maritalNever married:sexFemale                             0.0793280  0.0194258\n",
       "maritalA member of an unmarried couple:sexFemale           0.1783338  0.0351370\n",
       "menthlth:maritalDivorced:sexFemale                         0.0083841  0.0014981\n",
       "menthlth:maritalWidowed:sexFemale                          0.0366035  0.0023872\n",
       "menthlth:maritalSeparated:sexFemale                       -0.0040970  0.0028537\n",
       "menthlth:maritalNever married:sexFemale                   -0.0002428  0.0014163\n",
       "menthlth:maritalA member of an unmarried couple:sexFemale -0.0041546  0.0024317\n",
       "                                                          z value\n",
       "(Intercept)                                                26.217\n",
       "income2Less than $15,000                                   -6.465\n",
       "income2Less than $20,000                                  -11.837\n",
       "income2Less than $25,000                                  -13.944\n",
       "income2Less than $35,000                                  -14.545\n",
       "income2Less than $50,000                                  -18.279\n",
       "income2Less than $75,000                                  -23.201\n",
       "income2$75,000 or more                                    -27.491\n",
       "menthlth                                                   57.488\n",
       "maritalDivorced                                            43.154\n",
       "maritalWidowed                                              7.951\n",
       "maritalSeparated                                           24.423\n",
       "maritalNever married                                       55.565\n",
       "maritalA member of an unmarried couple                     21.809\n",
       "sexFemale                                                 -65.140\n",
       "menthlth:maritalDivorced                                  -10.347\n",
       "menthlth:maritalWidowed                                   -11.592\n",
       "menthlth:maritalSeparated                                  -8.116\n",
       "menthlth:maritalNever married                             -12.095\n",
       "menthlth:maritalA member of an unmarried couple            -0.421\n",
       "menthlth:sexFemale                                         -0.682\n",
       "maritalDivorced:sexFemale                                 -14.467\n",
       "maritalWidowed:sexFemale                                  -17.301\n",
       "maritalSeparated:sexFemale                                 -4.552\n",
       "maritalNever married:sexFemale                              4.084\n",
       "maritalA member of an unmarried couple:sexFemale            5.075\n",
       "menthlth:maritalDivorced:sexFemale                          5.596\n",
       "menthlth:maritalWidowed:sexFemale                          15.334\n",
       "menthlth:maritalSeparated:sexFemale                        -1.436\n",
       "menthlth:maritalNever married:sexFemale                    -0.171\n",
       "menthlth:maritalA member of an unmarried couple:sexFemale  -1.709\n",
       "                                                                      Pr(>|z|)\n",
       "(Intercept)                                               < 0.0000000000000002\n",
       "income2Less than $15,000                                  0.000000000101304348\n",
       "income2Less than $20,000                                  < 0.0000000000000002\n",
       "income2Less than $25,000                                  < 0.0000000000000002\n",
       "income2Less than $35,000                                  < 0.0000000000000002\n",
       "income2Less than $50,000                                  < 0.0000000000000002\n",
       "income2Less than $75,000                                  < 0.0000000000000002\n",
       "income2$75,000 or more                                    < 0.0000000000000002\n",
       "menthlth                                                  < 0.0000000000000002\n",
       "maritalDivorced                                           < 0.0000000000000002\n",
       "maritalWidowed                                            0.000000000000001847\n",
       "maritalSeparated                                          < 0.0000000000000002\n",
       "maritalNever married                                      < 0.0000000000000002\n",
       "maritalA member of an unmarried couple                    < 0.0000000000000002\n",
       "sexFemale                                                 < 0.0000000000000002\n",
       "menthlth:maritalDivorced                                  < 0.0000000000000002\n",
       "menthlth:maritalWidowed                                   < 0.0000000000000002\n",
       "menthlth:maritalSeparated                                 0.000000000000000483\n",
       "menthlth:maritalNever married                             < 0.0000000000000002\n",
       "menthlth:maritalA member of an unmarried couple                         0.6738\n",
       "menthlth:sexFemale                                                      0.4954\n",
       "maritalDivorced:sexFemale                                 < 0.0000000000000002\n",
       "maritalWidowed:sexFemale                                  < 0.0000000000000002\n",
       "maritalSeparated:sexFemale                                0.000005320948830986\n",
       "maritalNever married:sexFemale                            0.000044334670181879\n",
       "maritalA member of an unmarried couple:sexFemale          0.000000386722749010\n",
       "menthlth:maritalDivorced:sexFemale                        0.000000021894849086\n",
       "menthlth:maritalWidowed:sexFemale                         < 0.0000000000000002\n",
       "menthlth:maritalSeparated:sexFemale                                     0.1511\n",
       "menthlth:maritalNever married:sexFemale                                 0.8639\n",
       "menthlth:maritalA member of an unmarried couple:sexFemale               0.0875\n",
       "                                                             \n",
       "(Intercept)                                               ***\n",
       "income2Less than $15,000                                  ***\n",
       "income2Less than $20,000                                  ***\n",
       "income2Less than $25,000                                  ***\n",
       "income2Less than $35,000                                  ***\n",
       "income2Less than $50,000                                  ***\n",
       "income2Less than $75,000                                  ***\n",
       "income2$75,000 or more                                    ***\n",
       "menthlth                                                  ***\n",
       "maritalDivorced                                           ***\n",
       "maritalWidowed                                            ***\n",
       "maritalSeparated                                          ***\n",
       "maritalNever married                                      ***\n",
       "maritalA member of an unmarried couple                    ***\n",
       "sexFemale                                                 ***\n",
       "menthlth:maritalDivorced                                  ***\n",
       "menthlth:maritalWidowed                                   ***\n",
       "menthlth:maritalSeparated                                 ***\n",
       "menthlth:maritalNever married                             ***\n",
       "menthlth:maritalA member of an unmarried couple              \n",
       "menthlth:sexFemale                                           \n",
       "maritalDivorced:sexFemale                                 ***\n",
       "maritalWidowed:sexFemale                                  ***\n",
       "maritalSeparated:sexFemale                                ***\n",
       "maritalNever married:sexFemale                            ***\n",
       "maritalA member of an unmarried couple:sexFemale          ***\n",
       "menthlth:maritalDivorced:sexFemale                        ***\n",
       "menthlth:maritalWidowed:sexFemale                         ***\n",
       "menthlth:maritalSeparated:sexFemale                          \n",
       "menthlth:maritalNever married:sexFemale                      \n",
       "menthlth:maritalA member of an unmarried couple:sexFemale .  \n",
       "---\n",
       "Signif. codes:  0 '***' 0.001 '**' 0.01 '*' 0.05 '.' 0.1 ' ' 1\n",
       "\n",
       "(Dispersion parameter for poisson family taken to be 1)\n",
       "\n",
       "    Null deviance: 454219  on 99808  degrees of freedom\n",
       "Residual deviance: 408212  on 99778  degrees of freedom\n",
       "AIC: 488932\n",
       "\n",
       "Number of Fisher Scoring iterations: 7\n"
      ]
     },
     "metadata": {},
     "output_type": "display_data"
    },
    {
     "data": {
      "text/plain": [
       "\n",
       "Call:\n",
       "glm(formula = drnk3ge5 ~ marital + menthlth * income2 * sex, \n",
       "    family = poisson(link = \"log\"), data = data_poisson)\n",
       "\n",
       "Deviance Residuals: \n",
       "    Min       1Q   Median       3Q      Max  \n",
       "-3.1899  -1.5187  -1.1161  -0.5486  13.8807  \n",
       "\n",
       "Coefficients:\n",
       "                                             Estimate Std. Error z value\n",
       "(Intercept)                                  0.402499   0.020157  19.968\n",
       "maritalDivorced                              0.400930   0.008551  46.885\n",
       "maritalWidowed                              -0.108161   0.014060  -7.693\n",
       "maritalSeparated                             0.428763   0.016287  26.325\n",
       "maritalNever married                         0.569295   0.007588  75.022\n",
       "maritalA member of an unmarried couple       0.529776   0.012984  40.803\n",
       "menthlth                                     0.021066   0.001069  19.714\n",
       "income2Less than $15,000                    -0.027524   0.027413  -1.004\n",
       "income2Less than $20,000                    -0.093104   0.025240  -3.689\n",
       "income2Less than $25,000                    -0.134870   0.024412  -5.525\n",
       "income2Less than $35,000                    -0.177169   0.023563  -7.519\n",
       "income2Less than $50,000                    -0.248023   0.022652 -10.949\n",
       "income2Less than $75,000                    -0.285737   0.022506 -12.696\n",
       "income2$75,000 or more                      -0.393955   0.021388 -18.419\n",
       "sexFemale                                   -0.762648   0.031836 -23.956\n",
       "menthlth:income2Less than $15,000           -0.002309   0.001580  -1.461\n",
       "menthlth:income2Less than $20,000            0.001627   0.001503   1.083\n",
       "menthlth:income2Less than $25,000            0.003298   0.001458   2.261\n",
       "menthlth:income2Less than $35,000            0.006674   0.001433   4.656\n",
       "menthlth:income2Less than $50,000            0.006614   0.001388   4.766\n",
       "menthlth:income2Less than $75,000            0.002380   0.001457   1.634\n",
       "menthlth:income2$75,000 or more              0.012443   0.001297   9.596\n",
       "menthlth:sexFemale                           0.006194   0.001671   3.707\n",
       "income2Less than $15,000:sexFemale          -0.019000   0.045545  -0.417\n",
       "income2Less than $20,000:sexFemale          -0.140979   0.043125  -3.269\n",
       "income2Less than $25,000:sexFemale          -0.200424   0.041283  -4.855\n",
       "income2Less than $35,000:sexFemale          -0.225650   0.039879  -5.658\n",
       "income2Less than $50,000:sexFemale          -0.077313   0.037665  -2.053\n",
       "income2Less than $75,000:sexFemale          -0.078847   0.037125  -2.124\n",
       "income2$75,000 or more:sexFemale            -0.040862   0.034974  -1.168\n",
       "menthlth:income2Less than $15,000:sexFemale -0.005285   0.002537  -2.084\n",
       "menthlth:income2Less than $20,000:sexFemale -0.008038   0.002468  -3.257\n",
       "menthlth:income2Less than $25,000:sexFemale -0.003386   0.002366  -1.431\n",
       "menthlth:income2Less than $35,000:sexFemale  0.001067   0.002307   0.462\n",
       "menthlth:income2Less than $50,000:sexFemale -0.003505   0.002227  -1.574\n",
       "menthlth:income2Less than $75,000:sexFemale -0.002270   0.002299  -0.987\n",
       "menthlth:income2$75,000 or more:sexFemale   -0.007554   0.002079  -3.632\n",
       "                                                        Pr(>|z|)    \n",
       "(Intercept)                                 < 0.0000000000000002 ***\n",
       "maritalDivorced                             < 0.0000000000000002 ***\n",
       "maritalWidowed                                0.0000000000000144 ***\n",
       "maritalSeparated                            < 0.0000000000000002 ***\n",
       "maritalNever married                        < 0.0000000000000002 ***\n",
       "maritalA member of an unmarried couple      < 0.0000000000000002 ***\n",
       "menthlth                                    < 0.0000000000000002 ***\n",
       "income2Less than $15,000                                0.315348    \n",
       "income2Less than $20,000                                0.000225 ***\n",
       "income2Less than $25,000                      0.0000000330012173 ***\n",
       "income2Less than $35,000                      0.0000000000000552 ***\n",
       "income2Less than $50,000                    < 0.0000000000000002 ***\n",
       "income2Less than $75,000                    < 0.0000000000000002 ***\n",
       "income2$75,000 or more                      < 0.0000000000000002 ***\n",
       "sexFemale                                   < 0.0000000000000002 ***\n",
       "menthlth:income2Less than $15,000                       0.143910    \n",
       "menthlth:income2Less than $20,000                       0.278933    \n",
       "menthlth:income2Less than $25,000                       0.023745 *  \n",
       "menthlth:income2Less than $35,000             0.0000032183353328 ***\n",
       "menthlth:income2Less than $50,000             0.0000018816019430 ***\n",
       "menthlth:income2Less than $75,000                       0.102347    \n",
       "menthlth:income2$75,000 or more             < 0.0000000000000002 ***\n",
       "menthlth:sexFemale                                      0.000209 ***\n",
       "income2Less than $15,000:sexFemale                      0.676550    \n",
       "income2Less than $20,000:sexFemale                      0.001079 ** \n",
       "income2Less than $25,000:sexFemale            0.0000012047669995 ***\n",
       "income2Less than $35,000:sexFemale            0.0000000152873072 ***\n",
       "income2Less than $50,000:sexFemale                      0.040108 *  \n",
       "income2Less than $75,000:sexFemale                      0.033687 *  \n",
       "income2$75,000 or more:sexFemale                        0.242660    \n",
       "menthlth:income2Less than $15,000:sexFemale             0.037204 *  \n",
       "menthlth:income2Less than $20,000:sexFemale             0.001125 ** \n",
       "menthlth:income2Less than $25,000:sexFemale             0.152337    \n",
       "menthlth:income2Less than $35,000:sexFemale             0.643807    \n",
       "menthlth:income2Less than $50,000:sexFemale             0.115500    \n",
       "menthlth:income2Less than $75,000:sexFemale             0.323471    \n",
       "menthlth:income2$75,000 or more:sexFemale               0.000281 ***\n",
       "---\n",
       "Signif. codes:  0 '***' 0.001 '**' 0.01 '*' 0.05 '.' 0.1 ' ' 1\n",
       "\n",
       "(Dispersion parameter for poisson family taken to be 1)\n",
       "\n",
       "    Null deviance: 454219  on 99808  degrees of freedom\n",
       "Residual deviance: 408904  on 99772  degrees of freedom\n",
       "AIC: 489637\n",
       "\n",
       "Number of Fisher Scoring iterations: 7\n"
      ]
     },
     "metadata": {},
     "output_type": "display_data"
    },
    {
     "data": {
      "text/plain": [
       "\n",
       "Call:\n",
       "glm(formula = drnk3ge5 ~ menthlth + income2 * sex, family = poisson(link = \"log\"), \n",
       "    data = data_poisson)\n",
       "\n",
       "Deviance Residuals: \n",
       "    Min       1Q   Median       3Q      Max  \n",
       "-3.1019  -1.6100  -1.1463  -0.4375  13.5666  \n",
       "\n",
       "Coefficients:\n",
       "                                     Estimate Std. Error z value\n",
       "(Intercept)                         0.7430232  0.0136231  54.542\n",
       "menthlth                            0.0275955  0.0002689 102.639\n",
       "income2Less than $15,000           -0.0902944  0.0190475  -4.740\n",
       "income2Less than $20,000           -0.1338590  0.0178594  -7.495\n",
       "income2Less than $25,000           -0.1918329  0.0173102 -11.082\n",
       "income2Less than $35,000           -0.2302137  0.0168359 -13.674\n",
       "income2Less than $50,000           -0.3379760  0.0161609 -20.913\n",
       "income2Less than $75,000           -0.4452959  0.0161573 -27.560\n",
       "income2$75,000 or more             -0.5574006  0.0150143 -37.125\n",
       "sexFemale                          -0.7016904  0.0201557 -34.813\n",
       "income2Less than $15,000:sexFemale -0.1056052  0.0301565  -3.502\n",
       "income2Less than $20,000:sexFemale -0.2542171  0.0289922  -8.768\n",
       "income2Less than $25,000:sexFemale -0.2695912  0.0278051  -9.696\n",
       "income2Less than $35,000:sexFemale -0.2393307  0.0269006  -8.897\n",
       "income2Less than $50,000:sexFemale -0.1459262  0.0254603  -5.732\n",
       "income2Less than $75,000:sexFemale -0.1350023  0.0252828  -5.340\n",
       "income2$75,000 or more:sexFemale   -0.1328626  0.0233280  -5.695\n",
       "                                               Pr(>|z|)    \n",
       "(Intercept)                        < 0.0000000000000002 ***\n",
       "menthlth                           < 0.0000000000000002 ***\n",
       "income2Less than $15,000             0.0000021320574091 ***\n",
       "income2Less than $20,000             0.0000000000000662 ***\n",
       "income2Less than $25,000           < 0.0000000000000002 ***\n",
       "income2Less than $35,000           < 0.0000000000000002 ***\n",
       "income2Less than $50,000           < 0.0000000000000002 ***\n",
       "income2Less than $75,000           < 0.0000000000000002 ***\n",
       "income2$75,000 or more             < 0.0000000000000002 ***\n",
       "sexFemale                          < 0.0000000000000002 ***\n",
       "income2Less than $15,000:sexFemale             0.000462 ***\n",
       "income2Less than $20,000:sexFemale < 0.0000000000000002 ***\n",
       "income2Less than $25,000:sexFemale < 0.0000000000000002 ***\n",
       "income2Less than $35,000:sexFemale < 0.0000000000000002 ***\n",
       "income2Less than $50,000:sexFemale   0.0000000099533836 ***\n",
       "income2Less than $75,000:sexFemale   0.0000000931074978 ***\n",
       "income2$75,000 or more:sexFemale     0.0000000123070892 ***\n",
       "---\n",
       "Signif. codes:  0 '***' 0.001 '**' 0.01 '*' 0.05 '.' 0.1 ' ' 1\n",
       "\n",
       "(Dispersion parameter for poisson family taken to be 1)\n",
       "\n",
       "    Null deviance: 454219  on 99808  degrees of freedom\n",
       "Residual deviance: 416646  on 99792  degrees of freedom\n",
       "AIC: 497338\n",
       "\n",
       "Number of Fisher Scoring iterations: 6\n"
      ]
     },
     "metadata": {},
     "output_type": "display_data"
    },
    {
     "data": {
      "text/plain": [
       "\n",
       "Call:\n",
       "glm(formula = drnk3ge5 ~ income2 + menthlth * sex, family = poisson(link = \"log\"), \n",
       "    data = data_poisson)\n",
       "\n",
       "Deviance Residuals: \n",
       "    Min       1Q   Median       3Q      Max  \n",
       "-3.1671  -1.6072  -1.1625  -0.4595  13.6365  \n",
       "\n",
       "Coefficients:\n",
       "                           Estimate Std. Error  z value             Pr(>|z|)\n",
       "(Intercept)               0.8137710  0.0110325   73.761 < 0.0000000000000002\n",
       "income2Less than $15,000 -0.1331768  0.0147613   -9.022 < 0.0000000000000002\n",
       "income2Less than $20,000 -0.2304104  0.0140422  -16.408 < 0.0000000000000002\n",
       "income2Less than $25,000 -0.2946971  0.0135484  -21.751 < 0.0000000000000002\n",
       "income2Less than $35,000 -0.3220038  0.0131679  -24.454 < 0.0000000000000002\n",
       "income2Less than $50,000 -0.3961244  0.0125723  -31.508 < 0.0000000000000002\n",
       "income2Less than $75,000 -0.4995200  0.0125570  -39.780 < 0.0000000000000002\n",
       "income2$75,000 or more   -0.6111170  0.0116769  -52.335 < 0.0000000000000002\n",
       "menthlth                  0.0266239  0.0003343   79.643 < 0.0000000000000002\n",
       "sexFemale                -0.8838270  0.0077933 -113.409 < 0.0000000000000002\n",
       "menthlth:sexFemale        0.0026848  0.0005390    4.981          0.000000633\n",
       "                            \n",
       "(Intercept)              ***\n",
       "income2Less than $15,000 ***\n",
       "income2Less than $20,000 ***\n",
       "income2Less than $25,000 ***\n",
       "income2Less than $35,000 ***\n",
       "income2Less than $50,000 ***\n",
       "income2Less than $75,000 ***\n",
       "income2$75,000 or more   ***\n",
       "menthlth                 ***\n",
       "sexFemale                ***\n",
       "menthlth:sexFemale       ***\n",
       "---\n",
       "Signif. codes:  0 '***' 0.001 '**' 0.01 '*' 0.05 '.' 0.1 ' ' 1\n",
       "\n",
       "(Dispersion parameter for poisson family taken to be 1)\n",
       "\n",
       "    Null deviance: 454219  on 99808  degrees of freedom\n",
       "Residual deviance: 416772  on 99798  degrees of freedom\n",
       "AIC: 497452\n",
       "\n",
       "Number of Fisher Scoring iterations: 6\n"
      ]
     },
     "metadata": {},
     "output_type": "display_data"
    }
   ],
   "source": [
    "#all quantitative model\n",
    "data_poisson\n",
    "z12 <- glm(drnk3ge5 ~ physhlth+menthlth+poorhlth+sleptim1, data=data_poisson, family=\"poisson\"(link=\"log\"))\n",
    "summary(z12)\n",
    "\n",
    "# all categorical model\n",
    "z13 <- glm(drnk3ge5 ~ menthlth+sleptim1+sex+marital, data=data_poisson, family=\"poisson\"(link=\"log\"))\n",
    "summary(z13)\n",
    "\n",
    "# mental, income, sex, marital\n",
    "z14 <- glm(drnk3ge5 ~ menthlth+income2+sex+marital, data=data_poisson, family=\"poisson\"(link=\"log\"))\n",
    "summary(z14)\n",
    "\n",
    "#mental marital sex interaction\n",
    "z15 <- glm(drnk3ge5 ~ menthlth*marital*sex, data=data_poisson, family=\"poisson\"(link=\"log\"))\n",
    "summary(z15)\n",
    "\n",
    "#income, mental marital sex interaction #The model we use\n",
    "z16 <- glm(drnk3ge5 ~ income2 + menthlth*marital*sex, data=data_poisson, family=\"poisson\"(link=\"log\"))\n",
    "summary(z16)\n",
    "\n",
    "#marital, mental income sex interaction\n",
    "z17 <- glm(drnk3ge5 ~ marital + menthlth*income2*sex, data=data_poisson, family=\"poisson\"(link=\"log\"))\n",
    "summary(z17)\n",
    "\n",
    "#mental, income sex interaction\n",
    "z18 <- glm(drnk3ge5 ~ menthlth + income2*sex, data=data_poisson, family=\"poisson\"(link=\"log\"))\n",
    "summary(z18)\n",
    "\n",
    "# income, mental sex interaction\n",
    "z19 <- glm(drnk3ge5 ~ income2 + menthlth*sex, data=data_poisson, family=\"poisson\"(link=\"log\"))\n",
    "summary(z19)"
   ]
  },
  {
   "cell_type": "markdown",
   "metadata": {},
   "source": [
    "Model z16 (the model we chose) has the lowest AIC, models including more explanatory variables and interaction term tend to have lower AIC."
   ]
  }
 ],
 "metadata": {
  "kernelspec": {
   "display_name": "R",
   "language": "R",
   "name": "ir"
  },
  "language_info": {
   "codemirror_mode": "r",
   "file_extension": ".r",
   "mimetype": "text/x-r-source",
   "name": "R",
   "pygments_lexer": "r",
   "version": "4.2.1"
  }
 },
 "nbformat": 4,
 "nbformat_minor": 4
}
